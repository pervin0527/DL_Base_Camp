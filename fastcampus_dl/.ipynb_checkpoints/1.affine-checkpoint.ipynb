{
 "cells": [
  {
   "cell_type": "markdown",
   "id": "f0df47e8",
   "metadata": {},
   "source": [
    "## Affine Function\n",
    "이전 시간에 배운 Affine Fucntion에 대해 Tensorflow를 이용해 직접 구현."
   ]
  },
  {
   "cell_type": "markdown",
   "id": "5343311a",
   "metadata": {},
   "source": [
    "### Affine Function with 1 Feature"
   ]
  },
  {
   "cell_type": "code",
   "execution_count": null,
   "id": "2ce50926",
   "metadata": {},
   "outputs": [],
   "source": [
    "import tensorflow as tf\n",
    "from tensorflow.keras.layers import Dense\n",
    "\n",
    "x = tf.constant([[10.]])"
   ]
  }
 ],
 "metadata": {
  "kernelspec": {
   "display_name": "Python 3 (ipykernel)",
   "language": "python",
   "name": "python3"
  },
  "language_info": {
   "codemirror_mode": {
    "name": "ipython",
    "version": 3
   },
   "file_extension": ".py",
   "mimetype": "text/x-python",
   "name": "python",
   "nbconvert_exporter": "python",
   "pygments_lexer": "ipython3",
   "version": "3.9.7"
  }
 },
 "nbformat": 4,
 "nbformat_minor": 5
}
