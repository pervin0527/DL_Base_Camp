{
 "cells": [
  {
   "cell_type": "code",
   "execution_count": 1,
   "id": "b0b0c2ab",
   "metadata": {},
   "outputs": [
    {
     "name": "stderr",
     "output_type": "stream",
     "text": [
      "2022-03-22 08:32:49.618001: I tensorflow/stream_executor/platform/default/dso_loader.cc:53] Successfully opened dynamic library libcudart.so.11.0\n"
     ]
    }
   ],
   "source": [
    "import tensorflow as tf\n",
    "from tensorflow.keras.layers import Dense"
   ]
  },
  {
   "cell_type": "code",
   "execution_count": 2,
   "id": "6ae6ad46",
   "metadata": {},
   "outputs": [
    {
     "name": "stdout",
     "output_type": "stream",
     "text": [
      "(1, 1)\n"
     ]
    },
    {
     "name": "stderr",
     "output_type": "stream",
     "text": [
      "2022-03-22 08:32:50.275109: I tensorflow/stream_executor/platform/default/dso_loader.cc:53] Successfully opened dynamic library libcuda.so.1\n",
      "2022-03-22 08:32:50.342093: I tensorflow/stream_executor/cuda/cuda_gpu_executor.cc:937] successful NUMA node read from SysFS had negative value (-1), but there must be at least one NUMA node, so returning NUMA node zero\n",
      "2022-03-22 08:32:50.344433: I tensorflow/core/common_runtime/gpu/gpu_device.cc:1733] Found device 0 with properties: \n",
      "pciBusID: 0000:01:00.0 name: GeForce RTX 3090 computeCapability: 8.6\n",
      "coreClock: 1.695GHz coreCount: 82 deviceMemorySize: 23.69GiB deviceMemoryBandwidth: 871.81GiB/s\n",
      "2022-03-22 08:32:50.344520: I tensorflow/stream_executor/platform/default/dso_loader.cc:53] Successfully opened dynamic library libcudart.so.11.0\n",
      "2022-03-22 08:32:50.351767: I tensorflow/stream_executor/platform/default/dso_loader.cc:53] Successfully opened dynamic library libcublas.so.11\n",
      "2022-03-22 08:32:50.351886: I tensorflow/stream_executor/platform/default/dso_loader.cc:53] Successfully opened dynamic library libcublasLt.so.11\n",
      "2022-03-22 08:32:50.354287: I tensorflow/stream_executor/platform/default/dso_loader.cc:53] Successfully opened dynamic library libcufft.so.10\n",
      "2022-03-22 08:32:50.354851: I tensorflow/stream_executor/platform/default/dso_loader.cc:53] Successfully opened dynamic library libcurand.so.10\n",
      "2022-03-22 08:32:50.357163: I tensorflow/stream_executor/platform/default/dso_loader.cc:53] Successfully opened dynamic library libcusolver.so.11\n",
      "2022-03-22 08:32:50.359108: I tensorflow/stream_executor/platform/default/dso_loader.cc:53] Successfully opened dynamic library libcusparse.so.11\n",
      "2022-03-22 08:32:50.359429: I tensorflow/stream_executor/platform/default/dso_loader.cc:53] Successfully opened dynamic library libcudnn.so.8\n",
      "2022-03-22 08:32:50.359637: I tensorflow/stream_executor/cuda/cuda_gpu_executor.cc:937] successful NUMA node read from SysFS had negative value (-1), but there must be at least one NUMA node, so returning NUMA node zero\n",
      "2022-03-22 08:32:50.361982: I tensorflow/stream_executor/cuda/cuda_gpu_executor.cc:937] successful NUMA node read from SysFS had negative value (-1), but there must be at least one NUMA node, so returning NUMA node zero\n",
      "2022-03-22 08:32:50.363560: I tensorflow/core/common_runtime/gpu/gpu_device.cc:1871] Adding visible gpu devices: 0\n",
      "2022-03-22 08:32:50.364517: I tensorflow/core/platform/cpu_feature_guard.cc:142] This TensorFlow binary is optimized with oneAPI Deep Neural Network Library (oneDNN) to use the following CPU instructions in performance-critical operations:  AVX2 FMA\n",
      "To enable them in other operations, rebuild TensorFlow with the appropriate compiler flags.\n",
      "2022-03-22 08:32:50.366956: I tensorflow/stream_executor/cuda/cuda_gpu_executor.cc:937] successful NUMA node read from SysFS had negative value (-1), but there must be at least one NUMA node, so returning NUMA node zero\n",
      "2022-03-22 08:32:50.367575: I tensorflow/core/common_runtime/gpu/gpu_device.cc:1733] Found device 0 with properties: \n",
      "pciBusID: 0000:01:00.0 name: GeForce RTX 3090 computeCapability: 8.6\n",
      "coreClock: 1.695GHz coreCount: 82 deviceMemorySize: 23.69GiB deviceMemoryBandwidth: 871.81GiB/s\n",
      "2022-03-22 08:32:50.367609: I tensorflow/stream_executor/cuda/cuda_gpu_executor.cc:937] successful NUMA node read from SysFS had negative value (-1), but there must be at least one NUMA node, so returning NUMA node zero\n",
      "2022-03-22 08:32:50.368045: I tensorflow/stream_executor/cuda/cuda_gpu_executor.cc:937] successful NUMA node read from SysFS had negative value (-1), but there must be at least one NUMA node, so returning NUMA node zero\n",
      "2022-03-22 08:32:50.368458: I tensorflow/core/common_runtime/gpu/gpu_device.cc:1871] Adding visible gpu devices: 0\n",
      "2022-03-22 08:32:50.368478: I tensorflow/stream_executor/platform/default/dso_loader.cc:53] Successfully opened dynamic library libcudart.so.11.0\n",
      "2022-03-22 08:32:50.665120: I tensorflow/core/common_runtime/gpu/gpu_device.cc:1258] Device interconnect StreamExecutor with strength 1 edge matrix:\n",
      "2022-03-22 08:32:50.665138: I tensorflow/core/common_runtime/gpu/gpu_device.cc:1264]      0 \n",
      "2022-03-22 08:32:50.665142: I tensorflow/core/common_runtime/gpu/gpu_device.cc:1277] 0:   N \n",
      "2022-03-22 08:32:50.665241: I tensorflow/stream_executor/cuda/cuda_gpu_executor.cc:937] successful NUMA node read from SysFS had negative value (-1), but there must be at least one NUMA node, so returning NUMA node zero\n",
      "2022-03-22 08:32:50.665780: I tensorflow/stream_executor/cuda/cuda_gpu_executor.cc:937] successful NUMA node read from SysFS had negative value (-1), but there must be at least one NUMA node, so returning NUMA node zero\n",
      "2022-03-22 08:32:50.666238: I tensorflow/stream_executor/cuda/cuda_gpu_executor.cc:937] successful NUMA node read from SysFS had negative value (-1), but there must be at least one NUMA node, so returning NUMA node zero\n",
      "2022-03-22 08:32:50.666660: I tensorflow/core/common_runtime/gpu/gpu_device.cc:1418] Created TensorFlow device (/job:localhost/replica:0/task:0/device:GPU:0 with 21623 MB memory) -> physical GPU (device: 0, name: GeForce RTX 3090, pci bus id: 0000:01:00.0, compute capability: 8.6)\n"
     ]
    }
   ],
   "source": [
    "x = tf.constant([[10.]]) # matrix 형태.\n",
    "print(x.shape)"
   ]
  },
  {
   "cell_type": "code",
   "execution_count": 3,
   "id": "180b1c8e",
   "metadata": {},
   "outputs": [
    {
     "name": "stdout",
     "output_type": "stream",
     "text": [
      "(2, 1)\n",
      "tf.Tensor(\n",
      "[[10.]\n",
      " [20.]\n",
      " [30.]], shape=(3, 1), dtype=float32)\n"
     ]
    }
   ],
   "source": [
    "x2 = tf.constant([[10.], [20.]])\n",
    "print(x2.shape)\n",
    "\n",
    "x3 = tf.constant([[10.], [20.], [30.]])\n",
    "print(x3) # Column vector 형태"
   ]
  },
  {
   "cell_type": "code",
   "execution_count": 4,
   "id": "bcf27483",
   "metadata": {},
   "outputs": [],
   "source": [
    "dense = Dense(units=1, activation=\"linear\") # Affine Function. weight와 bias를 가지고 있는 parametric-function + Activation func"
   ]
  },
  {
   "cell_type": "code",
   "execution_count": 5,
   "id": "4af81fd1",
   "metadata": {},
   "outputs": [
    {
     "name": "stderr",
     "output_type": "stream",
     "text": [
      "2022-03-22 08:32:50.830973: I tensorflow/stream_executor/platform/default/dso_loader.cc:53] Successfully opened dynamic library libcublas.so.11\n"
     ]
    },
    {
     "name": "stdout",
     "output_type": "stream",
     "text": [
      "tf.Tensor([[-7.534998]], shape=(1, 1), dtype=float32)\n"
     ]
    },
    {
     "name": "stderr",
     "output_type": "stream",
     "text": [
      "2022-03-22 08:32:51.209490: I tensorflow/stream_executor/platform/default/dso_loader.cc:53] Successfully opened dynamic library libcublasLt.so.11\n"
     ]
    }
   ],
   "source": [
    "y_tf = dense(x) # z = xw + b. 값을 통과시켜주기 전까지는 dense내 weight와 bias가 생성되지 않음.\n",
    "print(y_tf)"
   ]
  },
  {
   "cell_type": "code",
   "execution_count": 6,
   "id": "45994539",
   "metadata": {},
   "outputs": [
    {
     "name": "stdout",
     "output_type": "stream",
     "text": [
      "[[-0.7534998]] [0.]\n"
     ]
    }
   ],
   "source": [
    "W, B = dense.get_weights()\n",
    "print(W, B)"
   ]
  },
  {
   "cell_type": "code",
   "execution_count": 8,
   "id": "e8af3816",
   "metadata": {},
   "outputs": [
    {
     "name": "stdout",
     "output_type": "stream",
     "text": [
      "==== Input/Weight/Bias ====\n",
      "x : (1, 1), [[10.]]\n",
      "W : (1, 1), [[-0.7534998]]\n",
      "B : (1,), [0.]\n"
     ]
    }
   ],
   "source": [
    "print(\"==== Input/Weight/Bias ====\")\n",
    "print(f\"x : {x.shape}, {x.numpy()}\")\n",
    "print(f\"W : {W.shape}, {W}\")\n",
    "print(f\"B : {B.shape}, {B}\")      "
   ]
  },
  {
   "cell_type": "code",
   "execution_count": 9,
   "id": "35533da6",
   "metadata": {},
   "outputs": [
    {
     "name": "stdout",
     "output_type": "stream",
     "text": [
      "tf.Tensor([[-7.534998]], shape=(1, 1), dtype=float32)\n",
      "==== output ====\n",
      "tensorflow y : (1, 1), [[-7.534998]]\n",
      "manual y : (1, 1), [[-7.534998]]\n"
     ]
    }
   ],
   "source": [
    "y_man = tf.linalg.matmul(x, W) + B # dense layer의 연산 결과를 검증하기 위함.\n",
    "print(y_man)\n",
    "\n",
    "print(\"==== output ====\")\n",
    "print(f\"tensorflow y : {y_tf.shape}, {y_tf.numpy()}\")\n",
    "print(f\"manual y : {y_man.shape}, {y_man.numpy()}\")"
   ]
  },
  {
   "cell_type": "code",
   "execution_count": 10,
   "id": "ccc7973e",
   "metadata": {},
   "outputs": [
    {
     "name": "stdout",
     "output_type": "stream",
     "text": [
      "<tensorflow.python.keras.initializers.initializers_v2.Constant object at 0x7f0aa4235fa0> <tensorflow.python.keras.initializers.initializers_v2.Constant object at 0x7f0ac05e2370>\n"
     ]
    }
   ],
   "source": [
    "from tensorflow.keras.initializers import Constant\n",
    "\n",
    "w, b = tf.constant(10.), tf.constant(20.)\n",
    "w_init, b_init = Constant(w), Constant(b)\n",
    "\n",
    "print(w_init, b_init)"
   ]
  },
  {
   "cell_type": "code",
   "execution_count": 11,
   "id": "c00dacf9",
   "metadata": {},
   "outputs": [],
   "source": [
    "dense = Dense(units=1,\n",
    "              activation='linear',\n",
    "              kernel_initializer=w_init,\n",
    "              bias_initializer=b_init)"
   ]
  },
  {
   "cell_type": "code",
   "execution_count": 12,
   "id": "a86c538d",
   "metadata": {},
   "outputs": [],
   "source": [
    "y_tf = dense(x)"
   ]
  },
  {
   "cell_type": "code",
   "execution_count": 13,
   "id": "9e0a72c0",
   "metadata": {},
   "outputs": [],
   "source": [
    "W, B = dense.get_weights()"
   ]
  },
  {
   "cell_type": "code",
   "execution_count": 14,
   "id": "c6bbfa66",
   "metadata": {},
   "outputs": [
    {
     "name": "stdout",
     "output_type": "stream",
     "text": [
      "W : (1, 1), [[10.]]\n",
      "B : (1,), [20.]\n"
     ]
    }
   ],
   "source": [
    "print(f\"W : {W.shape}, {W}\")\n",
    "print(f\"B : {B.shape}, {B}\")"
   ]
  },
  {
   "cell_type": "code",
   "execution_count": 15,
   "id": "f180790c",
   "metadata": {},
   "outputs": [
    {
     "name": "stdout",
     "output_type": "stream",
     "text": [
      "tf.Tensor([[120.]], shape=(1, 1), dtype=float32)\n"
     ]
    }
   ],
   "source": [
    "print(y_tf) # xw+b의 결과. 10 * 10 + 20"
   ]
  },
  {
   "cell_type": "code",
   "execution_count": 18,
   "id": "b87d490e",
   "metadata": {},
   "outputs": [
    {
     "name": "stdout",
     "output_type": "stream",
     "text": [
      "(1, 10) \n",
      " tf.Tensor(\n",
      "[[4.8429084 3.2975495 4.136052  7.416271  2.7282536 4.2255507 6.451907\n",
      "  3.447169  6.595587  9.278078 ]], shape=(1, 10), dtype=float32)\n"
     ]
    }
   ],
   "source": [
    "x = tf.random.uniform(shape=(1, 10), minval=0, maxval=10)\n",
    "print(x.shape, '\\n', x)"
   ]
  },
  {
   "cell_type": "code",
   "execution_count": 20,
   "id": "ba95b338",
   "metadata": {},
   "outputs": [],
   "source": [
    "dense = Dense(units=1)\n",
    "\n",
    "y_tf = dense(x)\n",
    "\n",
    "W, B = dense.get_weights()\n",
    "\n",
    "y_man = tf.linalg.matmul(x, W) + B"
   ]
  },
  {
   "cell_type": "code",
   "execution_count": 23,
   "id": "d5a94cfe",
   "metadata": {},
   "outputs": [
    {
     "name": "stdout",
     "output_type": "stream",
     "text": [
      "==== Input/Weight/Bias ====\n",
      "x : (1, 10), \n",
      " [[4.8429084 3.2975495 4.136052  7.416271  2.7282536 4.2255507 6.451907\n",
      "  3.447169  6.595587  9.278078 ]] \n",
      "\n",
      "W : (10, 1), \n",
      " [[ 0.33466452]\n",
      " [-0.3409725 ]\n",
      " [-0.65490174]\n",
      " [-0.43329835]\n",
      " [-0.31194615]\n",
      " [ 0.05520087]\n",
      " [ 0.02141529]\n",
      " [-0.49772215]\n",
      " [-0.5179281 ]\n",
      " [ 0.57549936]] \n",
      "\n",
      "B : (1,), \n",
      " [0.] \n",
      "\n",
      "==== output ====\n",
      "tensorflow y : (1, 1), \n",
      " [[-5.6976786]] \n",
      "\n",
      "manual y : (1, 1), \n",
      " [[-5.6976786]]\n"
     ]
    }
   ],
   "source": [
    "print(\"==== Input/Weight/Bias ====\")\n",
    "print(f\"x : {x.shape}, \\n {x.numpy()} \\n\")\n",
    "print(f\"W : {W.shape}, \\n {W} \\n\")\n",
    "print(f\"B : {B.shape}, \\n {B} \\n\")      \n",
    "\n",
    "\n",
    "print(\"==== output ====\")\n",
    "print(f\"tensorflow y : {y_tf.shape}, \\n {y_tf.numpy()} \\n\")\n",
    "print(f\"manual y : {y_man.shape}, \\n {y_man.numpy()}\")"
   ]
  },
  {
   "cell_type": "code",
   "execution_count": null,
   "id": "eb923e83",
   "metadata": {},
   "outputs": [],
   "source": []
  }
 ],
 "metadata": {
  "kernelspec": {
   "display_name": "Python 3 (ipykernel)",
   "language": "python",
   "name": "python3"
  },
  "language_info": {
   "codemirror_mode": {
    "name": "ipython",
    "version": 3
   },
   "file_extension": ".py",
   "mimetype": "text/x-python",
   "name": "python",
   "nbconvert_exporter": "python",
   "pygments_lexer": "ipython3",
   "version": "3.9.7"
  }
 },
 "nbformat": 4,
 "nbformat_minor": 5
}
