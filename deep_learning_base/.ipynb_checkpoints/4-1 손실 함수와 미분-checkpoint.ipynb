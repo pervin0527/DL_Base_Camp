{
 "cells": [
  {
   "cell_type": "markdown",
   "id": "c05a278d",
   "metadata": {},
   "source": [
    "왜 신경망 학습의 지표가 정확도가 아닌 손실함수인가? - 신경망 학습에서의 미분의 역할이 그 이유.  \n",
    "신경망 학습에서는 최적의 매개변수(가중치와 편향)를 탐색할 때 손실 함수의 값을 가능한 작게 하는 매개변수 값을 찾는다.  \n",
    "이때 매개변수의 미분을 계산하고 그 미분 값을 단서로 매개변수의 값을 서서히 갱신하는 과정을 반복한다.\n",
    "\n",
    "즉, 가중치 매개변수의 손실 함수의 미분이란 가중치 매개변수의 값을 아주 조금 변화시켰을 때 손실 함수가 어떻게 변하는지를 보는 것.  "
   ]
  },
  {
   "cell_type": "markdown",
   "id": "8fe42324",
   "metadata": {},
   "source": [
    "정확도가 지표가 되었을 경우, 100장의 훈련 데이터 중 32장을 올바르게 인식한다고 가정하면 정확도는 32%이다.  \n",
    "가중치 매개변수의 값을 조정해도 32.0123%와 같은 연속적인 변화가 아니라 33% 34%처럼 불연속적인 띄엄띄엄한 값으로 바뀐다."
   ]
  },
  {
   "cell_type": "markdown",
   "id": "97ccb9fa",
   "metadata": {},
   "source": [
    "### 미분\n",
    "\n",
    "마라톤 선수가 10분에 2km씩 달렸다. 이때의 속도는 간단하게 2/ 10 = 0.2km라고 계산할 수 있다.(1분에 0.2km만큼의 속도)  \n",
    "다만 10분에 2km를 뛰었다는 것은, 10분 동안의 평균 속도를 구한 것이다.\n",
    "\n",
    "따라서 미분이라는 특정 순간의 변화량을 구해야 하는데, 이는 10분이라는 시간을 가능한 한 줄여 한 순간의 변화량을 얻는 것.\n",
    "<img src=\"img/deep_learning_images/e_4.4.png\" width=320 height=320>\n",
    "\n",
    "좌변은 $f(x)$의 $x$에 대한 미분으로, $x$의 작은 변화가 함수 $f(x)$를 얼마나 변화시키는가를 의미한다.  \n",
    "이때 시간을 뜻하는 $h$를 한없이 0에 가깝게 한다는 의미로 $\\displaystyle\\lim_{h->0}$ 로 나타낸다."
   ]
  },
  {
   "cell_type": "code",
   "execution_count": 6,
   "id": "d40136bc",
   "metadata": {},
   "outputs": [],
   "source": [
    "# 수치 미분(numerical differentiation\n",
    "def numerical_diff(f, x):\n",
    "    h = 1e-4\n",
    "    return (f(x + h) - f(x - h)) / (2 * h)\n",
    "\n",
    "def func_1(x):\n",
    "    return 0.01*x**2 + 0.1*x"
   ]
  },
  {
   "cell_type": "code",
   "execution_count": 7,
   "id": "d30ad924",
   "metadata": {},
   "outputs": [
    {
     "data": {
      "image/png": "[encoded data removed]",
      "text/plain": [
       "<Figure size 432x288 with 1 Axes>"
      ]
     },
     "metadata": {
      "needs_background": "light"
     },
     "output_type": "display_data"
    }
   ],
   "source": [
    "import numpy as np\n",
    "import matplotlib.pylab as plt\n",
    "\n",
    "x = np.arange(0.0, 20.0, 0.1)\n",
    "y = func_1(x)\n",
    "\n",
    "plt.xlabel(\"x\")\n",
    "plt.ylabel(\"y\")\n",
    "plt.plot(x, y)\n",
    "plt.show()"
   ]
  },
  {
   "cell_type": "code",
   "execution_count": 8,
   "id": "88af62fc",
   "metadata": {},
   "outputs": [
    {
     "name": "stdout",
     "output_type": "stream",
     "text": [
      "0.1999999999990898\n",
      "0.2999999999986347\n"
     ]
    }
   ],
   "source": [
    "print(numerical_diff(func_1, 5))\n",
    "print(numerical_diff(func_1, 10))"
   ]
  },
  {
   "cell_type": "code",
   "execution_count": null,
   "id": "00488022",
   "metadata": {},
   "outputs": [],
   "source": []
  }
 ],
 "metadata": {
  "kernelspec": {
   "display_name": "Python 3 (ipykernel)",
   "language": "python",
   "name": "python3"
  },
  "language_info": {
   "codemirror_mode": {
    "name": "ipython",
    "version": 3
   },
   "file_extension": ".py",
   "mimetype": "text/x-python",
   "name": "python",
   "nbconvert_exporter": "python",
   "pygments_lexer": "ipython3",
   "version": "3.9.7"
  }
 },
 "nbformat": 4,
 "nbformat_minor": 5
}
