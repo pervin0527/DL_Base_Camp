{
 "cells": [
  {
   "cell_type": "markdown",
   "id": "7ebe43ce",
   "metadata": {},
   "source": [
    "신경망은 분류와 회귀 모두에 사용할 수 있으 둘 중 어떤 문제인가에 따라 출력층에서 사용하는 활성화 함수가 달라진다.  \n",
    "일반적으로 회귀에는 항등 함수, 분류에는 소프트맥스 함수를 사용한다.\n",
    "\n",
    "- 분류는 데이터가 어느 클래스에 속하는가\n",
    "- 회귀는 입력 데이터에서 수치를 예측하는 문제."
   ]
  },
  {
   "cell_type": "markdown",
   "id": "41374401",
   "metadata": {},
   "source": [
    "항등 함수는 입력을 그대로 출력한다. 그래서 출력층에서 항등 함수를 사용하면 입력 신호가 그대로 출력 신호가 된다.\n",
    "<img src=\"img/deep_learning_images/fig_3-21.png\" width=224 height=224>"
   ]
  },
  {
   "cell_type": "markdown",
   "id": "4837c7a5",
   "metadata": {},
   "source": [
    "소프트맥스 함수\n",
    "<img src=\"img/deep_learning_images/e_3.10.png\" width=224 height=224>\n",
    "- $n$은 출력층의 뉴런 수.\n",
    "- $y_k$는 그 중 k번째 출력이다.\n",
    "- $a_k$는 입력신호\n",
    "\n",
    "분자는 입력신호 $a_k$의 지수 함수. 분모는 모든 입력 신호의 지수 함수의 합.  \n",
    "분모가 모든 입력 신호이기 때문에 소프트맥스의 출력은 모든 입력 신호로부터 화살표를 받는다.\n",
    "<img src=\"img/deep_learning_images/fig_3-22.png\" width=224 height=224>\n",
    "\n",
    "또 소프트맥스 함수의 출력은 0에서 1.0사이의 실수이고, 출력의 총합은 항상 1이다.  \n",
    "따라서 소프트맥스 함수의 출력을 확률로 해석할 수 있다."
   ]
  },
  {
   "cell_type": "code",
   "execution_count": 3,
   "id": "173014e9",
   "metadata": {},
   "outputs": [],
   "source": [
    "import numpy as np"
   ]
  },
  {
   "cell_type": "code",
   "execution_count": 2,
   "id": "87392445",
   "metadata": {},
   "outputs": [],
   "source": [
    "a = np.array([0.3, 2.9, 4.0])"
   ]
  },
  {
   "cell_type": "code",
   "execution_count": 3,
   "id": "9d5fce04",
   "metadata": {},
   "outputs": [
    {
     "data": {
      "text/plain": [
       "array([ 1.34985881, 18.17414537, 54.59815003])"
      ]
     },
     "execution_count": 3,
     "metadata": {},
     "output_type": "execute_result"
    }
   ],
   "source": [
    "exp_a = np.exp(a)\n",
    "exp_a"
   ]
  },
  {
   "cell_type": "code",
   "execution_count": 4,
   "id": "4057889d",
   "metadata": {},
   "outputs": [
    {
     "data": {
      "text/plain": [
       "74.1221542101633"
      ]
     },
     "execution_count": 4,
     "metadata": {},
     "output_type": "execute_result"
    }
   ],
   "source": [
    "sum_exp_a = np.sum(exp_a)\n",
    "sum_exp_a"
   ]
  },
  {
   "cell_type": "code",
   "execution_count": 6,
   "id": "78d920a5",
   "metadata": {},
   "outputs": [
    {
     "data": {
      "text/plain": [
       "array([0.01821127, 0.24519181, 0.73659691])"
      ]
     },
     "execution_count": 6,
     "metadata": {},
     "output_type": "execute_result"
    }
   ],
   "source": [
    "y = exp_a / sum_exp_a\n",
    "y"
   ]
  },
  {
   "cell_type": "code",
   "execution_count": 1,
   "id": "428deed5",
   "metadata": {},
   "outputs": [],
   "source": [
    "def softmax(x):\n",
    "    c = np.max(x)\n",
    "    exp_x = np.exp(x - c)\n",
    "    sum_exp_x = np.sum(exp_x)\n",
    "    y = exp_x / sum_exp_x\n",
    "    \n",
    "    return y"
   ]
  },
  {
   "cell_type": "code",
   "execution_count": 4,
   "id": "7a143876",
   "metadata": {},
   "outputs": [
    {
     "data": {
      "text/plain": [
       "array([0.01821127, 0.24519181, 0.73659691])"
      ]
     },
     "execution_count": 4,
     "metadata": {},
     "output_type": "execute_result"
    }
   ],
   "source": [
    "a = np.array([0.3, 2.9, 4.0])\n",
    "y = softmax(a)\n",
    "y"
   ]
  },
  {
   "cell_type": "code",
   "execution_count": null,
   "id": "fcae5104",
   "metadata": {},
   "outputs": [],
   "source": []
  }
 ],
 "metadata": {
  "kernelspec": {
   "display_name": "Python 3 (ipykernel)",
   "language": "python",
   "name": "python3"
  },
  "language_info": {
   "codemirror_mode": {
    "name": "ipython",
    "version": 3
   },
   "file_extension": ".py",
   "mimetype": "text/x-python",
   "name": "python",
   "nbconvert_exporter": "python",
   "pygments_lexer": "ipython3",
   "version": "3.9.7"
  }
 },
 "nbformat": 4,
 "nbformat_minor": 5
}
