{
 "cells": [
  {
   "cell_type": "markdown",
   "id": "bf0a3464",
   "metadata": {},
   "source": [
    "## 경사법\n",
    "\n",
    "앞서 본 기록을 통해 현재 매개변수 값에 대한 손실함수의 기울기를 구해, 손실함수 값이 최소가 되는 방향으로 매개변수를 업데이트함을 배웠다.  \n",
    "사실 이것이 바로 경사법이다. 경사법은 현 위치에서 기울어진 방향으로 일정 거리만큼 이동하고, 이동한 장소에서 또 기울기를 구하고 이동함을 반복하는 방법이다.\n",
    "\n",
    "책에는 간략하게 나온 내용이며, 지금 당장 필요한가 싶은 내용이지만,  \n",
    "경사법이 100%로 손실함수 값을 최적으로 최소가 되도록 만든다는 보장은 없다. 매개변수 수가 엄청나게 많으며 손실함수가 복잡하기 때문에 최소값이 되는(기울기가 0이되는) 최적의 지역을 찾는 것이 쉽지 않다.\n",
    "\n",
    "<img src=\"img/deep_learning_images/local_vs_global.png\" width=320 height=320>  \n",
    "\n",
    "> 위 그림에서 local minima라고 표기된 지역에서 기울기는 0이 되지만, 실제로는 global minima라는 손실 함수 값이 더 최소가 되는 지역이 존재함.\n"
   ]
  },
  {
   "cell_type": "markdown",
   "id": "d7dbc956",
   "metadata": {},
   "source": [
    "## Learning Rate\n",
    "<img src=\"img/deep_learning_images/e_4.7.png\" height=224 width=224>\n",
    "\n",
    "기호 $\\eta$(에타)는 갱신하는 양을 나타내는 것으로, 이를 신경망 학습에서는 학습률-Learning Rate라고 한다.  \n",
    "한 번의 학습으로 매개변수 값을 얼마나 갱신하느냐를 의미.\n",
    "\n",
    "위 식은 1회에 해당하는 갱신을 수식으로 나타낸 것으로 이를 여러 번 반복하면서 서서히 손실 함수의 값을 줄인다.  \n",
    "학습률은 0.01이나 0.001 등 미리 특정한 값으로 정해두어야하며, 값이 너무 크거나 작으면 최적의 장소를 찾아갈 수 없다.\n",
    "\n",
    "### 참고 -  하이퍼 파라미터\n",
    "학습률과 같은 매개변수를 하이퍼파라미터라고 하는데, 가중치와 편향 같은 신경망의 매개변수와는 성질이 다른 매개변수이다.  \n",
    "신경망의 가중치 매개변수는 학습 과정에서 자동으로 확득되는 매개변수인 반면, 학습률 같은 하이퍼파라미터는 사람이 직접 설정해야 하는 매개변수를 뜻함."
   ]
  },
  {
   "cell_type": "code",
   "execution_count": 1,
   "id": "9458b0a5",
   "metadata": {},
   "outputs": [],
   "source": [
    "import numpy as np\n",
    "import matplotlib.pylab as plt\n",
    "from gradient_2d import numerical_gradient\n",
    "from functions import cross_entropy_error, softmax"
   ]
  },
  {
   "cell_type": "code",
   "execution_count": 2,
   "id": "09a79ee7",
   "metadata": {},
   "outputs": [],
   "source": [
    "def gradient_descent(f, init_x, lr=0.01, step_num=100):\n",
    "    x = init_x\n",
    "    \n",
    "    for i in range(step_num):\n",
    "        grad = numerical_gradient(f, x)\n",
    "        x -= lr * grad\n",
    "        \n",
    "    return x"
   ]
  },
  {
   "cell_type": "code",
   "execution_count": 3,
   "id": "86c580c5",
   "metadata": {},
   "outputs": [
    {
     "data": {
      "text/plain": [
       "array([-6.11110793e-10,  8.14814391e-10])"
      ]
     },
     "execution_count": 3,
     "metadata": {},
     "output_type": "execute_result"
    }
   ],
   "source": [
    "def function_2(x):\n",
    "    return x[0]**2 + x[1] ** 2\n",
    "\n",
    "init_x = np.array([-3.0, 4.0])\n",
    "gradient_descent(function_2, init_x=init_x, lr=0.1, step_num=100)"
   ]
  },
  {
   "cell_type": "markdown",
   "id": "a73d51f0",
   "metadata": {},
   "source": [
    "초기값 (-3.0, 4.0)으로 설정하고 경사법을 사용해 최솟값 탐색을 진행한다. 결과 값은 -6.11110793e-10,  8.14814391e-10로 거의 (0, 0)에 가까운 결과다."
   ]
  },
  {
   "cell_type": "code",
   "execution_count": 4,
   "id": "9491b3a0",
   "metadata": {},
   "outputs": [
    {
     "data": {
      "image/png": "[encoded data removed]",
      "text/plain": [
       "<Figure size 432x288 with 1 Axes>"
      ]
     },
     "metadata": {
      "needs_background": "light"
     },
     "output_type": "display_data"
    }
   ],
   "source": [
    "def gradient_descent(f, init_x, lr=0.01, step_num=100):\n",
    "    x = init_x\n",
    "    x_history = []\n",
    "\n",
    "    for i in range(step_num):\n",
    "        x_history.append(x.copy())\n",
    "\n",
    "        grad = numerical_gradient(f, x)\n",
    "        x -= lr * grad\n",
    "\n",
    "    return x, np.array(x_history)\n",
    "\n",
    "\n",
    "def function_2(x):\n",
    "    return x[0]**2 + x[1]**2\n",
    "\n",
    "init_x = np.array([-3.0, 4.0])    \n",
    "\n",
    "lr = 0.1\n",
    "step_num = 20\n",
    "x, x_history = gradient_descent(function_2, init_x, lr=lr, step_num=step_num)\n",
    "\n",
    "plt.plot( [-5, 5], [0,0], '--b')\n",
    "plt.plot( [0,0], [-5, 5], '--b')\n",
    "plt.plot(x_history[:,0], x_history[:,1], 'o')\n",
    "\n",
    "plt.xlim(-3.5, 3.5)\n",
    "plt.ylim(-4.5, 4.5)\n",
    "plt.xlabel(\"X0\")\n",
    "plt.ylabel(\"X1\")\n",
    "plt.show()"
   ]
  },
  {
   "cell_type": "markdown",
   "id": "c7db4654",
   "metadata": {},
   "source": [
    "## 신경망의 기울기\n",
    "4-2와 4-3에서 본 내용들을 종합해서 신경망에서 기울기를 구해보자.  \n",
    "수차례 언급했지만 신경망의 기울기는 가중치 매개변수$(x)$에 대한 손실함수$(f(x))$의 기울기를 구하는 것이다.\n",
    "\n",
    "<img src=\"img/deep_learning_images/e_4.8.png\" width=224 height=224>\n",
    "$W$는 가중치, $L$이 손실함수라고 하면, $\\frac {\\partial L}{\\partial W}$로 표기할 수 있고, 이는 각각의 원소에 대한 손실함수의 편미분을 의미한다.  \n",
    "\n",
    "(1행 1번째 원소인 $\\frac {\\partial w_{11}}{\\partial L}$은 $w_{11}$을 조금 변경했을 때 손실함수 L이 얼마나 변화하느냐를 의미.)"
   ]
  },
  {
   "cell_type": "code",
   "execution_count": 5,
   "id": "334bb7ac",
   "metadata": {},
   "outputs": [],
   "source": [
    "class simpleNet:\n",
    "    def __init__(self):\n",
    "        # self.W = np.random.randn(2, 3)\n",
    "        self.W = np.array([[0.47355232, 0.9977393, 0.84668094], [0.85557411, 0.03563661, 0.69422093]])\n",
    "        \n",
    "    def predict(self, x):\n",
    "        return np.dot(x, self.W)\n",
    "    \n",
    "    def loss(self, x, t):\n",
    "        z = self.predict(x)\n",
    "        y = softmax(z)\n",
    "        loss = cross_entropy_error(y, t)\n",
    "        \n",
    "        return loss"
   ]
  },
  {
   "cell_type": "code",
   "execution_count": 6,
   "id": "e6f7852e",
   "metadata": {},
   "outputs": [
    {
     "name": "stdout",
     "output_type": "stream",
     "text": [
      "[[0.47355232 0.9977393  0.84668094]\n",
      " [0.85557411 0.03563661 0.69422093]]\n"
     ]
    }
   ],
   "source": [
    "net = simpleNet()\n",
    "print(net.W)"
   ]
  },
  {
   "cell_type": "code",
   "execution_count": 7,
   "id": "93c6401d",
   "metadata": {},
   "outputs": [],
   "source": [
    "x = np.array([0.6, 0.9])"
   ]
  },
  {
   "cell_type": "code",
   "execution_count": 8,
   "id": "17e479d4",
   "metadata": {},
   "outputs": [
    {
     "name": "stdout",
     "output_type": "stream",
     "text": [
      "[1.05414809 0.63071653 1.1328074 ]\n"
     ]
    }
   ],
   "source": [
    "p = net.predict(x)\n",
    "print(p)"
   ]
  },
  {
   "cell_type": "code",
   "execution_count": 9,
   "id": "36d4751c",
   "metadata": {},
   "outputs": [
    {
     "data": {
      "text/plain": [
       "0.9280682857864075"
      ]
     },
     "execution_count": 9,
     "metadata": {},
     "output_type": "execute_result"
    }
   ],
   "source": [
    "t = np.array([0, 0, 1])\n",
    "net.loss(x, t)"
   ]
  },
  {
   "cell_type": "markdown",
   "id": "a207ddfe",
   "metadata": {},
   "source": [
    "- 입력값 $x = [0.6, 0.9]$\n",
    "- predict는 입력값과 가중치의 행렬 곱연산\n",
    "- loss는 입력값과 가중치 곱연산 결과에 softmax를 적용하고, 실제 정답과 예측간의 오차를 구해 반환"
   ]
  },
  {
   "cell_type": "code",
   "execution_count": 10,
   "id": "84fb60a0",
   "metadata": {},
   "outputs": [
    {
     "name": "stdout",
     "output_type": "stream",
     "text": [
      "[[ 0.21924757  0.14356243 -0.36281   ]\n",
      " [ 0.32887136  0.21534364 -0.544215  ]]\n"
     ]
    }
   ],
   "source": [
    "def f(W):\n",
    "    return net.loss(x, t)\n",
    "\n",
    "dW = numerical_gradient(f, net.W)\n",
    "print(dW)"
   ]
  },
  {
   "cell_type": "markdown",
   "id": "59c5c685",
   "metadata": {},
   "source": [
    "numerical_gradient 함수를 통해 입력값과 가중치를 곱한 값이 실제 데이터와 얼만큼의 차이를 보이는지 loss를 구한 다음, 이에 대한 편미분 연산을 한다.  \n",
    "위 결과를 예로 들면, \n",
    "\n",
    "- $\\frac {\\partial L}{\\partial W}$의 $\\frac {\\partial L}{\\partial W_{11}}$은 대략 0.2로 $w_{11}$을 h만큼 늘리면 손실 함수 값은 0.2h만큼 증가한다는 뜻. \n",
    "- $\\frac {\\partial L}{\\partial W_{23}}$ 은 -0.5이므로 $\\frac {\\partial L}{\\partial W_{23}}$을 h만큼 늘리면 손실 함수 값은 0.5h만큼 감소한다.\n",
    "- 따라서 손실 함수 값을 줄인다는 목표를 이루려면 $\\frac {\\partial L}{\\partial W_{11}}$ 은 음의 방향으로, $\\frac {\\partial L}{\\partial W_{23}}$은 양의 방향으로 갱신해야 함을 알 수 있다."
   ]
  },
  {
   "cell_type": "code",
   "execution_count": null,
   "id": "df19539b",
   "metadata": {},
   "outputs": [],
   "source": []
  }
 ],
 "metadata": {
  "kernelspec": {
   "display_name": "Python 3 (ipykernel)",
   "language": "python",
   "name": "python3"
  },
  "language_info": {
   "codemirror_mode": {
    "name": "ipython",
    "version": 3
   },
   "file_extension": ".py",
   "mimetype": "text/x-python",
   "name": "python",
   "nbconvert_exporter": "python",
   "pygments_lexer": "ipython3",
   "version": "3.8.10"
  }
 },
 "nbformat": 4,
 "nbformat_minor": 5
}
