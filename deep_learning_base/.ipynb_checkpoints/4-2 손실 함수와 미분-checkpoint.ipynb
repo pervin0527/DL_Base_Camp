{
 "cells": [
  {
   "cell_type": "markdown",
   "id": "6618894c",
   "metadata": {},
   "source": [
    "[참조1](https://www.youtube.com/watch?v=ixGZ0tg_lqs)  \n",
    "[참조2](https://velog.io/@developerkerry/%EB%AF%B8%EB%B6%84%EA%B3%BC-%EA%B8%B0%EC%9A%B8%EA%B8%B0)"
   ]
  },
  {
   "cell_type": "markdown",
   "id": "c05a278d",
   "metadata": {},
   "source": [
    "## 신경망 학습의 지표는 손실함수\n",
    "신경망 학습의 핵심은 최적의 가중치와 편향을 찾는 것이라고 했다. 현재 최적인가를 확인할 수 있는 지표가 바로 손실함수.  \n",
    "> 정리하면 최적의 가중치와 편향 값을 찾으면, 손실함수의 값은 최소로 작은 값이 된다.  \n",
    "\n",
    "어떻게 매개변수를 갱신할 것인가? 바로 미분을 통해서."
   ]
  },
  {
   "cell_type": "markdown",
   "id": "97ccb9fa",
   "metadata": {},
   "source": [
    "## 수학적 미분(해석적 미분)\n",
    "미분은 특정 순간의 변화량을 구하는 것으로 다음과 같다.\n",
    "<img src=\"img/deep_learning_images/e_4.4.png\" width=320 height=320>\n",
    "\n",
    "좌변은 $f(x)$의 $x$에 대한 미분으로, $x$의 작은 변화가 함수 $f(x)$를 얼마나 변화시키는가를 의미한다.  \n",
    "이때 시간을 뜻하는 $h$를 한없이 0에 가깝게 한다는 의미로 $\\displaystyle\\lim_{h->0}$ 로 나타낸다."
   ]
  },
  {
   "cell_type": "code",
   "execution_count": 1,
   "id": "a51c5753",
   "metadata": {},
   "outputs": [],
   "source": [
    "import numpy as np\n",
    "import matplotlib.pylab as plt\n",
    "from mpl_toolkits.mplot3d import Axes3D"
   ]
  },
  {
   "cell_type": "code",
   "execution_count": 2,
   "id": "d40136bc",
   "metadata": {},
   "outputs": [],
   "source": [
    "# 수치 미분(numerical differentiation)\n",
    "def numerical_diff1(f, x):\n",
    "    h = 10e-50\n",
    "    return (f(x+h) - f(x)) / h"
   ]
  },
  {
   "cell_type": "markdown",
   "id": "01c86d41",
   "metadata": {},
   "source": [
    "## 구현상 한계\n",
    "극한이라는 엄청나게 작은 값을 구현하고자 10e-50이라는 값을 지정해주었다.  \n",
    "하지만 이는 컴퓨터 메모리에서 표현할 수 있는 범위를 넘어섰기 때문에 아주아주 작은 값이 아니라 0이 되어버린다.(이를 반올림 오차라고함)"
   ]
  },
  {
   "cell_type": "code",
   "execution_count": 3,
   "id": "6d2500f5",
   "metadata": {},
   "outputs": [
    {
     "name": "stdout",
     "output_type": "stream",
     "text": [
      "0.0\n",
      "0.0\n",
      "1e-49\n"
     ]
    }
   ],
   "source": [
    "print(np.float16(10e-50))\n",
    "print(np.float32(10e-50))\n",
    "print(np.float64(10e-50))"
   ]
  },
  {
   "cell_type": "markdown",
   "id": "5737c291",
   "metadata": {},
   "source": [
    "따라서 우리가 수학적으로 이용하는 미분은 코드 구현시 오차가 발생할 수 밖에 없게 되고, 최대한 수학적 미분과 근사값이 되도록 구현을 수정한다."
   ]
  },
  {
   "cell_type": "code",
   "execution_count": 4,
   "id": "97c1021d",
   "metadata": {},
   "outputs": [],
   "source": [
    "def numerical_diff2(f, x):\n",
    "    h = 1e-4\n",
    "    return (f(x + h) - f(x - h)) / (2 * h)"
   ]
  },
  {
   "cell_type": "markdown",
   "id": "7746c956",
   "metadata": {},
   "source": [
    "식 $y=0.01x^2+0.1x$을 미분해서 확인해보자. 일단 수학 수업시간에 배운 미분을 적용했을 때 결과는 $0.02x+0.1$.  \n",
    "$x=5$라고 하면 결과 값은 0.2."
   ]
  },
  {
   "cell_type": "code",
   "execution_count": 5,
   "id": "d30ad924",
   "metadata": {},
   "outputs": [
    {
     "data": {
      "image/png": "[encoded data removed]",
      "text/plain": [
       "<Figure size 432x288 with 1 Axes>"
      ]
     },
     "metadata": {
      "needs_background": "light"
     },
     "output_type": "display_data"
    }
   ],
   "source": [
    "def func_1(x):\n",
    "    return 0.01*x**2 + 0.1*x\n",
    "\n",
    "x = np.arange(0.0, 20.0, 0.1)\n",
    "y = func_1(x)\n",
    "\n",
    "plt.xlabel(\"x\")\n",
    "plt.ylabel(\"y\")\n",
    "plt.plot(x, y)\n",
    "plt.show()"
   ]
  },
  {
   "cell_type": "code",
   "execution_count": 6,
   "id": "88af62fc",
   "metadata": {},
   "outputs": [
    {
     "name": "stdout",
     "output_type": "stream",
     "text": [
      "해석적 미분 값 :  0.0\n",
      "수치 미분 값 :  0.1999999999990898\n"
     ]
    }
   ],
   "source": [
    "print(\"해석적 미분 값 : \", numerical_diff1(func_1, 5))\n",
    "print(\"수치 미분 값 : \", numerical_diff2(func_1, 5))"
   ]
  },
  {
   "cell_type": "markdown",
   "id": "3304d3b3",
   "metadata": {},
   "source": [
    "결과로 보면 해석적 미분 값은 0.2를 넘었다고 볼 수 있고, 수치 미분 값은 0.2에 한없이 가깝기에 0.2로 볼 수 있다.  \n",
    "위에서 말한 h가 0에 한없이 가까움을 구현하는 한계가 있기 때문에 발생하는 오차라고 볼 수 있다."
   ]
  },
  {
   "cell_type": "markdown",
   "id": "534550c8",
   "metadata": {},
   "source": [
    "## 편미분\n",
    "변수가 여러 개 있을 때 미분하는 방법으로 실제 신경망에선 여러 개의 가중치가 존재하므로 각각의 가중치 변화에 따른 손실함수 변화를 구하기 위함.  \n",
    "\n",
    "$f(x_0, x_1) = x_0^2 + x_1^2$"
   ]
  },
  {
   "cell_type": "code",
   "execution_count": 7,
   "id": "c1f93975",
   "metadata": {},
   "outputs": [],
   "source": [
    "def func_2(x):\n",
    "    return x[0]**2 + x[1] ** 2"
   ]
  },
  {
   "cell_type": "markdown",
   "id": "24a74658",
   "metadata": {},
   "source": [
    "위 식에서 미분을 하려고 하는데, 어떤 변수에 대한 미분인가??  \n",
    "우선은 주어진 식처럼 변수가 여럿인 함수에 대한 미분을 편미분이라고 한다.\n",
    "$\\frac{\\partial f}{\\partial x_0}$ $\\frac{\\partial f}{\\partial x_1}$"
   ]
  },
  {
   "cell_type": "markdown",
   "id": "f5835335",
   "metadata": {},
   "source": [
    "예제 1. $x_0$=3, $x_1$=4 일 때, $x_0$에 대한 편미분 $\\frac{\\partial f}{\\partial x_0}$를 구하라"
   ]
  },
  {
   "cell_type": "code",
   "execution_count": 8,
   "id": "cd909a59",
   "metadata": {},
   "outputs": [],
   "source": [
    "def numerical_diff(f, x):\n",
    "    h = 1e-4\n",
    "    return (f(x + h) - f(x - h)) / (2 * h)"
   ]
  },
  {
   "cell_type": "code",
   "execution_count": 9,
   "id": "d81ae325",
   "metadata": {},
   "outputs": [
    {
     "data": {
      "text/plain": [
       "6.00000000000378"
      ]
     },
     "execution_count": 9,
     "metadata": {},
     "output_type": "execute_result"
    }
   ],
   "source": [
    "def function_tmp1(x0):\n",
    "    return x0*x0 + 4.0**2.0\n",
    "\n",
    "numerical_diff(function_tmp1, 3.0)"
   ]
  },
  {
   "cell_type": "markdown",
   "id": "a6c388b3",
   "metadata": {},
   "source": [
    "예제 2. $x_0=3, x_1=4$일 때, $x_1$에 대한 편미분 $\\frac {\\partial f}{\\partial x_1}$를 구하라"
   ]
  },
  {
   "cell_type": "code",
   "execution_count": 10,
   "id": "671442aa",
   "metadata": {},
   "outputs": [
    {
     "data": {
      "text/plain": [
       "7.999999999999119"
      ]
     },
     "execution_count": 10,
     "metadata": {},
     "output_type": "execute_result"
    }
   ],
   "source": [
    "def function_tmp2(x1):\n",
    "    return 3.0**2.0 + x1 * x1\n",
    "\n",
    "numerical_diff(function_tmp2, 4.0)"
   ]
  },
  {
   "cell_type": "markdown",
   "id": "13e55ea5",
   "metadata": {},
   "source": [
    "위 예제에서 볼 수 있듯, 편미분은 여러 변수 중 하나에 초점을 맞추고 다른 변수는 값을 고정한다."
   ]
  },
  {
   "cell_type": "markdown",
   "id": "28331ab1",
   "metadata": {},
   "source": [
    "## 기울기\n",
    "\n",
    "모든 변수(가중치)의 편미분을 벡터로 나타낸 것을 기울기(Gradient)라고 한다.  \n",
    "\n",
    "$x_0=3, x_1=4$일 때, $(x_0, x_1)$ 두 변수의 편미분을 묶어서 $(\\frac {\\partial f}{\\partial x_0}, \\frac {\\partial f}{\\partial x_1})$을 계산해보면"
   ]
  },
  {
   "cell_type": "code",
   "execution_count": 11,
   "id": "bfddc6ec",
   "metadata": {},
   "outputs": [],
   "source": [
    "def numerical_gradient(f, x):\n",
    "    h = 1e-4\n",
    "    grad = np.zeros_like(x)\n",
    "\n",
    "    for idx in range(x.size):\n",
    "        tmp_val = x[idx]\n",
    "        \n",
    "        x[idx] = tmp_val + h\n",
    "        fxh1 = f(x)\n",
    "        \n",
    "        x[idx] = tmp_val - h\n",
    "        fxh2 = f(x)\n",
    "        \n",
    "        grad[idx] = (fxh1 - fxh2) / (2 * h)\n",
    "        x[idx] = tmp_val\n",
    "        \n",
    "    return grad"
   ]
  },
  {
   "cell_type": "markdown",
   "id": "41796883",
   "metadata": {},
   "source": [
    "numerical_gradient(f,x) 함수의 인수인 f는 함수이고, x는 넘파이 배열이므로,  \n",
    "넘파이 배열 x의 각 원소에 대해서 수치 미분을 구한다. 예를 들어 세 점(3, 4), (0, 2), (3, 0)에서의 기울기를 구한다고 하면,\n",
    "\n",
    "for문 내부에서 x의 첫 번째 요소에 대한 중심 차분을 이용한 수치 미분, 두 번째 요소에 대한 중심 차분을 이용한 수치 미분...을 각각 수행하여 기울기 벡터가 담겨 반환될 grad에 하나씩 담는다.\n",
    "\n"
   ]
  },
  {
   "cell_type": "code",
   "execution_count": 12,
   "id": "9c2056f5",
   "metadata": {
    "scrolled": true
   },
   "outputs": [
    {
     "name": "stdout",
     "output_type": "stream",
     "text": [
      "[6. 8.]\n",
      "[0. 4.]\n",
      "[6. 0.]\n"
     ]
    }
   ],
   "source": [
    "print(numerical_gradient(func_2, np.array([3.0, 4.0])))\n",
    "print(numerical_gradient(func_2, np.array([0, 2.0])))\n",
    "print(numerical_gradient(func_2, np.array([3.0, 0])))"
   ]
  },
  {
   "cell_type": "markdown",
   "id": "f3e62f99",
   "metadata": {},
   "source": [
    "지금까지의 내용을 종합해보면 신경망이 보유하고 있는 가중치 매개변수의 값을 갱신했을 때, 손실함수 값이 최소가 되도록 해야하며,  \n",
    "갱신이라는 변화를 주는 것이 바로 편미분을 통한 기울기를 구하여, 손실 함수가 가장 작은 값이 되는 쪽으로 가중치 매개변수 값을 바꾸는 것이다.\n",
    "\n",
    "또, 지금까지의 구현에서는 단순 1차 함수나 2차 함수를 적용했지만, 실제로 신경망에 도입하게 되면 손실 함수를 적용할 것이다.  \n",
    "이렇게 하면 다음 목적을 달성할 수 있는 것이다.\n",
    "> 가중치 매개변수의 값을 아주 조금 변화시켰을 때, 손실 함수값이 최소가 되도록 만들자."
   ]
  },
  {
   "cell_type": "code",
   "execution_count": 22,
   "id": "3ed0d1a5",
   "metadata": {},
   "outputs": [],
   "source": [
    "x0 = np.arange(-2, 2.5, 0.25)\n",
    "x1 = np.arange(-2, 2.5, 0.25)\n",
    "\n",
    "# print(x0) # start : -2, end : 2.5 step : 0.25"
   ]
  },
  {
   "cell_type": "code",
   "execution_count": 23,
   "id": "38f7afee",
   "metadata": {},
   "outputs": [],
   "source": [
    "X, Y = np.meshgrid(x0, x1)\n",
    "# print(X.shape)\n",
    "# print(X)"
   ]
  },
  {
   "cell_type": "code",
   "execution_count": 24,
   "id": "44795268",
   "metadata": {},
   "outputs": [],
   "source": [
    "X = X.flatten()\n",
    "Y = Y.flatten()\n",
    "# print(X.shape)\n",
    "# print(X)"
   ]
  },
  {
   "cell_type": "code",
   "execution_count": 18,
   "id": "23211bce",
   "metadata": {},
   "outputs": [],
   "source": [
    "def function_2(x):    \n",
    "    if x.ndim == 1:\n",
    "        return np.sum(x**2)\n",
    "        \n",
    "    else:\n",
    "        return np.sum(x**2, axis=1)        "
   ]
  },
  {
   "cell_type": "code",
   "execution_count": 19,
   "id": "86dd93ce",
   "metadata": {},
   "outputs": [],
   "source": [
    "def _numerical_gradient_no_batch(f, x):\n",
    "    h = 1e-4 # 0.0001\n",
    "    grad = np.zeros_like(x) # x와 형상이 같은 배열을 생성\n",
    "    \n",
    "    for idx in range(x.size):\n",
    "        tmp_val = x[idx]\n",
    "        \n",
    "        x[idx] = float(tmp_val) + h\n",
    "        fxh1 = f(x)\n",
    "        \n",
    "        x[idx] = tmp_val - h \n",
    "        fxh2 = f(x) \n",
    "        \n",
    "        grad[idx] = (fxh1 - fxh2) / (2*h)\n",
    "        x[idx] = tmp_val\n",
    "        \n",
    "    return grad\n",
    "\n",
    "def numerical_gradient(f, X):    \n",
    "    if X.ndim == 1:\n",
    "        return _numerical_gradient_no_batch(f, X)\n",
    "    else:\n",
    "        grad = np.zeros_like(X)\n",
    "        \n",
    "        for idx, x in enumerate(X):\n",
    "            grad[idx] = _numerical_gradient_no_batch(f, x)\n",
    "        \n",
    "        return grad"
   ]
  },
  {
   "cell_type": "code",
   "execution_count": 20,
   "id": "0a984628",
   "metadata": {},
   "outputs": [],
   "source": [
    "grad = numerical_gradient(function_2, np.array([X, Y]))"
   ]
  },
  {
   "cell_type": "code",
   "execution_count": 21,
   "id": "010a37f6",
   "metadata": {},
   "outputs": [
    {
     "name": "stderr",
     "output_type": "stream",
     "text": [
      "No handles with labels found to put in legend.\n"
     ]
    },
    {
     "data": {
      "image/png": "[encoded data removed]",
      "text/plain": [
       "<Figure size 432x288 with 1 Axes>"
      ]
     },
     "metadata": {
      "needs_background": "light"
     },
     "output_type": "display_data"
    }
   ],
   "source": [
    "plt.figure()\n",
    "plt.quiver(X, Y, -grad[0], -grad[1],  angles=\"xy\",color=\"#666666\")#,headwidth=10,scale=40,color=\"#444444\")\n",
    "plt.xlim([-2, 2])\n",
    "plt.ylim([-2, 2])\n",
    "plt.xlabel('x0')\n",
    "plt.ylabel('x1')\n",
    "plt.grid()\n",
    "plt.legend()\n",
    "plt.draw()\n",
    "plt.show()"
   ]
  },
  {
   "cell_type": "markdown",
   "id": "58b5ecd1",
   "metadata": {},
   "source": [
    "기울기를 방향을 가진 벡터(화살표)로 그려본 그림이다. 즉 기울기가 가리키는 쪽은 각 장소에서 함수의 출력 값을 가장 크게 줄이는 방향이다."
   ]
  },
  {
   "cell_type": "code",
   "execution_count": null,
   "id": "f3b106b5",
   "metadata": {},
   "outputs": [],
   "source": []
  }
 ],
 "metadata": {
  "kernelspec": {
   "display_name": "Python 3 (ipykernel)",
   "language": "python",
   "name": "python3"
  },
  "language_info": {
   "codemirror_mode": {
    "name": "ipython",
    "version": 3
   },
   "file_extension": ".py",
   "mimetype": "text/x-python",
   "name": "python",
   "nbconvert_exporter": "python",
   "pygments_lexer": "ipython3",
   "version": "3.9.7"
  }
 },
 "nbformat": 4,
 "nbformat_minor": 5
}
