{
 "cells": [
  {
   "cell_type": "markdown",
   "id": "c38ae7d4",
   "metadata": {},
   "source": [
    "## 손글자 숫자 인식\n",
    "\n",
    "0 ~ 9까지 숫자 이미지로 구성된 MNIST 데이터셋을 사용해 숫자를 분류할 것이다.  \n",
    "따라서 출력층의 뉴런 수는 분류하고 싶은 클래스 수 10이된다."
   ]
  },
  {
   "cell_type": "code",
   "execution_count": 1,
   "id": "bb8b849f",
   "metadata": {},
   "outputs": [],
   "source": [
    "import pickle\n",
    "import numpy as np\n",
    "from PIL import Image\n",
    "from mnist import load_mnist\n",
    "from functions import sigmoid, softmax"
   ]
  },
  {
   "cell_type": "markdown",
   "id": "739be33c",
   "metadata": {},
   "source": [
    "### Normalize, Pre-processing\n",
    "\n",
    "mnist 데이터의 픽셀 값은 0 ~ 255 범위이다. 이를 0.0 ~ 1.0 범위로 변환하는 것을 ***정규화***.    \n",
    "신경망의 입력 데이터에 특정 변환을 가하는 것을 ***전처리***.\n",
    "\n",
    "아래 코드를 예로 들면 \n",
    ">입력 이미지 데이터에 대한 전처리 작업으로 정규화를 수행하였다."
   ]
  },
  {
   "cell_type": "code",
   "execution_count": 2,
   "id": "d281af40",
   "metadata": {},
   "outputs": [],
   "source": [
    "train_images, train_labels, test_images, test_labels = load_mnist(pickle_path=\"/Users/jun/Downloads/MNIST/mnist.pkl\",\n",
    "                                                                  flatten=True,\n",
    "                                                                  normalize=False)"
   ]
  },
  {
   "cell_type": "code",
   "execution_count": 3,
   "id": "c9ccbcc9",
   "metadata": {},
   "outputs": [
    {
     "name": "stdout",
     "output_type": "stream",
     "text": [
      "(60000, 784) (60000, 10)\n",
      "(10000, 784) (10000, 10)\n"
     ]
    }
   ],
   "source": [
    "print(train_images.shape, train_labels.shape)\n",
    "print(test_images.shape, test_labels.shape)"
   ]
  },
  {
   "cell_type": "code",
   "execution_count": 4,
   "id": "12bbd817",
   "metadata": {},
   "outputs": [],
   "source": [
    "def img_show(img):\n",
    "    pil_img = Image.fromarray(np.uint8(img))\n",
    "    pil_img.show()"
   ]
  },
  {
   "cell_type": "code",
   "execution_count": 5,
   "id": "a5b9f790",
   "metadata": {},
   "outputs": [
    {
     "name": "stdout",
     "output_type": "stream",
     "text": [
      "[0. 0. 0. 0. 0. 1. 0. 0. 0. 0.]\n"
     ]
    }
   ],
   "source": [
    "img = train_images[0]\n",
    "label = train_labels[0]\n",
    "print(label)"
   ]
  },
  {
   "cell_type": "code",
   "execution_count": 6,
   "id": "ccfeb917",
   "metadata": {},
   "outputs": [
    {
     "name": "stdout",
     "output_type": "stream",
     "text": [
      "(784,)\n",
      "(28, 28)\n"
     ]
    }
   ],
   "source": [
    "print(img.shape)\n",
    "img = img.reshape(28, 28)\n",
    "print(img.shape)\n",
    "\n",
    "img_show(img)"
   ]
  },
  {
   "cell_type": "markdown",
   "id": "162d3af2",
   "metadata": {},
   "source": [
    "### 신경망의 추론 처리\n",
    "입력층 뉴런을 784개, 출력층 뉴런을 10개로 구성.  \n",
    "은닉층은 총 두 개로 첫 번째 은닉층에는 50개의 뉴런, 두 번째 은닉층에는 100개의 뉴런을 배치할 것이다.(50과 100개는 임의)"
   ]
  },
  {
   "cell_type": "code",
   "execution_count": 7,
   "id": "1e697f46",
   "metadata": {},
   "outputs": [],
   "source": [
    "def get_data():\n",
    "    x_train, y_train, x_test, y_test = load_mnist(pickle_path=\"/Users/jun/Downloads/MNIST/mnist.pkl\",\n",
    "                                                      flatten=True,\n",
    "                                                      normalize=True,\n",
    "                                                      one_hot_label=False)\n",
    "\n",
    "    return x_test, y_test\n",
    "\n",
    "def init_network():\n",
    "    with open(\"/Users/jun/Downloads/MNIST/sample_weight.pkl\", 'rb') as f:\n",
    "        network = pickle.load(f)\n",
    "        \n",
    "    return network\n",
    "\n",
    "def predict(network, x):\n",
    "    W1, W2, W3 = network['W1'], network['W2'], network['W3']\n",
    "    b1, b2, b3 = network['b1'], network['b2'], network['b3']\n",
    "    \n",
    "    a1 = np.dot(x, W1) + b1\n",
    "    z1 = sigmoid(a1)\n",
    "    a2 = np.dot(z1, W2) + b2\n",
    "    z2 = sigmoid(a2)\n",
    "    a3 = np.dot(z2, W3) + b3\n",
    "    y = softmax(a3)\n",
    "    \n",
    "    return y"
   ]
  },
  {
   "cell_type": "code",
   "execution_count": 8,
   "id": "2138dc29",
   "metadata": {},
   "outputs": [],
   "source": [
    "x, t = get_data()\n",
    "network = init_network()"
   ]
  },
  {
   "cell_type": "markdown",
   "id": "63b0580b",
   "metadata": {},
   "source": [
    "## 신경망 각 층의 배열 형상을 보니 행렬 곱 연산이 가능한 형태임을 알 수 있다.\n",
    "\n",
    "### 이미지 1장을 입력했을 때 연산 흐름\n",
    "<img src=\"img/deep_learning_images/fig_3-26.png\" width=480 height=480>\n",
    "\n",
    "### 이미지 100장을 입력했을 때 연산 흐름\n",
    "<img src=\"img/deep_learning_images/fig_3-27.png\" width=480 height=480>"
   ]
  },
  {
   "cell_type": "code",
   "execution_count": 20,
   "id": "9ca0e763",
   "metadata": {},
   "outputs": [
    {
     "name": "stdout",
     "output_type": "stream",
     "text": [
      "(10000, 784)\n",
      "(784, 50) (50, 100) (100, 10)\n",
      "(50,) (100,) (10,)\n"
     ]
    }
   ],
   "source": [
    "W1, W2, W3 = network['W1'], network['W2'], network['W3']\n",
    "b1, b2, b3 = network['b1'], network['b2'], network['b3']\n",
    "\n",
    "print(x.shape)\n",
    "print(W1.shape, W2.shape, W3.shape)\n",
    "print(b1.shape, b2.shape, b3.shape)"
   ]
  },
  {
   "cell_type": "code",
   "execution_count": 19,
   "id": "dc7418e7",
   "metadata": {},
   "outputs": [
    {
     "name": "stdout",
     "output_type": "stream",
     "text": [
      "Accuracy : 0.9352\n"
     ]
    }
   ],
   "source": [
    "accuracy_cnt = 0\n",
    "for i in range(len(x)):\n",
    "    y = predict(network, x[i])\n",
    "    p = np.argmax(y) # np.argmax 값이 최고로 높은 원소의 인덱스 값을 반환한다.\n",
    "    \n",
    "    if p == t[i]:\n",
    "        accuracy_cnt += 1\n",
    "        \n",
    "print(f\"Accuracy : {str(float(accuracy_cnt) / len(x))}\")"
   ]
  },
  {
   "cell_type": "markdown",
   "id": "92c810e2",
   "metadata": {},
   "source": [
    "## 배치 처리 적용\n",
    "\n",
    "배치 처리는 이미지 1장당 처리 시간을 대폭 줄여준다.  \n",
    "1. 수치 계산 라이브러리 대부분이 큰 배열을 효율적으로 처리할 수 있도록 최적회되어 있음\n",
    "2. 커다란 신경망에서는 데이터 전송이 병목으로 작용하는 경우가 있는데, 배치 처리를 함으로써 버스에 주는 부하를 줄인다.\n",
    "\n",
    "즉, 배치 처리를 수행함으로써, 큰 배열로 이루어진 계산을 하게 되고, 컴퓨터에서는 큰 배열을 한꺼번에 계산하는 것이 분할된 작은 배열을 여러 번 계산하는 것보다 빠르다."
   ]
  },
  {
   "cell_type": "code",
   "execution_count": 26,
   "id": "bd32bea5",
   "metadata": {},
   "outputs": [
    {
     "name": "stdout",
     "output_type": "stream",
     "text": [
      "Accuracy : 0.9352\n"
     ]
    }
   ],
   "source": [
    "batch_size = 100\n",
    "accuracy_cnt = 0\n",
    "\n",
    "for i in range(0, len(x), batch_size):\n",
    "    x_batch = x[i : i + batch_size]\n",
    "    y_batch = predict(network, x_batch)\n",
    "    \n",
    "    p = np.argmax(y_batch, axis=1)\n",
    "    accuracy_cnt += np.sum(p == t[i : i + batch_size])\n",
    "    \n",
    "print(f\"Accuracy : {str(float(accuracy_cnt) / len(x))}\")"
   ]
  },
  {
   "cell_type": "code",
   "execution_count": 30,
   "id": "9e233e82",
   "metadata": {},
   "outputs": [
    {
     "name": "stdout",
     "output_type": "stream",
     "text": [
      "[ True  True False  True]\n",
      "3\n"
     ]
    }
   ],
   "source": [
    "sample_y = np.array([1, 2, 1, 0])\n",
    "sample_t = np.array([1, 2, 0, 0])\n",
    "\n",
    "print(sample_y == sample_t)\n",
    "print(np.sum(sample_t == sample_y))"
   ]
  },
  {
   "cell_type": "code",
   "execution_count": null,
   "id": "bad50c3c",
   "metadata": {},
   "outputs": [],
   "source": []
  }
 ],
 "metadata": {
  "kernelspec": {
   "display_name": "Python 3 (ipykernel)",
   "language": "python",
   "name": "python3"
  },
  "language_info": {
   "codemirror_mode": {
    "name": "ipython",
    "version": 3
   },
   "file_extension": ".py",
   "mimetype": "text/x-python",
   "name": "python",
   "nbconvert_exporter": "python",
   "pygments_lexer": "ipython3",
   "version": "3.9.7"
  }
 },
 "nbformat": 4,
 "nbformat_minor": 5
}
