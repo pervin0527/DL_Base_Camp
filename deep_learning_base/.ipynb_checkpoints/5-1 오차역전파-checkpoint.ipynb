{
 "cells": [
  {
   "cell_type": "markdown",
   "id": "6ed89c5d",
   "metadata": {},
   "source": [
    "## 오차역전파\n",
    "지금까지 신경망 학습에 관한 내용에선, 신경망의 가중치 매개변수에 대한 손실 함수의 기울기를 수치 미분을 통해 구했다.  \n",
    "수치 미분은 단순하지만 계산 시간이 오래 걸린다는 단점이 있다.\n",
    "\n",
    "따라서 더 빠른 계산법인 오차역전파를 알아보고 도입해보자."
   ]
  },
  {
   "cell_type": "markdown",
   "id": "f46b17cc",
   "metadata": {},
   "source": [
    "### 계산 그래프\n",
    "오차역전파를 좀 더 이해하기 쉽게 하고자 계산 그래프라는 것을 통해 먼저 알아보려한다.  \n",
    "계산 그래프는 계산 과정을 노드와 화살표로 표현하는 것으로,\n",
    "- 노드는 동그라미로 표기하고, 그 안에 연산 내용을 적는다.\n",
    "- 계산 결과를 화살표 위에 적어 각 노드의 계산 결과가 왼쪽에서 오른쪽으로 전해지게 한다.\n",
    "\n",
    "예를 들면,  \n",
    "***슈퍼에서 1개에 100원인 사과 2개를 구매하려 할 때 지불 금액을 구하라. 단, 소비세 10%가 부과된다.***\n",
    "<img src=\"img/deep_learning_images/fig_5-1.png\" height=448 width=448>\n",
    "\n",
    "이를 좀 더 세분화하여 **사과의 개수**와 **소비세를 변수**로 취급하고, 노드에는 연산자만을 담아 재구성하면,\n",
    "<img src=\"img/deep_learning_images/fig_5-2.png\" height=448 width=448>\n",
    "\n",
    "계산 과정이 왼쪽에서 오른쪽으로 진행되는 단계를 순전파(forward propagation)라하고, 반대로 오른쪽에서 왼쪽으로 진행하는 것을 역전파(back propagation)이라 한다."
   ]
  },
  {
   "cell_type": "markdown",
   "id": "0baa3746",
   "metadata": {},
   "source": [
    "### 계산 그래프 특징\n",
    "1. 주목해야 할 점은 국소적 계산이 가능하다는 것으로 각 노드는 자신과 관련된 계산 외에는 아무것도 신경 쓰지 않아도 된다는 뜻이다.  \n",
    "   사과의 개수와 가격이 곱해질 때는 이후 단계인 소비세가 어떻게 되는지 관련이 없다는 것.\n",
    "   \n",
    "2. 중간 계산 결과를 보관할 수 있다.\n",
    "   사과 2개를 계산했을 때의 금액은 200원. 소비세를 더한 후의 값은 220원.\n",
    "   \n",
    "이 두 가지의 특징들을 종합했을 때의 강점은 바로 미분을 효과적으로 계산할 수 있다는 점이다.  \n",
    "가령 사과의 가격이 올랐을 때 최종 계산 금액이 어떻게 변하는지 알고 싶을 때면 ***사과 가격에 대한 지불 금액의 미분을 구하는 문제***이다.  \n",
    "사과 값을 $x$, 지불 금액을 $L$이라 했을 때 $\\frac {\\partial L}{\\partial x}$\n",
    "\n",
    "<img src=\"img/deep_learning_images/fig_5-5.png\" width=448 height=448>\n",
    "사과 값이 1원 오르면 최종 금액은 2.2원 오르게 된다는 뜻"
   ]
  },
  {
   "cell_type": "markdown",
   "id": "6a1fefb4",
   "metadata": {},
   "source": [
    "## 연쇄법칙\n",
    "\n",
    "그렇다면 역전파에서 국소적인 미분을 오른쪽에서 왼쪽으로 어떻게 전달한다는 것인가? 바로 연쇄법칙의 원리를 이용한다.  \n",
    "먼저 합성 함수에 대해 알아야 한다.\n",
    "\n",
    "### 합성 함수\n",
    "합성 함수는 여러 함수로 구성된 함수로 $z=(x+y)^2$라는 식은 다음 두 개의 식으로 구성된다.\n",
    "<img src=\"img/deep_learning_images/e_5.1.png\" width=150 height=150>\n",
    "> 합성 함수의 미분은 합성 함수를 구성하는 각 함수의 미분의 곱으로 나타낼 수 있으며 이것이 바로 연쇄법칙의 원리이다."
   ]
  },
  {
   "cell_type": "markdown",
   "id": "b16aebfa",
   "metadata": {},
   "source": [
    "가령 x에 대한 z의 미분($\\frac {\\partial z}{\\partial x}$)은 t에 대한 z의 미분($\\frac {\\partial z}{\\partial t}$)과 x에 대한 t의 미분($\\frac {\\partial t}{\\partial x}$)의 곱으로 나타낼 수 있다.\n",
    "\n",
    "<img src=\"img/deep_learning_images/e_5.2.png\" width=150 height=150>\n",
    "<img src=\"img/deep_learning_images/e_5.3.png\" width=100 height=100>\n",
    "<img src=\"img/deep_learning_images/e_5.4.png\" width=320 height=320>\n",
    "\n",
    "이를 계산 그래프로 나타내보면,\n",
    "<img src=\"img/deep_learning_images/fig_5-7.png\" width=384 height=384>"
   ]
  },
  {
   "cell_type": "markdown",
   "id": "f97d7172",
   "metadata": {},
   "source": [
    "입력은 $\\frac {\\partial z}{\\partial z}$이고, 이에 국소적인 미분인 $\\frac {\\partial z}{\\partial t}$가 곱해진다.  \n",
    "(순전파에서 입력이 t이고 출력이 z이므로 해당 노드에서의 국소적 미분은 $\\frac {\\partial z}{\\partial t}$이다.)  \n",
    "\n",
    "가장 왼쪽을 보면 연쇄법칙에 의해 $\\frac {\\partial z}{\\partial z}\\frac {\\partial z}{\\partial t}\\frac {\\partial t}{\\partial x} = \\frac {\\partial z}{\\partial t}\\frac {\\partial t}{\\partial x} = \\frac {\\partial z}{\\partial x}$가 성립되어 x에 대한 z의 미분이 된다.\n",
    "<img src=\"img/deep_learning_images/fig_5-8.png\" height=384 width=384>"
   ]
  },
  {
   "cell_type": "markdown",
   "id": "ca53bdcc",
   "metadata": {},
   "source": [
    "### 덧셈 노드 역전파\n",
    "$z=x+y$ 라는 식을 대상으로 역전파를 살펴보면, 해당 식에 대한 미분은 다음과 같이 해석적으로 계산할 수 있다.  \n",
    "<img src=\"img/deep_learning_images/e_5.5.png\" height=90 width=90>\n",
    "\n",
    "이를 계산 그래프로 나타내보면\n",
    "<img src=\"img/deep_learning_images/fig_5-9.png\" height=448 width=448>\n",
    "<img src=\"img/deep_learning_images/fig_5-11.png\" height=448 width=448>\n",
    "\n",
    "***그림에서 보이듯 덧셈 노드의 역전파는 입력된 값을 그대로 다음 노드로 보낸다.***"
   ]
  },
  {
   "cell_type": "markdown",
   "id": "72482cac",
   "metadata": {},
   "source": [
    "### 곱셈 노드 역전파\n",
    "이번에는 $z=xy$라는 식을 통해 알아보자. 해당 식의 미분은 다음과 같다.\n",
    "<img src=\"img/deep_learning_images/e_5.6.png\" height=90 width=90>\n",
    "\n",
    "따라서 계산 그래프를 그려보면 아래의 모양일텐데, 한 가지 특이점이 있다.\n",
    "<img src=\"img/deep_learning_images/fig_5-12.png\" height=448 width=448>"
   ]
  },
  {
   "cell_type": "markdown",
   "id": "db13881b",
   "metadata": {},
   "source": [
    "입력으로 받은 $\\frac {\\partial L}{\\partial z}$에 국소적 미분 값을 곱해서 다음으로 전달하는 형태는 덧셈 노드 역전파와 동일하지만,  \n",
    "***곱해지는 값이 순전파의 입력 신호들을 서로 바꾼 값을 곱하였다.(순전파 때 x였다면 역전파에서는 y, 순전파 때 y였다면 역전파에서는 x로 바꾼다는 뜻)***\n",
    "\n",
    "<img src=\"img/deep_learning_images/fig_5-13.png\" height=448 width=448>"
   ]
  },
  {
   "cell_type": "markdown",
   "id": "7d0c33f6",
   "metadata": {},
   "source": [
    "### 예제\n",
    "\n",
    "이번 예제에서는 사과의 가격, 사과의 개수, 소비세라는 세 변수 각각이 최종 금액에 어떻게 영향을 주느냐를 풀고자 한다.\n",
    "- 사과 가격에 대한 지불 금액의 미분\n",
    "- 사과 개수에 대한 지불 금액의 미분\n",
    "- 소비세에 대한 지불 금액의 미분\n",
    "\n",
    "<img src=\"img/deep_learning_images/fig_5-14.png\" height=448 width=448>"
   ]
  },
  {
   "cell_type": "markdown",
   "id": "6eb9b278",
   "metadata": {},
   "source": [
    "앞서서곱셈 노드의 역전파에서는 입력 신호를 서로 바꿔서 전달함을 배웠다.  \n",
    "그림을 통한 결과를 보면 사과 가격의 미분은 2.2, 사과 개수의 매분은 110, 소비세의 미분은 200이다.  \n",
    "(입력값 1에서 곱셈노드 연산을 하게되므로 순전파의 입력값 200과 1.1이 서로 바꿔서 곱해지므로 소비세의 미분은 200)\n",
    "\n",
    "이를 응용해서 아래 빈칸을 채워볼 것.\n",
    "<img src=\"img/deep_learning_images/fig_5-15.png\" height=512 width=512>"
   ]
  },
  {
   "cell_type": "code",
   "execution_count": null,
   "id": "d8eae1ef",
   "metadata": {},
   "outputs": [],
   "source": [
    "class MulLayer:\n",
    "    def __init__(self):\n",
    "        self.x = None\n",
    "        self.y = None\n",
    "        \n",
    "    def forward(self, x, y):\n",
    "        self.x = x\n",
    "        self.y = y\n",
    "        out = x * y\n",
    "        \n",
    "        return out\n",
    "    \n",
    "    def backward(self, dout):\n",
    "        dx = dout * self.y\n",
    "        dy = dout * self.x\n",
    "        \n",
    "        return dx, dy"
   ]
  },
  {
   "cell_type": "markdown",
   "id": "bc77760b",
   "metadata": {},
   "source": [
    "<img src=\"img/deep_learning_images/fig_5-16.png\" height=448 width=448>"
   ]
  },
  {
   "cell_type": "code",
   "execution_count": 3,
   "id": "0befef49",
   "metadata": {},
   "outputs": [
    {
     "name": "stdout",
     "output_type": "stream",
     "text": [
      "220.00000000000003\n"
     ]
    }
   ],
   "source": [
    "apple = 100\n",
    "apple_num = 2\n",
    "tax = 1.1\n",
    "\n",
    "mul_apple_layer = MulLayer()\n",
    "mul_tax_layer = MulLayer()\n",
    "\n",
    "apple_price = mul_apple_layer.forward(apple, apple_num)\n",
    "price = mul_tax_layer.forward(apple_price, tax)\n",
    "\n",
    "print(price)"
   ]
  },
  {
   "cell_type": "code",
   "execution_count": 5,
   "id": "b8c03089",
   "metadata": {},
   "outputs": [
    {
     "name": "stdout",
     "output_type": "stream",
     "text": [
      "2.2 110.00000000000001 200\n"
     ]
    }
   ],
   "source": [
    "dprice = 1\n",
    "dapple_price, dtax = mul_tax_layer.backward(dprice)\n",
    "dapple, dapple_num = mul_apple_layer.backward(dapple_price)\n",
    "\n",
    "print(dapple, dapple_num, dtax)"
   ]
  },
  {
   "cell_type": "code",
   "execution_count": 7,
   "id": "e60552d2",
   "metadata": {},
   "outputs": [],
   "source": [
    "class AddLayer:\n",
    "    def __init__(self):\n",
    "        pass\n",
    "    \n",
    "    def forward(self, x, y):\n",
    "        out = x + y\n",
    "        \n",
    "        return out\n",
    "    \n",
    "    def backward(self, dout):\n",
    "        dx = dout * 1\n",
    "        dy = dout * 1\n",
    "        \n",
    "        return dx, dy"
   ]
  },
  {
   "cell_type": "code",
   "execution_count": 8,
   "id": "ab3d9185",
   "metadata": {},
   "outputs": [],
   "source": [
    "apple = 100\n",
    "apple_num = 2\n",
    "\n",
    "orange = 150\n",
    "orange_num = 3\n",
    "\n",
    "tax = 1.1"
   ]
  },
  {
   "cell_type": "code",
   "execution_count": 9,
   "id": "c2473109",
   "metadata": {},
   "outputs": [],
   "source": [
    "mul_apple_layer = MulLayer()\n",
    "mul_orange_layer = MulLayer()\n",
    "add_apple_orange_layer = AddLayer()\n",
    "mul_tax_layer = MulLayer()"
   ]
  },
  {
   "cell_type": "code",
   "execution_count": 11,
   "id": "697b0cd4",
   "metadata": {},
   "outputs": [
    {
     "name": "stdout",
     "output_type": "stream",
     "text": [
      "715.0000000000001\n"
     ]
    }
   ],
   "source": [
    "apple_price = mul_apple_layer.forward(apple, apple_num)\n",
    "orange_price = mul_orange_layer.forward(orange, orange_num)\n",
    "all_price = add_apple_orange_layer.forward(apple_price, orange_price)\n",
    "price = mul_tax_layer.forward(all_price, tax)\n",
    "print(price)"
   ]
  },
  {
   "cell_type": "code",
   "execution_count": 12,
   "id": "88b8ebd8",
   "metadata": {},
   "outputs": [
    {
     "name": "stdout",
     "output_type": "stream",
     "text": [
      "110.00000000000001 2.2 3.3000000000000003 165.0 650\n"
     ]
    }
   ],
   "source": [
    "dpirce = 1\n",
    "dall_price, dtax = mul_tax_layer.backward(dprice)\n",
    "dapple_price, dorange_price = add_apple_orange_layer.backward(dall_price)\n",
    "dorange, dorange_num = mul_orange_layer.backward(dorange_price)\n",
    "dapple, dapple_num = mul_apple_layer.backward(dapple_price)\n",
    "print(dapple_num, dapple, dorange, dorange_num, dtax)"
   ]
  },
  {
   "cell_type": "code",
   "execution_count": null,
   "id": "51aa708e",
   "metadata": {},
   "outputs": [],
   "source": []
  }
 ],
 "metadata": {
  "kernelspec": {
   "display_name": "Python 3 (ipykernel)",
   "language": "python",
   "name": "python3"
  },
  "language_info": {
   "codemirror_mode": {
    "name": "ipython",
    "version": 3
   },
   "file_extension": ".py",
   "mimetype": "text/x-python",
   "name": "python",
   "nbconvert_exporter": "python",
   "pygments_lexer": "ipython3",
   "version": "3.9.7"
  }
 },
 "nbformat": 4,
 "nbformat_minor": 5
}
