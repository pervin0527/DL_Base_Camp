{
 "cells": [
  {
   "cell_type": "markdown",
   "id": "f79351ee",
   "metadata": {},
   "source": [
    "이제부터는 신경망을 구성하는 층 각각을 클래스 하나로 구현한다. 먼저 활성화 함수인 ReLU와 Sigmoid 계층을 구현해볼 것이다."
   ]
  },
  {
   "cell_type": "markdown",
   "id": "c576b013",
   "metadata": {},
   "source": [
    "## ReLU 계층\n",
    "ReLU 함수의 수식은 다음과 같다.\n",
    "<img src=\"img/deep_learning_images/e_5.7.png\" width=150 height=150>"
   ]
  },
  {
   "cell_type": "markdown",
   "id": "d5fd2742",
   "metadata": {},
   "source": [
    "위 수식에서 x에 대한 y의 미분은\n",
    "<img src=\"img/deep_learning_images/e_5.8.png\" width=150 height=150>"
   ]
  },
  {
   "cell_type": "markdown",
   "id": "6a70ef0d",
   "metadata": {},
   "source": [
    "이를 통해 알 수 있는 점은 순전파의 입력인 x가 0보다 크면 역전파는 이전 노드의 값을 그대로 다음 노드로 흘린다.(1이 곱해지는 것이니까 값에 변동이 없음)  \n",
    "반면에 순전파 때 x가 0이하일 경우 역전파 때는 다음 노드로 신호를 보내지 않는다.(0을 보냄) 이를 그림으로 나타내보면,\n",
    "<img src=\"img/deep_learning_images/fig_5-18.png\" width=512 height=512>"
   ]
  },
  {
   "cell_type": "code",
   "execution_count": 2,
   "id": "407f81ee",
   "metadata": {},
   "outputs": [],
   "source": [
    "import numpy as np"
   ]
  },
  {
   "cell_type": "code",
   "execution_count": 1,
   "id": "20fc09f6",
   "metadata": {},
   "outputs": [],
   "source": [
    "class Relu:\n",
    "    def __init__(self):\n",
    "        self.mask = None # True와 False로 구성된 넘파이 배열\n",
    "        \n",
    "    def forward(self, x):\n",
    "        self.mask = (x <= 0) # 순전파의 입력인 x의 원소 값이 0 이하인 인덱스는 True, 0보다 큰 원소는 False로.\n",
    "        out = x.copy()\n",
    "        out[self.mask] = 0 # True인 경우 out의 원소는 0이 된다.\n",
    "        \n",
    "        return out\n",
    "    \n",
    "    def backward(self, dout):\n",
    "        dout[self.mask] = 0\n",
    "        dx = dout\n",
    "        \n",
    "        return dx"
   ]
  },
  {
   "cell_type": "code",
   "execution_count": 3,
   "id": "c560bc51",
   "metadata": {},
   "outputs": [
    {
     "name": "stdout",
     "output_type": "stream",
     "text": [
      "[[ 1.  -0.5]\n",
      " [-2.   3. ]]\n"
     ]
    }
   ],
   "source": [
    "x = np.array([[1.0, -0.5], [-2.0, 3.0]])\n",
    "print(x)"
   ]
  },
  {
   "cell_type": "code",
   "execution_count": 4,
   "id": "702efece",
   "metadata": {},
   "outputs": [
    {
     "name": "stdout",
     "output_type": "stream",
     "text": [
      "[[False  True]\n",
      " [ True False]]\n"
     ]
    }
   ],
   "source": [
    "mask = (x <= 0)\n",
    "print(mask)"
   ]
  },
  {
   "cell_type": "code",
   "execution_count": 5,
   "id": "b58c30a4",
   "metadata": {},
   "outputs": [
    {
     "name": "stdout",
     "output_type": "stream",
     "text": [
      "[[1. 0.]\n",
      " [0. 3.]]\n"
     ]
    }
   ],
   "source": [
    "test_relu_layer = Relu()\n",
    "print(test_relu_layer.forward(x))"
   ]
  },
  {
   "cell_type": "code",
   "execution_count": 6,
   "id": "fb2be5d5",
   "metadata": {},
   "outputs": [
    {
     "name": "stdout",
     "output_type": "stream",
     "text": [
      "[[False  True]\n",
      " [ True False]]\n",
      "[[1. 0.]\n",
      " [0. 3.]]\n"
     ]
    }
   ],
   "source": [
    "mask = (x <= 0)\n",
    "print(mask)\n",
    "\n",
    "x[mask] = 0\n",
    "print(x)"
   ]
  },
  {
   "cell_type": "markdown",
   "id": "266888d6",
   "metadata": {},
   "source": [
    "## Sigmoid 계층\n",
    "<img src=\"img/deep_learning_images/e_5.9.png\" width=180 height=180>"
   ]
  },
  {
   "cell_type": "markdown",
   "id": "222234a2",
   "metadata": {},
   "source": [
    "<img src=\"img/deep_learning_images/fig_5-19.png\" width=448 height=448>\n",
    "<img src=\"img/deep_learning_images/sigmoid_node.png\" width=416 height=416>"
   ]
  },
  {
   "cell_type": "markdown",
   "id": "830f8e63",
   "metadata": {},
   "source": [
    "먼저 나눗셈 노드에 대한 미분을 하면,\n",
    "<img src=\"img/deep_learning_images/e_5.10.png\" width=120 height=120>\n",
    "식에서 알 수 있듯 이전 노드에서 흘러온 값에 $-y^2$(순전파의 출력을 제곱하고, 마이너스를 붙인 값)을 곱해서 다음 노드로 전달한다."
   ]
  },
  {
   "cell_type": "markdown",
   "id": "3e14aac0",
   "metadata": {},
   "source": [
    "exp 노드는 $y=exp(x)$연산인데 미분 결과는 다음과 같다.\n",
    "<img src=\"img/deep_learning_images/e_5.11.png\" width=150 height=150>\n",
    "\n",
    "즉, 이전 노드의 값에 순전파 때의 출력을 곱해(여기서는 $exp(-x)$) 다음 노드로 전달."
   ]
  },
  {
   "cell_type": "markdown",
   "id": "3ed868f5",
   "metadata": {},
   "source": [
    "<img src=\"img/deep_learning_images/fig_5-19(3).png\" width=448 height=448>\n",
    "<img src=\"img/deep_learning_images/fig_5-20.png\" width=448 height=448>"
   ]
  },
  {
   "cell_type": "markdown",
   "id": "40d176d1",
   "metadata": {},
   "source": [
    "여기서 역전파 값을 한 번 더 정리하면,\n",
    "<img src=\"img/deep_learning_images/e_5.12.png\" width=448 height=448>\n",
    "<img src=\"img/deep_learning_images/sigmoid_formula_reform.png\" width=256 height=256>\n",
    "\n",
    "정리한 식의 마지막에서 볼 수 있듯 순전파의 출력값만으로 역전파를 계산할 수 있음을 알 수 있다."
   ]
  },
  {
   "cell_type": "code",
   "execution_count": 7,
   "id": "454f1fd5",
   "metadata": {},
   "outputs": [],
   "source": [
    "class Sigmoid:\n",
    "    def __init__(self):\n",
    "        self.out = None\n",
    "        \n",
    "    def forward(self, x):\n",
    "        out = 1 / (1 + np.exp(-x))\n",
    "        self.out = out\n",
    "        \n",
    "        return out\n",
    "    \n",
    "    def backward(self, dout):\n",
    "        dx = dout * (1.0 - self.out) * self.out\n",
    "        \n",
    "        return dx"
   ]
  },
  {
   "cell_type": "code",
   "execution_count": null,
   "id": "94e6e77c",
   "metadata": {},
   "outputs": [],
   "source": []
  }
 ],
 "metadata": {
  "kernelspec": {
   "display_name": "Python 3 (ipykernel)",
   "language": "python",
   "name": "python3"
  },
  "language_info": {
   "codemirror_mode": {
    "name": "ipython",
    "version": 3
   },
   "file_extension": ".py",
   "mimetype": "text/x-python",
   "name": "python",
   "nbconvert_exporter": "python",
   "pygments_lexer": "ipython3",
   "version": "3.9.7"
  }
 },
 "nbformat": 4,
 "nbformat_minor": 5
}
