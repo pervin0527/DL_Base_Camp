{
 "cells": [
  {
   "cell_type": "markdown",
   "id": "c38ae7d4",
   "metadata": {},
   "source": [
    "## 손글자 숫자 인식\n",
    "\n",
    "0 ~ 9까지 숫자 이미지로 구성된 MNIST 데이터셋을 사용해 숫자를 분류할 것이다.  \n",
    "따라서 출력층의 뉴런 수는 분류하고 싶은 클래스 수 10이된다."
   ]
  },
  {
   "cell_type": "code",
   "execution_count": 8,
   "id": "cfbb8ac6",
   "metadata": {},
   "outputs": [],
   "source": [
    "import os\n",
    "import urllib.request"
   ]
  },
  {
   "cell_type": "code",
   "execution_count": 9,
   "id": "0eebdd92",
   "metadata": {},
   "outputs": [],
   "source": [
    "url_base = 'http://yann.lecun.com/exdb/mnist/'\n",
    "key_file = {\n",
    "    'train_img':'train-images-idx3-ubyte.gz',\n",
    "    'train_label':'train-labels-idx1-ubyte.gz',\n",
    "    'test_img':'t10k-images-idx3-ubyte.gz',\n",
    "    'test_label':'t10k-labels-idx1-ubyte.gz'\n",
    "}"
   ]
  },
  {
   "cell_type": "code",
   "execution_count": 11,
   "id": "7957b998",
   "metadata": {},
   "outputs": [],
   "source": [
    "save_path = \"/Users/jun/Downloads/mnist\"\n",
    "\n",
    "if not os.path.isdir(save_path):\n",
    "    os.makedirs(save_path)"
   ]
  },
  {
   "cell_type": "code",
   "execution_count": 12,
   "id": "ff760897",
   "metadata": {},
   "outputs": [],
   "source": [
    "for save_name, file_name in key_file.items():\n",
    "    urllib.request.urlretrieve(f\"{url_base}/{file_name}\", f\"{save_path}/{save_name}\")"
   ]
  },
  {
   "cell_type": "code",
   "execution_count": null,
   "id": "bb8b849f",
   "metadata": {},
   "outputs": [],
   "source": []
  }
 ],
 "metadata": {
  "kernelspec": {
   "display_name": "Python 3 (ipykernel)",
   "language": "python",
   "name": "python3"
  },
  "language_info": {
   "codemirror_mode": {
    "name": "ipython",
    "version": 3
   },
   "file_extension": ".py",
   "mimetype": "text/x-python",
   "name": "python",
   "nbconvert_exporter": "python",
   "pygments_lexer": "ipython3",
   "version": "3.9.7"
  }
 },
 "nbformat": 4,
 "nbformat_minor": 5
}
