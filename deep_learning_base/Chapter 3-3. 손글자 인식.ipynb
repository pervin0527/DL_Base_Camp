{
 "cells": [
  {
   "cell_type": "markdown",
   "id": "c38ae7d4",
   "metadata": {},
   "source": [
    "## 손글자 숫자 인식\n",
    "\n",
    "0 ~ 9까지 숫자 이미지로 구성된 MNIST 데이터셋을 사용해 숫자를 분류할 것이다.  \n",
    "따라서 출력층의 뉴런 수는 분류하고 싶은 클래스 수 10이된다."
   ]
  },
  {
   "cell_type": "code",
   "execution_count": 7,
   "id": "bb8b849f",
   "metadata": {},
   "outputs": [],
   "source": [
    "import numpy as np\n",
    "from mnist import load_mnist\n",
    "from functions import sigmoid, softmax"
   ]
  },
  {
   "cell_type": "code",
   "execution_count": 8,
   "id": "a4e6a2c2",
   "metadata": {},
   "outputs": [
    {
     "data": {
      "text/plain": [
       "array([0.47502081, 0.52497919])"
      ]
     },
     "execution_count": 8,
     "metadata": {},
     "output_type": "execute_result"
    }
   ],
   "source": [
    "test = np.array([-0.1, 0.1])\n",
    "\n",
    "sigmoid(test)"
   ]
  },
  {
   "cell_type": "code",
   "execution_count": 9,
   "id": "813d38a1",
   "metadata": {},
   "outputs": [
    {
     "data": {
      "text/plain": [
       "array([0.01821127, 0.24519181, 0.73659691])"
      ]
     },
     "execution_count": 9,
     "metadata": {},
     "output_type": "execute_result"
    }
   ],
   "source": [
    "test2 = np.array([0.3, 2.9, 4.0])\n",
    "softmax(test2)"
   ]
  },
  {
   "cell_type": "code",
   "execution_count": 10,
   "id": "ed2ca7a1",
   "metadata": {},
   "outputs": [],
   "source": [
    "train_images, train_labels, test_images, test_labels = load_mnist(pickle_path=\"/Users/jun/Downloads/MNIST/mnist.pkl\")"
   ]
  },
  {
   "cell_type": "code",
   "execution_count": 6,
   "id": "6baafec4",
   "metadata": {},
   "outputs": [
    {
     "name": "stdout",
     "output_type": "stream",
     "text": [
      "(60000, 784) (60000, 10)\n"
     ]
    }
   ],
   "source": [
    "print(train_images.shape, train_labels.shape)\n",
    "print(test_images.ah)"
   ]
  },
  {
   "cell_type": "code",
   "execution_count": null,
   "id": "ac42e85a",
   "metadata": {},
   "outputs": [],
   "source": []
  }
 ],
 "metadata": {
  "kernelspec": {
   "display_name": "Python 3 (ipykernel)",
   "language": "python",
   "name": "python3"
  },
  "language_info": {
   "codemirror_mode": {
    "name": "ipython",
    "version": 3
   },
   "file_extension": ".py",
   "mimetype": "text/x-python",
   "name": "python",
   "nbconvert_exporter": "python",
   "pygments_lexer": "ipython3",
   "version": "3.9.7"
  }
 },
 "nbformat": 4,
 "nbformat_minor": 5
}
