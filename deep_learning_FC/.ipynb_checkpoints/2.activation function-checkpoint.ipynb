{
 "cells": [
  {
   "cell_type": "markdown",
   "id": "13b894a3",
   "metadata": {},
   "source": [
    "Activation Layers"
   ]
  },
  {
   "cell_type": "code",
   "execution_count": 1,
   "id": "578a8a15",
   "metadata": {},
   "outputs": [],
   "source": [
    "import tensorflow as tf\n",
    "from tensorflow.math import exp, maximum\n",
    "from tensorflow.keras.layers import Activation"
   ]
  },
  {
   "cell_type": "code",
   "execution_count": 2,
   "id": "d9651914",
   "metadata": {},
   "outputs": [
    {
     "name": "stdout",
     "output_type": "stream",
     "text": [
      "x : (1, 5), [[ 0.41113564 -0.4018176   0.92551     1.353445    1.1814024 ]] \n",
      "\n",
      "Sigmoid : (1, 5), [[0.60136014 0.40087575 0.71616346 0.7946923  0.7651999 ]]\n",
      "Tanh : (1, 5), [[ 0.3894365  -0.38150308  0.7284937   0.87486404  0.8278933 ]]\n",
      "relu : (1, 5), [[0.41113564 0.         0.92551    1.353445   1.1814024 ]]\n"
     ]
    },
    {
     "name": "stderr",
     "output_type": "stream",
     "text": [
      "2022-03-22 23:36:28.054860: I tensorflow/core/platform/cpu_feature_guard.cc:151] This TensorFlow binary is optimized with oneAPI Deep Neural Network Library (oneDNN) to use the following CPU instructions in performance-critical operations:  AVX2 FMA\n",
      "To enable them in other operations, rebuild TensorFlow with the appropriate compiler flags.\n"
     ]
    }
   ],
   "source": [
    "x = tf.random.normal(shape=(1, 5))\n",
    "\n",
    "sigmoid = Activation('sigmoid')\n",
    "tanh = Activation('tanh')\n",
    "relu = Activation('relu')\n",
    "\n",
    "y_sigmoid = sigmoid(x)\n",
    "y_tanh = tanh(x)\n",
    "y_relu = relu(x)\n",
    "\n",
    "print(f\"x : {x.shape}, {x.numpy()} \\n\")\n",
    "print(f\"Sigmoid : {y_sigmoid.shape}, {y_sigmoid.numpy()}\")\n",
    "print(f\"Tanh : {y_tanh.shape}, {y_tanh.numpy()}\")\n",
    "print(f\"relu : {y_relu.shape}, {y_relu.numpy()}\")"
   ]
  },
  {
   "cell_type": "code",
   "execution_count": 3,
   "id": "a8990866",
   "metadata": {},
   "outputs": [
    {
     "name": "stdout",
     "output_type": "stream",
     "text": [
      "Sigmoid : (1, 5), [[0.60136014 0.40087572 0.71616346 0.7946923  0.7651999 ]]\n",
      "Tanh : (1, 5), [[ 0.38943654 -0.38150308  0.72849363  0.8748639   0.8278933 ]]\n",
      "relu : (1, 5), [[0.41113564 0.         0.92551    1.353445   1.1814024 ]]\n"
     ]
    }
   ],
   "source": [
    "manual_y_sigmoid = 1 / (1 + exp(-x))\n",
    "manual_y_tanh = (exp(x) - exp(-x)) / (exp(x) + exp(-x))\n",
    "manual_y_relu = maximum(x, 0)\n",
    "\n",
    "print(f\"Sigmoid : {manual_y_sigmoid.shape}, {manual_y_sigmoid.numpy()}\")\n",
    "print(f\"Tanh : {manual_y_tanh.shape}, {manual_y_tanh.numpy()}\")\n",
    "print(f\"relu : {manual_y_relu.shape}, {manual_y_relu.numpy()}\")"
   ]
  },
  {
   "cell_type": "markdown",
   "id": "168367fd",
   "metadata": {},
   "source": [
    "Activation in Dense Layer"
   ]
  },
  {
   "cell_type": "code",
   "execution_count": 4,
   "id": "59fe3c46",
   "metadata": {},
   "outputs": [],
   "source": [
    "from tensorflow.keras.layers import Dense"
   ]
  },
  {
   "cell_type": "code",
   "execution_count": 5,
   "id": "28d4597e",
   "metadata": {},
   "outputs": [
    {
     "name": "stdout",
     "output_type": "stream",
     "text": [
      "(1, 1) [[0.17865562]]\n",
      "(1, 1) [[0.30561125]]\n",
      "(1, 1) [[2.5185838]]\n"
     ]
    }
   ],
   "source": [
    "# x = tf.random.normal(shape=(1, 5))\n",
    "\n",
    "dense_sigmoid = Dense(units=1, activation='sigmoid')\n",
    "dense_tanh = Dense(units=1, activation='tanh')\n",
    "dense_relu = Dense(units=1, activation='relu')\n",
    "\n",
    "y_sigmoid = dense_sigmoid(x)\n",
    "y_tanh = dense_tanh(x)\n",
    "y_relu = dense_relu(x)\n",
    "\n",
    "print(y_sigmoid.shape, y_sigmoid.numpy())\n",
    "print(y_tanh.shape, y_tanh.numpy())\n",
    "print(y_relu.shape, y_relu.numpy())"
   ]
  },
  {
   "cell_type": "code",
   "execution_count": 6,
   "id": "ead521fc",
   "metadata": {},
   "outputs": [
    {
     "name": "stdout",
     "output_type": "stream",
     "text": [
      "(1, 1) [[0.17865558]]\n"
     ]
    }
   ],
   "source": [
    "W, B = dense_sigmoid.get_weights()\n",
    "z = tf.linalg.matmul(x, W) + B\n",
    "a = 1 / (1 + exp(-z))\n",
    "\n",
    "print(a.shape, a.numpy())"
   ]
  },
  {
   "cell_type": "markdown",
   "id": "c2bdf840",
   "metadata": {},
   "source": [
    "mini-batch"
   ]
  },
  {
   "cell_type": "code",
   "execution_count": 7,
   "id": "fedc35b5",
   "metadata": {},
   "outputs": [
    {
     "name": "stdout",
     "output_type": "stream",
     "text": [
      "(8, 10)\n"
     ]
    }
   ],
   "source": [
    "N, n_feature = 8, 10\n",
    "\n",
    "x = tf.random.normal(shape=(N, n_feature))\n",
    "print(x.shape)"
   ]
  },
  {
   "cell_type": "code",
   "execution_count": 8,
   "id": "46d343b4",
   "metadata": {},
   "outputs": [],
   "source": [
    "dense = Dense(units=1, activation='sigmoid')\n",
    "y = dense(x)"
   ]
  },
  {
   "cell_type": "code",
   "execution_count": 9,
   "id": "3dec3058",
   "metadata": {},
   "outputs": [],
   "source": [
    "W, B = dense.get_weights()"
   ]
  },
  {
   "cell_type": "code",
   "execution_count": 10,
   "id": "1517487e",
   "metadata": {},
   "outputs": [
    {
     "name": "stdout",
     "output_type": "stream",
     "text": [
      "(8, 10)\n",
      "(10, 1)\n",
      "(1,)\n"
     ]
    }
   ],
   "source": [
    "print(x.shape)\n",
    "print(W.shape)\n",
    "print(B.shape)"
   ]
  },
  {
   "cell_type": "code",
   "execution_count": 11,
   "id": "d8041ab6",
   "metadata": {},
   "outputs": [
    {
     "name": "stdout",
     "output_type": "stream",
     "text": [
      "(8, 1) tf.Tensor(\n",
      "[[0.8703471 ]\n",
      " [0.09173933]\n",
      " [0.2165837 ]\n",
      " [0.2702849 ]\n",
      " [0.3028233 ]\n",
      " [0.30838203]\n",
      " [0.4775709 ]\n",
      " [0.22646019]], shape=(8, 1), dtype=float32) \n",
      "\n",
      "(8, 1) tf.Tensor(\n",
      "[[0.8703471 ]\n",
      " [0.09173934]\n",
      " [0.21658367]\n",
      " [0.2702849 ]\n",
      " [0.3028233 ]\n",
      " [0.308382  ]\n",
      " [0.4775709 ]\n",
      " [0.22646016]], shape=(8, 1), dtype=float32)\n"
     ]
    }
   ],
   "source": [
    "y_manual = tf.linalg.matmul(x, W) + B\n",
    "y_manual = 1 / (1 + exp(-y_manual))\n",
    "\n",
    "print(y.shape, y, '\\n')\n",
    "print(y_manual.shape, y_manual)"
   ]
  },
  {
   "cell_type": "code",
   "execution_count": null,
   "id": "9e466195",
   "metadata": {},
   "outputs": [],
   "source": []
  },
  {
   "cell_type": "code",
   "execution_count": null,
   "id": "25f2bf63",
   "metadata": {},
   "outputs": [],
   "source": []
  }
 ],
 "metadata": {
  "kernelspec": {
   "display_name": "Python 3 (ipykernel)",
   "language": "python",
   "name": "python3"
  },
  "language_info": {
   "codemirror_mode": {
    "name": "ipython",
    "version": 3
   },
   "file_extension": ".py",
   "mimetype": "text/x-python",
   "name": "python",
   "nbconvert_exporter": "python",
   "pygments_lexer": "ipython3",
   "version": "3.9.7"
  }
 },
 "nbformat": 4,
 "nbformat_minor": 5
}
