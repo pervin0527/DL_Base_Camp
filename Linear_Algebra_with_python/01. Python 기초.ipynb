{
 "cells": [
  {
   "cell_type": "markdown",
   "id": "bdcd6200",
   "metadata": {},
   "source": [
    "# 함수"
   ]
  },
  {
   "cell_type": "markdown",
   "id": "32a1f33d",
   "metadata": {},
   "source": [
    "## 사용자 정의 함수\n",
    "\n",
    "두 수의 합을 구하는 함수를 정의해보겠다."
   ]
  },
  {
   "cell_type": "code",
   "execution_count": 1,
   "id": "4378831d",
   "metadata": {},
   "outputs": [],
   "source": [
    "def add(a, b):\n",
    "    return a + b"
   ]
  },
  {
   "cell_type": "code",
   "execution_count": 2,
   "id": "2e6ddd5e",
   "metadata": {},
   "outputs": [
    {
     "data": {
      "text/plain": [
       "3"
      ]
     },
     "execution_count": 2,
     "metadata": {},
     "output_type": "execute_result"
    }
   ],
   "source": [
    "add(1, 2)"
   ]
  },
  {
   "cell_type": "markdown",
   "id": "6809ce7f",
   "metadata": {},
   "source": [
    "## 재귀 함수\n",
    "recursive 함수는 함수의 정의 단계에서 자기 자신을 호출하는 함수다."
   ]
  },
  {
   "cell_type": "code",
   "execution_count": 3,
   "id": "cb7ff612",
   "metadata": {},
   "outputs": [],
   "source": [
    "def one_to_sum(a):\n",
    "    if a == 0:\n",
    "        return 0\n",
    "    res = a + one_to_sum(a-1)\n",
    "    \n",
    "    return res"
   ]
  },
  {
   "cell_type": "code",
   "execution_count": 4,
   "id": "fe28767a",
   "metadata": {},
   "outputs": [
    {
     "data": {
      "text/plain": [
       "55"
      ]
     },
     "execution_count": 4,
     "metadata": {},
     "output_type": "execute_result"
    }
   ],
   "source": [
    "one_to_sum(10)"
   ]
  },
  {
   "cell_type": "markdown",
   "id": "7bcf4eb7",
   "metadata": {},
   "source": [
    "<img src=\"./image/recursive_function.jpeg\" width=512 height=512>"
   ]
  },
  {
   "cell_type": "markdown",
   "id": "0dd20ce9",
   "metadata": {},
   "source": [
    "## 복사\n",
    "\n",
    "객체의 복사는 크게 얕은 복사(shallow copy)와 깊은 복사(deep copy)로 나누어진다.  "
   ]
  },
  {
   "cell_type": "code",
   "execution_count": 5,
   "id": "c251542a",
   "metadata": {},
   "outputs": [
    {
     "name": "stdout",
     "output_type": "stream",
     "text": [
      "3 3\n"
     ]
    }
   ],
   "source": [
    "x = 3\n",
    "y = x\n",
    "\n",
    "print(x, y)"
   ]
  },
  {
   "cell_type": "markdown",
   "id": "28413a66",
   "metadata": {},
   "source": [
    "위 결과에서 x와 y값은 동일하게 3이다. 그렇다면 시스템 메모리 상으로는 x가 담고 있는 3과 y가 담고 있는 3은 동일한 메모리 주소를 가지고 있지 않을까?"
   ]
  },
  {
   "cell_type": "code",
   "execution_count": 6,
   "id": "a3dfe894",
   "metadata": {},
   "outputs": [
    {
     "name": "stdout",
     "output_type": "stream",
     "text": [
      "x의 주소 값 : 140340262738288\n",
      "y의 주소 값 : 140340262738288\n"
     ]
    }
   ],
   "source": [
    "print(f\"x의 주소 값 : {id(x)}\")\n",
    "print(f\"y의 주소 값 : {id(y)}\")"
   ]
  },
  {
   "cell_type": "markdown",
   "id": "703dec00",
   "metadata": {},
   "source": [
    "<img src=\"./image/variable_id.jpeg\" width=512 height=512>"
   ]
  },
  {
   "cell_type": "code",
   "execution_count": 7,
   "id": "7eeec617",
   "metadata": {},
   "outputs": [
    {
     "name": "stdout",
     "output_type": "stream",
     "text": [
      "y의 새로운 값과 주소는 : 7, 140340262738416\n"
     ]
    }
   ],
   "source": [
    "y = 7\n",
    "print(f\"y의 새로운 값과 주소는 : {y}, {id(y)}\")"
   ]
  },
  {
   "cell_type": "markdown",
   "id": "ab0aacc1",
   "metadata": {},
   "source": [
    "<img src=\"./image/variable_id2.jpeg\" width=512 height=512>"
   ]
  },
  {
   "cell_type": "markdown",
   "id": "7bc31035",
   "metadata": {},
   "source": [
    "변수에 새로운 값을 할당했더니 메모리 주소도 변경되었음을 볼 수 있다.  \n",
    "이번에는 리스트의 경우를 한 번 보자."
   ]
  },
  {
   "cell_type": "code",
   "execution_count": 9,
   "id": "de03bba7",
   "metadata": {},
   "outputs": [
    {
     "name": "stdout",
     "output_type": "stream",
     "text": [
      "140340360640640\n",
      "140340262738224\n",
      "140340262738256\n"
     ]
    }
   ],
   "source": [
    "a = [1, 2, 3, 4]\n",
    "\n",
    "print(id(a))\n",
    "print(id(a[0]))\n",
    "print(id(a[1]))"
   ]
  },
  {
   "cell_type": "markdown",
   "id": "f7f3d7e0",
   "metadata": {},
   "source": [
    "<img src=\"image/list_id.jpg\" width=512 height=512>\n",
    "\n",
    "위 결과와 이미지에서 볼 수 있듯, 리스트 객체의 주소와 리스트 원소들의 주소가 각각 별개로 구성되어 있음을 확인할 수 있다."
   ]
  },
  {
   "cell_type": "code",
   "execution_count": 10,
   "id": "210a4813",
   "metadata": {},
   "outputs": [
    {
     "name": "stdout",
     "output_type": "stream",
     "text": [
      "[5, 2, 3, 4]\n"
     ]
    }
   ],
   "source": [
    "a[0] = 5\n",
    "print(a)"
   ]
  },
  {
   "cell_type": "code",
   "execution_count": 12,
   "id": "d6d72943",
   "metadata": {},
   "outputs": [
    {
     "name": "stdout",
     "output_type": "stream",
     "text": [
      "140340360640640\n",
      "140340262738352\n",
      "140340262738256\n"
     ]
    }
   ],
   "source": [
    "print(id(a))\n",
    "print(id(a[0]))\n",
    "print(id(a[1]))"
   ]
  },
  {
   "cell_type": "markdown",
   "id": "00c49f96",
   "metadata": {},
   "source": [
    "리스트 0번 원소의 값을 0에서 5로 변경했다. 0일 때 주소는 140340262738224 이었지만, 5로 변경했을 때 주소는 140340262738352로 바뀌었다.  \n",
    "반면 1번 원소는 값의 변동이 없었으므로 주소가 그대로 유지된다.\n",
    "\n",
    "<img src=\"./image/list_id2.jpg\" height=512 width=512>"
   ]
  },
  {
   "cell_type": "code",
   "execution_count": 13,
   "id": "71979f53",
   "metadata": {},
   "outputs": [
    {
     "name": "stdout",
     "output_type": "stream",
     "text": [
      "[5, 2, 3, 4]\n",
      "140340360640640\n",
      "140340360640640\n"
     ]
    }
   ],
   "source": [
    "b = a\n",
    "print(b)\n",
    "print(id(a))\n",
    "print(id(b))"
   ]
  },
  {
   "cell_type": "code",
   "execution_count": 14,
   "id": "a62972e8",
   "metadata": {},
   "outputs": [
    {
     "name": "stdout",
     "output_type": "stream",
     "text": [
      "140340262738352\n",
      "140340262738352\n"
     ]
    }
   ],
   "source": [
    "print(id(a[0]))\n",
    "print(id(b[0]))"
   ]
  },
  {
   "cell_type": "markdown",
   "id": "3dfaed60",
   "metadata": {},
   "source": [
    "이번에는 리스트 객체 a를 b에 그대로 할당했다.  \n",
    "변수 때와 마찬가지로 a와 b는 동일한 리스트 객체 메모리 주소를 참조하고 있으며, 리스트 원소에 대해서도 마찬가지로 동일하다.\n",
    "<img src=\"./image/list_id3.jpg\" height=512 width=512>"
   ]
  },
  {
   "cell_type": "markdown",
   "id": "74a15367",
   "metadata": {},
   "source": [
    "그럼 a와 b 중 한 리스트에서 새로운 원소를 추가한다면, 다른 리스트도 똑같이 추가될까?"
   ]
  },
  {
   "cell_type": "code",
   "execution_count": 15,
   "id": "aa2352a5",
   "metadata": {},
   "outputs": [
    {
     "name": "stdout",
     "output_type": "stream",
     "text": [
      "[5, 2, 3, 4, 7]\n",
      "[5, 2, 3, 4, 7]\n"
     ]
    }
   ],
   "source": [
    "b.append(7)\n",
    "\n",
    "print(b)\n",
    "print(a)"
   ]
  },
  {
   "cell_type": "code",
   "execution_count": 16,
   "id": "6854004e",
   "metadata": {},
   "outputs": [
    {
     "name": "stdout",
     "output_type": "stream",
     "text": [
      "140340262738416\n",
      "140340262738416\n"
     ]
    }
   ],
   "source": [
    "print(id(b[-1]))\n",
    "print(id(a[-1]))"
   ]
  },
  {
   "cell_type": "markdown",
   "id": "fd936e47",
   "metadata": {},
   "source": [
    "새로운 원소를 추가했을 때, 다른 리스트 역시 추가되었고, 해당 원소의 주소 역시 동일함을 볼 수 있다.  \n",
    "즉, a는 그대로 두고 b만 변경하고 싶지만, 의도와는 다르게 수정되는 문제가 발생할 수 있음을 의미."
   ]
  },
  {
   "cell_type": "markdown",
   "id": "58935ec7",
   "metadata": {},
   "source": [
    "## 얕은 복사\n",
    "\n",
    "앞의 예제와 다르게 객체 b의 변경이 객체 a에는 영향을 주지 않게 하려면 다음과 같이 코드를 작성해야 한다."
   ]
  },
  {
   "cell_type": "code",
   "execution_count": 18,
   "id": "f7444abb",
   "metadata": {},
   "outputs": [
    {
     "name": "stdout",
     "output_type": "stream",
     "text": [
      "[1, 2, 3, 4, 5]\n",
      "[1, 2, 3, 4, 5]\n"
     ]
    }
   ],
   "source": [
    "a = [1, 2, 3, 4, 5]\n",
    "b = a[:] # a의 모든 원소를 할당한다는 의미\n",
    "\n",
    "print(a)\n",
    "print(b)"
   ]
  },
  {
   "cell_type": "code",
   "execution_count": 19,
   "id": "d49b5992",
   "metadata": {},
   "outputs": [
    {
     "name": "stdout",
     "output_type": "stream",
     "text": [
      "140340386234496\n",
      "140340360893568\n"
     ]
    }
   ],
   "source": [
    "print(id(a))\n",
    "print(id(b))"
   ]
  },
  {
   "cell_type": "code",
   "execution_count": 20,
   "id": "15c16fef",
   "metadata": {},
   "outputs": [
    {
     "name": "stdout",
     "output_type": "stream",
     "text": [
      "140340262738224\n",
      "140340262738224\n"
     ]
    }
   ],
   "source": [
    "print(id(a[0]))\n",
    "print(id(b[0]))"
   ]
  },
  {
   "cell_type": "markdown",
   "id": "abcffd79",
   "metadata": {},
   "source": [
    "<img src=\"./image/list_id4.jpg\" height=640 width=512>\n",
    "\n",
    "얕은 복사를 했더니, 두 리스트 객체의 주소가 다르다.(물론 아직 원소의 주소는 동일)  "
   ]
  },
  {
   "cell_type": "code",
   "execution_count": 21,
   "id": "24c72c43",
   "metadata": {},
   "outputs": [
    {
     "name": "stdout",
     "output_type": "stream",
     "text": [
      "[9, 2, 3, 4, 5]\n",
      "140340262738224 140340262738480\n"
     ]
    }
   ],
   "source": [
    "b[0] = 9\n",
    "print(b)\n",
    "\n",
    "print(id(a[0]), id(b[0]))"
   ]
  },
  {
   "cell_type": "code",
   "execution_count": 22,
   "id": "e0bbaeb7",
   "metadata": {},
   "outputs": [
    {
     "name": "stdout",
     "output_type": "stream",
     "text": [
      "[1, 2, 3, 4, 5]\n",
      "[9, 2, 3, 4, 5, 10]\n"
     ]
    }
   ],
   "source": [
    "b.append(10)\n",
    "print(a)\n",
    "print(b)"
   ]
  },
  {
   "cell_type": "markdown",
   "id": "e3c6e248",
   "metadata": {},
   "source": [
    "b의 0번째 원소의 값을 바꿨을 때, 주소가 a[0]와 달라지는 것은 이미 알고 있다.  \n",
    "그리고 b에 새로운 원소를 추가했을 때 처음과 달리 a에는 추가되지 않았음. 결국 동일한 주소를 참조하고 있던 것이 문제였음을 알 수 있다."
   ]
  },
  {
   "cell_type": "markdown",
   "id": "5396c74c",
   "metadata": {},
   "source": [
    "```b = a[:]```말고도 파이썬 기본 라이브러리인 ```copy```를 이용해서 얕은 복사를 할 수 있다."
   ]
  },
  {
   "cell_type": "code",
   "execution_count": 23,
   "id": "3de285c8",
   "metadata": {},
   "outputs": [],
   "source": [
    "import copy\n",
    "\n",
    "a = [1, 2, 3, 4, 5]\n",
    "b = copy.copy(a)"
   ]
  },
  {
   "cell_type": "code",
   "execution_count": 24,
   "id": "4e98d498",
   "metadata": {},
   "outputs": [
    {
     "name": "stdout",
     "output_type": "stream",
     "text": [
      "140340387134720\n",
      "140340387134400\n"
     ]
    }
   ],
   "source": [
    "print(id(a))\n",
    "print(id(b))"
   ]
  },
  {
   "cell_type": "code",
   "execution_count": 25,
   "id": "00bea28f",
   "metadata": {},
   "outputs": [
    {
     "name": "stdout",
     "output_type": "stream",
     "text": [
      "140340262738224\n",
      "140340262738224\n"
     ]
    }
   ],
   "source": [
    "print(id(a[0]))\n",
    "print(id(b[0]))"
   ]
  },
  {
   "cell_type": "markdown",
   "id": "87d3d077",
   "metadata": {},
   "source": [
    "역시 리스트의 원소에 대한 주소는 동일함..."
   ]
  },
  {
   "cell_type": "code",
   "execution_count": null,
   "id": "1673f5c3",
   "metadata": {},
   "outputs": [],
   "source": []
  }
 ],
 "metadata": {
  "kernelspec": {
   "display_name": "Python 3 (ipykernel)",
   "language": "python",
   "name": "python3"
  },
  "language_info": {
   "codemirror_mode": {
    "name": "ipython",
    "version": 3
   },
   "file_extension": ".py",
   "mimetype": "text/x-python",
   "name": "python",
   "nbconvert_exporter": "python",
   "pygments_lexer": "ipython3",
   "version": "3.9.7"
  }
 },
 "nbformat": 4,
 "nbformat_minor": 5
}
