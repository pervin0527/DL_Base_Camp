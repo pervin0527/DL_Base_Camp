{
 "cells": [
  {
   "cell_type": "code",
   "execution_count": 1,
   "id": "a0047f44",
   "metadata": {},
   "outputs": [],
   "source": [
    "import copy"
   ]
  },
  {
   "cell_type": "code",
   "execution_count": 2,
   "id": "3c0d797c",
   "metadata": {},
   "outputs": [],
   "source": [
    "listA = [1, 2, 3, 4, 5]"
   ]
  },
  {
   "cell_type": "code",
   "execution_count": 3,
   "id": "14b5d711",
   "metadata": {},
   "outputs": [
    {
     "name": "stdout",
     "output_type": "stream",
     "text": [
      "[1, 2, 3, 4, 5]\n"
     ]
    }
   ],
   "source": [
    "listB = listA\n",
    "print(listB)"
   ]
  },
  {
   "cell_type": "code",
   "execution_count": 4,
   "id": "170cca7b",
   "metadata": {},
   "outputs": [
    {
     "data": {
      "text/plain": [
       "140371318777856"
      ]
     },
     "execution_count": 4,
     "metadata": {},
     "output_type": "execute_result"
    }
   ],
   "source": [
    "id(listA)"
   ]
  },
  {
   "cell_type": "code",
   "execution_count": 5,
   "id": "e78d3b65",
   "metadata": {},
   "outputs": [
    {
     "data": {
      "text/plain": [
       "140371318777856"
      ]
     },
     "execution_count": 5,
     "metadata": {},
     "output_type": "execute_result"
    }
   ],
   "source": [
    "id(listB)"
   ]
  },
  {
   "cell_type": "code",
   "execution_count": 6,
   "id": "4d40f855",
   "metadata": {},
   "outputs": [
    {
     "data": {
      "text/plain": [
       "140371226138928"
      ]
     },
     "execution_count": 6,
     "metadata": {},
     "output_type": "execute_result"
    }
   ],
   "source": [
    "id(listA[0])"
   ]
  },
  {
   "cell_type": "code",
   "execution_count": 7,
   "id": "e5dc86f8",
   "metadata": {},
   "outputs": [
    {
     "data": {
      "text/plain": [
       "140371226138928"
      ]
     },
     "execution_count": 7,
     "metadata": {},
     "output_type": "execute_result"
    }
   ],
   "source": [
    "id(listB[0])"
   ]
  },
  {
   "cell_type": "code",
   "execution_count": 8,
   "id": "a5513cb0",
   "metadata": {},
   "outputs": [
    {
     "name": "stdout",
     "output_type": "stream",
     "text": [
      "[1, 2, 3, 4, 5, 100]\n"
     ]
    }
   ],
   "source": [
    "listB.append(100)\n",
    "print(listB)"
   ]
  },
  {
   "cell_type": "code",
   "execution_count": 9,
   "id": "eed4433d",
   "metadata": {},
   "outputs": [],
   "source": [
    "del listA\n",
    "del listB"
   ]
  },
  {
   "cell_type": "code",
   "execution_count": 10,
   "id": "d5c6e12b",
   "metadata": {},
   "outputs": [
    {
     "name": "stdout",
     "output_type": "stream",
     "text": [
      "[2, 4, 6, 8, 10]\n"
     ]
    }
   ],
   "source": [
    "list1 = [2, 4, 6, 8, 10]\n",
    "list2 = copy.copy(list1)\n",
    "print(list2)"
   ]
  },
  {
   "cell_type": "code",
   "execution_count": 11,
   "id": "82dbd63b",
   "metadata": {},
   "outputs": [
    {
     "name": "stdout",
     "output_type": "stream",
     "text": [
      "140371340846272\n",
      "140371314206528\n"
     ]
    }
   ],
   "source": [
    "print(id(list1))\n",
    "print(id(list2))"
   ]
  },
  {
   "cell_type": "code",
   "execution_count": 12,
   "id": "c106d4d2",
   "metadata": {},
   "outputs": [
    {
     "name": "stdout",
     "output_type": "stream",
     "text": [
      "140371226138960\n",
      "140371226138960\n"
     ]
    }
   ],
   "source": [
    "print(id(list1[0]))\n",
    "print(id(list2[0]))"
   ]
  },
  {
   "cell_type": "code",
   "execution_count": 13,
   "id": "96c89526",
   "metadata": {},
   "outputs": [
    {
     "name": "stdout",
     "output_type": "stream",
     "text": [
      "[2, 4, 6, 8, 10]\n",
      "[2, 4, 6, 8, 10, 100]\n"
     ]
    }
   ],
   "source": [
    "list2.append(100)\n",
    "print(list1)\n",
    "print(list2)"
   ]
  },
  {
   "cell_type": "code",
   "execution_count": 14,
   "id": "0d65a666",
   "metadata": {},
   "outputs": [
    {
     "name": "stdout",
     "output_type": "stream",
     "text": [
      "[2, 4, 6, 8, 10]\n",
      "[99, 4, 6, 8, 10, 100]\n"
     ]
    }
   ],
   "source": [
    "list2[0] = 99\n",
    "print(list1)\n",
    "print(list2)"
   ]
  },
  {
   "cell_type": "code",
   "execution_count": null,
   "id": "2bac3854",
   "metadata": {},
   "outputs": [],
   "source": []
  },
  {
   "cell_type": "code",
   "execution_count": 15,
   "id": "c9827c8e",
   "metadata": {},
   "outputs": [],
   "source": [
    "list1 = [[1,2,3],[4,5,6]]\n",
    "list2 = copy.copy(list1)"
   ]
  },
  {
   "cell_type": "code",
   "execution_count": 16,
   "id": "47a1a965",
   "metadata": {},
   "outputs": [
    {
     "name": "stdout",
     "output_type": "stream",
     "text": [
      "[[1, 100, 3], [4, 5, 6]]\n",
      "[[1, 100, 3], [4, 5, 6]]\n"
     ]
    }
   ],
   "source": [
    "list1[0][1] = 100\n",
    "print(list1)\n",
    "print(list2)"
   ]
  },
  {
   "cell_type": "code",
   "execution_count": 17,
   "id": "b3b3476b",
   "metadata": {},
   "outputs": [
    {
     "name": "stdout",
     "output_type": "stream",
     "text": [
      "140371226330576\n",
      "140371226330576\n"
     ]
    }
   ],
   "source": [
    "print(id(list1[0][1]))\n",
    "print(id(list2[0][1]))"
   ]
  },
  {
   "cell_type": "code",
   "execution_count": null,
   "id": "6a207194",
   "metadata": {},
   "outputs": [],
   "source": []
  },
  {
   "cell_type": "code",
   "execution_count": 18,
   "id": "28266fd0",
   "metadata": {},
   "outputs": [],
   "source": [
    "list1 = [[1, 2, 3], [4, 5, 6]]"
   ]
  },
  {
   "cell_type": "code",
   "execution_count": 19,
   "id": "9b9ff222",
   "metadata": {},
   "outputs": [],
   "source": [
    "list2 = copy.deepcopy(list1)"
   ]
  },
  {
   "cell_type": "code",
   "execution_count": 20,
   "id": "59ccf915",
   "metadata": {},
   "outputs": [
    {
     "name": "stdout",
     "output_type": "stream",
     "text": [
      "140371341174272\n",
      "140371318598592\n"
     ]
    }
   ],
   "source": [
    "print(id(list1))\n",
    "print(id(list2))"
   ]
  },
  {
   "cell_type": "code",
   "execution_count": 22,
   "id": "68d4a17f",
   "metadata": {},
   "outputs": [
    {
     "name": "stdout",
     "output_type": "stream",
     "text": [
      "[1, 2, 3]\n",
      "[1, 2, 3]\n",
      "140371314632640\n",
      "140371313817664\n"
     ]
    }
   ],
   "source": [
    "print(list1[0])\n",
    "print(list2[0])\n",
    "\n",
    "print(id(list1[0]))\n",
    "print(id(list2[0]))"
   ]
  },
  {
   "cell_type": "code",
   "execution_count": 23,
   "id": "dc4dda54",
   "metadata": {},
   "outputs": [
    {
     "name": "stdout",
     "output_type": "stream",
     "text": [
      "140371226138928\n",
      "140371226138928\n"
     ]
    }
   ],
   "source": [
    "print(id(list1[0][0]))\n",
    "print(id(list2[0][0]))"
   ]
  },
  {
   "cell_type": "code",
   "execution_count": null,
   "id": "01cb499c",
   "metadata": {},
   "outputs": [],
   "source": []
  }
 ],
 "metadata": {
  "kernelspec": {
   "display_name": "Python 3 (ipykernel)",
   "language": "python",
   "name": "python3"
  },
  "language_info": {
   "codemirror_mode": {
    "name": "ipython",
    "version": 3
   },
   "file_extension": ".py",
   "mimetype": "text/x-python",
   "name": "python",
   "nbconvert_exporter": "python",
   "pygments_lexer": "ipython3",
   "version": "3.9.7"
  }
 },
 "nbformat": 4,
 "nbformat_minor": 5
}
