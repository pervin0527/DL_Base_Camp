{
 "cells": [
  {
   "cell_type": "markdown",
   "metadata": {},
   "source": [
    "# 전치 행렬\n",
    "transposed matrix. 기존 행렬의 행과 열을 바꾼 행렬.  \n",
    "기존 행렬의 행 번호가 열 번호로, 열 번호가 행 번호로 바뀐 것을 뜻함."
   ]
  },
  {
   "cell_type": "markdown",
   "metadata": {},
   "source": [
    "$U = \\begin{pmatrix}1&5\\\\3&4\\\\6&2\\\\ \\end{pmatrix}$\n",
    "$U^T = \\begin{pmatrix}1&3&6\\\\5&4&2\\\\ \\end{pmatrix}$"
   ]
  },
  {
   "cell_type": "code",
   "execution_count": 3,
   "metadata": {},
   "outputs": [
    {
     "name": "stdout",
     "output_type": "stream",
     "text": [
      "[[1, 3, 6], [5, 4, 2]]\n"
     ]
    }
   ],
   "source": [
    "U = [[1, 5], [3, 4], [6, 2]]\n",
    "\n",
    "result = []\n",
    "for i in range(len(U[0])):\n",
    "    tmp = []\n",
    "    for j in range(len(U)):\n",
    "        tmp.append(U[j][i])\n",
    "    result.append(tmp)\n",
    "\n",
    "print(result)"
   ]
  },
  {
   "cell_type": "markdown",
   "metadata": {},
   "source": [
    "<img src=\"image/matrix_transpose.jpg\" width=640 height=480>"
   ]
  },
  {
   "cell_type": "code",
   "execution_count": 4,
   "metadata": {},
   "outputs": [],
   "source": [
    "A = [[1, 2], [3, 4]]\n",
    "B = [[5, 6, 7], [8, 9, 10]]"
   ]
  },
  {
   "cell_type": "code",
   "execution_count": 12,
   "metadata": {},
   "outputs": [
    {
     "name": "stdout",
     "output_type": "stream",
     "text": [
      "1 5\n",
      "2 8\n",
      "1 6\n",
      "2 9\n",
      "1 7\n",
      "2 10\n",
      "3 5\n",
      "4 8\n",
      "3 6\n",
      "4 9\n",
      "3 7\n",
      "4 10\n"
     ]
    }
   ],
   "source": [
    "for i in range(len(A)):\n",
    "    for j in range(len(B[0])):\n",
    "        for k in range(len(A[0])):\n",
    "            print(A[i][k], B[k][j])"
   ]
  },
  {
   "cell_type": "code",
   "execution_count": 13,
   "metadata": {},
   "outputs": [],
   "source": [
    "A = [[1, 2], [3, 4], [5, 6]]\n",
    "B = [[7, 8, 9], [10, 11, 12]]"
   ]
  },
  {
   "cell_type": "code",
   "execution_count": 19,
   "metadata": {},
   "outputs": [
    {
     "name": "stdout",
     "output_type": "stream",
     "text": [
      "1 7\n",
      "2 10\n",
      "1 8\n",
      "2 11\n",
      "1 9\n",
      "2 12\n",
      "3 7\n",
      "4 10\n",
      "3 8\n",
      "4 11\n",
      "3 9\n",
      "4 12\n",
      "5 7\n",
      "6 10\n",
      "5 8\n",
      "6 11\n",
      "5 9\n",
      "6 12\n"
     ]
    }
   ],
   "source": [
    "for i in range(len(A)):\n",
    "    for j in range(len(B[0])):\n",
    "        for k in range(len(A[0])):\n",
    "            print(A[i][k], B[k][j])"
   ]
  },
  {
   "cell_type": "code",
   "execution_count": null,
   "metadata": {},
   "outputs": [],
   "source": []
  }
 ],
 "metadata": {
  "interpreter": {
   "hash": "ed9700ab81b7297e6986a97a9b8454b96a302622dbd1fe5603b4cfb37e904a7d"
  },
  "kernelspec": {
   "display_name": "Python 3.9.7 ('base')",
   "language": "python",
   "name": "python3"
  },
  "language_info": {
   "codemirror_mode": {
    "name": "ipython",
    "version": 3
   },
   "file_extension": ".py",
   "mimetype": "text/x-python",
   "name": "python",
   "nbconvert_exporter": "python",
   "pygments_lexer": "ipython3",
   "version": "3.9.7"
  },
  "orig_nbformat": 4
 },
 "nbformat": 4,
 "nbformat_minor": 2
}
