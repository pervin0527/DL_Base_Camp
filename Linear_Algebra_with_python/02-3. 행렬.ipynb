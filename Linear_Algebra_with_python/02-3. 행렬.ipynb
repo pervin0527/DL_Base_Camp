{
 "cells": [
  {
   "cell_type": "markdown",
   "id": "7e625dbb",
   "metadata": {},
   "source": [
    "## 행렬\n",
    "\n",
    "행렬은 사각형 형태로 숫자를 나열하는 것을 의미하며, 행(row)와 열(column)로 구성되어 있다.  \n",
    "행은 가로 방향을 의미하고, 열은 세로 방향을 의미한다.  \n",
    "$ A = \\begin{pmatrix}2&7\\\\3&4\\\\6&4\\\\ \\end{pmatrix}$\n"
   ]
  },
  {
   "cell_type": "markdown",
   "id": "2848c29b",
   "metadata": {},
   "source": [
    "행렬 A는 6개의 스칼라를 사각형 형태로 나열한 것이며, 행렬은 벡터의 집합이다.  \n",
    "(행벡터의 집합이라 볼 수도 있고, 열벡터의 집합이라고 볼 수 있다.)\n",
    "\n",
    "<img src=\"image/NOTE1.jpg\" height=224 width=224>\n",
    "\n",
    "| 나이 | 성별 | 몸무게 | 시력 |\n",
    "| --- | --- | --- | --- |\n",
    "| 10 | 0 | 30 | 0.2 |\n",
    "| 20 | 1 | 70 | 1.0 |\n",
    "| 14 | 1 | 45 | 0.7 |\n",
    "| 21 | 0 | 50 | 1.5 |\n",
    "\n",
    "$\\begin{pmatrix}10&0&30&0.2\\\\20&1&70&1.0\\\\14&1&45&0.7\\\\21&0&50&1.5 \\end{pmatrix}$\n",
    "\n",
    "행렬을 구성하는 각 스칼라 값을 행렬의 원소(element)라고 한다."
   ]
  },
  {
   "cell_type": "markdown",
   "id": "93019629",
   "metadata": {},
   "source": [
    "## 행렬 연산"
   ]
  },
  {
   "cell_type": "markdown",
   "id": "8877030d",
   "metadata": {},
   "source": [
    "### 행렬  스칼라 곱"
   ]
  },
  {
   "cell_type": "code",
   "execution_count": 1,
   "id": "358f1074",
   "metadata": {},
   "outputs": [
    {
     "name": "stdout",
     "output_type": "stream",
     "text": [
      "3 2\n"
     ]
    }
   ],
   "source": [
    "A = [[2, 7], [3, 4], [6, 1]]\n",
    "b = 2\n",
    "\n",
    "n = len(A)\n",
    "p = len(A[0])\n",
    "\n",
    "print(n, p)"
   ]
  },
  {
   "cell_type": "code",
   "execution_count": 2,
   "id": "a30cafe9",
   "metadata": {},
   "outputs": [
    {
     "data": {
      "text/plain": [
       "[[4, 14], [6, 8], [12, 2]]"
      ]
     },
     "execution_count": 2,
     "metadata": {},
     "output_type": "execute_result"
    }
   ],
   "source": [
    "result = []\n",
    "\n",
    "for i in range(n):\n",
    "    row = []\n",
    "    for j in range(p):\n",
    "        row.append(b * A[i][j])\n",
    "        \n",
    "    result.append(row)\n",
    "        \n",
    "result"
   ]
  },
  {
   "cell_type": "markdown",
   "id": "791f489e",
   "metadata": {},
   "source": [
    "### 행렬 원소 곱\n",
    "$A \\bigodot B$"
   ]
  },
  {
   "cell_type": "code",
   "execution_count": 3,
   "id": "9d83a4d5",
   "metadata": {},
   "outputs": [],
   "source": [
    "import numpy as np"
   ]
  },
  {
   "cell_type": "code",
   "execution_count": 4,
   "id": "3dfa73cd",
   "metadata": {},
   "outputs": [],
   "source": [
    "a = [[1,5], [6,4], [2,7]]\n",
    "b = [[5,-1], [1, 2], [4, 1]]"
   ]
  },
  {
   "cell_type": "code",
   "execution_count": 5,
   "id": "1cbee803",
   "metadata": {},
   "outputs": [
    {
     "data": {
      "text/plain": [
       "array([[ 5, -5],\n",
       "       [ 6,  8],\n",
       "       [ 8,  7]])"
      ]
     },
     "execution_count": 5,
     "metadata": {},
     "output_type": "execute_result"
    }
   ],
   "source": [
    "np.multiply(a,b) # 행렬 element wise multiplication"
   ]
  },
  {
   "cell_type": "code",
   "execution_count": 6,
   "id": "1693f40b",
   "metadata": {},
   "outputs": [
    {
     "data": {
      "text/plain": [
       "[[5, -5], [6, 8], [8, 7]]"
      ]
     },
     "execution_count": 6,
     "metadata": {},
     "output_type": "execute_result"
    }
   ],
   "source": [
    "A = [[1, 5], [6, 4], [2, 7]]\n",
    "B = [[5, -1], [1, 2], [4, 1]]\n",
    "\n",
    "result = []\n",
    "for i in range(len(A)):\n",
    "    row = []\n",
    "    for j in range(len(A[0])):\n",
    "        row.append(A[i][j] * B[i][j])\n",
    "        \n",
    "    result.append(row)\n",
    "    \n",
    "result"
   ]
  },
  {
   "cell_type": "markdown",
   "id": "1efd138f",
   "metadata": {},
   "source": [
    "## 행렬 곱\n",
    "matrix multiplication은 행렬끼리 서로 곱하는 것을 의미하는데 전제 조건이 만족되어야 가능하다.  \n",
    "행렬 곱이 가능하기 위해서는 곱하는 행렬의 열 크기와 곱해지는 행렬의 행 크기가 일치해야 한다.  \n",
    "\n",
    "<img src=\"image/matrix_multiplication.png\" width=640 height=480>\n",
    "\n",
    "또한 중요한 점은 행렬 곱 연산은 교환 법칙이 성립하지 않는다. $AB \\ne BA$"
   ]
  },
  {
   "cell_type": "code",
   "execution_count": 4,
   "id": "aeb4e1a7",
   "metadata": {},
   "outputs": [
    {
     "name": "stdout",
     "output_type": "stream",
     "text": [
      "3\n",
      "2\n",
      "2\n",
      "3\n"
     ]
    }
   ],
   "source": [
    "a1 = [[2, 7], [3, 4], [5, 2]]\n",
    "a2 = [[3, -3, 5], [-1, 2, -1]]\n",
    "\n",
    "print(len(a1))\n",
    "print(len(a1[0]))\n",
    "print(len(a2))\n",
    "print(len(a2[0]))"
   ]
  },
  {
   "cell_type": "code",
   "execution_count": 32,
   "id": "0ac33ae4",
   "metadata": {},
   "outputs": [
    {
     "name": "stdout",
     "output_type": "stream",
     "text": [
      "-1\n",
      "8\n",
      "3\n",
      "5\n",
      "-1\n",
      "11\n",
      "13\n",
      "-11\n",
      "23\n",
      "[[-1, 8, 3], [5, -1, 11], [13, -11, 23]]\n"
     ]
    }
   ],
   "source": [
    "result = []\n",
    "for i in range(len(a1)):\n",
    "    row = []\n",
    "    for j in range(len(a1)):\n",
    "        tmp = 0\n",
    "        for k in range(len(a1[0])):\n",
    "            # print(a1[i][k], a2[k][j])\n",
    "            tmp += a1[i][k] * a2[k][j]\n",
    "\n",
    "        print(tmp)\n",
    "        row.append(tmp)\n",
    "    result.append(row)\n",
    "\n",
    "print(result)"
   ]
  },
  {
   "cell_type": "code",
   "execution_count": 7,
   "id": "70b84f0f",
   "metadata": {},
   "outputs": [
    {
     "data": {
      "text/plain": [
       "[[-1, 8, 3], [5, -1, 11], [13, -11, 23]]"
      ]
     },
     "execution_count": 7,
     "metadata": {},
     "output_type": "execute_result"
    }
   ],
   "source": [
    "A = [[2, 7], [3, 4], [5, 2]]\n",
    "B = [[3, -3, 5], [-1, 2, -1]]\n",
    "\n",
    "res = []\n",
    "for i in range(len(A)):\n",
    "    row = []\n",
    "    for j in range(len(B[0])):\n",
    "        val = 0\n",
    "        for k in range(len(A[0])):\n",
    "            val += A[i][k] * B[k][j]\n",
    "        row.append(val)\n",
    "        \n",
    "    res.append(row)\n",
    "\n",
    "res"
   ]
  },
  {
   "cell_type": "code",
   "execution_count": 8,
   "id": "e311fb6a",
   "metadata": {},
   "outputs": [
    {
     "data": {
      "text/plain": [
       "array([[ -1,   8,   3],\n",
       "       [  5,  -1,  11],\n",
       "       [ 13, -11,  23]])"
      ]
     },
     "execution_count": 8,
     "metadata": {},
     "output_type": "execute_result"
    }
   ],
   "source": [
    "A = np.array([[2, 7], [3, 4], [5, 2]])\n",
    "B = np.array([[3, -3, 5], [-1, 2, -1]])\n",
    "\n",
    "result = np.dot(A, B)\n",
    "result"
   ]
  },
  {
   "cell_type": "markdown",
   "id": "8c256dd5",
   "metadata": {},
   "source": [
    "### 행렬 대각합\n",
    "\n",
    "행렬 A가 정사각행렬이면, 행렬 A의 대각합(trace)은 주 대각 원소를 모두 더한 값을 의미한다.  \n",
    "주 대각 원소란 행렬의 행 번호와 열 번호가 동일한 원소를 말한다. $a_{11}, a_{22}...$\n",
    "\n",
    "<img src=\"image/matrix-trace-example.png\" width=640 height=480>"
   ]
  },
  {
   "cell_type": "code",
   "execution_count": 10,
   "id": "414accb3",
   "metadata": {},
   "outputs": [
    {
     "data": {
      "text/plain": [
       "11"
      ]
     },
     "execution_count": 10,
     "metadata": {},
     "output_type": "execute_result"
    }
   ],
   "source": [
    "A = np.array([[5, 3, 5], [4, -1, 2], [-3, 8, 7]])\n",
    "\n",
    "result = np.trace(A)\n",
    "result "
   ]
  },
  {
   "cell_type": "markdown",
   "id": "d5c35a3c",
   "metadata": {},
   "source": [
    "## 행렬 연산 성질\n",
    "<img src=\"image/matrix_property.png\" width=640 height=480>"
   ]
  },
  {
   "cell_type": "code",
   "execution_count": null,
   "id": "ba19b846",
   "metadata": {},
   "outputs": [],
   "source": []
  }
 ],
 "metadata": {
  "kernelspec": {
   "display_name": "Python 3 (ipykernel)",
   "language": "python",
   "name": "python3"
  },
  "language_info": {
   "codemirror_mode": {
    "name": "ipython",
    "version": 3
   },
   "file_extension": ".py",
   "mimetype": "text/x-python",
   "name": "python",
   "nbconvert_exporter": "python",
   "pygments_lexer": "ipython3",
   "version": "3.9.7"
  }
 },
 "nbformat": 4,
 "nbformat_minor": 5
}
