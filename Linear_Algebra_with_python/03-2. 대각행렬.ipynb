{
 "cells": [
  {
   "cell_type": "markdown",
   "metadata": {},
   "source": [
    "## 대각 행렬"
   ]
  },
  {
   "cell_type": "markdown",
   "metadata": {},
   "source": [
    "Diagonal Matrix. 행렬의 주 대각 원소가 아닌 원소가 0인 정사각행렬이다.\n",
    "\n",
    "$D = \\begin{pmatrix}2&0&0\\\\0&3&0\\\\0&0&7 \\end{pmatrix}$  \n",
    "<img src=\"./image/diagonal_matrix.png\" width=360 height=360>"
   ]
  },
  {
   "cell_type": "markdown",
   "metadata": {},
   "source": [
    "### 대각 행렬의 역행렬"
   ]
  },
  {
   "cell_type": "markdown",
   "metadata": {},
   "source": [
    "역행렬에 대해서는 아직 배우지 않았지만, 대각 행렬의 역행렬은 주 대각 원소의 역수를 구함으로써 간단히 구할 수 있다.  \n",
    "$D = \\begin{pmatrix}2&0&0\\\\0&3&0\\\\0&0&7 \\end{pmatrix}$  \n",
    "\n",
    "$D^{-1} = \\begin{pmatrix}1/2&0&0\\\\0&1/3&0\\\\0&0&1/7 \\end{pmatrix}$\n"
   ]
  },
  {
   "cell_type": "code",
   "execution_count": 2,
   "metadata": {},
   "outputs": [],
   "source": [
    "D = [[2, 0, 0], [0, 3, 0], [0, 0, 7]]\n",
    "D_inverse = [[1/2, 0, 0], [0, 1/3, 0], [0, 0, 1/7]]"
   ]
  },
  {
   "cell_type": "code",
   "execution_count": 3,
   "metadata": {},
   "outputs": [
    {
     "name": "stdout",
     "output_type": "stream",
     "text": [
      "[[1.0, 0.0, 0.0], [0.0, 1.0, 0.0], [0.0, 0.0, 1.0]]\n"
     ]
    }
   ],
   "source": [
    "result = []\n",
    "for i in range(len(D)):\n",
    "    row = []\n",
    "    for j in range(len(D_inverse[0])):\n",
    "        value = 0\n",
    "        for k in range(len(D[0])):\n",
    "            value += D[i][k] * D_inverse[j][k]\n",
    "        row.append(value)\n",
    "\n",
    "    result.append(row)\n",
    "\n",
    "print(result)"
   ]
  },
  {
   "cell_type": "markdown",
   "metadata": {},
   "source": [
    "### 대각 행렬의 거듭 제곱"
   ]
  },
  {
   "cell_type": "markdown",
   "metadata": {},
   "source": [
    "$D = \\begin{pmatrix}2&0&0\\\\0&3&0\\\\0&0&7 \\end{pmatrix}$  \n",
    "\n",
    "$D^k = \\begin{pmatrix}2^k&0&0\\\\0&3^k&0\\\\0&0&7^k \\end{pmatrix}$  "
   ]
  },
  {
   "cell_type": "markdown",
   "metadata": {},
   "source": [
    "### 대각 행렬의 성질"
   ]
  },
  {
   "cell_type": "markdown",
   "metadata": {},
   "source": [
    "$A = \\begin{pmatrix}a_{11}&a_{12}&a_{13}\\\\ a_{21}&a_{22}&a_{23}\\\\ a_{31}&a_{32}&a_{33} \\end{pmatrix}$\n",
    "\n",
    "$D = \\begin{pmatrix}d_{11}&0&0\\\\ 0&d_{22}&0 \\\\ 0&0&d_{33} \\end{pmatrix}$\n"
   ]
  },
  {
   "cell_type": "markdown",
   "metadata": {},
   "source": [
    "어떤 행렬에 대각 행렬을 곱할 때, \n",
    "- 대각 행렬을 오른쪽에 곱하는 경우 기존 행렬의 열 값이 대각 원소의 배수가 된다.\n",
    "- 대각 행렬을 왼쪽에 곱하는 경우 기존 행렬의 행 값이 대각 원소의 배수가 되는 것을 확인할 수 있다."
   ]
  },
  {
   "cell_type": "code",
   "execution_count": 6,
   "metadata": {},
   "outputs": [],
   "source": [
    "A = [[1, 2, 3], [4, 5, 6], [7, 8, 9]]\n",
    "D = [[2, 0, 0], [0, 1, 0], [0, 0, 1]]"
   ]
  },
  {
   "cell_type": "code",
   "execution_count": 8,
   "metadata": {},
   "outputs": [],
   "source": [
    "def matrix_multiplication(A, B):\n",
    "    result = []\n",
    "    for i in range(len(A)):\n",
    "        row = []\n",
    "        for j in range(len(A[0])):\n",
    "            value = 0\n",
    "            for k in range(len(B[0])):\n",
    "                value += (A[i][k] * B[k][j])\n",
    "            row.append(value)\n",
    "        result.append(row)\n",
    "\n",
    "    return result"
   ]
  },
  {
   "cell_type": "markdown",
   "metadata": {},
   "source": [
    "오른쪽에 D를 놓고 곱했더니 A의 첫번째 열이 D의 첫번째 원소만큼 값이 배가 되었다."
   ]
  },
  {
   "cell_type": "code",
   "execution_count": 9,
   "metadata": {},
   "outputs": [
    {
     "data": {
      "text/plain": [
       "[[2, 2, 3], [8, 5, 6], [14, 8, 9]]"
      ]
     },
     "execution_count": 9,
     "metadata": {},
     "output_type": "execute_result"
    }
   ],
   "source": [
    "right_mul = matrix_multiplication(A, D)\n",
    "right_mul"
   ]
  },
  {
   "cell_type": "markdown",
   "metadata": {},
   "source": [
    "왼쪽에서 곱하니 첫번째 행이 D의 첫번째 원소만큼 배가 되었음."
   ]
  },
  {
   "cell_type": "code",
   "execution_count": 10,
   "metadata": {},
   "outputs": [
    {
     "data": {
      "text/plain": [
       "[[2, 4, 6], [4, 5, 6], [7, 8, 9]]"
      ]
     },
     "execution_count": 10,
     "metadata": {},
     "output_type": "execute_result"
    }
   ],
   "source": [
    "left_mul = matrix_multiplication(D, A)\n",
    "left_mul"
   ]
  },
  {
   "cell_type": "code",
   "execution_count": 12,
   "metadata": {},
   "outputs": [],
   "source": [
    "D2 = [[1, 0, 0], [0, 3, 0], [0, 0, 1]]"
   ]
  },
  {
   "cell_type": "code",
   "execution_count": 13,
   "metadata": {},
   "outputs": [
    {
     "name": "stdout",
     "output_type": "stream",
     "text": [
      "[[1, 6, 3], [4, 15, 6], [7, 24, 9]]\n",
      "[[1, 2, 3], [12, 15, 18], [7, 8, 9]]\n"
     ]
    }
   ],
   "source": [
    "print(matrix_multiplication(A, D2))\n",
    "print(matrix_multiplication(D2, A))"
   ]
  },
  {
   "cell_type": "code",
   "execution_count": null,
   "metadata": {},
   "outputs": [],
   "source": []
  }
 ],
 "metadata": {
  "interpreter": {
   "hash": "ed9700ab81b7297e6986a97a9b8454b96a302622dbd1fe5603b4cfb37e904a7d"
  },
  "kernelspec": {
   "display_name": "Python 3.9.7 ('base')",
   "language": "python",
   "name": "python3"
  },
  "language_info": {
   "codemirror_mode": {
    "name": "ipython",
    "version": 3
   },
   "file_extension": ".py",
   "mimetype": "text/x-python",
   "name": "python",
   "nbconvert_exporter": "python",
   "pygments_lexer": "ipython3",
   "version": "3.9.7"
  },
  "orig_nbformat": 4
 },
 "nbformat": 4,
 "nbformat_minor": 2
}
