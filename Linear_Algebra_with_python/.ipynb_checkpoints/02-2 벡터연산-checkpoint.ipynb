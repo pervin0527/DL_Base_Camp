{
 "cells": [
  {
   "cell_type": "markdown",
   "id": "032e3875",
   "metadata": {},
   "source": [
    "## 벡터 덧셈\n",
    "\n",
    "$a=\\begin{pmatrix}1\\\\2\\\\3 \\end{pmatrix}$\n",
    "$b=\\begin{pmatrix}4\\\\5\\\\6 \\end{pmatrix}$\n",
    "\n",
    "$a+b=\\begin{pmatrix}1\\\\2\\\\3 \\end{pmatrix} +  \\begin{pmatrix}4\\\\5\\\\6 \\end{pmatrix} \\\\ =\\begin{pmatrix}1+4\\\\2+5\\\\3+6\\end{pmatrix} \\\\ = \\begin{pmatrix}5\\\\7\\\\9 \\end{pmatrix}$"
   ]
  },
  {
   "cell_type": "markdown",
   "id": "700b8abe",
   "metadata": {},
   "source": [
    "벡터의 덧셈은 더하고자 하는 두 벡터의 크기가 동일할 때만 연산이 가능하다.  \n",
    "이를테면 3차원 공간상의 벡터와 4차원 공간상의 벡터 간에는 덧셈이 불가능하다.  \n",
    "또한 벡터의 덧셈은 **교환 법칙이 성립한다.**  \n",
    "$ a + b = b + a$"
   ]
  },
  {
   "cell_type": "markdown",
   "id": "83865286",
   "metadata": {},
   "source": [
    "<img src=\"image/vector_additive.png\" width=448 height=448>"
   ]
  },
  {
   "cell_type": "markdown",
   "id": "e9290ab0",
   "metadata": {},
   "source": [
    "- 벡터 a의 종료 지점과 더하는 벡터 b의 시작 지점을 맞추는 방법.  \n",
    "- 더하고자 하는 두 벡터를 이용하면 평행사변형이 만들어진다. 벡터의 덧셈 결과는 벡터의 시작 지점으로부터 평행사변형의 대각선을 구성하는 벡터이다."
   ]
  },
  {
   "cell_type": "code",
   "execution_count": 9,
   "id": "66b26cc8",
   "metadata": {},
   "outputs": [
    {
     "name": "stdout",
     "output_type": "stream",
     "text": [
      "[5, 7, 9]\n"
     ]
    }
   ],
   "source": [
    "u = [1, 2, 3]\n",
    "v = [4, 5, 6]\n",
    "\n",
    "result = []\n",
    "for index in range(len(u)):\n",
    "    result.append(u[index] + v[index])\n",
    "    \n",
    "print(result)"
   ]
  },
  {
   "cell_type": "code",
   "execution_count": 10,
   "id": "cb062e6f",
   "metadata": {},
   "outputs": [],
   "source": [
    "def v_add(u, v):\n",
    "    result = []\n",
    "    for s1, s2 in zip(u, v):\n",
    "        result.append((s1+s2))\n",
    "        \n",
    "    return result"
   ]
  },
  {
   "cell_type": "code",
   "execution_count": 11,
   "id": "d9dd462b",
   "metadata": {},
   "outputs": [
    {
     "name": "stdout",
     "output_type": "stream",
     "text": [
      "[4, 6, 8]\n"
     ]
    }
   ],
   "source": [
    "v1 = [3, 5, 7]\n",
    "v2 = [1, 1, 1]\n",
    "\n",
    "res = v_add(v1, v2)\n",
    "print(res)"
   ]
  },
  {
   "cell_type": "markdown",
   "id": "63cf84bd",
   "metadata": {},
   "source": [
    "## 벡터 뺄셈\n",
    "\n",
    "$a=\\begin{pmatrix}7\\\\3\\\\9 \\end{pmatrix}$\n",
    "$b=\\begin{pmatrix}2\\\\5\\\\7 \\end{pmatrix}$\n",
    "\n",
    "$a+b=\\begin{pmatrix}7\\\\3\\\\9 \\end{pmatrix} -  \\begin{pmatrix}2\\\\5\\\\7 \\end{pmatrix} \\\\ =\\begin{pmatrix}7-2\\\\3-5\\\\9-7\\end{pmatrix} \\\\ = \\begin{pmatrix}5\\\\-2\\\\2 \\end{pmatrix}$"
   ]
  },
  {
   "cell_type": "markdown",
   "id": "28247ec1",
   "metadata": {},
   "source": [
    "덧셈과 마찬가지로 연산하고자 하는 두 벡터를 구성하는 스칼라의 개수가 동일할 때만 연산이 가능하다.  \n",
    "$a-b = a+(-b)$\n",
    "\n",
    "벡터의 뺄셈은 벡터 덧셈으로부터 유도할 수 있고, 벡터 b의 역방향인 -b를 더함."
   ]
  },
  {
   "cell_type": "markdown",
   "id": "fc7281fd",
   "metadata": {},
   "source": [
    "<img src=\"image/vector_subtract.png\" width=320 height=320>"
   ]
  },
  {
   "cell_type": "code",
   "execution_count": 14,
   "id": "78234d3d",
   "metadata": {},
   "outputs": [
    {
     "name": "stdout",
     "output_type": "stream",
     "text": [
      "[5, -2, 2]\n"
     ]
    }
   ],
   "source": [
    "u = [7, 3, 9]\n",
    "v = [2, 5, 7]\n",
    "\n",
    "result = []\n",
    "for idx in range(len(u)):\n",
    "    result.append(u[idx] - v[idx])\n",
    "    \n",
    "print(result)"
   ]
  },
  {
   "cell_type": "markdown",
   "id": "14f88e28",
   "metadata": {},
   "source": [
    "## 벡터 스칼라 곱\n",
    "\n",
    "scalar multiplication. 벡터의 스칼라 곱을 이용하면 벡터의 길이와 방향을 바꿀 수 있다."
   ]
  },
  {
   "cell_type": "code",
   "execution_count": 15,
   "id": "4cf87020",
   "metadata": {},
   "outputs": [
    {
     "name": "stdout",
     "output_type": "stream",
     "text": [
      "[6, 12, 9]\n"
     ]
    }
   ],
   "source": [
    "u = [2, 4, 3]\n",
    "a = 3\n",
    "\n",
    "result = []\n",
    "for i in u:\n",
    "    result.append(i * a)\n",
    "    \n",
    "print(result)"
   ]
  },
  {
   "cell_type": "code",
   "execution_count": 1,
   "id": "7c725ccb",
   "metadata": {},
   "outputs": [],
   "source": [
    "import math\n",
    "import numpy as np\n",
    "import matplotlib.pyplot as plt"
   ]
  },
  {
   "cell_type": "code",
   "execution_count": 3,
   "id": "36da7bd4",
   "metadata": {},
   "outputs": [
    {
     "name": "stdout",
     "output_type": "stream",
     "text": [
      "[2 3]\n",
      "[4 6]\n",
      "[ -8 -12]\n"
     ]
    }
   ],
   "source": [
    "a = np.array([2, 3])\n",
    "b = 2 * a\n",
    "c = -4 * a\n",
    "\n",
    "print(a)\n",
    "print(b)\n",
    "print(c)"
   ]
  },
  {
   "cell_type": "code",
   "execution_count": 7,
   "id": "af706824",
   "metadata": {},
   "outputs": [
    {
     "data": {
      "image/png": "[encoded data removed]",
      "text/plain": [
       "<Figure size 720x720 with 1 Axes>"
      ]
     },
     "metadata": {
      "needs_background": "light"
     },
     "output_type": "display_data"
    }
   ],
   "source": [
    "plt.figure(figsize=(10,10))\n",
    "plt.xlim(0, 10)          \n",
    "plt.ylim(0, 10)\n",
    "plt.xticks(ticks=np.arange(-16, 16, step=1))\n",
    "plt.yticks(ticks=np.arange(-16, 16, step=1))\n",
    "\n",
    "plt.arrow(0, 0, a[0], a[1], head_width = .8, head_length = .8, color = 'red')\n",
    "plt.arrow(0, 0, b[0], b[1], head_width = .5, head_length = .5, color = 'blue')\n",
    "plt.arrow(0, 0, c[0], c[1], head_width = .5, head_length = .5, color = 'green')\n",
    "\n",
    "\n",
    "plt.axhline(0, color='gray', alpha = 0.3)\n",
    "plt.axvline(0, color='gray', alpha = 0.3)\n",
    "plt.title(\"Vector\")\n",
    "plt.grid()\n",
    "plt.show()"
   ]
  },
  {
   "cell_type": "markdown",
   "id": "470e4a56",
   "metadata": {},
   "source": [
    "## 벡터 기본 연산 성질\n",
    "\n",
    "[reference](https://analysisbugs.tistory.com/135)\n",
    "<img src=\"image/vector_opt_property.png\" width=640 height=640>"
   ]
  },
  {
   "cell_type": "markdown",
   "id": "af54046d",
   "metadata": {},
   "source": [
    "1. 벡터 간 덧셈에는 교환법칙이 성립한다.\n",
    "2. 결합 법칙이 성립\n",
    "3. 벡터에 영벡터를 더하면 기존 벡터와 동일하다. 벡터의 항등원이 존재한다.\n",
    "4. 벡터 x에 음수인 -x를 더하면 영벡터이다. 즉, 벡터의 역원이 존재한다.\n",
    "5. 벡터에 1을 곱한 결과는 벡터 자기 자신이다.\n",
    "6. 벡터 x에 스칼라 b를 곱하고 a를 곱하는 것과 ab의 곱에 벡터 x를 곱한 결과는 같다.\n",
    "7. 두 벡터 x와 y를 더하고 스칼라 a를 곱한 것과, 각각의 벡터에 a를 곱하고 더한 것과 결과는 같다.\n",
    "8. 두 스칼라를 더하고 벡터에 곱하는 것과 두 스칼라 각각이 벡터와 곱해진 뒤 더한 것과 결과는 같다."
   ]
  },
  {
   "cell_type": "markdown",
   "id": "e9b4dbf2",
   "metadata": {},
   "source": [
    "## 벡터 원소 곱, 나눗셈\n",
    "\n",
    "두 벡터의 원소 곱. 동일한 위치의 원소를 곱하는 연산을 의미한다."
   ]
  },
  {
   "cell_type": "code",
   "execution_count": 16,
   "id": "f5f5f94e",
   "metadata": {},
   "outputs": [
    {
     "name": "stdout",
     "output_type": "stream",
     "text": [
      "[7, 6, 12]\n"
     ]
    }
   ],
   "source": [
    "u = [1, 2, 4]\n",
    "v = [7, 3, 3]\n",
    "\n",
    "result = []\n",
    "for value1, value2 in zip(u, v):\n",
    "    result.append(value1 * value2)\n",
    "    \n",
    "print(result)"
   ]
  },
  {
   "cell_type": "code",
   "execution_count": 17,
   "id": "6d092b84",
   "metadata": {},
   "outputs": [
    {
     "name": "stdout",
     "output_type": "stream",
     "text": [
      "[0.14285714285714285, 0.6666666666666666, 1.3333333333333333]\n"
     ]
    }
   ],
   "source": [
    "result = []\n",
    "for value1, value2 in zip(u, v):\n",
    "    result.append(value1 / value2)\n",
    "    \n",
    "print(result)"
   ]
  },
  {
   "cell_type": "markdown",
   "id": "840a4c7e",
   "metadata": {},
   "source": [
    "## Numpy"
   ]
  },
  {
   "cell_type": "code",
   "execution_count": 18,
   "id": "045bf151",
   "metadata": {},
   "outputs": [],
   "source": [
    "u = np.array([7, 3, 9])\n",
    "v = np.array([2, 5, 7])"
   ]
  },
  {
   "cell_type": "code",
   "execution_count": 19,
   "id": "095bfa5f",
   "metadata": {},
   "outputs": [
    {
     "name": "stdout",
     "output_type": "stream",
     "text": [
      "[ 9  8 16]\n",
      "[ 5 -2  2]\n",
      "[14 15 63]\n",
      "[3.5        0.6        1.28571429]\n"
     ]
    }
   ],
   "source": [
    "add = u + v\n",
    "sub = u - v\n",
    "mul = u * v\n",
    "div = u / v\n",
    "\n",
    "print(add)\n",
    "print(sub)\n",
    "print(mul)\n",
    "print(div)"
   ]
  },
  {
   "cell_type": "code",
   "execution_count": null,
   "id": "37b30c1f",
   "metadata": {},
   "outputs": [],
   "source": []
  }
 ],
 "metadata": {
  "kernelspec": {
   "display_name": "Python 3 (ipykernel)",
   "language": "python",
   "name": "python3"
  },
  "language_info": {
   "codemirror_mode": {
    "name": "ipython",
    "version": 3
   },
   "file_extension": ".py",
   "mimetype": "text/x-python",
   "name": "python",
   "nbconvert_exporter": "python",
   "pygments_lexer": "ipython3",
   "version": "3.9.7"
  }
 },
 "nbformat": 4,
 "nbformat_minor": 5
}
