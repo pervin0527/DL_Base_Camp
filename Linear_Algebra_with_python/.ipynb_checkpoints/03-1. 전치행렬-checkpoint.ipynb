{
 "cells": [
  {
   "cell_type": "markdown",
   "metadata": {},
   "source": [
    "# 전치 행렬\n",
    "transposed matrix. 기존 행렬의 행과 열을 바꾼 행렬.  \n",
    "기존 행렬의 행 번호가 열 번호로, 열 번호가 행 번호로 바뀐 것을 뜻함."
   ]
  },
  {
   "cell_type": "markdown",
   "metadata": {},
   "source": [
    "$U = \\begin{pmatrix}1&5\\\\3&4\\\\6&2\\\\ \\end{pmatrix}$\n",
    "$U^T = \\begin{pmatrix}1&3&6\\\\5&4&2\\\\ \\end{pmatrix}$"
   ]
  },
  {
   "cell_type": "code",
   "execution_count": 1,
   "metadata": {},
   "outputs": [
    {
     "name": "stdout",
     "output_type": "stream",
     "text": [
      "[[1, 3, 6], [5, 4, 2]]\n"
     ]
    }
   ],
   "source": [
    "U = [[1, 5], [3, 4], [6, 2]]\n",
    "\n",
    "result = []\n",
    "for i in range(len(U[0])):\n",
    "    tmp = []\n",
    "    for j in range(len(U)):\n",
    "        tmp.append(U[j][i])\n",
    "    result.append(tmp)\n",
    "\n",
    "print(result)"
   ]
  },
  {
   "cell_type": "markdown",
   "metadata": {},
   "source": [
    "<img src=\"image/matrix_transpose.jpg\" width=640 height=480>"
   ]
  },
  {
   "cell_type": "markdown",
   "metadata": {},
   "source": [
    "## 대칭 행렬\n",
    "symmetric matrix. 기존 행렬과 전치 행렬이 동일한 정사각행렬을 의미한다."
   ]
  },
  {
   "cell_type": "markdown",
   "metadata": {},
   "source": [
    "$A = \\begin{pmatrix}1&2&3\\\\4&5&6\\\\7&8&9\\\\ \\end{pmatrix}$  \n",
    "\n",
    "$A=A^T$  \n",
    "$A_{ij} = A_{ji}$"
   ]
  },
  {
   "cell_type": "markdown",
   "metadata": {},
   "source": [
    "대칭 행렬은 위와 같이 기존 행렬 A의 전치 행렬 $A^T$를 구해도 기존 행렬과 동일한 것을 의미한다.  \n",
    "다시 말해 행 번호와 열 번호를 바꾸어도 값이 동일한 행렬을 의미한다."
   ]
  },
  {
   "cell_type": "markdown",
   "metadata": {},
   "source": [
    "### 대칭 행렬 성질\n",
    "대칭 행렬 두 개각 존재할 때 대칭 행렬 간 덧셈이나 뺄셈의 결과 또한 대칭 행렬이다."
   ]
  },
  {
   "cell_type": "code",
   "execution_count": 2,
   "metadata": {},
   "outputs": [],
   "source": [
    "A = [[5, 2], [2, 1]]\n",
    "B = [[3, 1], [1, 4]]"
   ]
  },
  {
   "cell_type": "code",
   "execution_count": 3,
   "metadata": {},
   "outputs": [
    {
     "data": {
      "text/plain": [
       "[[8, 3], [3, 5]]"
      ]
     },
     "execution_count": 3,
     "metadata": {},
     "output_type": "execute_result"
    }
   ],
   "source": [
    "result = []\n",
    "\n",
    "for i in range(len(A)):\n",
    "    tmp = []\n",
    "    for j in range(len(B)):\n",
    "        tmp.append(A[i][j] + B[i][j])\n",
    "        \n",
    "    result.append(tmp)\n",
    "        \n",
    "result"
   ]
  },
  {
   "cell_type": "code",
   "execution_count": 4,
   "metadata": {},
   "outputs": [
    {
     "data": {
      "text/plain": [
       "[[2, 1], [1, -3]]"
      ]
     },
     "execution_count": 4,
     "metadata": {},
     "output_type": "execute_result"
    }
   ],
   "source": [
    "result = []\n",
    "\n",
    "for i in range(len(A)):\n",
    "    tmp = []\n",
    "    for j in range(len(B)):\n",
    "        tmp.append(A[i][j] - B[i][j])\n",
    "        \n",
    "    result.append(tmp)\n",
    "        \n",
    "result"
   ]
  },
  {
   "cell_type": "markdown",
   "metadata": {},
   "source": [
    "단, 대칭 행렬간 곱셈에 대한 결과는 반드시 대칭이지 않음에 유의할 것."
   ]
  },
  {
   "cell_type": "code",
   "execution_count": 5,
   "metadata": {},
   "outputs": [
    {
     "data": {
      "text/plain": [
       "[[17, 13], [7, 6]]"
      ]
     },
     "execution_count": 5,
     "metadata": {},
     "output_type": "execute_result"
    }
   ],
   "source": [
    "result = []\n",
    "for i in range(len(A)):\n",
    "    tmp_row = []\n",
    "    for j in range(len(B[0])):\n",
    "        value = 0\n",
    "        for k in range(len(A[0])):\n",
    "            value += (A[i][k] * B[k][j])\n",
    "        tmp_row.append(value)\n",
    "        \n",
    "    result.append(tmp_row)\n",
    "    \n",
    "result"
   ]
  },
  {
   "cell_type": "code",
   "execution_count": 7,
   "metadata": {},
   "outputs": [],
   "source": [
    "def matrix_multiplication(A, B):\n",
    "    result = []\n",
    "    for i in range(len(A)):\n",
    "        row = []\n",
    "        for j in range(len(B[0])):\n",
    "            value = 0\n",
    "            for k in range(len(A[0])):\n",
    "                value += (A[i][k] * B[k][j])\n",
    "            row.append(value)\n",
    "        result.append(row)\n",
    "    \n",
    "    return result"
   ]
  },
  {
   "cell_type": "code",
   "execution_count": 16,
   "metadata": {},
   "outputs": [],
   "source": [
    "def transpose(A):\n",
    "    result = []\n",
    "    for i in range(len(A)):\n",
    "        tmp = []\n",
    "        for j in range(len(A[0])):\n",
    "            tmp.append(A[j][i])\n",
    "        \n",
    "        result.append(tmp)\n",
    "            \n",
    "    return result"
   ]
  },
  {
   "cell_type": "markdown",
   "metadata": {},
   "source": [
    "또한 대칭 행렬이 아닌 행렬 A와 그 전치 행렬 $A^T$를 곱하면 그 결과는 대칭 행렬이 된다."
   ]
  },
  {
   "cell_type": "code",
   "execution_count": 17,
   "metadata": {},
   "outputs": [],
   "source": [
    "A = [[1, 3], [2, 4]]\n",
    "A_transpose = transpose(A)"
   ]
  },
  {
   "cell_type": "code",
   "execution_count": 18,
   "metadata": {
    "scrolled": true
   },
   "outputs": [
    {
     "name": "stdout",
     "output_type": "stream",
     "text": [
      "[[1, 2], [3, 4]]\n"
     ]
    }
   ],
   "source": [
    "print(A_transpose)"
   ]
  },
  {
   "cell_type": "code",
   "execution_count": 19,
   "metadata": {},
   "outputs": [
    {
     "data": {
      "text/plain": [
       "[[10, 14], [14, 20]]"
      ]
     },
     "execution_count": 19,
     "metadata": {},
     "output_type": "execute_result"
    }
   ],
   "source": [
    "matrix_multiplication(A, A_transpose)"
   ]
  },
  {
   "cell_type": "markdown",
   "metadata": {},
   "source": [
    "즉, 어떤 행렬 A가 존재할 때, 자기 자신의 전치 행렬 $A^T$를 곱한 결과는 대칭 행렬이 된다."
   ]
  },
  {
   "cell_type": "markdown",
   "metadata": {},
   "source": [
    "### 대칭 행렬의 거듭 제곱\n",
    "대칭 행렬의 또 다른 성질은 행렬 A가 대칭 행렬일 때 대칭 행렬 A의 거듭 제곱 형태인 $A^n$ 또한 대칭 행렬이다."
   ]
  },
  {
   "cell_type": "code",
   "execution_count": 6,
   "metadata": {},
   "outputs": [],
   "source": [
    "A = [[2, 4, 6], [8, 10, 12]]\n",
    "B = [[3, 6], [9, 12], [15, 18]]"
   ]
  },
  {
   "cell_type": "code",
   "execution_count": 8,
   "metadata": {},
   "outputs": [],
   "source": [
    "test = matrix_multiplication(A, B)"
   ]
  },
  {
   "cell_type": "code",
   "execution_count": 9,
   "metadata": {
    "scrolled": true
   },
   "outputs": [
    {
     "name": "stdout",
     "output_type": "stream",
     "text": [
      "[[13, 8], [8, 5]]\n"
     ]
    }
   ],
   "source": [
    "A = [[3, 2], [2, 1]]\n",
    "AA = matrix_multiplication(A, A)\n",
    "\n",
    "print(AA)"
   ]
  },
  {
   "cell_type": "code",
   "execution_count": 10,
   "metadata": {},
   "outputs": [],
   "source": [
    "import copy"
   ]
  },
  {
   "cell_type": "code",
   "execution_count": 11,
   "metadata": {
    "scrolled": true
   },
   "outputs": [
    {
     "name": "stdout",
     "output_type": "stream",
     "text": [
      "[[3, 2], [2, 1]]\n"
     ]
    }
   ],
   "source": [
    "AAA = copy.deepcopy(A)\n",
    "print(AAA)"
   ]
  },
  {
   "cell_type": "code",
   "execution_count": 12,
   "metadata": {},
   "outputs": [
    {
     "name": "stdout",
     "output_type": "stream",
     "text": [
      "2 제곱의 결과 : [[13, 8], [8, 5]]\n",
      "3 제곱의 결과 : [[55, 34], [34, 21]]\n"
     ]
    }
   ],
   "source": [
    "for i in range(2):\n",
    "    AAA = matrix_multiplication(AAA, A)\n",
    "    print(f\"{i+2} 제곱의 결과 : {AAA}\")"
   ]
  },
  {
   "cell_type": "markdown",
   "metadata": {},
   "source": [
    "위 결과에서 확인할 수 있 듯, 대칭행렬 A의 제곱도 대칭행렬임을 볼 수 있다.  \n",
    "\n",
    "선형대수를 공부하다 보면 $A^TA$ 또는 $AA^T$와 같은 형태를 자주 보게 되는데, 대칭 행렬은 전치해도 결국 본래의 행렬 그대로이므로  \n",
    "행렬 곱셈의 결과도 결국 대칭행렬이다."
   ]
  },
  {
   "cell_type": "code",
   "execution_count": null,
   "metadata": {},
   "outputs": [],
   "source": []
  }
 ],
 "metadata": {
  "interpreter": {
   "hash": "ed9700ab81b7297e6986a97a9b8454b96a302622dbd1fe5603b4cfb37e904a7d"
  },
  "kernelspec": {
   "display_name": "Python 3 (ipykernel)",
   "language": "python",
   "name": "python3"
  },
  "language_info": {
   "codemirror_mode": {
    "name": "ipython",
    "version": 3
   },
   "file_extension": ".py",
   "mimetype": "text/x-python",
   "name": "python",
   "nbconvert_exporter": "python",
   "pygments_lexer": "ipython3",
   "version": "3.9.7"
  }
 },
 "nbformat": 4,
 "nbformat_minor": 2
}
