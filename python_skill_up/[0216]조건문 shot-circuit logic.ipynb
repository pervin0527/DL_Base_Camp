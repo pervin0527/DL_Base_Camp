{
 "cells": [
  {
   "cell_type": "markdown",
   "id": "32af7133",
   "metadata": {},
   "source": [
    "[0214]연산자들 노트의 boolean 연산자에서 다루었던 내용이나, 조건문과도 연계되기에 한 번 더 설명.\n",
    "\n",
    "### 단락 논리 규칙 - short circuit logic  \n",
    "조건문에서 식이 남아 있더라도, 앞에 식에 의해 값이 결정되면 남아 있는 식은 연산 자체를 하지 않음."
   ]
  },
  {
   "cell_type": "code",
   "execution_count": 1,
   "id": "03efc887",
   "metadata": {},
   "outputs": [],
   "source": [
    "a = 10\n",
    "b = 9\n",
    "c = 8"
   ]
  },
  {
   "cell_type": "code",
   "execution_count": 2,
   "id": "a2cbb2ad",
   "metadata": {},
   "outputs": [
    {
     "name": "stdout",
     "output_type": "stream",
     "text": [
      "True\n"
     ]
    }
   ],
   "source": [
    "if a > 9 or b > 11:\n",
    "    print(True)"
   ]
  },
  {
   "cell_type": "markdown",
   "id": "8be558fd",
   "metadata": {},
   "source": [
    "위 식에서 조건문에 적용된 식이 2개이다. 앞쪽에 배치된 a > 9 의 식이 True이고, 논리 연산자는 OR이므로\n",
    "이미 True로 값이 정해져버렸고, 뒤쪽에 배치된 식은 연산을 생략한다."
   ]
  },
  {
   "cell_type": "code",
   "execution_count": 3,
   "id": "51de2ad4",
   "metadata": {},
   "outputs": [],
   "source": [
    "import os"
   ]
  },
  {
   "cell_type": "code",
   "execution_count": 4,
   "id": "aa0863cd",
   "metadata": {},
   "outputs": [
    {
     "data": {
      "text/plain": [
       "True"
      ]
     },
     "execution_count": 4,
     "metadata": {},
     "output_type": "execute_result"
    }
   ],
   "source": [
    "os.path.isdir(\"/Users/jun/DL_Base_Camp\")"
   ]
  },
  {
   "cell_type": "code",
   "execution_count": 5,
   "id": "7bfcd19e",
   "metadata": {},
   "outputs": [
    {
     "data": {
      "text/plain": [
       "False"
      ]
     },
     "execution_count": 5,
     "metadata": {},
     "output_type": "execute_result"
    }
   ],
   "source": [
    "os.path.isfile(\"./test.jpg\") # 파일 없음, False"
   ]
  },
  {
   "cell_type": "code",
   "execution_count": 6,
   "id": "04777135",
   "metadata": {},
   "outputs": [
    {
     "name": "stdout",
     "output_type": "stream",
     "text": [
      "파일 없음\n"
     ]
    }
   ],
   "source": [
    "if not os.path.isdir(\"./test.jpg\"):\n",
    "    print(\"파일 없음\")"
   ]
  }
 ],
 "metadata": {
  "kernelspec": {
   "display_name": "Python 3 (ipykernel)",
   "language": "python",
   "name": "python3"
  },
  "language_info": {
   "codemirror_mode": {
    "name": "ipython",
    "version": 3
   },
   "file_extension": ".py",
   "mimetype": "text/x-python",
   "name": "python",
   "nbconvert_exporter": "python",
   "pygments_lexer": "ipython3",
   "version": "3.9.7"
  }
 },
 "nbformat": 4,
 "nbformat_minor": 5
}
