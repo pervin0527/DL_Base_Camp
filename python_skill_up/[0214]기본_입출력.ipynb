{
 "cells": [
  {
   "cell_type": "markdown",
   "metadata": {
    "id": "REHw4YDbTdpw"
   },
   "source": [
    "## 기본 입력, 출력\n",
    "\n",
    "사용자에게 값을 입력받는 방법 : input() 함수를 사용. 반환값 타입은 ***문자열***"
   ]
  },
  {
   "cell_type": "code",
   "execution_count": null,
   "metadata": {
    "colab": {
     "base_uri": "https://localhost:8080/"
    },
    "id": "C3VBthiUTUpr",
    "outputId": "4cf4f43b-2e6e-450c-ea93-ddb25c1618b7"
   },
   "outputs": [
    {
     "name": "stdout",
     "output_type": "stream",
     "text": [
      "22222\n"
     ]
    },
    {
     "data": {
      "text/plain": [
       "str"
      ]
     },
     "execution_count": 12,
     "metadata": {},
     "output_type": "execute_result"
    }
   ],
   "source": [
    "test = input()\n",
    "type(test)"
   ]
  },
  {
   "cell_type": "code",
   "execution_count": null,
   "metadata": {
    "colab": {
     "base_uri": "https://localhost:8080/"
    },
    "id": "HDSiElNbT1Dc",
    "outputId": "9f503f9d-b810-4d24-bdd7-ea8c98b111b9"
   },
   "outputs": [
    {
     "name": "stdout",
     "output_type": "stream",
     "text": [
      "3\n",
      "2.0\n"
     ]
    },
    {
     "data": {
      "text/plain": [
       "5.0"
      ]
     },
     "execution_count": 14,
     "metadata": {},
     "output_type": "execute_result"
    }
   ],
   "source": [
    "test_a = int(input())\n",
    "test_b = float(input())\n",
    "test_a + test_b"
   ]
  },
  {
   "cell_type": "markdown",
   "metadata": {
    "id": "fBXbiyKEUIRr"
   },
   "source": [
    "출력함수는 print()를 사용한다.\n",
    "\n",
    "인수로는\n",
    "- sep=문자열 : 문자열 구분자를 기본 설정인 \"빈칸\"에서 다른 문자로 설정한다. sep=''로 되어 있으면 구분자가 없음으로 설정된다.\n",
    "- end=문자열 : 마지막 인수를 출력한 후, 맨 마지막에 출력할 문자열을 설정한다. 기본값은 \"\\n\"이다."
   ]
  },
  {
   "cell_type": "code",
   "execution_count": null,
   "metadata": {
    "colab": {
     "base_uri": "https://localhost:8080/"
    },
    "id": "PRTc6bSiT--w",
    "outputId": "323e6ac7-4cce-4cc6-f3c0-9f46301a4de2"
   },
   "outputs": [
    {
     "name": "stdout",
     "output_type": "stream",
     "text": [
      "HeLLow~~~1234\n"
     ]
    }
   ],
   "source": [
    "print(\"HeLLow\", 1234, sep=\"~~~\")"
   ]
  },
  {
   "cell_type": "code",
   "execution_count": null,
   "metadata": {
    "colab": {
     "base_uri": "https://localhost:8080/"
    },
    "id": "7nuzRPYjUpZW",
    "outputId": "e6e1da27-56b0-4a44-aef3-f390eaff17ef"
   },
   "outputs": [
    {
     "name": "stdout",
     "output_type": "stream",
     "text": [
      "0 1 2 3 4 "
     ]
    }
   ],
   "source": [
    "for i in range(5):\n",
    "    print(i, end=' ')"
   ]
  }
 ],
 "metadata": {
  "colab": {
   "collapsed_sections": [],
   "name": "Chapter 1 (1.1 ~ 1.6)",
   "provenance": []
  },
  "kernelspec": {
   "display_name": "Python 3 (ipykernel)",
   "language": "python",
   "name": "python3"
  },
  "language_info": {
   "codemirror_mode": {
    "name": "ipython",
    "version": 3
   },
   "file_extension": ".py",
   "mimetype": "text/x-python",
   "name": "python",
   "nbconvert_exporter": "python",
   "pygments_lexer": "ipython3",
   "version": "3.9.7"
  }
 },
 "nbformat": 4,
 "nbformat_minor": 1
}
