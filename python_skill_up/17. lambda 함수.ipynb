{
 "cells": [
  {
   "cell_type": "markdown",
   "id": "446ea76d",
   "metadata": {},
   "source": [
    "## lambda 함수\n",
    "```python\n",
    "lambda 입력 : 출력\n",
    "```\n",
    "출력 부분에 처리할 로직을 써준다."
   ]
  },
  {
   "cell_type": "code",
   "execution_count": 1,
   "id": "fcccf3c3",
   "metadata": {},
   "outputs": [],
   "source": [
    "test = lambda x : x > 10"
   ]
  },
  {
   "cell_type": "code",
   "execution_count": 2,
   "id": "a52be0ec",
   "metadata": {},
   "outputs": [
    {
     "name": "stdout",
     "output_type": "stream",
     "text": [
      "<class 'function'>\n"
     ]
    }
   ],
   "source": [
    "print(type(test))"
   ]
  },
  {
   "cell_type": "code",
   "execution_count": 4,
   "id": "7f67b8d5",
   "metadata": {},
   "outputs": [
    {
     "name": "stdout",
     "output_type": "stream",
     "text": [
      "False\n",
      "False\n",
      "True\n"
     ]
    }
   ],
   "source": [
    "print(test(1))\n",
    "print(test(10))\n",
    "print(test(1111))"
   ]
  },
  {
   "cell_type": "code",
   "execution_count": 5,
   "id": "6f848b9d",
   "metadata": {},
   "outputs": [],
   "source": [
    "def add(num1, num2):\n",
    "    return num1 + num2\n",
    "\n",
    "add_lam = lambda x1, x2 : x1 + x2"
   ]
  },
  {
   "cell_type": "code",
   "execution_count": 7,
   "id": "595168d1",
   "metadata": {},
   "outputs": [
    {
     "name": "stdout",
     "output_type": "stream",
     "text": [
      "12\n",
      "12\n"
     ]
    }
   ],
   "source": [
    "print(add(5, 7))\n",
    "print(add_lam(5, 7))"
   ]
  },
  {
   "cell_type": "code",
   "execution_count": 8,
   "id": "42a52124",
   "metadata": {},
   "outputs": [
    {
     "name": "stdout",
     "output_type": "stream",
     "text": [
      "['captain-america', 'hulk', 'iron-man', 'spider-man', 'thor']\n"
     ]
    }
   ],
   "source": [
    "avengers = ['iron-man', 'hulk', 'captain-america', 'spider-man', 'thor']\n",
    "avengers.sort() # 알파벳 순서대로 정렬.\n",
    "\n",
    "print(avengers)"
   ]
  },
  {
   "cell_type": "code",
   "execution_count": 9,
   "id": "09a5df86",
   "metadata": {},
   "outputs": [
    {
     "data": {
      "text/plain": [
       "['hulk', 'thor', 'iron-man', 'spider-man', 'captain-america']"
      ]
     },
     "execution_count": 9,
     "metadata": {},
     "output_type": "execute_result"
    }
   ],
   "source": [
    "# 알파벳 순서가 아니라 문자열 길이순으로 정렬하고 싶다.\n",
    "avengers.sort(key=lambda x : len(x))\n",
    "avengers"
   ]
  },
  {
   "cell_type": "code",
   "execution_count": 13,
   "id": "4cb5236b",
   "metadata": {},
   "outputs": [
    {
     "data": {
      "text/plain": [
       "[2, 6, 8, 16]"
      ]
     },
     "execution_count": 13,
     "metadata": {},
     "output_type": "execute_result"
    }
   ],
   "source": [
    "nums = [1, 2, 3, 6, 8, 9, 11, 13, 16]\n",
    "\n",
    "list(filter(lambda x : x % 2 == 0, nums))"
   ]
  },
  {
   "cell_type": "code",
   "execution_count": 15,
   "id": "bdb29621",
   "metadata": {},
   "outputs": [
    {
     "data": {
      "text/plain": [
       "[1, 4, 9, 36, 64, 81, 121, 169, 256]"
      ]
     },
     "execution_count": 15,
     "metadata": {},
     "output_type": "execute_result"
    }
   ],
   "source": [
    "list(map(lambda x : x ** 2, nums))"
   ]
  },
  {
   "cell_type": "code",
   "execution_count": 19,
   "id": "4fce9fa3",
   "metadata": {},
   "outputs": [
    {
     "data": {
      "text/plain": [
       "17"
      ]
     },
     "execution_count": 19,
     "metadata": {},
     "output_type": "execute_result"
    }
   ],
   "source": [
    "import functools\n",
    "\n",
    "a = [1, 3, 5, 8]\n",
    "functools.reduce(lambda x, y : x + y, a)"
   ]
  },
  {
   "cell_type": "code",
   "execution_count": null,
   "id": "5ce13444",
   "metadata": {},
   "outputs": [],
   "source": []
  }
 ],
 "metadata": {
  "kernelspec": {
   "display_name": "Python 3 (ipykernel)",
   "language": "python",
   "name": "python3"
  },
  "language_info": {
   "codemirror_mode": {
    "name": "ipython",
    "version": 3
   },
   "file_extension": ".py",
   "mimetype": "text/x-python",
   "name": "python",
   "nbconvert_exporter": "python",
   "pygments_lexer": "ipython3",
   "version": "3.9.7"
  }
 },
 "nbformat": 4,
 "nbformat_minor": 5
}
