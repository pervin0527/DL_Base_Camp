{
 "cells": [
  {
   "cell_type": "markdown",
   "id": "71816146",
   "metadata": {},
   "source": [
    "## Symbol Table\n",
    "\n",
    "python에서 모든 데이터는 객체의 형태로 저장된다. 그리고 변수는 단지 객체의 이름일 뿐, 흔히 아는 주소값을 저장하고 있지 않다.  \n",
    "변수 이름과 주소값을 저장하는 테이블이 별도로 존재하고 이를 Symbol Tabel이라 한다."
   ]
  },
  {
   "cell_type": "code",
   "execution_count": null,
   "id": "fe4d89f3",
   "metadata": {},
   "outputs": [],
   "source": [
    "a = 10\n",
    "b = \"전역 변수\""
   ]
  },
  {
   "cell_type": "markdown",
   "id": "f2d96e1b",
   "metadata": {},
   "source": [
    "전역으로 할당된 변수가 저장된 테이블을 전역 심볼 테이블(global symbol table)이라 한다."
   ]
  },
  {
   "cell_type": "code",
   "execution_count": 2,
   "id": "00db0e9e",
   "metadata": {
    "scrolled": false
   },
   "outputs": [
    {
     "data": {
      "text/plain": [
       "{'__name__': '__main__',\n",
       " '__doc__': 'Automatically created module for IPython interactive environment',\n",
       " '__package__': None,\n",
       " '__loader__': None,\n",
       " '__spec__': None,\n",
       " '__builtin__': <module 'builtins' (built-in)>,\n",
       " '__builtins__': <module 'builtins' (built-in)>,\n",
       " '_ih': ['', 'a = 10\\nb = \"전역 변수\"', 'globals()'],\n",
       " '_oh': {},\n",
       " '_dh': ['/Users/jun/DL_Base_Camp/python_skill_up'],\n",
       " 'In': ['', 'a = 10\\nb = \"전역 변수\"', 'globals()'],\n",
       " 'Out': {},\n",
       " 'get_ipython': <bound method InteractiveShell.get_ipython of <ipykernel.zmqshell.ZMQInteractiveShell object at 0x7fb766d6e760>>,\n",
       " 'exit': <IPython.core.autocall.ZMQExitAutocall at 0x7fb766dd67c0>,\n",
       " 'quit': <IPython.core.autocall.ZMQExitAutocall at 0x7fb766dd67c0>,\n",
       " '_': '',\n",
       " '__': '',\n",
       " '___': '',\n",
       " '_i': 'a = 10\\nb = \"전역 변수\"',\n",
       " '_ii': '',\n",
       " '_iii': '',\n",
       " '_i1': 'a = 10\\nb = \"전역 변수\"',\n",
       " 'a': 10,\n",
       " 'b': '전역 변수',\n",
       " '_i2': 'globals()'}"
      ]
     },
     "execution_count": 2,
     "metadata": {},
     "output_type": "execute_result"
    }
   ],
   "source": [
    "globals() # Global Symbol table"
   ]
  },
  {
   "cell_type": "markdown",
   "id": "d2e8498a",
   "metadata": {},
   "source": [
    "블록 단위에서 생성된 객체에 대해서는 지역 심볼 테이블(Local symbol table)이 생성되고, 블록이 종료되면 테이블도 사라진다."
   ]
  },
  {
   "cell_type": "code",
   "execution_count": 3,
   "id": "20629630",
   "metadata": {},
   "outputs": [],
   "source": [
    "def test():\n",
    "    a = 200\n",
    "    b = \"지역 변수\"\n",
    "    print(locals()) # Local Symbol Table"
   ]
  },
  {
   "cell_type": "code",
   "execution_count": 4,
   "id": "0fe2bf36",
   "metadata": {},
   "outputs": [
    {
     "name": "stdout",
     "output_type": "stream",
     "text": [
      "{'a': 200, 'b': '지역 변수'}\n"
     ]
    }
   ],
   "source": [
    "test()"
   ]
  },
  {
   "cell_type": "markdown",
   "id": "2eff9d2e",
   "metadata": {},
   "source": [
    "- 개발자가 생성한 객체는 동적으로 변수를 추가할 수 있다.\n",
    "- 심볼 테이블이 존재한다는 것은 객체의 확장이 가능하다.\n",
    "- 내장 함수는 심볼 테이블이 존재하지 않으며, 내장 클래스의 객체는 심볼 테이블이 존재하지만 확장이 불가능하다."
   ]
  },
  {
   "cell_type": "code",
   "execution_count": 5,
   "id": "faabb33b",
   "metadata": {},
   "outputs": [
    {
     "ename": "AttributeError",
     "evalue": "'builtin_function_or_method' object has no attribute '__dict__'",
     "output_type": "error",
     "traceback": [
      "\u001b[0;31m---------------------------------------------------------------------------\u001b[0m",
      "\u001b[0;31mAttributeError\u001b[0m                            Traceback (most recent call last)",
      "\u001b[0;32m/var/folders/_l/32zr2gnn4k5frmz3070p9bkh0000gn/T/ipykernel_6501/2767313221.py\u001b[0m in \u001b[0;36m<module>\u001b[0;34m\u001b[0m\n\u001b[0;32m----> 1\u001b[0;31m \u001b[0mprint\u001b[0m\u001b[0;34m.\u001b[0m\u001b[0m__dict__\u001b[0m\u001b[0;34m\u001b[0m\u001b[0;34m\u001b[0m\u001b[0m\n\u001b[0m",
      "\u001b[0;31mAttributeError\u001b[0m: 'builtin_function_or_method' object has no attribute '__dict__'"
     ]
    }
   ],
   "source": [
    "print.__dict__"
   ]
  },
  {
   "cell_type": "code",
   "execution_count": 6,
   "id": "fc0ab383",
   "metadata": {},
   "outputs": [
    {
     "ename": "TypeError",
     "evalue": "can't set attributes of built-in/extension type 'str'",
     "output_type": "error",
     "traceback": [
      "\u001b[0;31m---------------------------------------------------------------------------\u001b[0m",
      "\u001b[0;31mTypeError\u001b[0m                                 Traceback (most recent call last)",
      "\u001b[0;32m/var/folders/_l/32zr2gnn4k5frmz3070p9bkh0000gn/T/ipykernel_6501/2693890168.py\u001b[0m in \u001b[0;36m<module>\u001b[0;34m\u001b[0m\n\u001b[0;32m----> 1\u001b[0;31m \u001b[0mstr\u001b[0m\u001b[0;34m.\u001b[0m\u001b[0ma\u001b[0m \u001b[0;34m=\u001b[0m \u001b[0;34m\"test\"\u001b[0m\u001b[0;34m\u001b[0m\u001b[0;34m\u001b[0m\u001b[0m\n\u001b[0m",
      "\u001b[0;31mTypeError\u001b[0m: can't set attributes of built-in/extension type 'str'"
     ]
    }
   ],
   "source": [
    "str.a = \"test\""
   ]
  },
  {
   "cell_type": "code",
   "execution_count": 11,
   "id": "a1facba0",
   "metadata": {},
   "outputs": [
    {
     "name": "stdout",
     "output_type": "stream",
     "text": [
      "{'local_1': 10, 'local_2': 'local'}\n"
     ]
    }
   ],
   "source": [
    "def test():\n",
    "    local_1 = 10\n",
    "    local_2 = \"local\"\n",
    "    print(locals())\n",
    "    \n",
    "test()"
   ]
  },
  {
   "cell_type": "code",
   "execution_count": 12,
   "id": "5becc002",
   "metadata": {},
   "outputs": [
    {
     "data": {
      "text/plain": [
       "{}"
      ]
     },
     "execution_count": 12,
     "metadata": {},
     "output_type": "execute_result"
    }
   ],
   "source": [
    "class info:\n",
    "    name = \"pervinco\"\n",
    "    age = 29\n",
    "    \n",
    "info."
   ]
  },
  {
   "cell_type": "code",
   "execution_count": null,
   "id": "21b4433e",
   "metadata": {},
   "outputs": [],
   "source": []
  }
 ],
 "metadata": {
  "kernelspec": {
   "display_name": "Python 3 (ipykernel)",
   "language": "python",
   "name": "python3"
  },
  "language_info": {
   "codemirror_mode": {
    "name": "ipython",
    "version": 3
   },
   "file_extension": ".py",
   "mimetype": "text/x-python",
   "name": "python",
   "nbconvert_exporter": "python",
   "pygments_lexer": "ipython3",
   "version": "3.9.7"
  }
 },
 "nbformat": 4,
 "nbformat_minor": 5
}
