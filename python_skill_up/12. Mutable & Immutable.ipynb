{
 "cells": [
  {
   "cell_type": "markdown",
   "id": "792a4265",
   "metadata": {},
   "source": [
    "파이썬의 데이터 타입은 가변(Mutable)이거나 불변(Immutable)이다."
   ]
  },
  {
   "cell_type": "markdown",
   "id": "082faa00",
   "metadata": {},
   "source": [
    "가변 타입의 대표적인 예는 리스트, 딕셔너리, 세트(set)로   \n",
    "데이터를 즉시 변경할 수 있기 때문에 데이터 변경을 위해 매번 새로운 객체를 처음부터 만들 필요가 없다는 것이다.\n",
    "\n",
    "불변 타입의 장점은 딕셔너리의 키로 사용할 수 있다는 점이다.(딕셔너리의 키로 문자열을 이용할 수 있듯)  \n",
    "또한, 불변 타입은 이미 내부적으로 성능이 최적화되어 있다.(리스트 보다 튜플을 사용하는 것이 더 효율적)"
   ]
  },
  {
   "cell_type": "code",
   "execution_count": 6,
   "id": "03ab00ce",
   "metadata": {},
   "outputs": [
    {
     "ename": "TypeError",
     "evalue": "'str' object does not support item assignment",
     "output_type": "error",
     "traceback": [
      "\u001b[0;31m---------------------------------------------------------------------------\u001b[0m",
      "\u001b[0;31mTypeError\u001b[0m                                 Traceback (most recent call last)",
      "\u001b[0;32m/var/folders/15/mnbbcmts1tl4758sn1bt4_nc0000gn/T/ipykernel_969/2094108825.py\u001b[0m in \u001b[0;36m<module>\u001b[0;34m\u001b[0m\n\u001b[1;32m      1\u001b[0m \u001b[0mmy_str\u001b[0m \u001b[0;34m=\u001b[0m \u001b[0;34m\"Hello, Kyle\"\u001b[0m\u001b[0;34m\u001b[0m\u001b[0;34m\u001b[0m\u001b[0m\n\u001b[0;32m----> 2\u001b[0;31m \u001b[0mmy_str\u001b[0m\u001b[0;34m[\u001b[0m\u001b[0;34m-\u001b[0m\u001b[0;36m4\u001b[0m\u001b[0;34m]\u001b[0m \u001b[0;34m=\u001b[0m \u001b[0;34m\"B\"\u001b[0m \u001b[0;31m# 불변 타입의 데이터를 변경하려고 했기 때문에 에러 발생.\u001b[0m\u001b[0;34m\u001b[0m\u001b[0;34m\u001b[0m\u001b[0m\n\u001b[0m",
      "\u001b[0;31mTypeError\u001b[0m: 'str' object does not support item assignment"
     ]
    }
   ],
   "source": [
    "my_str = \"Hello, Kyle\"\n",
    "my_str[-4] = \"B\" # 불변 타입의 데이터를 변경하려고 했기 때문에 에러 발생."
   ]
  },
  {
   "cell_type": "code",
   "execution_count": 7,
   "id": "107fd81e",
   "metadata": {},
   "outputs": [],
   "source": [
    "str1 = \"Hello\"\n",
    "str1 = \"Hello World!\""
   ]
  },
  {
   "cell_type": "markdown",
   "id": "d4f5254e",
   "metadata": {},
   "source": [
    "위 코드는 잘 동작함. 이는 문자열의 직접적인 값을 바꾸려고 한 것이 아니기 때문.  \n",
    "각 줄마다 새로운 문자열 객체가 생성되고(Hello와 Hello World!), 변수 str1에 재대입될 뿐이다.  \n"
   ]
  },
  {
   "cell_type": "code",
   "execution_count": null,
   "id": "780ac94b",
   "metadata": {},
   "outputs": [],
   "source": []
  }
 ],
 "metadata": {
  "kernelspec": {
   "display_name": "Python 3 (ipykernel)",
   "language": "python",
   "name": "python3"
  },
  "language_info": {
   "codemirror_mode": {
    "name": "ipython",
    "version": 3
   },
   "file_extension": ".py",
   "mimetype": "text/x-python",
   "name": "python",
   "nbconvert_exporter": "python",
   "pygments_lexer": "ipython3",
   "version": "3.9.7"
  }
 },
 "nbformat": 4,
 "nbformat_minor": 5
}
