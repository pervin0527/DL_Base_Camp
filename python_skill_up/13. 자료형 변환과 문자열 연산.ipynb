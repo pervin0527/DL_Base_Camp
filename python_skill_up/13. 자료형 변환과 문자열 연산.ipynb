{
 "cells": [
  {
   "cell_type": "markdown",
   "id": "23f3b93c",
   "metadata": {},
   "source": [
    "int변환은 다른 타입 변환과는 다르게 선택 사항으로 두 번째 인수를 넣을 수 있다.  \n",
    "이 인수는 문자열을 숫자로 변환할 때 변환 대상 문자열의 진수를 명시한다.\n",
    "\n",
    "```\n",
    "int(데이터, base=10)\n",
    "```"
   ]
  },
  {
   "cell_type": "code",
   "execution_count": 1,
   "id": "bdeefff4",
   "metadata": {},
   "outputs": [
    {
     "data": {
      "text/plain": [
       "17"
      ]
     },
     "execution_count": 1,
     "metadata": {},
     "output_type": "execute_result"
    }
   ],
   "source": [
    "n = int(\"10001\", 2) # 이진수로 변환하겠다!\n",
    "n"
   ]
  },
  {
   "cell_type": "code",
   "execution_count": 2,
   "id": "876a9487",
   "metadata": {},
   "outputs": [
    {
     "name": "stdout",
     "output_type": "stream",
     "text": [
      "509 30\n"
     ]
    }
   ],
   "source": [
    "n1 = int('775', 8) # 8진수\n",
    "n2 = int('1E', 16) # 16진수\n",
    "\n",
    "print(n1, n2)"
   ]
  },
  {
   "cell_type": "markdown",
   "id": "59587f01",
   "metadata": {},
   "source": [
    "str 변환은 반대로 동작한다. 숫자 타입을 문자열 타입으로 변환한다."
   ]
  },
  {
   "cell_type": "code",
   "execution_count": 3,
   "id": "002a577a",
   "metadata": {},
   "outputs": [
    {
     "name": "stdout",
     "output_type": "stream",
     "text": [
      "20000 <class 'str'>\n"
     ]
    }
   ],
   "source": [
    "n = 20000\n",
    "s = str(n)\n",
    "print(s, type(s))"
   ]
  },
  {
   "cell_type": "code",
   "execution_count": 4,
   "id": "69ecaaa5",
   "metadata": {},
   "outputs": [
    {
     "name": "stdout",
     "output_type": "stream",
     "text": [
      "['2', '', '', '', '']\n"
     ]
    }
   ],
   "source": [
    "print(s.split('0'))"
   ]
  },
  {
   "cell_type": "code",
   "execution_count": 5,
   "id": "a215f77b",
   "metadata": {},
   "outputs": [
    {
     "name": "stdout",
     "output_type": "stream",
     "text": [
      "140393036803632 140393036803632\n"
     ]
    }
   ],
   "source": [
    "my_name1 = 'pervinco'\n",
    "my_name2 = my_name1\n",
    "\n",
    "print(id(my_name1), id(my_name2))"
   ]
  },
  {
   "cell_type": "markdown",
   "id": "05469c4d",
   "metadata": {},
   "source": [
    "위 코드의 두 번째 줄은 my_name1이 참조하고 있는 똑같은 데이터를 참조하는 변수를 만들었다.\n",
    "즉, my_name1과 my_name2가 참조하는 주소값은 동일."
   ]
  },
  {
   "cell_type": "markdown",
   "id": "ff1b9c51",
   "metadata": {},
   "source": [
    "## 문자열 연산자\n",
    "\n",
    "### casefold()\n",
    "광범위한 유니코드 문자로 이루어진 문자열을 사용하고 있을 때, 두 문자열의 값을 비교한다."
   ]
  },
  {
   "cell_type": "code",
   "execution_count": 6,
   "id": "08b1a57b",
   "metadata": {},
   "outputs": [
    {
     "name": "stdout",
     "output_type": "stream",
     "text": [
      "cat\n",
      "True\n"
     ]
    }
   ],
   "source": [
    "str1 = \"cat\"\n",
    "str2 = \"CAT\"\n",
    "\n",
    "print(str1.casefold())\n",
    "print(str1.casefold() == str2.casefold())"
   ]
  },
  {
   "cell_type": "markdown",
   "id": "fb6373e5",
   "metadata": {},
   "source": [
    "### 문자열 비교연산\n",
    "\n",
    "숫자간 비교연산자는 문자열간 비교에서는 알파벳 순서를 기준으로한다."
   ]
  },
  {
   "cell_type": "code",
   "execution_count": 7,
   "id": "a59b60d3",
   "metadata": {},
   "outputs": [
    {
     "name": "stdout",
     "output_type": "stream",
     "text": [
      "False\n",
      "True\n",
      "True\n"
     ]
    }
   ],
   "source": [
    "str1 = \"abcd\"\n",
    "str2 = \"abc\"\n",
    "str3 = \"abc\"\n",
    "\n",
    "print(str1 < str2) # str1이 str2보다 알파벳 순서가 앞이면 True\n",
    "print(str1 > str2)\n",
    "print(str2 <= str3)"
   ]
  },
  {
   "cell_type": "markdown",
   "id": "513fc1a1",
   "metadata": {},
   "source": [
    "### *, +,"
   ]
  },
  {
   "cell_type": "code",
   "execution_count": 8,
   "id": "f76314c9",
   "metadata": {},
   "outputs": [
    {
     "name": "stdout",
     "output_type": "stream",
     "text": [
      "HELLO HELLO HELLO HELLO HELLO \n"
     ]
    }
   ],
   "source": [
    "str1 = \"HELLO \"\n",
    "print(str1 * 5)"
   ]
  },
  {
   "cell_type": "code",
   "execution_count": 9,
   "id": "9f838361",
   "metadata": {},
   "outputs": [
    {
     "data": {
      "text/plain": [
       "'Hello World'"
      ]
     },
     "execution_count": 9,
     "metadata": {},
     "output_type": "execute_result"
    }
   ],
   "source": [
    "str1 = \"Hello \"\n",
    "str2 = \"World\"\n",
    "\n",
    "str1 + str2"
   ]
  },
  {
   "cell_type": "markdown",
   "id": "2d002926",
   "metadata": {},
   "source": [
    "### 문자열 연산의 in은 str1의 문자열 전체가 str2에 포함되면 True\n",
    "\n",
    "```python\n",
    "str1 in str2\n",
    "```"
   ]
  },
  {
   "cell_type": "code",
   "execution_count": 10,
   "id": "3fabd849",
   "metadata": {},
   "outputs": [
    {
     "data": {
      "text/plain": [
       "True"
      ]
     },
     "execution_count": 10,
     "metadata": {},
     "output_type": "execute_result"
    }
   ],
   "source": [
    "str1 = \"Super SON\"\n",
    "str2 = \"SON\"\n",
    "\n",
    "str2 in str1"
   ]
  },
  {
   "cell_type": "markdown",
   "id": "22505e2f",
   "metadata": {},
   "source": [
    "### 문자열과 객체가 메모리상에 동일 객체를 참조하고 있으면 True\n",
    "\n",
    "```python\n",
    "str1 is 객체\n",
    "```\n",
    "\n",
    "### is 와 ==\n",
    "[Reference](https://freeprog.tistory.com/29)  \n",
    "is 는 참조값이 동일한가, ==는 값이 동일한가"
   ]
  },
  {
   "cell_type": "code",
   "execution_count": 12,
   "id": "9f3d9bd5",
   "metadata": {},
   "outputs": [
    {
     "name": "stdout",
     "output_type": "stream",
     "text": [
      "True\n"
     ]
    }
   ],
   "source": [
    "str1 = \"DOG\"\n",
    "str2 = \"DOG\"\n",
    "\n",
    "print(str1 is str2)"
   ]
  },
  {
   "cell_type": "code",
   "execution_count": null,
   "id": "7383a6ef",
   "metadata": {},
   "outputs": [],
   "source": []
  }
 ],
 "metadata": {
  "kernelspec": {
   "display_name": "Python 3 (ipykernel)",
   "language": "python",
   "name": "python3"
  },
  "language_info": {
   "codemirror_mode": {
    "name": "ipython",
    "version": 3
   },
   "file_extension": ".py",
   "mimetype": "text/x-python",
   "name": "python",
   "nbconvert_exporter": "python",
   "pygments_lexer": "ipython3",
   "version": "3.9.7"
  }
 },
 "nbformat": 4,
 "nbformat_minor": 5
}
