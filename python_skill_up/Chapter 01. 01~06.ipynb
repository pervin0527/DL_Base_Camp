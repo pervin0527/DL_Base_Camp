{
 "cells": [
  {
   "cell_type": "markdown",
   "metadata": {
    "id": "6UUV7wLhCwCr"
   },
   "source": [
    "## 1.1 파이썬 빠르게 시작하기\n",
    "\n",
    "```\n",
    "a = 10\n",
    "```\n",
    "변수는 데이터를 저장하는 공간으로, 10이라는 값을 메모리의 한 공간에 넣고, 그 공간의 이름을 a로 지정한다.\n",
    "\n",
    "파이썬은 데이터를 선언할 수 없으며(예륻 들어, ***int a;***) 선언할 때는 반드시 값을 대입해야한다.  \n",
    "대입할 값을 정하지 못한 경우에는 None 값을 대입한다.\n",
    "\n",
    "```\n",
    "a = 10\n",
    "b = None\n",
    "```\n",
    "\n",
    "처음 파이썬을 배운다면 변수가 메모리상의 저장 위치를 가진다고 생각할 수 있으나, 자세히 말하면 그렇지 않다.  "
   ]
  },
  {
   "cell_type": "code",
   "execution_count": null,
   "metadata": {
    "id": "cMlkn5p7Cs25"
   },
   "outputs": [],
   "source": [
    "a = 10\n",
    "b = 20\n",
    "c = 30"
   ]
  },
  {
   "cell_type": "markdown",
   "metadata": {
    "id": "Szwc8TS6DDGi"
   },
   "source": [
    "정확하게는 10, 20, 30(변수 값)을 부르기 위한 이름으로 a, b, c(변수)를 만든다. 이 방식에 의해서 파이썬 이름은 우리가 일반적인 상식으로 사용하는 이름의 기능과 같으며 이 이름들은 **[symbol table](https://velog.io/@sawol/%EB%84%A4%EC%9E%84%EC%8A%A4%ED%8E%98%EC%9D%B4%EC%8A%A4%EC%99%80-%EC%8A%A4%EC%BD%94%ED%94%84-%EA%B7%B8%EB%A6%AC%EA%B3%A0-%EC%8B%AC%EB%B3%BC-%ED%85%8C%EC%9D%B4%EB%B8%94)**에서 찾을 수 있다.\n",
    "\n",
    "컴파일러나 인터프리터가 코드에서 발견한 모든 변수가 symbol table에 저장되고, 인터프리터가 코드를 해석하면서 변수를 만나면 테이블에 값이 정의되어 있는지 확인한다.\n",
    "\n",
    "따라서 변수 이름이 호출되면 심볼 테이블에 내역이 있는지 찾아보고 그에 맞는 참조 주소값으로 가서 값을 가져온다."
   ]
  },
  {
   "cell_type": "code",
   "execution_count": null,
   "metadata": {
    "colab": {
     "base_uri": "https://localhost:8080/"
    },
    "id": "1t6pS47yC_4p",
    "outputId": "21ebd681-0a87-4c55-9fc4-4f8a272b9fd4"
   },
   "outputs": [
    {
     "name": "stdout",
     "output_type": "stream",
     "text": [
      "[outer] local symbol table :  {'aa': 1, 'cc': 10}\n",
      "[outer] global symbol table :  {'__name__': '__main__', '__doc__': 'Automatically created module for IPython interactive environment', '__package__': None, '__loader__': None, '__spec__': None, '__builtin__': <module 'builtins' (built-in)>, '__builtins__': <module 'builtins' (built-in)>, '_ih': ['', 'a = 10\\nb = 20\\nc = 30', 'print(globals())', 'local()', 'locals()', 'globals()', 'ff = \\'hello world\\'\\n\\ndef outer(aa):\\n    cc = 10\\n    print(\"[outer] local symbol table : \", locals())\\n    print(\"[outer] global symbol table : \", globals())\\n    def inner():\\n        bb = 1\\n        print(\"[inner] local symbol table : \", locals())\\n        print(\"[inner] global symbol table : \", globals())\\n        return aa + bb + cc\\n        \\n    return inner()\\n    \\n    \\nouter(1)\\nprint(\"[base] local symbol table : \", locals())\\nprint(\"[base] global symbol table : \", globals())'], '_oh': {4: {...}, 5: {...}}, '_dh': ['/content'], '_sh': <module 'IPython.core.shadowns' from '/usr/local/lib/python3.7/dist-packages/IPython/core/shadowns.py'>, 'In': ['', 'a = 10\\nb = 20\\nc = 30', 'print(globals())', 'local()', 'locals()', 'globals()', 'ff = \\'hello world\\'\\n\\ndef outer(aa):\\n    cc = 10\\n    print(\"[outer] local symbol table : \", locals())\\n    print(\"[outer] global symbol table : \", globals())\\n    def inner():\\n        bb = 1\\n        print(\"[inner] local symbol table : \", locals())\\n        print(\"[inner] global symbol table : \", globals())\\n        return aa + bb + cc\\n        \\n    return inner()\\n    \\n    \\nouter(1)\\nprint(\"[base] local symbol table : \", locals())\\nprint(\"[base] global symbol table : \", globals())'], 'Out': {4: {...}, 5: {...}}, 'get_ipython': <bound method InteractiveShell.get_ipython of <google.colab._shell.Shell object at 0x7f14ce234a90>>, 'exit': <IPython.core.autocall.ZMQExitAutocall object at 0x7f14caf41710>, 'quit': <IPython.core.autocall.ZMQExitAutocall object at 0x7f14caf41710>, '_': {...}, '__': {...}, '___': '', '_i': 'globals()', '_ii': 'locals()', '_iii': 'local()', '_i1': 'a = 10\\nb = 20\\nc = 30', 'a': 10, 'b': 20, 'c': 30, '_i2': 'print(globals())', '_i3': 'local()', '_i4': 'locals()', '_4': {...}, '_i5': 'globals()', '_5': {...}, '_i6': 'ff = \\'hello world\\'\\n\\ndef outer(aa):\\n    cc = 10\\n    print(\"[outer] local symbol table : \", locals())\\n    print(\"[outer] global symbol table : \", globals())\\n    def inner():\\n        bb = 1\\n        print(\"[inner] local symbol table : \", locals())\\n        print(\"[inner] global symbol table : \", globals())\\n        return aa + bb + cc\\n        \\n    return inner()\\n    \\n    \\nouter(1)\\nprint(\"[base] local symbol table : \", locals())\\nprint(\"[base] global symbol table : \", globals())', 'ff': 'hello world', 'outer': <function outer at 0x7f14c3ea1710>}\n",
      "[inner] local symbol table :  {'bb': 1, 'aa': 1, 'cc': 10}\n",
      "[inner] global symbol table :  {'__name__': '__main__', '__doc__': 'Automatically created module for IPython interactive environment', '__package__': None, '__loader__': None, '__spec__': None, '__builtin__': <module 'builtins' (built-in)>, '__builtins__': <module 'builtins' (built-in)>, '_ih': ['', 'a = 10\\nb = 20\\nc = 30', 'print(globals())', 'local()', 'locals()', 'globals()', 'ff = \\'hello world\\'\\n\\ndef outer(aa):\\n    cc = 10\\n    print(\"[outer] local symbol table : \", locals())\\n    print(\"[outer] global symbol table : \", globals())\\n    def inner():\\n        bb = 1\\n        print(\"[inner] local symbol table : \", locals())\\n        print(\"[inner] global symbol table : \", globals())\\n        return aa + bb + cc\\n        \\n    return inner()\\n    \\n    \\nouter(1)\\nprint(\"[base] local symbol table : \", locals())\\nprint(\"[base] global symbol table : \", globals())'], '_oh': {4: {...}, 5: {...}}, '_dh': ['/content'], '_sh': <module 'IPython.core.shadowns' from '/usr/local/lib/python3.7/dist-packages/IPython/core/shadowns.py'>, 'In': ['', 'a = 10\\nb = 20\\nc = 30', 'print(globals())', 'local()', 'locals()', 'globals()', 'ff = \\'hello world\\'\\n\\ndef outer(aa):\\n    cc = 10\\n    print(\"[outer] local symbol table : \", locals())\\n    print(\"[outer] global symbol table : \", globals())\\n    def inner():\\n        bb = 1\\n        print(\"[inner] local symbol table : \", locals())\\n        print(\"[inner] global symbol table : \", globals())\\n        return aa + bb + cc\\n        \\n    return inner()\\n    \\n    \\nouter(1)\\nprint(\"[base] local symbol table : \", locals())\\nprint(\"[base] global symbol table : \", globals())'], 'Out': {4: {...}, 5: {...}}, 'get_ipython': <bound method InteractiveShell.get_ipython of <google.colab._shell.Shell object at 0x7f14ce234a90>>, 'exit': <IPython.core.autocall.ZMQExitAutocall object at 0x7f14caf41710>, 'quit': <IPython.core.autocall.ZMQExitAutocall object at 0x7f14caf41710>, '_': {...}, '__': {...}, '___': '', '_i': 'globals()', '_ii': 'locals()', '_iii': 'local()', '_i1': 'a = 10\\nb = 20\\nc = 30', 'a': 10, 'b': 20, 'c': 30, '_i2': 'print(globals())', '_i3': 'local()', '_i4': 'locals()', '_4': {...}, '_i5': 'globals()', '_5': {...}, '_i6': 'ff = \\'hello world\\'\\n\\ndef outer(aa):\\n    cc = 10\\n    print(\"[outer] local symbol table : \", locals())\\n    print(\"[outer] global symbol table : \", globals())\\n    def inner():\\n        bb = 1\\n        print(\"[inner] local symbol table : \", locals())\\n        print(\"[inner] global symbol table : \", globals())\\n        return aa + bb + cc\\n        \\n    return inner()\\n    \\n    \\nouter(1)\\nprint(\"[base] local symbol table : \", locals())\\nprint(\"[base] global symbol table : \", globals())', 'ff': 'hello world', 'outer': <function outer at 0x7f14c3ea1710>}\n",
      "[base] local symbol table :  {'__name__': '__main__', '__doc__': 'Automatically created module for IPython interactive environment', '__package__': None, '__loader__': None, '__spec__': None, '__builtin__': <module 'builtins' (built-in)>, '__builtins__': <module 'builtins' (built-in)>, '_ih': ['', 'a = 10\\nb = 20\\nc = 30', 'print(globals())', 'local()', 'locals()', 'globals()', 'ff = \\'hello world\\'\\n\\ndef outer(aa):\\n    cc = 10\\n    print(\"[outer] local symbol table : \", locals())\\n    print(\"[outer] global symbol table : \", globals())\\n    def inner():\\n        bb = 1\\n        print(\"[inner] local symbol table : \", locals())\\n        print(\"[inner] global symbol table : \", globals())\\n        return aa + bb + cc\\n        \\n    return inner()\\n    \\n    \\nouter(1)\\nprint(\"[base] local symbol table : \", locals())\\nprint(\"[base] global symbol table : \", globals())'], '_oh': {4: {...}, 5: {...}}, '_dh': ['/content'], '_sh': <module 'IPython.core.shadowns' from '/usr/local/lib/python3.7/dist-packages/IPython/core/shadowns.py'>, 'In': ['', 'a = 10\\nb = 20\\nc = 30', 'print(globals())', 'local()', 'locals()', 'globals()', 'ff = \\'hello world\\'\\n\\ndef outer(aa):\\n    cc = 10\\n    print(\"[outer] local symbol table : \", locals())\\n    print(\"[outer] global symbol table : \", globals())\\n    def inner():\\n        bb = 1\\n        print(\"[inner] local symbol table : \", locals())\\n        print(\"[inner] global symbol table : \", globals())\\n        return aa + bb + cc\\n        \\n    return inner()\\n    \\n    \\nouter(1)\\nprint(\"[base] local symbol table : \", locals())\\nprint(\"[base] global symbol table : \", globals())'], 'Out': {4: {...}, 5: {...}}, 'get_ipython': <bound method InteractiveShell.get_ipython of <google.colab._shell.Shell object at 0x7f14ce234a90>>, 'exit': <IPython.core.autocall.ZMQExitAutocall object at 0x7f14caf41710>, 'quit': <IPython.core.autocall.ZMQExitAutocall object at 0x7f14caf41710>, '_': {...}, '__': {...}, '___': '', '_i': 'globals()', '_ii': 'locals()', '_iii': 'local()', '_i1': 'a = 10\\nb = 20\\nc = 30', 'a': 10, 'b': 20, 'c': 30, '_i2': 'print(globals())', '_i3': 'local()', '_i4': 'locals()', '_4': {...}, '_i5': 'globals()', '_5': {...}, '_i6': 'ff = \\'hello world\\'\\n\\ndef outer(aa):\\n    cc = 10\\n    print(\"[outer] local symbol table : \", locals())\\n    print(\"[outer] global symbol table : \", globals())\\n    def inner():\\n        bb = 1\\n        print(\"[inner] local symbol table : \", locals())\\n        print(\"[inner] global symbol table : \", globals())\\n        return aa + bb + cc\\n        \\n    return inner()\\n    \\n    \\nouter(1)\\nprint(\"[base] local symbol table : \", locals())\\nprint(\"[base] global symbol table : \", globals())', 'ff': 'hello world', 'outer': <function outer at 0x7f14c3ea1710>}\n",
      "[base] global symbol table :  {'__name__': '__main__', '__doc__': 'Automatically created module for IPython interactive environment', '__package__': None, '__loader__': None, '__spec__': None, '__builtin__': <module 'builtins' (built-in)>, '__builtins__': <module 'builtins' (built-in)>, '_ih': ['', 'a = 10\\nb = 20\\nc = 30', 'print(globals())', 'local()', 'locals()', 'globals()', 'ff = \\'hello world\\'\\n\\ndef outer(aa):\\n    cc = 10\\n    print(\"[outer] local symbol table : \", locals())\\n    print(\"[outer] global symbol table : \", globals())\\n    def inner():\\n        bb = 1\\n        print(\"[inner] local symbol table : \", locals())\\n        print(\"[inner] global symbol table : \", globals())\\n        return aa + bb + cc\\n        \\n    return inner()\\n    \\n    \\nouter(1)\\nprint(\"[base] local symbol table : \", locals())\\nprint(\"[base] global symbol table : \", globals())'], '_oh': {4: {...}, 5: {...}}, '_dh': ['/content'], '_sh': <module 'IPython.core.shadowns' from '/usr/local/lib/python3.7/dist-packages/IPython/core/shadowns.py'>, 'In': ['', 'a = 10\\nb = 20\\nc = 30', 'print(globals())', 'local()', 'locals()', 'globals()', 'ff = \\'hello world\\'\\n\\ndef outer(aa):\\n    cc = 10\\n    print(\"[outer] local symbol table : \", locals())\\n    print(\"[outer] global symbol table : \", globals())\\n    def inner():\\n        bb = 1\\n        print(\"[inner] local symbol table : \", locals())\\n        print(\"[inner] global symbol table : \", globals())\\n        return aa + bb + cc\\n        \\n    return inner()\\n    \\n    \\nouter(1)\\nprint(\"[base] local symbol table : \", locals())\\nprint(\"[base] global symbol table : \", globals())'], 'Out': {4: {...}, 5: {...}}, 'get_ipython': <bound method InteractiveShell.get_ipython of <google.colab._shell.Shell object at 0x7f14ce234a90>>, 'exit': <IPython.core.autocall.ZMQExitAutocall object at 0x7f14caf41710>, 'quit': <IPython.core.autocall.ZMQExitAutocall object at 0x7f14caf41710>, '_': {...}, '__': {...}, '___': '', '_i': 'globals()', '_ii': 'locals()', '_iii': 'local()', '_i1': 'a = 10\\nb = 20\\nc = 30', 'a': 10, 'b': 20, 'c': 30, '_i2': 'print(globals())', '_i3': 'local()', '_i4': 'locals()', '_4': {...}, '_i5': 'globals()', '_5': {...}, '_i6': 'ff = \\'hello world\\'\\n\\ndef outer(aa):\\n    cc = 10\\n    print(\"[outer] local symbol table : \", locals())\\n    print(\"[outer] global symbol table : \", globals())\\n    def inner():\\n        bb = 1\\n        print(\"[inner] local symbol table : \", locals())\\n        print(\"[inner] global symbol table : \", globals())\\n        return aa + bb + cc\\n        \\n    return inner()\\n    \\n    \\nouter(1)\\nprint(\"[base] local symbol table : \", locals())\\nprint(\"[base] global symbol table : \", globals())', 'ff': 'hello world', 'outer': <function outer at 0x7f14c3ea1710>}\n"
     ]
    }
   ],
   "source": [
    "ff = 'hello world'\n",
    "\n",
    "def outer(aa):\n",
    "    cc = 10\n",
    "    print(\"[outer] local symbol table : \", locals())\n",
    "    print(\"[outer] global symbol table : \", globals())\n",
    "    def inner():\n",
    "        bb = 1\n",
    "        print(\"[inner] local symbol table : \", locals())\n",
    "        print(\"[inner] global symbol table : \", globals())\n",
    "        return aa + bb + cc\n",
    "        \n",
    "    return inner()\n",
    "    \n",
    "    \n",
    "outer(1)\n",
    "print(\"[base] local symbol table : \", locals())\n",
    "print(\"[base] global symbol table : \", globals())"
   ]
  },
  {
   "cell_type": "markdown",
   "metadata": {
    "id": "A8jERTqzR6w0"
   },
   "source": [
    "## 1.3 대입 연산자 조합 & 1.4 산술 연산자 요약\n",
    "대입 연산은 말 그대로 변수에 값을 대입하는 것이다.  \n",
    "\n",
    "다음 예 코드를 보면 변수 n에 초기값 5를 대입했고, 1씩 증가하는 코드를 작성했다.  \n",
    "하지만 실제로는 증가하는 것이 아니라 기존 n의 값에 1을 더한 것을 새로 대입한 것이다.(기존에 할당된 값이 사라지는 것)"
   ]
  },
  {
   "cell_type": "code",
   "execution_count": null,
   "metadata": {
    "colab": {
     "base_uri": "https://localhost:8080/"
    },
    "id": "wHY-swo-LPim",
    "outputId": "dc007a38-02f4-43dc-ab9b-2b81fe6af823"
   },
   "outputs": [
    {
     "data": {
      "text/plain": [
       "7"
      ]
     },
     "execution_count": 7,
     "metadata": {},
     "output_type": "execute_result"
    }
   ],
   "source": [
    "n = 5\n",
    "n = n + 1 # 이는 n += 1과 완전히 동일.\n",
    "n = n + 1\n",
    "\n",
    "n"
   ]
  },
  {
   "cell_type": "code",
   "execution_count": null,
   "metadata": {
    "colab": {
     "base_uri": "https://localhost:8080/"
    },
    "id": "WcCq9LkOSTRX",
    "outputId": "e0042e1c-8f8f-4900-e5cc-d9db0c8656a0"
   },
   "outputs": [
    {
     "data": {
      "text/plain": [
       "8"
      ]
     },
     "execution_count": 8,
     "metadata": {},
     "output_type": "execute_result"
    }
   ],
   "source": [
    "a = 2\n",
    "b = 3\n",
    "\n",
    "a ** b"
   ]
  },
  {
   "cell_type": "code",
   "execution_count": null,
   "metadata": {
    "id": "uTwc81x2SrHm"
   },
   "outputs": [],
   "source": [
    "a **= b"
   ]
  },
  {
   "cell_type": "code",
   "execution_count": null,
   "metadata": {
    "colab": {
     "base_uri": "https://localhost:8080/"
    },
    "id": "sCfAt9Y1Stse",
    "outputId": "7aee1ea2-006a-49cb-a0dc-4a420127f2d2"
   },
   "outputs": [
    {
     "data": {
      "text/plain": [
       "8"
      ]
     },
     "execution_count": 10,
     "metadata": {},
     "output_type": "execute_result"
    }
   ],
   "source": [
    "a"
   ]
  },
  {
   "cell_type": "markdown",
   "metadata": {
    "id": "bE5MBfTWS9pa"
   },
   "source": [
    "나눗셈\n",
    "- 일반 나눗셈 a/b\n",
    "- 정수 나눗셈 a//b\n",
    "- 나머지 나눗셈 a%b\n",
    "\n",
    "divmod()를 사용하면 몫과 나머지를 한 번에 구할 수 있다."
   ]
  },
  {
   "cell_type": "code",
   "execution_count": null,
   "metadata": {
    "colab": {
     "base_uri": "https://localhost:8080/"
    },
    "id": "_OPY8bBKSu1L",
    "outputId": "b336b15b-cd2f-4814-fa55-2b3d30f9747d"
   },
   "outputs": [
    {
     "name": "stdout",
     "output_type": "stream",
     "text": [
      "2.5\n",
      "2\n",
      "1\n",
      "(2, 1)\n"
     ]
    }
   ],
   "source": [
    "print(5/2)\n",
    "print(5//2)\n",
    "print(5%2)\n",
    "\n",
    "print(divmod(5, 2))"
   ]
  },
  {
   "cell_type": "markdown",
   "metadata": {
    "id": "REHw4YDbTdpw"
   },
   "source": [
    "## 1.6 기본 입력, 출력\n",
    "\n",
    "사용자에게 값을 입력받는 방법 : input() 함수를 사용. 반환값 타입은 ***문자열***"
   ]
  },
  {
   "cell_type": "code",
   "execution_count": null,
   "metadata": {
    "colab": {
     "base_uri": "https://localhost:8080/"
    },
    "id": "C3VBthiUTUpr",
    "outputId": "4cf4f43b-2e6e-450c-ea93-ddb25c1618b7"
   },
   "outputs": [
    {
     "name": "stdout",
     "output_type": "stream",
     "text": [
      "22222\n"
     ]
    },
    {
     "data": {
      "text/plain": [
       "str"
      ]
     },
     "execution_count": 12,
     "metadata": {},
     "output_type": "execute_result"
    }
   ],
   "source": [
    "test = input()\n",
    "type(test)"
   ]
  },
  {
   "cell_type": "code",
   "execution_count": null,
   "metadata": {
    "colab": {
     "base_uri": "https://localhost:8080/"
    },
    "id": "HDSiElNbT1Dc",
    "outputId": "9f503f9d-b810-4d24-bdd7-ea8c98b111b9"
   },
   "outputs": [
    {
     "name": "stdout",
     "output_type": "stream",
     "text": [
      "3\n",
      "2.0\n"
     ]
    },
    {
     "data": {
      "text/plain": [
       "5.0"
      ]
     },
     "execution_count": 14,
     "metadata": {},
     "output_type": "execute_result"
    }
   ],
   "source": [
    "test_a = int(input())\n",
    "test_b = float(input())\n",
    "test_a + test_b"
   ]
  },
  {
   "cell_type": "markdown",
   "metadata": {
    "id": "fBXbiyKEUIRr"
   },
   "source": [
    "출력함수는 print()를 사용한다.\n",
    "\n",
    "인수로는\n",
    "- sep=문자열 : 문자열 구분자를 기본 설정인 \"빈칸\"에서 다른 문자로 설정한다. sep=''로 되어 있으면 구분자가 없음으로 설정된다.\n",
    "- end=문자열 : 마지막 인수를 출력한 후, 맨 마지막에 출력할 문자열을 설정한다. 기본값은 \"\\n\"이다."
   ]
  },
  {
   "cell_type": "code",
   "execution_count": null,
   "metadata": {
    "colab": {
     "base_uri": "https://localhost:8080/"
    },
    "id": "PRTc6bSiT--w",
    "outputId": "323e6ac7-4cce-4cc6-f3c0-9f46301a4de2"
   },
   "outputs": [
    {
     "name": "stdout",
     "output_type": "stream",
     "text": [
      "HeLLow~~~1234\n"
     ]
    }
   ],
   "source": [
    "print(\"HeLLow\", 1234, sep=\"~~~\")"
   ]
  },
  {
   "cell_type": "code",
   "execution_count": null,
   "metadata": {
    "colab": {
     "base_uri": "https://localhost:8080/"
    },
    "id": "7nuzRPYjUpZW",
    "outputId": "e6e1da27-56b0-4a44-aef3-f390eaff17ef"
   },
   "outputs": [
    {
     "name": "stdout",
     "output_type": "stream",
     "text": [
      "0 1 2 3 4 "
     ]
    }
   ],
   "source": [
    "for i in range(5):\n",
    "    print(i, end=' ')"
   ]
  }
 ],
 "metadata": {
  "colab": {
   "collapsed_sections": [],
   "name": "Chapter 1 (1.1 ~ 1.6)",
   "provenance": []
  },
  "kernelspec": {
   "display_name": "Python 3 (ipykernel)",
   "language": "python",
   "name": "python3"
  },
  "language_info": {
   "codemirror_mode": {
    "name": "ipython",
    "version": 3
   },
   "file_extension": ".py",
   "mimetype": "text/x-python",
   "name": "python",
   "nbconvert_exporter": "python",
   "pygments_lexer": "ipython3",
   "version": "3.9.7"
  }
 },
 "nbformat": 4,
 "nbformat_minor": 1
}
