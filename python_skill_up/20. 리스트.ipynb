{
 "cells": [
  {
   "cell_type": "markdown",
   "id": "6ae7d491",
   "metadata": {},
   "source": [
    "### 리스트 안에 여러 데이터 타입을 섞는 것은 좋지 못하다.\n",
    "python 3.0부터는 데이터 타입이 섞여 있으면 sort 메서드를 사용할 수 없다.  \n",
    "정수와 실수의 혼합은 가능."
   ]
  },
  {
   "cell_type": "code",
   "execution_count": 1,
   "id": "14be04c3",
   "metadata": {},
   "outputs": [
    {
     "name": "stdout",
     "output_type": "stream",
     "text": [
      "TypeError: '<' not supported between instances of 'str' and 'int'\n"
     ]
    }
   ],
   "source": [
    "test_list = [1, 2, 'zzz', 3.5]\n",
    "try:\n",
    "    test_list.sort() # TypeError: '<' not supported between instances of 'str' and 'int'\n",
    "    print(test_list)\n",
    "    \n",
    "except:\n",
    "    print(\"TypeError: '<' not supported between instances of 'str' and 'int'\")"
   ]
  },
  {
   "cell_type": "code",
   "execution_count": 2,
   "id": "2b9848b5",
   "metadata": {},
   "outputs": [
    {
     "name": "stdout",
     "output_type": "stream",
     "text": [
      "[1.7, 13, 21.3, 33.3, 33.4]\n"
     ]
    }
   ],
   "source": [
    "test_list = [13, 21.3, 1.7, 33.3, 33.4]\n",
    "test_list.sort()\n",
    "print(test_list)"
   ]
  },
  {
   "cell_type": "markdown",
   "id": "c3b4a1b5",
   "metadata": {},
   "source": [
    "### remove() : 입력된 인수에 해당 하는 원소를 삭제\n",
    "아래 코드는 값이 1인 항목을 삭제한다.  \n",
    ">인덱스 값으로 삭제하는 것이 아님!!!"
   ]
  },
  {
   "cell_type": "code",
   "execution_count": 3,
   "id": "42267a4d",
   "metadata": {},
   "outputs": [
    {
     "name": "stdout",
     "output_type": "stream",
     "text": [
      "[2, 3, 5, 4, 7]\n"
     ]
    }
   ],
   "source": [
    "test_list = [2, 3, 1, 5, 4, 7]\n",
    "test_list.remove(1)\n",
    "print(test_list)"
   ]
  },
  {
   "cell_type": "markdown",
   "id": "f123a591",
   "metadata": {},
   "source": [
    "만약 동일한 값의 원소가 2개 이상 존재하는 경우, 인덱스가 더 앞서는 쪽만 삭제된다."
   ]
  },
  {
   "cell_type": "code",
   "execution_count": 4,
   "id": "b3f4c7d8",
   "metadata": {},
   "outputs": [
    {
     "name": "stdout",
     "output_type": "stream",
     "text": [
      "[6, 0, 3, 5, 2, 1]\n"
     ]
    }
   ],
   "source": [
    "test_list = [6, 0, 3, 5, 1, 2, 1]\n",
    "test_list.remove(1)\n",
    "print(test_list)"
   ]
  },
  {
   "cell_type": "markdown",
   "id": "09dbe095",
   "metadata": {},
   "source": [
    "### 리스트 복사\n",
    "python에서 한 컬렉션을 제대로 복사하기 위해서는 추가 작업이 필요하다. 무슨 말인지 모르겠다.  \n",
    "우선 예제 코드를 살펴보자."
   ]
  },
  {
   "cell_type": "code",
   "execution_count": 5,
   "id": "77d5e58f",
   "metadata": {},
   "outputs": [],
   "source": [
    "list_a = [2, 5, 10]\n",
    "list_b = list_a"
   ]
  },
  {
   "cell_type": "code",
   "execution_count": 6,
   "id": "84d21938",
   "metadata": {},
   "outputs": [
    {
     "name": "stdout",
     "output_type": "stream",
     "text": [
      "리스트 b :  [2, 5, 10, 100]\n",
      "리스트 a :  [2, 5, 10, 100]\n"
     ]
    }
   ],
   "source": [
    "list_b.append(100)\n",
    "\n",
    "print(\"리스트 b : \", list_b)\n",
    "print(\"리스트 a : \", list_a)"
   ]
  },
  {
   "cell_type": "markdown",
   "id": "82e6dad5",
   "metadata": {},
   "source": [
    "문제가 무엇인지 보이는가? list_b에 list_a를 대입하였으니, 별도의 리스트 객체 list_b가 생성되었다고 생각하고,  \n",
    "list_b에 100을 append한 결과를 출력해보니 list_a까지 값이 추가되었다.\n",
    "즉, 동일한 값을 그저 복사하기를 원했는데 list_a와 list_b는 같은 곳을 참조하고 있다는 뜻이다.\n",
    "\n",
    "원하는대로 그저 값 복사만 하고 싶다면 다음과 같이한다."
   ]
  },
  {
   "cell_type": "code",
   "execution_count": 7,
   "id": "a9fa0fd6",
   "metadata": {},
   "outputs": [
    {
     "name": "stdout",
     "output_type": "stream",
     "text": [
      "리스트 a :  [2, 5, 10]\n",
      "리스트 b :  [2, 5, 10, 13]\n"
     ]
    }
   ],
   "source": [
    "list_a = [2, 5, 10]\n",
    "list_b = list_a[:]\n",
    "\n",
    "list_b.append(13)\n",
    "print(\"리스트 a : \", list_a)\n",
    "print(\"리스트 b : \", list_b)"
   ]
  },
  {
   "cell_type": "code",
   "execution_count": 8,
   "id": "ecc9dedd",
   "metadata": {},
   "outputs": [
    {
     "name": "stdout",
     "output_type": "stream",
     "text": [
      "[2, 5, 10]\n",
      "[2, 5, 10, 27]\n"
     ]
    }
   ],
   "source": [
    "list_c = list_a.copy()\n",
    "\n",
    "list_c.append(27)\n",
    "print(list_a)\n",
    "print(list_c)"
   ]
  },
  {
   "cell_type": "markdown",
   "id": "3545d38b",
   "metadata": {},
   "source": [
    "### 리스트는 Mutable\n",
    "\n",
    "리스트는 값 변경이 가능하기 때문에 전체 리스트를 다시 생성할 필요 없이 메모리에 있는 객체를 바로 수정할 수 있다."
   ]
  },
  {
   "cell_type": "code",
   "execution_count": 9,
   "id": "59e10c13",
   "metadata": {},
   "outputs": [
    {
     "name": "stdout",
     "output_type": "stream",
     "text": [
      "['안녕하세요', '나는', 'ooo', '입니다']\n"
     ]
    }
   ],
   "source": [
    "test_list = ['안녕하세요', '나는', 'xxx', '입니다']\n",
    "test_list[2] = 'ooo'\n",
    "print(test_list)"
   ]
  },
  {
   "cell_type": "markdown",
   "id": "17bfed82",
   "metadata": {},
   "source": [
    "### range 함수는 꼭 필요한 곳에만 사용"
   ]
  },
  {
   "cell_type": "code",
   "execution_count": 10,
   "id": "0ed75184",
   "metadata": {},
   "outputs": [
    {
     "name": "stdout",
     "output_type": "stream",
     "text": [
      "Hello\n",
      "my\n",
      "name\n",
      "is\n",
      "Jun\n",
      "\n",
      "Hello\n",
      "my\n",
      "name\n",
      "is\n",
      "Jun\n"
     ]
    }
   ],
   "source": [
    "test_list = [\"Hello\", \"my\", \"name\", \"is\", \"Jun\"]\n",
    "\n",
    "# 비효율적! 느림!\n",
    "for i in range(len(test_list)):\n",
    "    print(test_list[i])\n",
    "    \n",
    "print()\n",
    "\n",
    "# 이렇게 하는 것이 표준\n",
    "for i in test_list:\n",
    "    print(i)"
   ]
  },
  {
   "cell_type": "markdown",
   "id": "93425aa6",
   "metadata": {},
   "source": [
    "### enumerate(iterable, start_index)\n",
    "\n",
    "enumerate는 인수로 iterable 객체를 받아서 튜플이(index, 원소) 나열된 또 다른 iterable을 생성한다."
   ]
  },
  {
   "cell_type": "code",
   "execution_count": 11,
   "id": "2e45cdbb",
   "metadata": {},
   "outputs": [
    {
     "name": "stdout",
     "output_type": "stream",
     "text": [
      "[10, 9, 8, 7, 6, 5, 4, 3, 2, 1]\n"
     ]
    }
   ],
   "source": [
    "test_list = [x for x in range(10, 0, -1)]\n",
    "print(test_list)"
   ]
  },
  {
   "cell_type": "code",
   "execution_count": 12,
   "id": "b0b328f0",
   "metadata": {},
   "outputs": [
    {
     "name": "stdout",
     "output_type": "stream",
     "text": [
      "1 10\n",
      "2 9\n",
      "3 8\n",
      "4 7\n",
      "5 6\n",
      "6 5\n",
      "7 4\n",
      "8 3\n",
      "9 2\n",
      "10 1\n"
     ]
    }
   ],
   "source": [
    "for index, elem in enumerate(test_list, start=1):\n",
    "    print(index, elem)"
   ]
  },
  {
   "cell_type": "code",
   "execution_count": 13,
   "id": "bd52507e",
   "metadata": {},
   "outputs": [
    {
     "name": "stdout",
     "output_type": "stream",
     "text": [
      "(0, 10)\n",
      "(1, 9)\n",
      "(2, 8)\n",
      "(3, 7)\n",
      "(4, 6)\n",
      "(5, 5)\n",
      "(6, 4)\n",
      "(7, 3)\n",
      "(8, 2)\n",
      "(9, 1)\n"
     ]
    }
   ],
   "source": [
    "for x in enumerate(test_list):\n",
    "    print(x)"
   ]
  },
  {
   "cell_type": "markdown",
   "id": "43724486",
   "metadata": {},
   "source": [
    "### slicing\n",
    "인덱싱은 한 번에 하나의 항목만 가져올 수 있으나, 슬라이싱을 사용하면 구체적인 범위의 하위 리스트를 만들 수 있다.  \n",
    "> (리스트에서 리스트 조각을 만들어서 Slicing....)"
   ]
  },
  {
   "cell_type": "code",
   "execution_count": 14,
   "id": "70729638",
   "metadata": {},
   "outputs": [
    {
     "name": "stdout",
     "output_type": "stream",
     "text": [
      "[0, 2, 4, 6, 8, 10, 12, 14, 16, 18]\n"
     ]
    }
   ],
   "source": [
    "test_list = [i for i in range(0, 20, 2)]\n",
    "print(test_list)"
   ]
  },
  {
   "cell_type": "code",
   "execution_count": 15,
   "id": "ddb0cb3b",
   "metadata": {},
   "outputs": [
    {
     "name": "stdout",
     "output_type": "stream",
     "text": [
      "[4, 6, 8]\n",
      "[0, 2, 4, 6, 8, 10, 12]\n",
      "[6, 8, 10, 12, 14, 16, 18]\n",
      "[0, 4, 8]\n"
     ]
    }
   ],
   "source": [
    "print(test_list[2:5]) # 2번 ~ 4번까지 0, 2, 4, 6\n",
    "print(test_list[:7]) # 0번 ~ 6번까지\n",
    "print(test_list[3:]) # 6부터 끝까지\n",
    "print(test_list[0:5:2]) # 0, 4, 8"
   ]
  },
  {
   "cell_type": "code",
   "execution_count": 16,
   "id": "1e85e069",
   "metadata": {},
   "outputs": [
    {
     "name": "stdout",
     "output_type": "stream",
     "text": [
      "[12, 14, 16]\n",
      "[18]\n",
      "[16, 18]\n"
     ]
    }
   ],
   "source": [
    "print(test_list[-4:-1]) # 12, 14, 16\n",
    "print(test_list[-1:]) # 18\n",
    "print(test_list[-2:])"
   ]
  },
  {
   "cell_type": "markdown",
   "id": "32a1af1c",
   "metadata": {},
   "source": [
    "### 슬라이싱에서는 리스트 길이를 벗어나도 가능한 범위 최대치를 포함해서 반환"
   ]
  },
  {
   "cell_type": "code",
   "execution_count": 17,
   "id": "1160cb43",
   "metadata": {},
   "outputs": [
    {
     "name": "stdout",
     "output_type": "stream",
     "text": [
      "[1, 2, 5]\n"
     ]
    }
   ],
   "source": [
    "test_list = [1, 2, 5]\n",
    "print(test_list[:10000])"
   ]
  },
  {
   "cell_type": "markdown",
   "id": "9f341003",
   "metadata": {},
   "source": [
    "### 리스트 역순 나열\n",
    "\n",
    "아래 코드는 리스트의 마지막 항목에서 시작해 앞쪽으로 순회한 리스트 복사본을 생성한다."
   ]
  },
  {
   "cell_type": "code",
   "execution_count": 18,
   "id": "72adfadf",
   "metadata": {},
   "outputs": [
    {
     "name": "stdout",
     "output_type": "stream",
     "text": [
      "[7, 6, 5, 4, 3, 2, 1]\n"
     ]
    }
   ],
   "source": [
    "test_list = [1,2,3,4,5,6,7]\n",
    "print(test_list[::-1])"
   ]
  },
  {
   "cell_type": "markdown",
   "id": "1d820a7e",
   "metadata": {},
   "source": [
    "### 스텝 값이 음수가 되면\n",
    "- 인수 시작의 기본값은 -로 인덱스된 리스트의 마지막 항목이 된다.\n",
    "- 인수 종료의 기본값은 리스트의 첫 항목이 된다."
   ]
  },
  {
   "cell_type": "code",
   "execution_count": 19,
   "id": "6b841b40",
   "metadata": {},
   "outputs": [
    {
     "name": "stdout",
     "output_type": "stream",
     "text": [
      "[0, 1, 2, 3, 4, 5, 6, 7, 8, 9]\n"
     ]
    }
   ],
   "source": [
    "test_list = [x for x in range(10)]\n",
    "print(test_list)"
   ]
  },
  {
   "cell_type": "code",
   "execution_count": 20,
   "id": "224659b9",
   "metadata": {},
   "outputs": [
    {
     "name": "stdout",
     "output_type": "stream",
     "text": [
      "[9, 8, 7, 6, 5, 4, 3, 2, 1, 0]\n"
     ]
    }
   ],
   "source": [
    "print(test_list[::-1])"
   ]
  },
  {
   "cell_type": "code",
   "execution_count": 21,
   "id": "60759502",
   "metadata": {},
   "outputs": [
    {
     "name": "stdout",
     "output_type": "stream",
     "text": [
      "[2, 1, 0]\n"
     ]
    }
   ],
   "source": [
    "print(test_list[2::-1])"
   ]
  },
  {
   "cell_type": "code",
   "execution_count": 22,
   "id": "35abe0a0",
   "metadata": {},
   "outputs": [
    {
     "name": "stdout",
     "output_type": "stream",
     "text": [
      "[5, 4, 3, 2, 1]\n"
     ]
    }
   ],
   "source": [
    "print(test_list[5:0:-1])"
   ]
  },
  {
   "cell_type": "markdown",
   "id": "93df7fd8",
   "metadata": {},
   "source": [
    "### Slicing 값을 리스트에 대입\n",
    "리스트는 가변 타입이기 때문에 항목에 바로 값을 대입할 수 있다고 했다. 이 성질은 슬라이싱에도 반영된다.  \n",
    "이 예시는 [20, 30, 40]을 삭제하고 [999, 888]을 삽입한 것이다."
   ]
  },
  {
   "cell_type": "code",
   "execution_count": 23,
   "id": "32ffd5a5",
   "metadata": {},
   "outputs": [
    {
     "name": "stdout",
     "output_type": "stream",
     "text": [
      "[10, 999, 888, 50, 60, 70]\n"
     ]
    }
   ],
   "source": [
    "test_list = [10, 20, 30, 40, 50, 60, 70]\n",
    "test_list[1:4] = [999, 888] # 20 30 40에 999와 888이 대입\n",
    "print(test_list)"
   ]
  },
  {
   "cell_type": "markdown",
   "id": "78b13f77",
   "metadata": {},
   "source": [
    "슬라이싱 범위의 길이가 0인 인덱스를 넣을 수도 있다. 이렇게 하면 기존 값을 삭제하지 않고, 해당 위치에 새로운 리스트 항목을 삽입한다."
   ]
  },
  {
   "cell_type": "code",
   "execution_count": 24,
   "id": "d140f54f",
   "metadata": {},
   "outputs": [
    {
     "name": "stdout",
     "output_type": "stream",
     "text": [
      "[-100, -200, 1, 2, 3, 4, 5]\n"
     ]
    }
   ],
   "source": [
    "test_list = [1, 2, 3, 4, 5]\n",
    "test_list[0:0] = [-100, -200]\n",
    "print(test_list)"
   ]
  },
  {
   "cell_type": "markdown",
   "id": "6e687dd2",
   "metadata": {},
   "source": [
    "- 조각 안에 리스트를 대입할 때, 대입하려고 하는 대상은 항목이 전혀 없거나 하나만 있더라도 반드시 다른 리스트나 컬렉션이어야 한다.\n",
    "- 조각 안에 리스트를 대입할 때 스텝이 명시되는 경우 조각의 범위와 삽입하려는 데이터의 길이가 반드시 같아야 한다."
   ]
  },
  {
   "cell_type": "code",
   "execution_count": 25,
   "id": "489a9ce6",
   "metadata": {},
   "outputs": [
    {
     "name": "stdout",
     "output_type": "stream",
     "text": [
      "[0, 0]\n",
      "[1, 0, 0]\n",
      "TypeError: can only assign an iterable\n"
     ]
    }
   ],
   "source": [
    "test = [0, 0, 0]\n",
    "\n",
    "test[0:1] = []\n",
    "print(test)\n",
    "\n",
    "test[0:0] = [1]\n",
    "print(test)\n",
    "\n",
    "try:\n",
    "    test[0:0] = 777\n",
    "    print(test)\n",
    "    \n",
    "except:\n",
    "    print(\"TypeError: can only assign an iterable\")"
   ]
  },
  {
   "cell_type": "code",
   "execution_count": 26,
   "id": "b62c4a68",
   "metadata": {},
   "outputs": [
    {
     "name": "stdout",
     "output_type": "stream",
     "text": [
      "[3, 3, 1, 1, 1]\n"
     ]
    }
   ],
   "source": [
    "test = [1, 1, 1, 1, 1]\n",
    "\n",
    "test[0:2:1] = [3,3]\n",
    "print(test)"
   ]
  },
  {
   "cell_type": "code",
   "execution_count": 27,
   "id": "7e5f6c74",
   "metadata": {},
   "outputs": [],
   "source": [
    "t1 = [1, 2, 3, 4, 5]\n",
    "t2 = t1 # t2에 t1가 참조하고 있는 객체를 대입한다. 결과적으로 t2는 t1의 별칭이 된다."
   ]
  },
  {
   "cell_type": "code",
   "execution_count": 28,
   "id": "59935845",
   "metadata": {},
   "outputs": [
    {
     "name": "stdout",
     "output_type": "stream",
     "text": [
      "[1, 2, 3, 4, 5, 10]\n",
      "[1, 2, 3, 4, 5, 10]\n"
     ]
    }
   ],
   "source": [
    "t1.append(10)\n",
    "\n",
    "print(t1)\n",
    "print(t2)"
   ]
  },
  {
   "cell_type": "code",
   "execution_count": 29,
   "id": "72abb270",
   "metadata": {},
   "outputs": [
    {
     "name": "stdout",
     "output_type": "stream",
     "text": [
      "[1, 2, 3, 4, 5, 20]\n",
      "[1, 2, 3, 4, 5]\n",
      "[1, 2, 3, 4, 5]\n"
     ]
    }
   ],
   "source": [
    "t1 = [1, 2, 3, 4, 5]\n",
    "t2 = t1[:]\n",
    "t3 = t1.copy()\n",
    "\n",
    "t1.append(20)\n",
    "print(t1)\n",
    "print(t2)\n",
    "print(t3)"
   ]
  },
  {
   "cell_type": "code",
   "execution_count": 31,
   "id": "d3590b4d",
   "metadata": {},
   "outputs": [
    {
     "data": {
      "text/plain": [
       "True"
      ]
     },
     "execution_count": 31,
     "metadata": {},
     "output_type": "execute_result"
    }
   ],
   "source": [
    "test1 = [10, 20 ,30]\n",
    "test2 = [10, 20]\n",
    "\n",
    "test1 > test2"
   ]
  },
  {
   "cell_type": "code",
   "execution_count": 33,
   "id": "ad2cb13f",
   "metadata": {},
   "outputs": [
    {
     "name": "stdout",
     "output_type": "stream",
     "text": [
      "1 2 3 4 5 6 7 8 9\n"
     ]
    }
   ],
   "source": [
    "test = [1, 2, 3, 4, 5, 6, 7, 8, 9]\n",
    "print(*test)"
   ]
  },
  {
   "cell_type": "code",
   "execution_count": null,
   "id": "9a7ecf2a",
   "metadata": {},
   "outputs": [],
   "source": []
  }
 ],
 "metadata": {
  "kernelspec": {
   "display_name": "Python 3 (ipykernel)",
   "language": "python",
   "name": "python3"
  },
  "language_info": {
   "codemirror_mode": {
    "name": "ipython",
    "version": 3
   },
   "file_extension": ".py",
   "mimetype": "text/x-python",
   "name": "python",
   "nbconvert_exporter": "python",
   "pygments_lexer": "ipython3",
   "version": "3.8.10"
  }
 },
 "nbformat": 4,
 "nbformat_minor": 5
}
