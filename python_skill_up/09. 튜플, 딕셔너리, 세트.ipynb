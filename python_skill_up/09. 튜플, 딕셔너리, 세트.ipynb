{
 "cells": [
  {
   "cell_type": "markdown",
   "metadata": {
    "id": "fm1sU-G-NTbs"
   },
   "source": [
    "## 1.17 Tuple\n",
    "\n",
    "튜플의 개념은 리스트처럼 중복을 허용하면서 추가된 항목의 순서가 유지된다.\n",
    "리스트는 \"[ ]\" 기호를 사용하고, 튜플은 \"( )\"기호를 사용한다. \n",
    "\n",
    "리스트는 내용을 변경할 수 있지만, 튜플 값은 변경할 수 없는 immutable이다."
   ]
  },
  {
   "cell_type": "code",
   "execution_count": 1,
   "metadata": {
    "id": "gHhwXpbaNOmw"
   },
   "outputs": [],
   "source": [
    "def a_function():\n",
    "    return 10, 20, 5 # return (10, 20, 5) 와 같다."
   ]
  },
  {
   "cell_type": "code",
   "execution_count": 2,
   "metadata": {
    "colab": {
     "base_uri": "https://localhost:8080/"
    },
    "id": "UU1tV_7AOHaY",
    "outputId": "e18f8c3b-1b2a-47ff-b6e0-9c51b40d7d1a"
   },
   "outputs": [
    {
     "data": {
      "text/plain": [
       "int"
      ]
     },
     "execution_count": 2,
     "metadata": {},
     "output_type": "execute_result"
    }
   ],
   "source": [
    "a, b, c = a_function()\n",
    "type(a)"
   ]
  },
  {
   "cell_type": "code",
   "execution_count": 3,
   "metadata": {
    "colab": {
     "base_uri": "https://localhost:8080/"
    },
    "id": "DgQl69ElOSi3",
    "outputId": "7d6b98b1-0916-4822-b22c-ee38ed0aac02"
   },
   "outputs": [
    {
     "data": {
      "text/plain": [
       "tuple"
      ]
     },
     "execution_count": 3,
     "metadata": {},
     "output_type": "execute_result"
    }
   ],
   "source": [
    "type((a, b, c))"
   ]
  },
  {
   "cell_type": "code",
   "execution_count": 4,
   "metadata": {
    "id": "0sGYyJ6rOT1d"
   },
   "outputs": [],
   "source": [
    "test_tuple = (1, 2, 3)"
   ]
  },
  {
   "cell_type": "code",
   "execution_count": 5,
   "metadata": {
    "colab": {
     "base_uri": "https://localhost:8080/"
    },
    "id": "mLv6MVXIS1SY",
    "outputId": "7f1ab72b-e0ca-4ead-d665-59aaec41129b"
   },
   "outputs": [
    {
     "data": {
      "text/plain": [
       "1"
      ]
     },
     "execution_count": 5,
     "metadata": {},
     "output_type": "execute_result"
    }
   ],
   "source": [
    "test_tuple[0]"
   ]
  },
  {
   "cell_type": "code",
   "execution_count": 6,
   "metadata": {
    "colab": {
     "base_uri": "https://localhost:8080/",
     "height": 169
    },
    "id": "3YhbtsC1S6T-",
    "outputId": "40168806-92ac-43d2-88d0-bf73886abe56"
   },
   "outputs": [
    {
     "ename": "TypeError",
     "evalue": "'tuple' object does not support item assignment",
     "output_type": "error",
     "traceback": [
      "\u001b[0;31m---------------------------------------------------------------------------\u001b[0m",
      "\u001b[0;31mTypeError\u001b[0m                                 Traceback (most recent call last)",
      "\u001b[0;32m/var/folders/_l/32zr2gnn4k5frmz3070p9bkh0000gn/T/ipykernel_4294/3132936424.py\u001b[0m in \u001b[0;36m<module>\u001b[0;34m\u001b[0m\n\u001b[0;32m----> 1\u001b[0;31m \u001b[0mtest_tuple\u001b[0m\u001b[0;34m[\u001b[0m\u001b[0;36m0\u001b[0m\u001b[0;34m]\u001b[0m \u001b[0;34m=\u001b[0m \u001b[0;36m777\u001b[0m\u001b[0;34m\u001b[0m\u001b[0;34m\u001b[0m\u001b[0m\n\u001b[0m",
      "\u001b[0;31mTypeError\u001b[0m: 'tuple' object does not support item assignment"
     ]
    }
   ],
   "source": [
    "test_tuple[0] = 777"
   ]
  },
  {
   "cell_type": "markdown",
   "metadata": {
    "id": "MUI-RjUES_BF"
   },
   "source": [
    "## 1.18 딕셔너리\n",
    "\n",
    "딕셔너리는 키 + 값 쌍으로 구성된 열거형 데이터를 지닌 컬렉션이다.  \n",
    "특히 키는 딕셔너리 내에서 유일한 열거형 데이터이어야 하므로, 중복이 불가능하다.\n",
    "각 키는 값으로 불리는 데이터 객체외 연결된다."
   ]
  },
  {
   "cell_type": "code",
   "execution_count": 7,
   "metadata": {
    "id": "uJz5a6cjS9ZJ"
   },
   "outputs": [],
   "source": [
    "grade_dict = {\"언어\":70, \"외국어\":90, \"수리\":30}"
   ]
  },
  {
   "cell_type": "code",
   "execution_count": 8,
   "metadata": {
    "colab": {
     "base_uri": "https://localhost:8080/"
    },
    "id": "tHjWW56STs7_",
    "outputId": "5caf4e8b-0e20-435c-dae9-62fd7aaac569"
   },
   "outputs": [
    {
     "data": {
      "text/plain": [
       "30"
      ]
     },
     "execution_count": 8,
     "metadata": {},
     "output_type": "execute_result"
    }
   ],
   "source": [
    "grade_dict[\"수리\"]"
   ]
  },
  {
   "cell_type": "markdown",
   "metadata": {
    "id": "PZmH0_ttTzst"
   },
   "source": [
    "딕셔너리가 생성되고 나면 다음과 같이 언제든지 값을 추가할 수 있다."
   ]
  },
  {
   "cell_type": "code",
   "execution_count": 9,
   "metadata": {
    "colab": {
     "base_uri": "https://localhost:8080/"
    },
    "id": "v6bddkc9TxAR",
    "outputId": "add06ba7-529d-40af-85df-683c85bb978c"
   },
   "outputs": [
    {
     "data": {
      "text/plain": [
       "{'언어': 70, '외국어': 90, '수리': 30, '화학': 100}"
      ]
     },
     "execution_count": 9,
     "metadata": {},
     "output_type": "execute_result"
    }
   ],
   "source": [
    "grade_dict['화학'] = 100\n",
    "grade_dict"
   ]
  },
  {
   "cell_type": "code",
   "execution_count": 10,
   "metadata": {
    "colab": {
     "base_uri": "https://localhost:8080/"
    },
    "id": "YGCeWqoZT-i0",
    "outputId": "7330aa4c-c211-403c-f921-a9885cce8e7a"
   },
   "outputs": [
    {
     "data": {
      "text/plain": [
       "{'ID_1': 'Pervinco'}"
      ]
     },
     "execution_count": 10,
     "metadata": {},
     "output_type": "execute_result"
    }
   ],
   "source": [
    "test_dict = {}\n",
    "test_dict[\"ID_1\"] = \"Pervinco\"\n",
    "\n",
    "test_dict"
   ]
  },
  {
   "cell_type": "markdown",
   "metadata": {
    "id": "n6PNXOsSUTFW"
   },
   "source": [
    "딕셔너리 내의 데이터 타입을 선택할 때는 다음 규칙을 따라야 한다.\n",
    "- 모든 키는 반드시 동일한 타입이거나 최소한 정수나 실수처럼 서로 비교할 수 있게 호환이 가능한 타입이어야 한다.\n",
    "- 키 타입은 반드시 불변 타입이어야 한다. 문자열과 튜플은 불변이나 리스트는 아니다.\n",
    "- 값은 어떤 타입이 와도 상관없지만, 가급적 값 객체는 모두 동일한 타입을 사용하는 것이 좋다.\n",
    "\n",
    "### 기억해 둘 것\n",
    "존재하지 않는 키를 조회하려고 하면 에러가 발생하므로, 이를 피하기 위해 get 메서드를 사용하여 해당 키가 존재하는지 확인하는 것이 좋다.\n",
    "\n",
    "```\n",
    "딕셔너리.get(key, 기본값)\n",
    "```\n",
    "\n",
    "만약 디셔너리 항목 중에 키가 존재하면 해당 값을 반환하지만, 키가 존재하지 않는다면 명시한 기본값을 반환하거나 명시하지 않은 경우 None을 반환한다."
   ]
  },
  {
   "cell_type": "code",
   "execution_count": 11,
   "metadata": {
    "colab": {
     "base_uri": "https://localhost:8080/",
     "height": 36
    },
    "id": "QrDFjokbUMAQ",
    "outputId": "d2e2ffe5-e907-487c-ad55-f724daaa0e8e"
   },
   "outputs": [
    {
     "data": {
      "text/plain": [
       "'EMPTY'"
      ]
     },
     "execution_count": 11,
     "metadata": {},
     "output_type": "execute_result"
    }
   ],
   "source": [
    "test_dict.get(\"minjun\", \"EMPTY\")"
   ]
  },
  {
   "cell_type": "markdown",
   "metadata": {
    "id": "5an8Uci1ViSz"
   },
   "source": [
    "## 1.19 세트\n",
    "\n",
    "- 수학의 집합과 동일한 개념이다.\n",
    "- 모든 항목은 유일해야 한다. 즉, 중복된 값을 허용하지 않는다.(이미 존재하는 값을 추가하려고 하면 무시된다.)\n",
    "- 항목 간 순서가 존재하지 않는다. 즉, 인덱스로 원소에 접근이 불가능하다.\n",
    "- 모든 항목은 딕셔너리의 키와 같이 불변(immortal)타입이어야 한다."
   ]
  },
  {
   "cell_type": "code",
   "execution_count": 12,
   "metadata": {},
   "outputs": [],
   "source": [
    "test_set1 = {\"Iron-Man\", \"Spider-Man\", \"Hulk\"}"
   ]
  },
  {
   "cell_type": "code",
   "execution_count": 13,
   "metadata": {},
   "outputs": [
    {
     "data": {
      "text/plain": [
       "{'Captain-America', 'Hulk', 'Iron-Man', 'Spider-Man'}"
      ]
     },
     "execution_count": 13,
     "metadata": {},
     "output_type": "execute_result"
    }
   ],
   "source": [
    "test_set1.add(\"Captain-America\")\n",
    "test_set1"
   ]
  },
  {
   "cell_type": "code",
   "execution_count": 14,
   "metadata": {},
   "outputs": [
    {
     "data": {
      "text/plain": [
       "{'Captain-America', 'Hulk', 'Iron-Man', 'Spider-Man'}"
      ]
     },
     "execution_count": 14,
     "metadata": {},
     "output_type": "execute_result"
    }
   ],
   "source": [
    "test_set1.add(\"Spider-Man\")\n",
    "test_set1 # 이미 있는 값이라서 중복 추가되지 않음. 무시당함"
   ]
  },
  {
   "cell_type": "code",
   "execution_count": 15,
   "metadata": {},
   "outputs": [
    {
     "data": {
      "text/plain": [
       "{'Captain-America', 'Iron-Man', 'Spider-Man'}"
      ]
     },
     "execution_count": 15,
     "metadata": {},
     "output_type": "execute_result"
    }
   ],
   "source": [
    "test_set1.remove(\"Hulk\")\n",
    "test_set1"
   ]
  },
  {
   "cell_type": "markdown",
   "metadata": {},
   "source": [
    "### 주의할 점\n",
    "\n",
    "신규 세트를 만들 때는 항목 없이 중괄호 기호만으로 빈 세트를 만들 수 없음.  \n",
    "이 방식은 빈 딕셔너리를 만드는 문법과 동일하기 때문에 다음과 같은 문법을 사용해야 빈 세트를 생성할 수 있다."
   ]
  },
  {
   "cell_type": "code",
   "execution_count": 16,
   "metadata": {},
   "outputs": [
    {
     "data": {
      "text/plain": [
       "dict"
      ]
     },
     "execution_count": 16,
     "metadata": {},
     "output_type": "execute_result"
    }
   ],
   "source": [
    "test_set2 = {}\n",
    "type(test_set2)"
   ]
  },
  {
   "cell_type": "code",
   "execution_count": 17,
   "metadata": {},
   "outputs": [
    {
     "data": {
      "text/plain": [
       "set"
      ]
     },
     "execution_count": 17,
     "metadata": {},
     "output_type": "execute_result"
    }
   ],
   "source": [
    "test_set3 = set()\n",
    "type(test_set3)"
   ]
  },
  {
   "cell_type": "markdown",
   "metadata": {},
   "source": [
    "### 합집합 구하기"
   ]
  },
  {
   "cell_type": "code",
   "execution_count": 18,
   "metadata": {},
   "outputs": [],
   "source": [
    "setA = {1, 2, 3, 4}\n",
    "setB = {3, 4, 5}"
   ]
  },
  {
   "cell_type": "code",
   "execution_count": 19,
   "metadata": {},
   "outputs": [
    {
     "name": "stdout",
     "output_type": "stream",
     "text": [
      "{1, 2, 3, 4, 5}\n",
      "{1, 2, 3, 4, 5}\n"
     ]
    }
   ],
   "source": [
    "setUnion = setA | setB\n",
    "print(setUnion)\n",
    "\n",
    "print(setA.union(setB))"
   ]
  },
  {
   "cell_type": "markdown",
   "metadata": {},
   "source": [
    "### 교집합 구하기"
   ]
  },
  {
   "cell_type": "code",
   "execution_count": 20,
   "metadata": {},
   "outputs": [
    {
     "name": "stdout",
     "output_type": "stream",
     "text": [
      "{3, 4}\n",
      "{3, 4}\n"
     ]
    }
   ],
   "source": [
    "setIntersect = setA & setB\n",
    "print(setIntersect)\n",
    "\n",
    "print(setA.intersection(setB))"
   ]
  },
  {
   "cell_type": "markdown",
   "metadata": {},
   "source": [
    "### 대칭 차집합 구하기\n",
    "\n",
    "대칭차집합(XOR)은 합집합에서 교집합을 제거한 연산 결과이다.  \n",
    "두 집합 중 겹치지 않는 원소."
   ]
  },
  {
   "cell_type": "code",
   "execution_count": 21,
   "metadata": {},
   "outputs": [
    {
     "name": "stdout",
     "output_type": "stream",
     "text": [
      "{1, 2, 5}\n",
      "{1, 2, 5}\n"
     ]
    }
   ],
   "source": [
    "setXOR = setA ^ setB\n",
    "print(setXOR)\n",
    "\n",
    "print(setA.symmetric_difference(setB))"
   ]
  },
  {
   "cell_type": "markdown",
   "metadata": {},
   "source": [
    "### 차집합 구하기\n",
    "집합 A의 원소들 중 집합 B에는 없는 원소"
   ]
  },
  {
   "cell_type": "code",
   "execution_count": 22,
   "metadata": {},
   "outputs": [
    {
     "name": "stdout",
     "output_type": "stream",
     "text": [
      "{1, 2}\n",
      "{1, 2}\n"
     ]
    }
   ],
   "source": [
    "setSub = setA - setB\n",
    "print(setSub)\n",
    "\n",
    "print(setA.difference(setB))"
   ]
  },
  {
   "cell_type": "code",
   "execution_count": 23,
   "metadata": {},
   "outputs": [],
   "source": [
    "a = {1, 2, 3}\n",
    "b = {2, 3, 4}"
   ]
  },
  {
   "cell_type": "markdown",
   "metadata": {},
   "source": [
    "### 부분집합 구하기\n",
    "setA.issubset(setB)를 하게 되면 setA가 setB의 부분집합인가를 True or False 값으로 반환 받는다."
   ]
  },
  {
   "cell_type": "code",
   "execution_count": 24,
   "metadata": {},
   "outputs": [
    {
     "data": {
      "text/plain": [
       "False"
      ]
     },
     "execution_count": 24,
     "metadata": {},
     "output_type": "execute_result"
    }
   ],
   "source": [
    "setA.issubset(setB)"
   ]
  }
 ],
 "metadata": {
  "colab": {
   "name": "Chapter 1 (1.17 ~ )",
   "provenance": []
  },
  "kernelspec": {
   "display_name": "Python 3 (ipykernel)",
   "language": "python",
   "name": "python3"
  },
  "language_info": {
   "codemirror_mode": {
    "name": "ipython",
    "version": 3
   },
   "file_extension": ".py",
   "mimetype": "text/x-python",
   "name": "python",
   "nbconvert_exporter": "python",
   "pygments_lexer": "ipython3",
   "version": "3.8.10"
  }
 },
 "nbformat": 4,
 "nbformat_minor": 1
}
