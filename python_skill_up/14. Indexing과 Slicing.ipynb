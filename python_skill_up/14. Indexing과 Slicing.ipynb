{
 "cells": [
  {
   "cell_type": "markdown",
   "id": "2d6ecf00",
   "metadata": {},
   "source": [
    "### Indexing\n",
    "indexing은 리스트, 튜플, 문자열 안의 특정 위치에 있는 숫자(인덱스, 색인)로 각 원소를 참조한다."
   ]
  },
  {
   "cell_type": "markdown",
   "id": "5d90f0b4",
   "metadata": {},
   "source": [
    "다만 리스트는 가변 타입이고, 문자열은 불변 타입이기 때문에 인덱싱, 슬라이싱 혹은 값을 변경하는 어떤 연산자도 실제 값을 변경하지 못한다.  \n",
    "그저 새로운 값을 만들어서 변수를 재사용할 뿐."
   ]
  },
  {
   "cell_type": "markdown",
   "id": "ec167248",
   "metadata": {},
   "source": [
    "이외에도 길이 값내에서 인덱스를 사용한다고 가정했을 때  \n",
    "리스트 인덱싱은 다양한 타입으로 구성된 항목을 반환할 수 있는 반면, 문자열 인덱싱은 항상 1개의 문자를 반환한다는 점이다."
   ]
  },
  {
   "cell_type": "code",
   "execution_count": 1,
   "id": "cc13237d",
   "metadata": {},
   "outputs": [
    {
     "name": "stdout",
     "output_type": "stream",
     "text": [
      "a <class 'str'>\n",
      "b <class 'str'>\n",
      "100 <class 'int'>\n",
      "[3, 4, 5] <class 'list'>\n",
      "True <class 'bool'>\n"
     ]
    }
   ],
   "source": [
    "list1 = ['a', 'b', 100, [3, 4, 5], True]\n",
    "\n",
    "for element in list1:\n",
    "    print(element, type(element))"
   ]
  },
  {
   "cell_type": "code",
   "execution_count": 2,
   "id": "69bdc45e",
   "metadata": {},
   "outputs": [
    {
     "name": "stdout",
     "output_type": "stream",
     "text": [
      "H <class 'str'>\n",
      "e <class 'str'>\n",
      "l <class 'str'>\n",
      "l <class 'str'>\n",
      "o <class 'str'>\n",
      "w <class 'str'>\n",
      "  <class 'str'>\n",
      "W <class 'str'>\n",
      "o <class 'str'>\n",
      "r <class 'str'>\n",
      "l <class 'str'>\n",
      "d <class 'str'>\n",
      "! <class 'str'>\n"
     ]
    }
   ],
   "source": [
    "str1 = \"Hellow World!\"\n",
    "\n",
    "for s in str1:\n",
    "    print(s, type(s))"
   ]
  },
  {
   "cell_type": "markdown",
   "id": "2c27f007",
   "metadata": {},
   "source": [
    "반환되는 1개의 문자 역시 str타입. 문자와 문자열의 자료형이 별도로 구분되어 있지 않다는 것."
   ]
  },
  {
   "cell_type": "markdown",
   "id": "2a26362a",
   "metadata": {},
   "source": [
    "### slicing\n",
    "slicing은 파이썬 고유 기능으로, 원하는 부분의 원소들을 참조할 수 있다.\n",
    "\n",
    "```python\n",
    "string[start:end:step] # start부터 end전까지 모든 원소를 반환한다.\n",
    "```\n",
    "특히 슬라이싱은 인덱스 범위를 벗어나더라도 에러가 발생하지 않고, 가능한 한 많은 부분을 반환한다"
   ]
  },
  {
   "cell_type": "code",
   "execution_count": 4,
   "id": "268addac",
   "metadata": {},
   "outputs": [
    {
     "data": {
      "text/plain": [
       "[0, 10, 20, 30, 40, 50, 60, 70, 80, 90]"
      ]
     },
     "execution_count": 4,
     "metadata": {},
     "output_type": "execute_result"
    }
   ],
   "source": [
    "list1 = [x for x in range(0, 100, 10)]\n",
    "list1"
   ]
  },
  {
   "cell_type": "code",
   "execution_count": 7,
   "id": "0d7ad492",
   "metadata": {},
   "outputs": [
    {
     "name": "stdout",
     "output_type": "stream",
     "text": [
      "[0, 10, 20, 30, 40]\n",
      "[0, 10, 20]\n",
      "[0, 10, 20, 30, 40, 50, 60, 70, 80, 90]\n",
      "[0, 30, 60, 90]\n"
     ]
    }
   ],
   "source": [
    "print(list1[0:5]) # 0, 10, 20, 30, 40\n",
    "print(list1[:3]) # 0, 10, 20\n",
    "print(list1[:]) # 전체 원소 반환. 그냥 복사.\n",
    "print(list1[0 : len(list1)+1 : 3]) # 0, 30, 60, 90"
   ]
  },
  {
   "cell_type": "code",
   "execution_count": 25,
   "id": "e99d05a6",
   "metadata": {},
   "outputs": [
    {
     "data": {
      "text/plain": [
       "10"
      ]
     },
     "execution_count": 25,
     "metadata": {},
     "output_type": "execute_result"
    }
   ],
   "source": [
    "len(list1)"
   ]
  },
  {
   "cell_type": "code",
   "execution_count": 27,
   "id": "5a7bbef6",
   "metadata": {},
   "outputs": [
    {
     "name": "stdout",
     "output_type": "stream",
     "text": [
      "[20, 30, 40, 50, 60, 70, 80, 90]\n"
     ]
    }
   ],
   "source": [
    "print(list1[2:20]) # 리스트의 길이는 10이지만 end값을 20으로 해서 19번째 인덱스까지를 슬라이싱하려고 한다.\n",
    "\n",
    "# 불가능한 값이지만 에러가 발생하지 않았다."
   ]
  },
  {
   "cell_type": "code",
   "execution_count": 9,
   "id": "a819b577",
   "metadata": {},
   "outputs": [
    {
     "name": "stdout",
     "output_type": "stream",
     "text": [
      "'pervinco'\n"
     ]
    }
   ],
   "source": [
    "str1 = \"'pervinco'\"\n",
    "print(str1)"
   ]
  },
  {
   "cell_type": "code",
   "execution_count": 13,
   "id": "239327f4",
   "metadata": {},
   "outputs": [
    {
     "name": "stdout",
     "output_type": "stream",
     "text": [
      "pervinco\n",
      "vin\n"
     ]
    }
   ],
   "source": [
    "print(str1[1:-1]) # 작은 따옴표 제거\n",
    "print(str1[4:-3])"
   ]
  },
  {
   "cell_type": "code",
   "execution_count": 15,
   "id": "72f5f45f",
   "metadata": {},
   "outputs": [
    {
     "data": {
      "text/plain": [
       "15"
      ]
     },
     "execution_count": 15,
     "metadata": {},
     "output_type": "execute_result"
    }
   ],
   "source": [
    "str2 = \"Hyper cloud Jun\"\n",
    "len(str2)"
   ]
  },
  {
   "cell_type": "code",
   "execution_count": 17,
   "id": "0672fcf7",
   "metadata": {
    "scrolled": true
   },
   "outputs": [
    {
     "name": "stdout",
     "output_type": "stream",
     "text": [
      "cloud\n"
     ]
    }
   ],
   "source": [
    "print(str2[6:11]) # cloud"
   ]
  },
  {
   "cell_type": "markdown",
   "id": "22350f99",
   "metadata": {},
   "source": [
    "### 끝에서부터 N번째 문자까지를 얻고 싶다면\n",
    "\n",
    "```string[-N:]```\n",
    "\n",
    "### 문자열 전체를 복사하고 싶다면\n",
    "```string[:]```"
   ]
  },
  {
   "cell_type": "code",
   "execution_count": 21,
   "id": "1357f516",
   "metadata": {},
   "outputs": [
    {
     "name": "stdout",
     "output_type": "stream",
     "text": [
      "cloud Jun\n",
      "Hyper cloud Jun\n"
     ]
    }
   ],
   "source": [
    "print(str2[-9:])\n",
    "print(str2[:])"
   ]
  },
  {
   "cell_type": "code",
   "execution_count": 22,
   "id": "c5a4838f",
   "metadata": {},
   "outputs": [
    {
     "name": "stdout",
     "output_type": "stream",
     "text": [
      "Rlfe\n"
     ]
    }
   ],
   "source": [
    "str3 = \"Republic-of-Korea\"\n",
    "print(str3[0 : : 5])"
   ]
  },
  {
   "cell_type": "code",
   "execution_count": 23,
   "id": "795b9b80",
   "metadata": {},
   "outputs": [
    {
     "name": "stdout",
     "output_type": "stream",
     "text": [
      "ooo\n"
     ]
    }
   ],
   "source": [
    "strA = \"RoboCop\"\n",
    "strB = strA[1::2] # ooo\n",
    "\n",
    "print(strB)"
   ]
  },
  {
   "cell_type": "markdown",
   "id": "ad0b41bb",
   "metadata": {},
   "source": [
    "### 문자열을 역순으로 구하고자 한다면\n",
    "```python\n",
    "string[::-1]\n",
    "```"
   ]
  },
  {
   "cell_type": "code",
   "execution_count": 24,
   "id": "644fc224",
   "metadata": {},
   "outputs": [
    {
     "name": "stdout",
     "output_type": "stream",
     "text": [
      "aeroK-fo-cilbupeR\n"
     ]
    }
   ],
   "source": [
    "print(str3[::-1])"
   ]
  },
  {
   "cell_type": "code",
   "execution_count": null,
   "id": "4a2ea396",
   "metadata": {},
   "outputs": [],
   "source": []
  }
 ],
 "metadata": {
  "kernelspec": {
   "display_name": "Python 3 (ipykernel)",
   "language": "python",
   "name": "python3"
  },
  "language_info": {
   "codemirror_mode": {
    "name": "ipython",
    "version": 3
   },
   "file_extension": ".py",
   "mimetype": "text/x-python",
   "name": "python",
   "nbconvert_exporter": "python",
   "pygments_lexer": "ipython3",
   "version": "3.9.7"
  }
 },
 "nbformat": 4,
 "nbformat_minor": 5
}
