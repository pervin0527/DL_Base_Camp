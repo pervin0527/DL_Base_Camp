{
 "cells": [
  {
   "cell_type": "markdown",
   "id": "97431ebd",
   "metadata": {},
   "source": [
    "여기서 말하는 조각은 구체적인 범위의 하위 리스트를 의미한다."
   ]
  },
  {
   "cell_type": "code",
   "execution_count": 1,
   "id": "3f32d133",
   "metadata": {},
   "outputs": [
    {
     "name": "stdout",
     "output_type": "stream",
     "text": [
      "139921373617024 139921373515328\n"
     ]
    }
   ],
   "source": [
    "# 리스트의 모든 항목을 슬라이싱에 넣는 것으로\n",
    "# 전체 리스트의 모든 항목을 복사하는 것과 동일.\n",
    "test = [10, 50, 70, 5]\n",
    "test_copy = test[:]\n",
    "\n",
    "print(id(test), id(test_copy))"
   ]
  },
  {
   "cell_type": "code",
   "execution_count": 2,
   "id": "18175d15",
   "metadata": {},
   "outputs": [
    {
     "name": "stdout",
     "output_type": "stream",
     "text": [
      "[700, 600, 500, 400, 300, 200, 100]\n"
     ]
    }
   ],
   "source": [
    "# step에 음수를 넣으면 리스트의 항목을 거꾸로 순회함.\n",
    "test = [100, 200, 300, 400, 500, 600, 700]\n",
    "test_invers = test[::-1]\n",
    "\n",
    "print(test_invers)"
   ]
  },
  {
   "cell_type": "code",
   "execution_count": 3,
   "id": "28cafb5e",
   "metadata": {},
   "outputs": [
    {
     "data": {
      "text/plain": [
       "[700, 600, 500, 400, 300, 200, 100]"
      ]
     },
     "execution_count": 3,
     "metadata": {},
     "output_type": "execute_result"
    }
   ],
   "source": [
    "# 스텝이 음수면 다른 인수 기본값은 다음과 같이 변경된다.\n",
    "# start 기본값은 -1로 인덱스된 리스트의 마지막 항목이된다.\n",
    "# end의 기본값은 리스트의 첫 항목이된다.\n",
    "\n",
    "test[::-1]"
   ]
  },
  {
   "cell_type": "code",
   "execution_count": 4,
   "id": "3a15cd93",
   "metadata": {},
   "outputs": [
    {
     "name": "stdout",
     "output_type": "stream",
     "text": [
      "[9, 8, 7, 6, 5, 4, 3, 2, 1, 0]\n",
      "[9, 8]\n"
     ]
    }
   ],
   "source": [
    "'''\n",
    "stride를 음의 값으로 하면 리스트가 역방향으로 슬라이싱됩니다.\n",
    "이를 이용해 리스트의 역순 정렬(reverse sorting)도 할 수 있습니다.\n",
    "아래의 a[-1:-3:-1]을 같이 보실까요? 뒤에서 1번째 요소인 9부터 뒤에서 3번째 요소인 7까지 슬리이싱하되 7은 결과에 포함하지 않겠지요?\n",
    "따라서 결과가 [9, 8]이 됩니다.\n",
    "'''\n",
    "a = [0, 1, 2, 3, 4, 5, 6, 7, 8, 9]\n",
    "print(a[::-1]) # [9, 8, 7, 6, 5, 4, 3, 2, 1, 0]\n",
    "print(a[-1:-3:-1]) # [9, 8]"
   ]
  },
  {
   "cell_type": "code",
   "execution_count": 5,
   "id": "65962f85",
   "metadata": {},
   "outputs": [
    {
     "data": {
      "text/plain": [
       "[9, 8, 7, 6]"
      ]
     },
     "execution_count": 5,
     "metadata": {},
     "output_type": "execute_result"
    }
   ],
   "source": [
    "a = [0, 1, 2, 3, 4, 5, 6, 7, 8, 9]\n",
    "a[-1:-5:-1]"
   ]
  },
  {
   "cell_type": "code",
   "execution_count": null,
   "id": "c4e28fee",
   "metadata": {},
   "outputs": [],
   "source": []
  }
 ],
 "metadata": {
  "kernelspec": {
   "display_name": "Python 3 (ipykernel)",
   "language": "python",
   "name": "python3"
  },
  "language_info": {
   "codemirror_mode": {
    "name": "ipython",
    "version": 3
   },
   "file_extension": ".py",
   "mimetype": "text/x-python",
   "name": "python",
   "nbconvert_exporter": "python",
   "pygments_lexer": "ipython3",
   "version": "3.8.10"
  }
 },
 "nbformat": 4,
 "nbformat_minor": 5
}
