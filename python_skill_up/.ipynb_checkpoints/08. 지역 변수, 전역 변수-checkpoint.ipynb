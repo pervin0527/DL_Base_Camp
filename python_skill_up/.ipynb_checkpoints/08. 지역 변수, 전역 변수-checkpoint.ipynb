{
 "cells": [
  {
   "cell_type": "markdown",
   "id": "5aec5751",
   "metadata": {},
   "source": [
    "## Variable Scope - 변수의 범위\n",
    "\n",
    "변수가 참조 가능한 코드상의 범위를 명시한 것으로, 전역 변수, 지역 변수로 구분할 수 있다.  \n",
    "즉, 선언된 변수가 소멸되지 않고 동작할 수 있는 생명 주기를 variable scope라고 한다."
   ]
  },
  {
   "cell_type": "code",
   "execution_count": 1,
   "id": "76924679",
   "metadata": {},
   "outputs": [
    {
     "name": "stdout",
     "output_type": "stream",
     "text": [
      "30 40\n",
      "70\n",
      "10 30\n"
     ]
    }
   ],
   "source": [
    "num1, num2 = 10, 30 # 함수 밖에서 선언된 이 변수들은 전역 변수\n",
    "\n",
    "def test(num1, num2): # 함수 내에서 선언된 num1, num2 변수는 지역 변수로, 함수가 종료되는 시점에 소멸된다.\n",
    "    print(num1, num2)\n",
    "    return num1 + num2\n",
    "\n",
    "result = test(30, 40) # 함수 호출 시 30, 40을 전달해도 전역 변수와는 관계가 없다.\n",
    "print(result)\n",
    "\n",
    "print(num1, num2)"
   ]
  },
  {
   "cell_type": "markdown",
   "id": "4a0e58ed",
   "metadata": {},
   "source": [
    "## 전역 변수와 지역 변수\n",
    "\n",
    "전역 변수는 선언되고, 다른 함수를 호출해도 값이 유지되며, 모든 함수에서 접근할 수 있는 변수다.  \n",
    "그렇기 때문에 한 함수에서 전역 변수 my_global_var을 변경하는 경우, 다른 함수의 my_global_var도 변경된다.\n",
    "\n",
    "변수가 함수 정의문 안에서 선언되면 해당 함수 안에만 존재하는 지역 변수가 된다. 이외의 변수는 모두 전역 변수다.  \n",
    "지역 변수의 유효 범위는 전역과는 반대로 함수 정의문 밖에서 동일한 이름을 사용해도 서로 영향을 미치지 않는다. 이 경우 변수는 내부 전용(private)이다.\n",
    "\n",
    "하지만 전역 변수는 어느 곳에서나 접근할 수 있다."
   ]
  },
  {
   "cell_type": "code",
   "execution_count": 8,
   "id": "a0bf13d7",
   "metadata": {},
   "outputs": [
    {
     "name": "stdout",
     "output_type": "stream",
     "text": [
      "10\n",
      "20\n",
      "10\n"
     ]
    }
   ],
   "source": [
    "count = 10 # global\n",
    "\n",
    "def funcA():\n",
    "    count = 20 # local. 전역 변수인 count의 값이 변경되지 않고, 지역 변수 count에 전역 변수 count의 값이 복사되어 새로 생성된 것임.\n",
    "    print(count)\n",
    "    \n",
    "print(count)\n",
    "funcA()\n",
    "print(count)"
   ]
  },
  {
   "cell_type": "markdown",
   "id": "f969dc72",
   "metadata": {},
   "source": [
    "funcA에서 전역 변수 count의 값을 변경하고 싶으나, 해당 변수에 값을 대입하면 문제가 생긴다.\n",
    "\n",
    "파이썬은 데이터 선언 개념이 없기 때문에 변수에 값을 대입하는 순간 신규 변수를 생성하기 때문.  \n",
    "> 변수를 만드는 곳이 함수 안이기 때문에 전역 변수를 복제한 지역 변수 count를 사용하게 되는 것.\n",
    "  \n",
    "이를 위해 global 문을 사용한다.  \n",
    "이 문법은 파이썬이 지역 변수를 사용하는 것을 피하게 해준다. 그러면 전역 변수가 있다고 가정하고, 전역 변수를 사용하게 된다.  "
   ]
  },
  {
   "cell_type": "code",
   "execution_count": 9,
   "id": "6d35ab6a",
   "metadata": {},
   "outputs": [
    {
     "name": "stdout",
     "output_type": "stream",
     "text": [
      "20\n"
     ]
    }
   ],
   "source": [
    "def my_func():\n",
    "    global count\n",
    "    count += 10\n",
    "    \n",
    "my_func()\n",
    "print(count)"
   ]
  },
  {
   "cell_type": "markdown",
   "id": "a7c3d510",
   "metadata": {},
   "source": [
    "변수는 값을 대입할 때 생성되는 것이지, global 문이 직접 무언가를 만들지는 않는다.  \n",
    "앞서 살펴본 예제에서는 변수 count가 함수 정의문보다 먼저 생성되었다.\n",
    "\n",
    "함수와 클래스 정의문 밖에 위치한 모든 문장으로 구성된 모듈-수준 코드에서 전역 변수를 만들 수 있다.  \n",
    "그러나 다음과 같이 존재하지 않는 변수를 함수 안에서 global 문으로 사용하면 호출하는 시점에서 전역 변수가 생성된다."
   ]
  },
  {
   "cell_type": "code",
   "execution_count": 9,
   "id": "701af2fc",
   "metadata": {},
   "outputs": [],
   "source": [
    "def my_func2():\n",
    "    global test\n",
    "    test = 1000"
   ]
  },
  {
   "cell_type": "code",
   "execution_count": 10,
   "id": "2396091d",
   "metadata": {},
   "outputs": [
    {
     "data": {
      "text/plain": [
       "1000"
      ]
     },
     "execution_count": 10,
     "metadata": {},
     "output_type": "execute_result"
    }
   ],
   "source": [
    "my_func2()\n",
    "test"
   ]
  }
 ],
 "metadata": {
  "kernelspec": {
   "display_name": "Python 3 (ipykernel)",
   "language": "python",
   "name": "python3"
  },
  "language_info": {
   "codemirror_mode": {
    "name": "ipython",
    "version": 3
   },
   "file_extension": ".py",
   "mimetype": "text/x-python",
   "name": "python",
   "nbconvert_exporter": "python",
   "pygments_lexer": "ipython3",
   "version": "3.9.7"
  }
 },
 "nbformat": 4,
 "nbformat_minor": 5
}
