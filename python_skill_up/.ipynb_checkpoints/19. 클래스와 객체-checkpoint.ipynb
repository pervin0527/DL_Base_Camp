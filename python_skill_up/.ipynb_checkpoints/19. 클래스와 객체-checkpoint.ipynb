{
 "cells": [
  {
   "cell_type": "code",
   "execution_count": 1,
   "id": "f3f687cc",
   "metadata": {},
   "outputs": [],
   "source": [
    "class Person:\n",
    "    pass"
   ]
  },
  {
   "cell_type": "code",
   "execution_count": 2,
   "id": "3ca01819",
   "metadata": {},
   "outputs": [],
   "source": [
    "bob = Person()\n",
    "jun = Person()"
   ]
  },
  {
   "cell_type": "code",
   "execution_count": 3,
   "id": "2eadab70",
   "metadata": {},
   "outputs": [
    {
     "name": "stdout",
     "output_type": "stream",
     "text": [
      "<class '__main__.Person'>\n",
      "<class '__main__.Person'>\n"
     ]
    }
   ],
   "source": [
    "print(type(bob))\n",
    "print(type(jun))"
   ]
  },
  {
   "cell_type": "markdown",
   "id": "1f4f7015",
   "metadata": {},
   "source": [
    "self에 전달되는 것은 객체 자기 자신이 전달되는 것이다."
   ]
  },
  {
   "cell_type": "code",
   "execution_count": 7,
   "id": "8d318cc9",
   "metadata": {},
   "outputs": [],
   "source": [
    "class Person:\n",
    "    def __init__(self, name, age=10):\n",
    "#         print(self, 'is generated')\n",
    "        self.name = name\n",
    "        self.age = age"
   ]
  },
  {
   "cell_type": "code",
   "execution_count": 5,
   "id": "8ea0ea7c",
   "metadata": {},
   "outputs": [
    {
     "name": "stdout",
     "output_type": "stream",
     "text": [
      "junmin 29\n"
     ]
    }
   ],
   "source": [
    "p1 = Person('junmin', 29)\n",
    "print(p1.name, p1.age)"
   ]
  },
  {
   "cell_type": "code",
   "execution_count": 6,
   "id": "67ac1afe",
   "metadata": {
    "scrolled": true
   },
   "outputs": [
    {
     "name": "stdout",
     "output_type": "stream",
     "text": [
      "vinco 30\n"
     ]
    }
   ],
   "source": [
    "p2 = Person(\"vinco\", 30)\n",
    "print(p2.name, p2.age)"
   ]
  },
  {
   "cell_type": "code",
   "execution_count": 8,
   "id": "0b548d22",
   "metadata": {},
   "outputs": [
    {
     "name": "stdout",
     "output_type": "stream",
     "text": [
      "Kate 10\n"
     ]
    }
   ],
   "source": [
    "p3 = Person(\"Kate\")\n",
    "print(p3.name, p3.age)"
   ]
  },
  {
   "cell_type": "code",
   "execution_count": 14,
   "id": "353924a4",
   "metadata": {},
   "outputs": [],
   "source": [
    "class Person:\n",
    "    def __init__(self, name, age):\n",
    "        print(\"self : \", self)\n",
    "        self.name = name\n",
    "        self.age = age\n",
    "        \n",
    "    def sleep(self):\n",
    "        print(\"self : \", self)\n",
    "        print(self.name, \"is sleeping now\")"
   ]
  },
  {
   "cell_type": "code",
   "execution_count": 16,
   "id": "d23bb5b1",
   "metadata": {},
   "outputs": [
    {
     "name": "stdout",
     "output_type": "stream",
     "text": [
      "self :  <__main__.Person object at 0x7f89bbbf0ee0>\n",
      "<__main__.Person object at 0x7f89bbbf0ee0>\n",
      "self :  <__main__.Person object at 0x7f89bbbf0ee0>\n",
      "test is sleeping now\n"
     ]
    }
   ],
   "source": [
    "a = Person(\"test\", 10000) # __init__(a, 'test', 10000)로 호출\n",
    "print(a)\n",
    "\n",
    "a.sleep() # sleep(a) 로 호출"
   ]
  },
  {
   "cell_type": "code",
   "execution_count": 23,
   "id": "c150fca0",
   "metadata": {},
   "outputs": [
    {
     "name": "stdout",
     "output_type": "stream",
     "text": [
      "현재 값은 :  0\n",
      "현재 값은 :  3\n",
      "현재 값은 :  0\n"
     ]
    }
   ],
   "source": [
    "class Counter:\n",
    "    def __init__(self):\n",
    "        self.num = 0\n",
    "        \n",
    "    def increment(self):\n",
    "        self.num += 1\n",
    "    \n",
    "    def reset(self):\n",
    "        self.num = 0\n",
    "        \n",
    "    def print_current_value(self):\n",
    "        print(\"현재 값은 : \", self.num)\n",
    "        \n",
    "c1 = Counter()\n",
    "\n",
    "c1.print_current_value()\n",
    "\n",
    "c1.increment()\n",
    "c1.increment()\n",
    "c1.increment()\n",
    "\n",
    "c1.print_current_value()\n",
    "\n",
    "c1.reset()\n",
    "\n",
    "c1.print_current_value()"
   ]
  },
  {
   "cell_type": "markdown",
   "id": "70ac8437",
   "metadata": {},
   "source": [
    "instance method - 객체로 호출. 해당 메소드를 호출한 객체에만 영향을 미침  \n",
    "class method - class로 호출\n",
    "\n",
    "아래 클래스는 self로 자기 속성이 없음. 자기 값을 유지하지 않음.  "
   ]
  },
  {
   "cell_type": "code",
   "execution_count": 26,
   "id": "6ccddc4a",
   "metadata": {},
   "outputs": [
    {
     "data": {
      "text/plain": [
       "30"
      ]
     },
     "execution_count": 26,
     "metadata": {},
     "output_type": "execute_result"
    }
   ],
   "source": [
    "class Math:\n",
    "    def add(self, a, b):\n",
    "        return a + b\n",
    "    \n",
    "    def multiply(self, a, b):\n",
    "        return a * b\n",
    "    \n",
    "m = Math()\n",
    "m.add(10, 20)"
   ]
  },
  {
   "cell_type": "markdown",
   "id": "1747c095",
   "metadata": {},
   "source": [
    "따라서 아래와 같이 staticmethod로 변경이 가능. staticmethod로 하면 self 키워드를 사용하지 않음.  \n",
    "또한, 객체를 생성하지 않아도 메소드를 호출할 수 있다.\n",
    "\n",
    "이외의 일반적인 객체의 메소드는 인스턴스 메소드라고 한다."
   ]
  },
  {
   "cell_type": "code",
   "execution_count": 28,
   "id": "b88a33eb",
   "metadata": {},
   "outputs": [
    {
     "name": "stdout",
     "output_type": "stream",
     "text": [
      "30\n",
      "200\n"
     ]
    }
   ],
   "source": [
    "class Math:\n",
    "    @staticmethod\n",
    "    def add(a, b):\n",
    "        return a + b\n",
    "    \n",
    "    @staticmethod\n",
    "    def multiply(a, b):\n",
    "        return a * b\n",
    "    \n",
    "print(Math.add(10, 20))\n",
    "print(Math.multiply(10, 20))"
   ]
  },
  {
   "cell_type": "markdown",
   "id": "df14ef5f",
   "metadata": {},
   "source": [
    "클래스를 상속 받으면, 받은 클래스에 속성이나 메소드가 선언되지 않고도 사용이 가능해진다."
   ]
  },
  {
   "cell_type": "code",
   "execution_count": 31,
   "id": "1c43b7f7",
   "metadata": {},
   "outputs": [
    {
     "name": "stdout",
     "output_type": "stream",
     "text": [
      "Bob eat 밥\n",
      "Bob sleep 30\n",
      "Bob work 60\n"
     ]
    }
   ],
   "source": [
    "class Person:\n",
    "    def __init__(self, name, age):\n",
    "        self.name = name\n",
    "        self.age = age\n",
    "        \n",
    "    def eat(self, food):\n",
    "        print(f\"{self.name} eat {food}\")\n",
    "    \n",
    "    def sleep(self, minute):\n",
    "        print(f\"{self.name} sleep {minute}\")\n",
    "    \n",
    "    def work(self, minute):\n",
    "        print(f\"{self.name} work {minute}\")\n",
    "\n",
    "class Student(Person):\n",
    "    def __init__(self, name, age):\n",
    "        self.name = name\n",
    "        self.age = age\n",
    "\n",
    "class Employee(Person):\n",
    "    def __init__(self, name, age):\n",
    "        self.name = name\n",
    "        self.age = age    \n",
    "\n",
    "bob = Student(\"Bob\", 25)\n",
    "bob.eat(\"밥\")\n",
    "bob.sleep(30)\n",
    "bob.work(60)"
   ]
  },
  {
   "cell_type": "markdown",
   "id": "f89af375",
   "metadata": {},
   "source": [
    "학생은 일이 아닌 공부를 하기때문에 함수를 재정의한다."
   ]
  },
  {
   "cell_type": "code",
   "execution_count": 39,
   "id": "480d101c",
   "metadata": {},
   "outputs": [
    {
     "name": "stdout",
     "output_type": "stream",
     "text": [
      "Bob는 밥를(을) 먹습니다.\n",
      "Bob는 30동안 자는 중 입니다.\n",
      "Bob는 60동안 공부를 합니다.\n",
      "\n",
      "Bob는 밥를(을) 먹습니다.\n",
      "Bob는 30동안 자는 중 입니다.\n",
      "Bob는 60동안 업무를 합니다.\n"
     ]
    }
   ],
   "source": [
    "class Person:\n",
    "    def __init__(self, name, age):\n",
    "        self.name = name\n",
    "        self.age = age\n",
    "        \n",
    "    def eat(self, food):\n",
    "        print(f\"{self.name}는 {food}를(을) 먹습니다.\")\n",
    "    \n",
    "    def sleep(self, minute):\n",
    "        print(f\"{self.name}는 {minute}동안 자는 중 입니다.\")\n",
    "    \n",
    "    def work(self, minute):\n",
    "        print(f\"{self.name}는 {minute}동안 일을 합니다.\")\n",
    "\n",
    "class Student(Person):\n",
    "    def __init__(self, name, age):\n",
    "        self.name = name\n",
    "        self.age = age\n",
    "        \n",
    "    def work(self, minute):\n",
    "        print(f\"{self.name}는 {minute}동안 공부를 합니다.\")\n",
    "\n",
    "class Employee(Person):\n",
    "    def __init__(self, name, age):\n",
    "        self.name = name\n",
    "        self.age = age\n",
    "        \n",
    "    def work(self, minute):\n",
    "        print(f\"{self.name}는 {minute}동안 업무를 합니다.\")\n",
    "              \n",
    "bob = Student(\"Bob\", 25)\n",
    "bob.eat(\"밥\")\n",
    "bob.sleep(30)\n",
    "bob.work(60)\n",
    "\n",
    "print()\n",
    "\n",
    "bob = Employee(\"Bob\", 25)\n",
    "bob.eat(\"밥\")\n",
    "bob.sleep(30)\n",
    "bob.work(60)"
   ]
  },
  {
   "cell_type": "markdown",
   "id": "9b4dac35",
   "metadata": {},
   "source": [
    "원래 부모 클래스의 메소드를 그대로 사용하고 싶을 때는 super를 사용한다."
   ]
  },
  {
   "cell_type": "code",
   "execution_count": 40,
   "id": "283cbe5d",
   "metadata": {},
   "outputs": [
    {
     "name": "stdout",
     "output_type": "stream",
     "text": [
      "Bob는 밥를(을) 먹습니다.\n",
      "Bob는 30동안 자는 중 입니다.\n",
      "Bob는 60동안 준비를 합니다.\n",
      "Bob는 60동안 공부를 합니다.\n",
      "\n",
      "Bob는 밥를(을) 먹습니다.\n",
      "Bob는 30동안 자는 중 입니다.\n",
      "Bob는 60동안 준비를 합니다.\n",
      "Bob는 60동안 업무를 합니다.\n"
     ]
    }
   ],
   "source": [
    "class Person:\n",
    "    def __init__(self, name, age):\n",
    "        self.name = name\n",
    "        self.age = age\n",
    "        \n",
    "    def eat(self, food):\n",
    "        print(f\"{self.name}는 {food}를(을) 먹습니다.\")\n",
    "    \n",
    "    def sleep(self, minute):\n",
    "        print(f\"{self.name}는 {minute}동안 자는 중 입니다.\")\n",
    "    \n",
    "    def work(self, minute):\n",
    "        print(f\"{self.name}는 {minute}동안 준비를 합니다.\")\n",
    "\n",
    "class Student(Person):\n",
    "    def __init__(self, name, age):\n",
    "        self.name = name\n",
    "        self.age = age\n",
    "        \n",
    "    def work(self, minute):\n",
    "        super().work(minute)\n",
    "        print(f\"{self.name}는 {minute}동안 공부를 합니다.\")\n",
    "\n",
    "class Employee(Person):\n",
    "    def __init__(self, name, age):\n",
    "        self.name = name\n",
    "        self.age = age\n",
    "        \n",
    "    def work(self, minute):\n",
    "        super().work(minute)\n",
    "        print(f\"{self.name}는 {minute}동안 업무를 합니다.\")\n",
    "        \n",
    "        \n",
    "bob = Student(\"Bob\", 25)\n",
    "bob.eat(\"밥\")\n",
    "bob.sleep(30)\n",
    "bob.work(60)\n",
    "\n",
    "print()\n",
    "\n",
    "bob = Employee(\"Bob\", 25)\n",
    "bob.eat(\"밥\")\n",
    "bob.sleep(30)\n",
    "bob.work(60)"
   ]
  },
  {
   "cell_type": "markdown",
   "id": "bf5c424b",
   "metadata": {},
   "source": [
    "### special method  \n",
    "```__메소드이름__```해당 메소드들을 구현하면, 커스텀 객체에 여러가지 파이썬 내장 함수나 연산자를 적용 가능하다.  \n",
    "- [reference #1](https://docs.python.org/3/reference/datamodel.html)  \n",
    "- [reference #2](https://docs.python.org/3/reference/datamodel.html#object.__add__)"
   ]
  },
  {
   "cell_type": "code",
   "execution_count": 55,
   "id": "c1ce6dc0",
   "metadata": {},
   "outputs": [
    {
     "name": "stdout",
     "output_type": "stream",
     "text": [
      "(3, 4)\n",
      "(2, 7)\n",
      "(3, 4)\n",
      "(2, 7)\n",
      "(5, 11)\n",
      "(5, 11)\n",
      "(1, -3)\n",
      "(9, 12)\n",
      "25\n",
      "3 4 -1\n"
     ]
    }
   ],
   "source": [
    "class Point:\n",
    "    def __init__(self, x, y):\n",
    "        self.x = x\n",
    "        self.y = y\n",
    "        \n",
    "    def print_pt(self):\n",
    "        print(f\"({self.x}, {self.y})\")\n",
    "        \n",
    "    def __str__(self):\n",
    "        return f\"({self.x}, {self.y})\"\n",
    "    \n",
    "    def add(self, pt):\n",
    "        new_x = self.x + pt.x\n",
    "        new_y = self.y + pt.y\n",
    "        \n",
    "        return Point(new_x, new_y)\n",
    "    \n",
    "    def __add__(self, pt):\n",
    "        new_x = self.x + pt.x\n",
    "        new_y = self.y + pt.y\n",
    "        \n",
    "        return Point(new_x, new_y)\n",
    "    \n",
    "    def __sub__(self, pt):\n",
    "        new_x = self.x - pt.x\n",
    "        new_y = self.y - pt.y\n",
    "        \n",
    "        return Point(new_x, new_y)\n",
    "    \n",
    "    def __mul__(self, factor):\n",
    "        return Point(self.x * factor, self.y * factor)\n",
    "    \n",
    "    def __len__(self):\n",
    "        return self.x ** 2 + self.y ** 2\n",
    "    \n",
    "    def __getitem__(self, index):\n",
    "        if index == 0:\n",
    "            return self.x\n",
    "        elif index == 1:\n",
    "            return self.y\n",
    "        else:\n",
    "            return -1\n",
    "        \n",
    "p1 = Point(3, 4)\n",
    "p2 = Point(2, 7)\n",
    "\n",
    "print(p1)\n",
    "print(p2)\n",
    "p1.print_pt()\n",
    "p2.print_pt()\n",
    "\n",
    "p3 = p1.add(p2)\n",
    "print(p3)\n",
    "p3 = p1 + p2\n",
    "print(p3)\n",
    "\n",
    "p4 = p1 - p2\n",
    "print(p4)\n",
    "\n",
    "p5 = p1 * 3\n",
    "print(p5)\n",
    "\n",
    "print(len(p1))\n",
    "print(p1[0], p1[1], p1[2])"
   ]
  },
  {
   "cell_type": "markdown",
   "id": "35a33277",
   "metadata": {},
   "source": [
    "1. 복소수 클래스를 정의해 보자.\n",
    "2. 덧셈, 뺄셈, 곱셈 연산자 지원\n",
    "3. 길이(복소수의 크기) 지원\n",
    "4. 복소수 출력 '1 +4j'와 같이 표현\n",
    "5. 비교 연산 ==, != 지원\n",
    "6. =, <=, <, > 연산 지원\n",
    "7. 절대값 지원"
   ]
  },
  {
   "cell_type": "code",
   "execution_count": 70,
   "id": "3b690e38",
   "metadata": {},
   "outputs": [
    {
     "name": "stdout",
     "output_type": "stream",
     "text": [
      "1 + 2j\n",
      "4 + 7j\n",
      "-2 - 3j\n",
      "3 + 6j\n",
      "-7 + 11j\n",
      "True\n",
      "False\n",
      "2.23606797749979\n",
      "2\n"
     ]
    }
   ],
   "source": [
    "import math\n",
    "\n",
    "class ComplexNumber:\n",
    "    def __init__(self, real, img):\n",
    "        self.real = real\n",
    "        self.img = img\n",
    "        \n",
    "    def __str__(self):\n",
    "        if self.img >= 0:\n",
    "            return f'{self.real} + {self.img}j'\n",
    "        \n",
    "        else:\n",
    "            return f'{self.real} - {abs(self.img)}j'\n",
    "        \n",
    "    def __add__(self, cn):\n",
    "        return ComplexNumber(self.real + cn.real, self.img + cn.img)\n",
    "    \n",
    "    def __sub__(self, cn):\n",
    "        return ComplexNumber(self.real - cn.real, self.img - cn.img)\n",
    "    \n",
    "    def __mul__(self, x):\n",
    "        if type(x) == int:\n",
    "            return ComplexNumber(self.real * x, self.img * x)\n",
    "        \n",
    "        elif type(x) == ComplexNumber:\n",
    "            return ComplexNumber(self.real * x.real - self.img * x.img, self.real * x.img + self.img * x.real)\n",
    "        \n",
    "    def __eq__(self, cn):\n",
    "        return self.real == cn.real and self.img == cn.img\n",
    "    \n",
    "    def __ne__(self, cn):\n",
    "        return not(self.real == cn.real and self.img == cn.img)\n",
    "    \n",
    "    def __abs__(self):\n",
    "        return math.sqrt(self.real ** 2 + self.img ** 2)\n",
    "    \n",
    "    def __len__(self):\n",
    "        return int(math.sqrt(self.real ** 2 + self.img ** 2))\n",
    "    \n",
    "a = ComplexNumber(1, 2)\n",
    "b = ComplexNumber(3, 5)\n",
    "print(a)\n",
    "print(a+b)\n",
    "print(a-b)\n",
    "print(a*3)\n",
    "print(a*b)\n",
    "\n",
    "a = ComplexNumber(1, 2)\n",
    "b = ComplexNumber(1, 2)\n",
    "print(a == b)\n",
    "print(a != b)\n",
    "\n",
    "print(abs(a))\n",
    "print(len(a))"
   ]
  },
  {
   "cell_type": "code",
   "execution_count": null,
   "id": "dba976d9",
   "metadata": {},
   "outputs": [],
   "source": []
  }
 ],
 "metadata": {
  "kernelspec": {
   "display_name": "Python 3 (ipykernel)",
   "language": "python",
   "name": "python3"
  },
  "language_info": {
   "codemirror_mode": {
    "name": "ipython",
    "version": 3
   },
   "file_extension": ".py",
   "mimetype": "text/x-python",
   "name": "python",
   "nbconvert_exporter": "python",
   "pygments_lexer": "ipython3",
   "version": "3.8.10"
  }
 },
 "nbformat": 4,
 "nbformat_minor": 5
}
