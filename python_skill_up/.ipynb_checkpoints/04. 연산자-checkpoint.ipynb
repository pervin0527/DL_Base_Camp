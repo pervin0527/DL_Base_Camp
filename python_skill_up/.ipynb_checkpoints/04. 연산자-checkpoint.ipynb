{
 "cells": [
  {
   "cell_type": "markdown",
   "id": "842dc079",
   "metadata": {},
   "source": [
    "## 대입 연산자\n",
    "\n",
    "위 코드에서 변수 a에 1이 더해져 기존의 값이 증가한 것처럼 보이겠으나, 정수형 객체는 불변 객체이기 때문에,  \n",
    "실제로는 변수 a의 값이 증가한 것이 아니라 a의 값에 1을 더한 값을 새로 대입한 것이다."
   ]
  },
  {
   "cell_type": "code",
   "execution_count": 1,
   "id": "1074abb5",
   "metadata": {},
   "outputs": [
    {
     "data": {
      "text/plain": [
       "4"
      ]
     },
     "execution_count": 1,
     "metadata": {},
     "output_type": "execute_result"
    }
   ],
   "source": [
    "a = 3\n",
    "a += 1\n",
    "a"
   ]
  },
  {
   "cell_type": "markdown",
   "id": "4dc272e8",
   "metadata": {},
   "source": [
    "## 제곱 연산, 나눗셈"
   ]
  },
  {
   "cell_type": "code",
   "execution_count": 2,
   "id": "ae7b48a4",
   "metadata": {},
   "outputs": [
    {
     "data": {
      "text/plain": [
       "100"
      ]
     },
     "execution_count": 2,
     "metadata": {},
     "output_type": "execute_result"
    }
   ],
   "source": [
    "b = 10\n",
    "b ** 2"
   ]
  },
  {
   "cell_type": "code",
   "execution_count": 3,
   "id": "75549a95",
   "metadata": {},
   "outputs": [],
   "source": [
    "var1 = 5\n",
    "var2 = 2"
   ]
  },
  {
   "cell_type": "code",
   "execution_count": 4,
   "id": "9ce17bb5",
   "metadata": {},
   "outputs": [
    {
     "name": "stdout",
     "output_type": "stream",
     "text": [
      "2.5\n",
      "2\n",
      "1\n",
      "(2, 1)\n"
     ]
    }
   ],
   "source": [
    "print(var1 / var2) # 2.5\n",
    "print(var1 // var2) # 2\n",
    "print(var1 % var2) # 1\n",
    "print(divmod(var1, var2)) # 2, 1"
   ]
  },
  {
   "cell_type": "code",
   "execution_count": null,
   "id": "b6714921",
   "metadata": {},
   "outputs": [],
   "source": []
  }
 ],
 "metadata": {
  "kernelspec": {
   "display_name": "Python 3 (ipykernel)",
   "language": "python",
   "name": "python3"
  },
  "language_info": {
   "codemirror_mode": {
    "name": "ipython",
    "version": 3
   },
   "file_extension": ".py",
   "mimetype": "text/x-python",
   "name": "python",
   "nbconvert_exporter": "python",
   "pygments_lexer": "ipython3",
   "version": "3.9.7"
  }
 },
 "nbformat": 4,
 "nbformat_minor": 5
}
