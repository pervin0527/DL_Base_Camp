{
 "cells": [
  {
   "cell_type": "markdown",
   "id": "d5f251d1",
   "metadata": {},
   "source": [
    "## 정규표현식\n",
    "- regular expression - re\n",
    "- 특정한 패턴과 일치하는 문자열을 검색, 치환, 제거 하는 기원을 지원\n",
    "- **raw string**  \n",
    "    문자열 앞에 r이 붙으면 해당 문자열이 구성된 그대로 문자열로 반환"
   ]
  },
  {
   "cell_type": "code",
   "execution_count": 22,
   "id": "a21bc6a1",
   "metadata": {},
   "outputs": [
    {
     "name": "stdout",
     "output_type": "stream",
     "text": [
      "abcdef \n",
      "\n",
      "abcdef \\n\n"
     ]
    }
   ],
   "source": [
    "a = 'abcdef \\n'\n",
    "b = r'abcdef \\n' # escape 문자가 개행의 기능을 하지 않고 일반 문자열로 취급된다.\n",
    "\n",
    "print(a)\n",
    "print(b)"
   ]
  },
  {
   "cell_type": "code",
   "execution_count": 2,
   "id": "ebf50ef6",
   "metadata": {},
   "outputs": [],
   "source": [
    "import re"
   ]
  },
  {
   "cell_type": "code",
   "execution_count": 10,
   "id": "b36eeef5",
   "metadata": {},
   "outputs": [
    {
     "name": "stdout",
     "output_type": "stream",
     "text": [
      "<class 're.Match'>\n",
      "<re.Match object; span=(3, 6), match='abc'>\n",
      "3\n",
      "6\n",
      "abc\n"
     ]
    }
   ],
   "source": [
    "m = re.search(r'abc', '123abcdef') # 찾고자 하는 표현식, 문자열\n",
    "print(type(m))\n",
    "print(m)\n",
    "\n",
    "print(m.start()) # 패턴이 시작된 위치\n",
    "print(m.end()) # 패턴이 종료된 위치\n",
    "print(m.group()) # 찾은 패턴을 가져옴"
   ]
  },
  {
   "cell_type": "code",
   "execution_count": 12,
   "id": "6bf980d7",
   "metadata": {},
   "outputs": [
    {
     "name": "stdout",
     "output_type": "stream",
     "text": [
      "<re.Match object; span=(0, 2), match='11'>\n"
     ]
    }
   ],
   "source": [
    "m = re.search(r'\\d\\d', '112abcdef119') # 숫자 2개가 나란히 있는 패턴을 찾는다.\n",
    "print(m) # 가장 먼저 보이는 패턴을 찾음"
   ]
  },
  {
   "cell_type": "code",
   "execution_count": 16,
   "id": "f18f87d6",
   "metadata": {},
   "outputs": [
    {
     "name": "stdout",
     "output_type": "stream",
     "text": [
      "<re.Match object; span=(0, 3), match='112'>\n"
     ]
    }
   ],
   "source": [
    "m = re.search(r'\\d\\d\\d', '112abcdef119')\n",
    "print(m)"
   ]
  },
  {
   "cell_type": "code",
   "execution_count": 17,
   "id": "06f757cf",
   "metadata": {},
   "outputs": [
    {
     "name": "stdout",
     "output_type": "stream",
     "text": [
      "None\n"
     ]
    }
   ],
   "source": [
    "m = re.search(r'\\d\\d\\d\\d', '112abcdef119')\n",
    "print(m)"
   ]
  },
  {
   "cell_type": "code",
   "execution_count": 19,
   "id": "abdb19f0",
   "metadata": {},
   "outputs": [
    {
     "name": "stdout",
     "output_type": "stream",
     "text": [
      "<re.Match object; span=(0, 4), match='112a'>\n"
     ]
    }
   ],
   "source": [
    "m = re.search(r'\\d\\d\\d\\w', '112abcdef119') # 문자\n",
    "print(m)"
   ]
  },
  {
   "cell_type": "code",
   "execution_count": 21,
   "id": "87a7b083",
   "metadata": {},
   "outputs": [
    {
     "name": "stdout",
     "output_type": "stream",
     "text": [
      "<re.Match object; span=(2, 6), match='$%AB'>\n"
     ]
    }
   ],
   "source": [
    "m = re.search(r'..\\w\\w', '@#$%ABCDabcd')\n",
    "print(m)"
   ]
  },
  {
   "cell_type": "code",
   "execution_count": 23,
   "id": "0ba97b8d",
   "metadata": {},
   "outputs": [
    {
     "name": "stdout",
     "output_type": "stream",
     "text": [
      "<re.Match object; span=(2, 6), match='$%12'>\n"
     ]
    }
   ],
   "source": [
    "m = re.search(r'..\\w\\w', '@#$%12ABCDabcd')\n",
    "print(m)"
   ]
  },
  {
   "cell_type": "code",
   "execution_count": 26,
   "id": "79fbf2b5",
   "metadata": {},
   "outputs": [
    {
     "name": "stdout",
     "output_type": "stream",
     "text": [
      "<re.Match object; span=(0, 3), match='cat'>\n"
     ]
    }
   ],
   "source": [
    "print(re.search(r'[cbm]at', 'cat')) # c or b or m"
   ]
  },
  {
   "cell_type": "code",
   "execution_count": 29,
   "id": "c988c3c8",
   "metadata": {},
   "outputs": [
    {
     "name": "stdout",
     "output_type": "stream",
     "text": [
      "<re.Match object; span=(0, 5), match='7haha'>\n"
     ]
    }
   ],
   "source": [
    "print(re.search(r'[0-7]haha', '7haha'))"
   ]
  },
  {
   "cell_type": "code",
   "execution_count": 31,
   "id": "f92515ba",
   "metadata": {},
   "outputs": [
    {
     "name": "stdout",
     "output_type": "stream",
     "text": [
      "<re.Match object; span=(1, 6), match='caron'>\n"
     ]
    }
   ],
   "source": [
    "print(re.search(r'[abc.^]aron', '^caron'))"
   ]
  },
  {
   "cell_type": "code",
   "execution_count": 33,
   "id": "3900f32a",
   "metadata": {},
   "outputs": [
    {
     "name": "stdout",
     "output_type": "stream",
     "text": [
      "<re.Match object; span=(0, 5), match='daron'>\n"
     ]
    }
   ],
   "source": [
    "print(re.search(r'[^abc]aron', 'daron')) # a, b, c를 제외한 모든 것"
   ]
  },
  {
   "cell_type": "code",
   "execution_count": null,
   "id": "de94f3ff",
   "metadata": {},
   "outputs": [],
   "source": []
  }
 ],
 "metadata": {
  "kernelspec": {
   "display_name": "Python 3 (ipykernel)",
   "language": "python",
   "name": "python3"
  },
  "language_info": {
   "codemirror_mode": {
    "name": "ipython",
    "version": 3
   },
   "file_extension": ".py",
   "mimetype": "text/x-python",
   "name": "python",
   "nbconvert_exporter": "python",
   "pygments_lexer": "ipython3",
   "version": "3.8.10"
  }
 },
 "nbformat": 4,
 "nbformat_minor": 5
}
