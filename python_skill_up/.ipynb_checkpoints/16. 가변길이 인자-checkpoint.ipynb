{
 "cells": [
  {
   "cell_type": "markdown",
   "id": "e936382b",
   "metadata": {},
   "source": [
    "## 가변길이 인자\n",
    "\n",
    "전달되는 인수의 개수가 고정적이지 않은 경우에 사용. ex) print()\n",
    "```python\n",
    "*args : 파라미터를 튜플의 형태로 전달  \n",
    "**kwargs : 파라미터를 딕셔너리 형태로 전달\n",
    "```"
   ]
  },
  {
   "cell_type": "code",
   "execution_count": 2,
   "id": "a1e6416d",
   "metadata": {},
   "outputs": [
    {
     "name": "stdout",
     "output_type": "stream",
     "text": [
      "1\n",
      "1 2\n",
      "1 2 3 4 5\n"
     ]
    }
   ],
   "source": [
    "# 인자로 받는 값의 개수가 동적으로 변화.\n",
    "\n",
    "print(1) # 1개\n",
    "print(1, 2) # 2개\n",
    "print(1, 2, 3, 4, 5) # 5개"
   ]
  },
  {
   "cell_type": "code",
   "execution_count": 6,
   "id": "b14a532a",
   "metadata": {},
   "outputs": [
    {
     "name": "stdout",
     "output_type": "stream",
     "text": [
      "(1, 2, 3, 4, 5, 6, 7, 8, 9, 0)\n"
     ]
    }
   ],
   "source": [
    "def test(*args):\n",
    "    print(args)\n",
    "    \n",
    "test(1,2,3,4,5,6,7,8,9,0)"
   ]
  },
  {
   "cell_type": "code",
   "execution_count": 7,
   "id": "5d786860",
   "metadata": {},
   "outputs": [
    {
     "name": "stdout",
     "output_type": "stream",
     "text": [
      "(9, 1, 3, 5)\n"
     ]
    }
   ],
   "source": [
    "def test2(*x):\n",
    "    print(x)\n",
    "    \n",
    "test2(9,1,3,5)"
   ]
  },
  {
   "cell_type": "code",
   "execution_count": 8,
   "id": "cabd2eed",
   "metadata": {},
   "outputs": [
    {
     "name": "stdout",
     "output_type": "stream",
     "text": [
      "{'name': 'pervinco', 'age': 29}\n"
     ]
    }
   ],
   "source": [
    "def test3(**x):\n",
    "    print(x)\n",
    "    \n",
    "test3(name=\"pervinco\", age=29)"
   ]
  },
  {
   "cell_type": "code",
   "execution_count": 9,
   "id": "be541e65",
   "metadata": {},
   "outputs": [
    {
     "name": "stdout",
     "output_type": "stream",
     "text": [
      "name pervinco\n",
      "age 29\n"
     ]
    }
   ],
   "source": [
    "def test3(**x):\n",
    "    for key, value in x.items():\n",
    "        print(key, value)\n",
    "        \n",
    "test3(name=\"pervinco\", age=29)"
   ]
  },
  {
   "cell_type": "code",
   "execution_count": null,
   "id": "590cb7e4",
   "metadata": {},
   "outputs": [],
   "source": []
  }
 ],
 "metadata": {
  "kernelspec": {
   "display_name": "Python 3 (ipykernel)",
   "language": "python",
   "name": "python3"
  },
  "language_info": {
   "codemirror_mode": {
    "name": "ipython",
    "version": 3
   },
   "file_extension": ".py",
   "mimetype": "text/x-python",
   "name": "python",
   "nbconvert_exporter": "python",
   "pygments_lexer": "ipython3",
   "version": "3.9.7"
  }
 },
 "nbformat": 4,
 "nbformat_minor": 5
}
