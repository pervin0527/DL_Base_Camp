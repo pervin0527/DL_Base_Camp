{
 "cells": [
  {
   "cell_type": "markdown",
   "metadata": {
    "id": "snjw83r7cOG2"
   },
   "source": [
    "## 1.7 함수 정의\n",
    "\n",
    "인수는 다음과 같이 두 종류로 나눌 수 있다.\n",
    "[위치 인수와 키워드 인수](https://www.delftstack.com/ko/howto/python/positional-arguments-vs-keyword-arguments-in-python/)\n",
    "- 명명 인수(named argument) 혹은 키워드 인수(Keyword argument)는 인수 이름과 함께 사용해야하는 인수\n",
    "- 위치 인수(positional argument)는 이름 없이 인수 위치로 사용한다."
   ]
  },
  {
   "cell_type": "code",
   "execution_count": null,
   "metadata": {
    "colab": {
     "base_uri": "https://localhost:8080/"
    },
    "id": "4LhEPJcCcNIX",
    "outputId": "1ea6e9a2-6f59-4cc6-918e-fd5e6035611b"
   },
   "outputs": [
    {
     "name": "stdout",
     "output_type": "stream",
     "text": [
      "123-456-789\n"
     ]
    }
   ],
   "source": [
    "# print()함수를 예로 들면, 쉼표로 인수를 구분해도 sep이나 end 인수로 접근할 수 없다.\n",
    "# 무조건 sep= 혹은 end= 와 같이 키워드 인수로 접근해야 한다.\n",
    "print(123, 456, 789, sep='-')"
   ]
  },
  {
   "cell_type": "markdown",
   "metadata": {
    "id": "x2sBUNDSdxN0"
   },
   "source": [
    "이외에도 함수를 정의하고 호출할 때, 위치 인자로만 사용하게 되면 함수 정의시 나열한 매개변수들의 순서를 알고 있어야만 올바르게 값을 전달할 수 있으므로, 키워드 인수를 같이 사용하는 것이 편리하다."
   ]
  },
  {
   "cell_type": "code",
   "execution_count": null,
   "metadata": {
    "id": "FEqkYPU3dekk"
   },
   "outputs": [],
   "source": [
    "def info(name, tall, age):\n",
    "    print(\"NAME : \", name)\n",
    "    print(\"TALL : \", tall)\n",
    "    print(\"AGE : \", age)"
   ]
  },
  {
   "cell_type": "code",
   "execution_count": null,
   "metadata": {
    "colab": {
     "base_uri": "https://localhost:8080/"
    },
    "id": "zFgr52eUfXlu",
    "outputId": "8414b443-9269-454f-c3dc-44488a8bcbbf"
   },
   "outputs": [
    {
     "name": "stdout",
     "output_type": "stream",
     "text": [
      "NAME :  minjun\n",
      "TALL :  180\n",
      "AGE :  29\n"
     ]
    }
   ],
   "source": [
    "info(\"minjun\", 180, 29) # 위치 인수로 사용. 모든 입력 인수는 함수 호출에서의 위치와 함수 선언에서의 매개변수 위치에 따라 매개변수에 할당"
   ]
  },
  {
   "cell_type": "code",
   "execution_count": null,
   "metadata": {
    "colab": {
     "base_uri": "https://localhost:8080/"
    },
    "id": "kZGPJgUEfmke",
    "outputId": "ac909bdd-a1b8-4b58-e513-289aae4a835a"
   },
   "outputs": [
    {
     "name": "stdout",
     "output_type": "stream",
     "text": [
      "NAME :  minjun\n",
      "TALL :  180\n",
      "AGE :  29\n"
     ]
    }
   ],
   "source": [
    "info(name=\"minjun\", tall=180, age=29) # 키워드 인수로 사용. 각 매개변수는 키처럼 작동하고 각 인수는 값처럼 작용"
   ]
  },
  {
   "cell_type": "markdown",
   "metadata": {
    "id": "m3ZX10gnhub4"
   },
   "source": [
    "## 1.11 boolean 연산자\n",
    "boolean 연산자는 True 혹은 False를 반환한다.  \n",
    "논리 연산자 and와 or는 ***단락 논리 규칙(short-circuit logic)***을 따름.  \n",
    "(조건문의 최종 결과가 남아 있는 표현식의 결과와 상관없이 확정되는 경우, 남아 있는 표현식은 실행 자체를 하지 않는 규칙.)\n"
   ]
  },
  {
   "cell_type": "code",
   "execution_count": null,
   "metadata": {
    "id": "bsZo3X4Pf0g-"
   },
   "outputs": [],
   "source": [
    "x = 10\n",
    "y = 20"
   ]
  },
  {
   "cell_type": "code",
   "execution_count": null,
   "metadata": {
    "colab": {
     "base_uri": "https://localhost:8080/"
    },
    "id": "8Lkz_TglikQR",
    "outputId": "8275fe18-214b-4826-d1b4-45eda32263f4"
   },
   "outputs": [
    {
     "name": "stdout",
     "output_type": "stream",
     "text": [
      "False\n",
      "True\n",
      "False\n",
      "True\n"
     ]
    }
   ],
   "source": [
    "# 비교 연산자\n",
    "print(x == y)\n",
    "print(x != y)\n",
    "print(x > y)\n",
    "print(x < y)"
   ]
  },
  {
   "cell_type": "code",
   "execution_count": null,
   "metadata": {
    "id": "uXFzmlDkitG8"
   },
   "outputs": [],
   "source": [
    "a = True\n",
    "b = False"
   ]
  },
  {
   "cell_type": "code",
   "execution_count": null,
   "metadata": {
    "colab": {
     "base_uri": "https://localhost:8080/"
    },
    "id": "BA8emCW7i8S5",
    "outputId": "42ca0c6d-40c8-4771-c434-d0c576f5bae8"
   },
   "outputs": [
    {
     "name": "stdout",
     "output_type": "stream",
     "text": [
      "False\n",
      "True\n",
      "True\n"
     ]
    }
   ],
   "source": [
    "print(b and a) # 단락 논리 규칙에 의해서 b가 이미 False 이므로 a는 확인하지 않는다.\n",
    "print(b or a)\n",
    "print(not(b) and a) # 논리 연산자 중 유일하가 단일 피연산자를 가지는 Not은 논리값의 반대값을 반환한다. 따라서 결과값이 True"
   ]
  },
  {
   "cell_type": "markdown",
   "metadata": {
    "id": "txGPbkWe7y81"
   },
   "source": [
    "## 1.12 함수 인수와 반환값\n",
    "\n",
    "함수 문법은 다중 인수와 다중 반환값을 유연하게 지원한다.\n",
    "\n",
    "인수가 여러 개 있을 때는 인수 이름들을 쉼표 기호로 구분하여 나열한 리스트를 인수로 사용한다.\n",
    "\n",
    "반환값 역시 동일하며, return 만 작성하거나 생략하는 경우 둘 다 None값을 반환한다. (함수 끝에 도달하면 묵시적으로 return을 호출하며 기본적으로 None을 반환)   \n",
    "return 문이 실행되면 즉시 함수에서 탈출하며, 함수 호출자로 돌아간다.  "
   ]
  },
  {
   "cell_type": "code",
   "execution_count": null,
   "metadata": {
    "id": "ZmwruILHjRl7"
   },
   "outputs": [],
   "source": [
    "def test_function(n1, n2):\n",
    "    result = n1 + n2\n",
    "\n",
    "    return # 함수가 종료되며, 이 경우 반환값이 적혀있지 않기 때문에 None 값이 반환. return 문을 생략해도 동일."
   ]
  },
  {
   "cell_type": "code",
   "execution_count": null,
   "metadata": {
    "colab": {
     "base_uri": "https://localhost:8080/"
    },
    "id": "Kp0v25yZ80PO",
    "outputId": "51ecbf17-cd8e-41bc-82fe-37b0ce8e9f5b"
   },
   "outputs": [
    {
     "name": "stdout",
     "output_type": "stream",
     "text": [
      "None\n"
     ]
    }
   ],
   "source": [
    "value = test_function(2, 4)\n",
    "print(value)"
   ]
  },
  {
   "cell_type": "markdown",
   "metadata": {
    "id": "2QIGwTkt9H1F"
   },
   "source": [
    "[Reference 1](https://aalphaca.tistory.com/4)\n",
    "\n",
    "[Reference 2](https://jins-dev.tistory.com/entry/Python-%EC%9D%98-Call-by-assignment-%EC%9D%98-%EA%B0%9C%EB%85%90)\n",
    "\n",
    "기술적으로 파이썬의 인수 전달 방식은 값 전달(pass by value)이 아니라 참조 전달(pass by reference)이지만,\n",
    "\n",
    "정확하게 말하면 둘 다 아니다. 값이 파이썬 함수로 전달되면 해당 함수는 데이터 이름의 참조 주소를 받는다.  \n",
    "하지만 함수가 인수로 주어진 변수에 새로운 값을 대입하면 전달받았던 기존 값과 연결이 끊어지고만다."
   ]
  },
  {
   "cell_type": "code",
   "execution_count": null,
   "metadata": {
    "id": "D1WWfEIJ85D6"
   },
   "outputs": [],
   "source": [
    "def test_by(a):\n",
    "    a = [5, 6, 7, 8]"
   ]
  },
  {
   "cell_type": "code",
   "execution_count": null,
   "metadata": {
    "colab": {
     "base_uri": "https://localhost:8080/"
    },
    "id": "XuyX5AJ4KD0_",
    "outputId": "ed02132a-7b83-4a0e-a412-347819cf028c"
   },
   "outputs": [
    {
     "data": {
      "text/plain": [
       "[1, 2, 3, 4]"
      ]
     },
     "execution_count": 21,
     "metadata": {},
     "output_type": "execute_result"
    }
   ],
   "source": [
    "a = [1, 2, 3, 4]\n",
    "a"
   ]
  },
  {
   "cell_type": "code",
   "execution_count": null,
   "metadata": {
    "colab": {
     "base_uri": "https://localhost:8080/"
    },
    "id": "TYRay5fpKH2j",
    "outputId": "9aadec00-1011-4827-f5d2-80fa1f4a17c6"
   },
   "outputs": [
    {
     "data": {
      "text/plain": [
       "[1, 2, 3, 4]"
      ]
     },
     "execution_count": 22,
     "metadata": {},
     "output_type": "execute_result"
    }
   ],
   "source": [
    "test_by(a)\n",
    "a"
   ]
  },
  {
   "cell_type": "code",
   "execution_count": null,
   "metadata": {
    "id": "izxvUqYLKf1S"
   },
   "outputs": [],
   "source": [
    "def double_it(x):\n",
    "    print(\"input value : \", x)\n",
    "    x = x * 2\n",
    "    print(\"after value : \", x)"
   ]
  },
  {
   "cell_type": "code",
   "execution_count": null,
   "metadata": {
    "colab": {
     "base_uri": "https://localhost:8080/"
    },
    "id": "xmXdF43kLbP9",
    "outputId": "46368a00-9234-4e1b-c2b9-9d2cd239d00b"
   },
   "outputs": [
    {
     "name": "stdout",
     "output_type": "stream",
     "text": [
      "input value :  10\n",
      "after value :  20\n",
      "result :  10\n"
     ]
    }
   ],
   "source": [
    "x = 10 # int는 immutalbe 객체이기 때문에 변경할 수 없음.\n",
    "double_it(x)\n",
    "print(\"result : \", x)"
   ]
  },
  {
   "cell_type": "code",
   "execution_count": null,
   "metadata": {
    "id": "HezhDJTtLdaT"
   },
   "outputs": [],
   "source": [
    "def change_list(t):\n",
    "    print(\"Before : \", t)\n",
    "    t[0] = \"CHANGE\""
   ]
  },
  {
   "cell_type": "code",
   "execution_count": null,
   "metadata": {
    "colab": {
     "base_uri": "https://localhost:8080/"
    },
    "id": "ZZbcmHHSPUEN",
    "outputId": "e291827d-def9-43a8-9460-eff4f51ee666"
   },
   "outputs": [
    {
     "name": "stdout",
     "output_type": "stream",
     "text": [
      "Before :  [1, 2, 3, 4]\n",
      "After :  ['CHANGE', 2, 3, 4]\n"
     ]
    }
   ],
   "source": [
    "t = [1, 2, 3, 4]\n",
    "change_list(t)\n",
    "print(\"After : \", t)"
   ]
  },
  {
   "cell_type": "markdown",
   "metadata": {
    "id": "ufNxQH1xQtaI"
   },
   "source": [
    "기본값을 가지는 인수를 함수 정의문에 넣으려면 반드시 모든 인수를 표기한 다음에 넣어야 한다.  \n",
    "그렇지 않으면 다음과 같은 에러가 발생한다. ***Non-default argument follows default argument***\n",
    "\n",
    "\n",
    "[Reference](https://velog.io/@minho/SyntaxError-non-default-argument-follows-default-argument)"
   ]
  },
  {
   "cell_type": "code",
   "execution_count": null,
   "metadata": {
    "id": "YOpR--hSPY99"
   },
   "outputs": [],
   "source": [
    "def print_nums(n, rep=1):\n",
    "    i = 1\n",
    "    while i <= rep:\n",
    "        print(n)\n",
    "        i += 1"
   ]
  },
  {
   "cell_type": "code",
   "execution_count": null,
   "metadata": {
    "colab": {
     "base_uri": "https://localhost:8080/"
    },
    "id": "G0yeYA4bQ-G3",
    "outputId": "2fdb39d3-3e23-40d5-e3ab-306b28a8fdfc"
   },
   "outputs": [
    {
     "name": "stdout",
     "output_type": "stream",
     "text": [
      "10\n"
     ]
    }
   ],
   "source": [
    "print_nums(10)"
   ]
  },
  {
   "cell_type": "code",
   "execution_count": null,
   "metadata": {
    "id": "BKO0r6RFRAa_"
   },
   "outputs": [],
   "source": []
  }
 ],
 "metadata": {
  "colab": {
   "collapsed_sections": [],
   "name": "Chapter 1 (1.7 ~ 1.12)",
   "provenance": []
  },
  "kernelspec": {
   "display_name": "Python 3 (ipykernel)",
   "language": "python",
   "name": "python3"
  },
  "language_info": {
   "codemirror_mode": {
    "name": "ipython",
    "version": 3
   },
   "file_extension": ".py",
   "mimetype": "text/x-python",
   "name": "python",
   "nbconvert_exporter": "python",
   "pygments_lexer": "ipython3",
   "version": "3.9.7"
  }
 },
 "nbformat": 4,
 "nbformat_minor": 1
}
