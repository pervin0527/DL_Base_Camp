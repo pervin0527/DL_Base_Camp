{
 "cells": [
  {
   "cell_type": "markdown",
   "id": "4a0e58ed",
   "metadata": {},
   "source": [
    "## 전역 변수와 지역 변수\n",
    "\n",
    "전역 변수는 함수 호출 시 값이 유지되며, 모든 함수에서 접근할 수 있는 변수다.  \n",
    "그렇기 때문에 한 함수에서 전역 변수 my_global_var을 변경하는 경우, 다른 함수의 my_global_var도 변경된다.\n",
    "\n",
    "변수 x가 함수 정의문 안에서 언급되면 해당 함수 안에만 존재하는 지역 변수가 된다. 이외의 변수는 모두 전역 변수다.  \n",
    "지역 변수의 유효 범위는 전역과는 반대로 함수 정의문 밖에서 동일한 이름을 사용해도 서로 영향을 미치지 않는다. 이 경우 변수는 내부 전용(private)이다.\n",
    "\n",
    "하지만 전역 변수는 어느 곳에서나 접근할 수 있다."
   ]
  },
  {
   "cell_type": "code",
   "execution_count": 3,
   "id": "a0bf13d7",
   "metadata": {},
   "outputs": [],
   "source": [
    "count = 10 # global"
   ]
  },
  {
   "cell_type": "code",
   "execution_count": 4,
   "id": "eec015e1",
   "metadata": {},
   "outputs": [],
   "source": [
    "def funcA():\n",
    "    count = 20 # local\n",
    "    print(count)"
   ]
  },
  {
   "cell_type": "code",
   "execution_count": 5,
   "id": "f353a527",
   "metadata": {},
   "outputs": [],
   "source": [
    "def funcB():\n",
    "    print(count)"
   ]
  },
  {
   "cell_type": "markdown",
   "id": "f969dc72",
   "metadata": {},
   "source": [
    "funcB에서 전역 변수의 값을 변경하고 싶으나, 해당 변수에 값을 대입하면 문제가 생긴다.\n",
    "\n",
    "파이썬은 데이터 선언 개념이 없기 때문에 변수에 값을 대입하는 순간 신규 변수를 생성하기 때문이다.  \n",
    "변수를 만드는 곳이 함수 안이기 때문에 전역 변수를 복제한 지역 변수 count를 사용하게 되는 것."
   ]
  },
  {
   "cell_type": "code",
   "execution_count": 6,
   "id": "b5b5bb8a",
   "metadata": {},
   "outputs": [],
   "source": [
    "def funcC():\n",
    "    count = 100 # local로 변경되고, global 변수인 count = 10에는 영향이 없음.\n",
    "    print(count)"
   ]
  },
  {
   "cell_type": "markdown",
   "id": "1c2d7dfd",
   "metadata": {},
   "source": [
    "이를 위해 global 문을 사용한다.  \n",
    "이 문법은 파이썬이 지역 변수를 사용하는 것을 피하게 해준다. 그러면 전역 변수가 있다고 가정하고, 전역 변수를 사용하게 된다.  "
   ]
  },
  {
   "cell_type": "code",
   "execution_count": 7,
   "id": "6d35ab6a",
   "metadata": {},
   "outputs": [],
   "source": [
    "def my_func():\n",
    "    global count\n",
    "    count += 10"
   ]
  },
  {
   "cell_type": "code",
   "execution_count": 8,
   "id": "65e80b16",
   "metadata": {},
   "outputs": [
    {
     "name": "stdout",
     "output_type": "stream",
     "text": [
      "20\n"
     ]
    }
   ],
   "source": [
    "my_func()\n",
    "print(count)"
   ]
  },
  {
   "cell_type": "markdown",
   "id": "a7c3d510",
   "metadata": {},
   "source": [
    "변수는 값을 대입할 때 생성되는 것이지, global 문이 직접 무언가를 만들지는 않는다.  \n",
    "앞서 살펴본 예제에서는 변수 count가 함수 정의문보다 먼저 생성되었다.\n",
    "\n",
    "함수와 클래스 정의문 밖에 위치한 모든 문장으로 구성된 모듈-수준 코드에서 전역 변수를 만들 수 있다.  \n",
    "그러나 다음과 같이 존재하지 않는 변수를 함수 안에서 global 문으로 사용하면 호출하는 시점에서 전역 변수가 생성된다."
   ]
  },
  {
   "cell_type": "code",
   "execution_count": 9,
   "id": "701af2fc",
   "metadata": {},
   "outputs": [],
   "source": [
    "def my_func2():\n",
    "    global test\n",
    "    test = 1000"
   ]
  },
  {
   "cell_type": "code",
   "execution_count": 10,
   "id": "2396091d",
   "metadata": {},
   "outputs": [
    {
     "data": {
      "text/plain": [
       "1000"
      ]
     },
     "execution_count": 10,
     "metadata": {},
     "output_type": "execute_result"
    }
   ],
   "source": [
    "my_func2()\n",
    "test"
   ]
  },
  {
   "cell_type": "markdown",
   "id": "dd50c00e",
   "metadata": {},
   "source": [
    "1. 파이썬에 데이터 선업이 없다는 것을 고려했을 때, 이론적으로 초기화되지 않은 데이터를 가질 수 있는가?  \n",
    "\n",
    "    -> None을 사용하면 가능."
   ]
  },
  {
   "cell_type": "markdown",
   "id": "48f5f885",
   "metadata": {},
   "source": [
    "2. 파이썬 정수가 무한이라는 의미는 무엇인가? 그리고 전혀 무한이 아니라는 것은 무엇을 의미하는가?\n",
    "\n",
    "    -> 표현 범위에 제한이 없다?\n",
    "    \n",
    "    ***정답은 시스템의 물리적인 메모리 사이즈 제약을 넘지 않는다면 어떤 크기의 정수라도 사용할 수 있다는 의미.***"
   ]
  },
  {
   "cell_type": "markdown",
   "id": "fc68962e",
   "metadata": {},
   "source": [
    "3. 이론적으로 클래스는 무한 범위를 가질 수 있는가?\n",
    "\n",
    "    -> 가질 수 있다."
   ]
  },
  {
   "cell_type": "markdown",
   "id": "dab714af",
   "metadata": {},
   "source": [
    "4. 파이썬에서 들여쓰기가 다른 프로그래밍 언어 대부분보다 더 중요한 이유는 무엇인가?\n",
    "\n",
    "    -> 별도의 단락 구분 문자가 없기 때문에."
   ]
  },
  {
   "cell_type": "markdown",
   "id": "e5fe62d9",
   "metadata": {},
   "source": [
    "5. 파이썬 프로그램의 들여쓰기는 완전히 일관성 있게 사용하는 것이 가장 좋은 방법이다.  \n",
    "   반면 파이썬이 들여쓰기에 주는 자유는 무엇인가? 정확하게 프로그램 안에서 반드시 일관성 있게 들여쓰기를 사용해야 하는 곳이 어디인가?\n",
    "   어디가 다른가? 예제와 함께 설명하라.\n",
    "   \n",
    "   -> 2칸을 들여쓸지 4칸을 들여쓸지는 개발자의 자유. 일관성 있게 들여쓰기 해야하는 곳은 함수, 클래스, 조건문 등"
   ]
  },
  {
   "cell_type": "markdown",
   "id": "f0f51b03",
   "metadata": {},
   "source": [
    "6. 파이썬 프로그램에서 들여쓰기를 탭 문자로 하면 정확하게 어떤 문제가 생기는지 설명하라.\n",
    "\n",
    "    -> 만약 탭으로 들여쓰기를 했으면 코드가 끝날 때까지 탭으로 들여쓰기를 해야한다. 그렇지 않으면 들여쓰기 에러가 발생함."
   ]
  },
  {
   "cell_type": "markdown",
   "id": "ca8af557",
   "metadata": {},
   "source": [
    "7. 파이썬의 엄격한 들여쓰기 규칙이 어떤 장점을 가져오는가?  \n",
    "    -> 가독성이 높다."
   ]
  },
  {
   "cell_type": "markdown",
   "id": "f1238f29",
   "metadata": {},
   "source": [
    "8. 파이썬 함수에서 다른 값을 얼마나 많이 반환할 수 있는가?  \n",
    "    -> return 문에 쉼표를 사용해서 반환하는 값을 마음대로 정할 수 있다."
   ]
  },
  {
   "cell_type": "markdown",
   "id": "44893462",
   "metadata": {},
   "source": [
    "9. 함수에 대한 선행 참조 문제를 다시 떠올려 보자. 어떤 경우에 이 문제가 발생하는가?  \n",
    "    -> 함수를 호출하기 전에 미리 함수를 정의해야한다. 그리고 모듈-수준 코드(함수 밖에 있는 코드)에서 함수를 호출한다."
   ]
  },
  {
   "cell_type": "markdown",
   "id": "a3bfe95b",
   "metadata": {},
   "source": [
    "10. 파이썬 텍스트 문자열을 작성한다고 해 보자. 무슨 따옴표를 사용해야하는가.  \n",
    "    -> 큰 따옴표, 작은 따옴표, 3개의 따옴표를 사용하는 것 3가지 방법이 있다."
   ]
  },
  {
   "cell_type": "markdown",
   "id": "2f53a48a",
   "metadata": {},
   "source": [
    "11. C와 같은 다른 언어에서 단일 기본 타입의 집합으로 구성된 배열을 제공하는 것과는 다르게, 파이썬 리스트가 가지는 다른 점이 무엇인지 최소한 하나 이상 기술하라.  \n",
    "    -> 파이썬 리스트는 다중 타입의 데이터가 추가될 수 있으며, 추가된 순서가 지켜진다."
   ]
  },
  {
   "cell_type": "code",
   "execution_count": null,
   "id": "2e02ab1e",
   "metadata": {},
   "outputs": [],
   "source": []
  }
 ],
 "metadata": {
  "kernelspec": {
   "display_name": "Python 3 (ipykernel)",
   "language": "python",
   "name": "python3"
  },
  "language_info": {
   "codemirror_mode": {
    "name": "ipython",
    "version": 3
   },
   "file_extension": ".py",
   "mimetype": "text/x-python",
   "name": "python",
   "nbconvert_exporter": "python",
   "pygments_lexer": "ipython3",
   "version": "3.9.7"
  }
 },
 "nbformat": 4,
 "nbformat_minor": 5
}
