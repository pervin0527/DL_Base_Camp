{
 "cells": [
  {
   "cell_type": "markdown",
   "id": "497f2246",
   "metadata": {},
   "source": [
    "### 단일 문자 함수\n",
    "```python\n",
    "ord(단일문자) # 인수로 입력한 문자의 아스키코드 혹은 유니코드 값을 반환한다.\n",
    "chr(숫자) # 아스키코드나 유니코드를 한 글자 문자로 변환\n",
    "```"
   ]
  },
  {
   "cell_type": "code",
   "execution_count": 2,
   "id": "c419d102",
   "metadata": {},
   "outputs": [
    {
     "name": "stdout",
     "output_type": "stream",
     "text": [
      "65\n",
      "A\n"
     ]
    }
   ],
   "source": [
    "# 결과에서 확인할 수 있듯 서로 반대되는 기능\n",
    "\n",
    "print(ord('A'))\n",
    "print(chr(65))"
   ]
  },
  {
   "cell_type": "markdown",
   "id": "61c06036",
   "metadata": {},
   "source": [
    "### 문자열 in"
   ]
  },
  {
   "cell_type": "code",
   "execution_count": 4,
   "id": "7e0c51aa",
   "metadata": {},
   "outputs": [
    {
     "name": "stdout",
     "output_type": "stream",
     "text": [
      "첫 문자가 모음입니다.\n"
     ]
    }
   ],
   "source": [
    "s = 'elephant'\n",
    "if s[0] in 'aeiou':\n",
    "    print(\"첫 문자가 모음입니다.\")"
   ]
  },
  {
   "cell_type": "code",
   "execution_count": 5,
   "id": "c35801d4",
   "metadata": {},
   "outputs": [
    {
     "name": "stdout",
     "output_type": "stream",
     "text": [
      "첫 문자가 모음입니다.\n"
     ]
    }
   ],
   "source": [
    "if s[0] in 'aeiouAEIOU':\n",
    "    print(\"첫 문자가 모음입니다.\")"
   ]
  },
  {
   "cell_type": "code",
   "execution_count": 6,
   "id": "b8f5c3fa",
   "metadata": {},
   "outputs": [
    {
     "name": "stdout",
     "output_type": "stream",
     "text": [
      "첫 문자가 모음입니다.\n"
     ]
    }
   ],
   "source": [
    "if s[0].upper() in 'AEIOU':\n",
    "    print(\"첫 문자가 모음입니다.\")"
   ]
  },
  {
   "cell_type": "code",
   "execution_count": 7,
   "id": "75b37844",
   "metadata": {},
   "outputs": [
    {
     "name": "stdout",
     "output_type": "stream",
     "text": [
      "True\n"
     ]
    }
   ],
   "source": [
    "str1 = \"bad guy\"\n",
    "str2 = \"bad\"\n",
    "\n",
    "print(str2 in str1)"
   ]
  },
  {
   "cell_type": "code",
   "execution_count": 10,
   "id": "bd4fa161",
   "metadata": {},
   "outputs": [
    {
     "name": "stdout",
     "output_type": "stream",
     "text": [
      "72 121 112 101 114 45 67 108 111 117 100 32 74 117 110 "
     ]
    }
   ],
   "source": [
    "test = \"Hyper-Cloud Jun\"\n",
    "\n",
    "for t in test:\n",
    "    print(ord(t), end=' ')"
   ]
  },
  {
   "cell_type": "markdown",
   "id": "2804f2f0",
   "metadata": {},
   "source": [
    "### 공백에 대한 in연산자\n",
    "in 연산자는 모든 문자열이 비어 있는 문자열('')이 포함하고 있다고 생각하는 반면,  \n",
    "모든 리스트가 빈 리스트를 가지고 있다고는 생각하지 않는다."
   ]
  },
  {
   "cell_type": "code",
   "execution_count": 9,
   "id": "7008a980",
   "metadata": {},
   "outputs": [
    {
     "name": "stdout",
     "output_type": "stream",
     "text": [
      "True\n",
      "False\n",
      "True\n"
     ]
    }
   ],
   "source": [
    "print(\"\" in \"Hello?\")\n",
    "print([] in [1, 2, 3, 4])\n",
    "print([] in [1, 2, 3, 4, []])"
   ]
  },
  {
   "cell_type": "markdown",
   "id": "55f5cd57",
   "metadata": {},
   "source": [
    "### 문자열 합치기\n",
    "\n",
    "문자열은 불변 타입이라는 것을 고려하면 문자열 조립이나 생성은 어떻게 이루어질까\n",
    "\n",
    "몇 번 다룬 내용이지만 아래 3개의 코드블록에서 문자열이 불변이라는 성질은 위배되지 않았다.  \n",
    "그저 매 라인마다 새로운 문자열을 생성하고 test라는 변수에 재대입한 것 뿐이다."
   ]
  },
  {
   "cell_type": "code",
   "execution_count": 12,
   "id": "215e2922",
   "metadata": {},
   "outputs": [
    {
     "data": {
      "text/plain": [
       "'Hyper-Cloud-Jun'"
      ]
     },
     "execution_count": 12,
     "metadata": {},
     "output_type": "execute_result"
    }
   ],
   "source": [
    "test = \"Hyper\"\n",
    "test = test + \"Cloud \"\n",
    "test = test + \"Jun\"\n",
    "\n",
    "test"
   ]
  },
  {
   "cell_type": "code",
   "execution_count": 13,
   "id": "e8951039",
   "metadata": {},
   "outputs": [
    {
     "data": {
      "text/plain": [
       "'Hyper Cloud Jun'"
      ]
     },
     "execution_count": 13,
     "metadata": {},
     "output_type": "execute_result"
    }
   ],
   "source": [
    "test = \"Hyper \"\n",
    "test += \"Cloud \"\n",
    "test += \"Jun\"\n",
    "\n",
    "test"
   ]
  },
  {
   "cell_type": "code",
   "execution_count": 15,
   "id": "8a27ad5f",
   "metadata": {},
   "outputs": [
    {
     "name": "stdout",
     "output_type": "stream",
     "text": [
      "ABCDEFGHIJKLMNOPQRSTUVWXYZ\n"
     ]
    }
   ],
   "source": [
    "n = ord('A')\n",
    "s = ''\n",
    "\n",
    "for i in range(n, n + 26):\n",
    "    s += chr(i)\n",
    "    \n",
    "print(s)"
   ]
  },
  {
   "cell_type": "markdown",
   "id": "67061d20",
   "metadata": {},
   "source": [
    "### join()\n",
    "하지만 파이선 내부적으로는 메모리에 완전히 새로운 문자열을 계속 반복하여 생성하는 것이기 때문에 비효율적이다.  \n",
    "이러한 비효율을 개선하기 위한 대안으로 join 메서드를 사용할 수 있다.\n",
    "\n",
    "리스트의 모든 문자열을 연결하여 하나의 커다란 문자열을 만든다.  \n",
    "단순 문자열 연결은 한 번만 사용하고 가비지 컬렉션에 의해 버려질 문자열을 만드는 것이 아니라, 리스트 내의 문자열들을 연결해 단 한 번에, 하나의 문자열을 만드는 것이다."
   ]
  },
  {
   "cell_type": "code",
   "execution_count": 16,
   "id": "3c3622a9",
   "metadata": {},
   "outputs": [
    {
     "name": "stdout",
     "output_type": "stream",
     "text": [
      "ABCDEFGHIJKLMNOPQRSTUVWXYZ\n"
     ]
    }
   ],
   "source": [
    "n = ord('A')\n",
    "spells = []\n",
    "\n",
    "for i in range(n, n + 26):\n",
    "    spells.append(chr(i))\n",
    "    \n",
    "s = ''.join(spells)\n",
    "print(s)"
   ]
  },
  {
   "cell_type": "markdown",
   "id": "bbff261f",
   "metadata": {},
   "source": [
    "### ETC\n",
    "\n",
    "- max(문자열) : 가장 높은 코드 값을 가진 문자 반환\n",
    "- min(문자열) : 가장 낮은 코드 값을 가진 문자 반환\n",
    "- reversed(문자열) : 역순 문자열을 지닌 iterator 반환"
   ]
  },
  {
   "cell_type": "code",
   "execution_count": 18,
   "id": "b7fd03bb",
   "metadata": {},
   "outputs": [
    {
     "name": "stdout",
     "output_type": "stream",
     "text": [
      "E d\n"
     ]
    }
   ],
   "source": [
    "test = \"abcdEFG\"\n",
    "\n",
    "print(min(test), max(test))"
   ]
  },
  {
   "cell_type": "code",
   "execution_count": 24,
   "id": "8ef2eea7",
   "metadata": {},
   "outputs": [
    {
     "name": "stdout",
     "output_type": "stream",
     "text": [
      "<reversed object at 0x7f92b12be8e0>\n",
      "<class 'reversed'>\n"
     ]
    }
   ],
   "source": [
    "reversed_test = reversed(test)\n",
    "print(reversed_test)\n",
    "print(type(reversed_test))"
   ]
  },
  {
   "cell_type": "code",
   "execution_count": 25,
   "id": "f86a84a0",
   "metadata": {},
   "outputs": [
    {
     "name": "stdout",
     "output_type": "stream",
     "text": [
      "0 G\n",
      "1 F\n",
      "2 E\n",
      "3 d\n",
      "4 c\n",
      "5 b\n",
      "6 a\n"
     ]
    }
   ],
   "source": [
    "for idx, t in enumerate(reversed_test):\n",
    "    print(idx, t)"
   ]
  },
  {
   "cell_type": "markdown",
   "id": "30f6dc05",
   "metadata": {},
   "source": [
    "- bin(숫자) : 숫자의 이진수 변환 값을 문자열로 반환\n",
    "- oct(숫자) : 숫자의 8진수 변환 값을 문자열로 반환\n",
    "- hex(숫자) : 숫자의 16진수 변환 값을 문자열로 반환"
   ]
  },
  {
   "cell_type": "code",
   "execution_count": 27,
   "id": "76856412",
   "metadata": {},
   "outputs": [
    {
     "name": "stdout",
     "output_type": "stream",
     "text": [
      "0b1010\n",
      "0o12\n",
      "0xa\n"
     ]
    }
   ],
   "source": [
    "print(bin(10))\n",
    "print(oct(10))\n",
    "print(hex(10))"
   ]
  },
  {
   "cell_type": "code",
   "execution_count": null,
   "id": "33f88957",
   "metadata": {},
   "outputs": [],
   "source": []
  }
 ],
 "metadata": {
  "kernelspec": {
   "display_name": "Python 3 (ipykernel)",
   "language": "python",
   "name": "python3"
  },
  "language_info": {
   "codemirror_mode": {
    "name": "ipython",
    "version": 3
   },
   "file_extension": ".py",
   "mimetype": "text/x-python",
   "name": "python",
   "nbconvert_exporter": "python",
   "pygments_lexer": "ipython3",
   "version": "3.9.7"
  }
 },
 "nbformat": 4,
 "nbformat_minor": 5
}
