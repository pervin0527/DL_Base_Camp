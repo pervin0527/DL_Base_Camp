{
 "cells": [
  {
   "cell_type": "markdown",
   "id": "842dc079",
   "metadata": {},
   "source": [
    "## 대입 연산자\n",
    "\n",
    "위 코드에서 변수 a에 1이 더해져 기존의 값이 증가한 것처럼 보이겠으나, 정수형 객체는 불변 객체이기 때문에,  \n",
    "실제로는 변수 a의 값이 증가한 것이 아니라 a의 값에 1을 더한 값을 새로 대입한 것이다."
   ]
  },
  {
   "cell_type": "code",
   "execution_count": 1,
   "id": "1074abb5",
   "metadata": {},
   "outputs": [
    {
     "data": {
      "text/plain": [
       "4"
      ]
     },
     "execution_count": 1,
     "metadata": {},
     "output_type": "execute_result"
    }
   ],
   "source": [
    "a = 3\n",
    "a += 1\n",
    "a"
   ]
  },
  {
   "cell_type": "markdown",
   "id": "4dc272e8",
   "metadata": {},
   "source": [
    "## 제곱 연산, 나눗셈"
   ]
  },
  {
   "cell_type": "code",
   "execution_count": 2,
   "id": "ae7b48a4",
   "metadata": {},
   "outputs": [
    {
     "data": {
      "text/plain": [
       "100"
      ]
     },
     "execution_count": 2,
     "metadata": {},
     "output_type": "execute_result"
    }
   ],
   "source": [
    "b = 10\n",
    "b ** 2"
   ]
  },
  {
   "cell_type": "code",
   "execution_count": 3,
   "id": "75549a95",
   "metadata": {},
   "outputs": [],
   "source": [
    "var1 = 5\n",
    "var2 = 2"
   ]
  },
  {
   "cell_type": "code",
   "execution_count": 4,
   "id": "9ce17bb5",
   "metadata": {},
   "outputs": [
    {
     "name": "stdout",
     "output_type": "stream",
     "text": [
      "2.5\n",
      "2\n",
      "1\n",
      "(2, 1)\n"
     ]
    }
   ],
   "source": [
    "print(var1 / var2) # 2.5\n",
    "print(var1 // var2) # 2\n",
    "print(var1 % var2) # 1\n",
    "print(divmod(var1, var2)) # 2, 1"
   ]
  },
  {
   "cell_type": "markdown",
   "id": "bac69f6e",
   "metadata": {},
   "source": [
    "## boolean 연산자\n",
    "boolean 연산자는 True 혹은 False를 반환한다.  \n",
    "논리 연산자 and와 or는 ***단락 논리 규칙(short-circuit logic)***을 따름.  \n",
    "(조건문의 최종 결과가 남아 있는 표현식의 결과와 상관없이 확정되는 경우, 남아 있는 표현식은 실행 자체를 하지 않는 규칙.)"
   ]
  },
  {
   "cell_type": "code",
   "execution_count": 5,
   "id": "130265e1",
   "metadata": {},
   "outputs": [],
   "source": [
    "x = 10\n",
    "y = 20"
   ]
  },
  {
   "cell_type": "code",
   "execution_count": 6,
   "id": "15df96d0",
   "metadata": {},
   "outputs": [
    {
     "name": "stdout",
     "output_type": "stream",
     "text": [
      "False\n",
      "True\n",
      "False\n",
      "True\n"
     ]
    }
   ],
   "source": [
    "# 비교 연산자\n",
    "print(x == y)\n",
    "print(x != y)\n",
    "print(x > y)\n",
    "print(x < y)"
   ]
  },
  {
   "cell_type": "code",
   "execution_count": 7,
   "id": "7e2afe6f",
   "metadata": {},
   "outputs": [],
   "source": [
    "a = True\n",
    "b = False"
   ]
  },
  {
   "cell_type": "code",
   "execution_count": 8,
   "id": "a21685d6",
   "metadata": {},
   "outputs": [
    {
     "name": "stdout",
     "output_type": "stream",
     "text": [
      "False\n",
      "True\n",
      "True\n"
     ]
    }
   ],
   "source": [
    "print(b and a) # 단락 논리 규칙에 의해서 b가 이미 False 이므로 a는 확인하지 않는다.\n",
    "print(b or a)\n",
    "print(not(b) and a) # 논리 연산자 중 유일하가 단일 피연산자를 가지는 Not은 논리값의 반대값을 반환한다. 따라서 결과값이 True"
   ]
  },
  {
   "cell_type": "code",
   "execution_count": null,
   "id": "f09502b2",
   "metadata": {},
   "outputs": [],
   "source": []
  }
 ],
 "metadata": {
  "kernelspec": {
   "display_name": "Python 3 (ipykernel)",
   "language": "python",
   "name": "python3"
  },
  "language_info": {
   "codemirror_mode": {
    "name": "ipython",
    "version": 3
   },
   "file_extension": ".py",
   "mimetype": "text/x-python",
   "name": "python",
   "nbconvert_exporter": "python",
   "pygments_lexer": "ipython3",
   "version": "3.9.7"
  }
 },
 "nbformat": 4,
 "nbformat_minor": 5
}
