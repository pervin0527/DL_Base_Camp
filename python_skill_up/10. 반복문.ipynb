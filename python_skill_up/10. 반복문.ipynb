{
 "cells": [
  {
   "cell_type": "markdown",
   "id": "f5a16fa7",
   "metadata": {},
   "source": [
    "### while"
   ]
  },
  {
   "cell_type": "code",
   "execution_count": 1,
   "id": "d7cd1cfd",
   "metadata": {},
   "outputs": [],
   "source": [
    "a = [1, 2, 5, 8, 10, 33, 40]"
   ]
  },
  {
   "cell_type": "code",
   "execution_count": 2,
   "id": "2d61bc79",
   "metadata": {},
   "outputs": [
    {
     "name": "stdout",
     "output_type": "stream",
     "text": [
      "2 8 10 40 "
     ]
    }
   ],
   "source": [
    "index = 0\n",
    "while index < len(a):\n",
    "    if not a[index] % 2:\n",
    "        print(a[index], end=' ')\n",
    "        \n",
    "    index += 1"
   ]
  },
  {
   "cell_type": "code",
   "execution_count": 3,
   "id": "5dd44bec",
   "metadata": {},
   "outputs": [
    {
     "name": "stdout",
     "output_type": "stream",
     "text": [
      "6 5 3 2 1 0 "
     ]
    }
   ],
   "source": [
    "a = 7\n",
    "while a > 0:\n",
    "    a -= 1\n",
    "    if a == 4:\n",
    "        continue\n",
    "        \n",
    "    print(a, end=' ')"
   ]
  },
  {
   "cell_type": "markdown",
   "id": "c1c2ba4f",
   "metadata": {},
   "source": [
    "### 1~100까지의 숫자 총합?"
   ]
  },
  {
   "cell_type": "code",
   "execution_count": 4,
   "id": "6d7a2b25",
   "metadata": {},
   "outputs": [
    {
     "name": "stdout",
     "output_type": "stream",
     "text": [
      "5050\n"
     ]
    }
   ],
   "source": [
    "total = 0\n",
    "n = 1\n",
    "\n",
    "while n < 101:\n",
    "    total += n\n",
    "    n += 1\n",
    "    \n",
    "print(total)"
   ]
  },
  {
   "cell_type": "markdown",
   "id": "429fe22d",
   "metadata": {},
   "source": [
    "### for + dict\n",
    "\n",
    "- 기본적으로 for문에 dict이 들어가면 key값을 참조한다."
   ]
  },
  {
   "cell_type": "code",
   "execution_count": 5,
   "id": "180ec92c",
   "metadata": {},
   "outputs": [
    {
     "name": "stdout",
     "output_type": "stream",
     "text": [
      "RED\n",
      "BLUE\n",
      "GREEN\n"
     ]
    }
   ],
   "source": [
    "test = {\"RED\":255, \"BLUE\":100, \"GREEN\":30}\n",
    "\n",
    "for i in test:\n",
    "    print(i)"
   ]
  },
  {
   "cell_type": "code",
   "execution_count": 6,
   "id": "61da4747",
   "metadata": {},
   "outputs": [
    {
     "name": "stdout",
     "output_type": "stream",
     "text": [
      "RED\n",
      "BLUE\n",
      "GREEN\n"
     ]
    }
   ],
   "source": [
    "for i in test.keys():\n",
    "    print(i)"
   ]
  },
  {
   "cell_type": "code",
   "execution_count": 7,
   "id": "7ff12e7d",
   "metadata": {},
   "outputs": [
    {
     "name": "stdout",
     "output_type": "stream",
     "text": [
      "255\n",
      "100\n",
      "30\n"
     ]
    }
   ],
   "source": [
    "for i in test.values():\n",
    "    print(i)"
   ]
  },
  {
   "cell_type": "code",
   "execution_count": 8,
   "id": "c3f775d4",
   "metadata": {},
   "outputs": [
    {
     "name": "stdout",
     "output_type": "stream",
     "text": [
      "('RED', 255)\n",
      "('BLUE', 100)\n",
      "('GREEN', 30)\n"
     ]
    }
   ],
   "source": [
    "for i in test.items():\n",
    "    print(i)"
   ]
  },
  {
   "cell_type": "code",
   "execution_count": 9,
   "id": "c4af770e",
   "metadata": {},
   "outputs": [
    {
     "name": "stdout",
     "output_type": "stream",
     "text": [
      "50\n",
      "80\n",
      "90\n",
      "100\n"
     ]
    }
   ],
   "source": [
    "test = [50, 60, 70, 80, 90, 100]\n",
    "\n",
    "for num in test:\n",
    "    if 60<=num<=70:\n",
    "        continue\n",
    "    print(num)"
   ]
  },
  {
   "cell_type": "markdown",
   "id": "ca5f8090",
   "metadata": {},
   "source": [
    "### 구구단"
   ]
  },
  {
   "cell_type": "code",
   "execution_count": 17,
   "id": "7cbb467f",
   "metadata": {},
   "outputs": [
    {
     "name": "stdout",
     "output_type": "stream",
     "text": [
      "2단 START\n",
      "2 * 1 = 2\n",
      "2 * 2 = 4\n",
      "2 * 3 = 6\n",
      "2 * 4 = 8\n",
      "2 * 5 = 10\n",
      "2 * 6 = 12\n",
      "2 * 7 = 14\n",
      "2 * 8 = 16\n",
      "2 * 9 = 18\n",
      "END\n",
      "\n",
      "3단 START\n",
      "3 * 1 = 3\n",
      "3 * 2 = 6\n",
      "3 * 3 = 9\n",
      "3 * 4 = 12\n",
      "3 * 5 = 15\n",
      "3 * 6 = 18\n",
      "3 * 7 = 21\n",
      "3 * 8 = 24\n",
      "3 * 9 = 27\n",
      "END\n",
      "\n",
      "4단 START\n",
      "4 * 1 = 4\n",
      "4 * 2 = 8\n",
      "4 * 3 = 12\n",
      "4 * 4 = 16\n",
      "4 * 5 = 20\n",
      "4 * 6 = 24\n",
      "4 * 7 = 28\n",
      "4 * 8 = 32\n",
      "4 * 9 = 36\n",
      "END\n",
      "\n",
      "5단 START\n",
      "5 * 1 = 5\n",
      "5 * 2 = 10\n",
      "5 * 3 = 15\n",
      "5 * 4 = 20\n",
      "5 * 5 = 25\n",
      "5 * 6 = 30\n",
      "5 * 7 = 35\n",
      "5 * 8 = 40\n",
      "5 * 9 = 45\n",
      "END\n",
      "\n",
      "6단 START\n",
      "6 * 1 = 6\n",
      "6 * 2 = 12\n",
      "6 * 3 = 18\n",
      "6 * 4 = 24\n",
      "6 * 5 = 30\n",
      "6 * 6 = 36\n",
      "6 * 7 = 42\n",
      "6 * 8 = 48\n",
      "6 * 9 = 54\n",
      "END\n",
      "\n",
      "7단 START\n",
      "7 * 1 = 7\n",
      "7 * 2 = 14\n",
      "7 * 3 = 21\n",
      "7 * 4 = 28\n",
      "7 * 5 = 35\n",
      "7 * 6 = 42\n",
      "7 * 7 = 49\n",
      "7 * 8 = 56\n",
      "7 * 9 = 63\n",
      "END\n",
      "\n",
      "8단 START\n",
      "8 * 1 = 8\n",
      "8 * 2 = 16\n",
      "8 * 3 = 24\n",
      "8 * 4 = 32\n",
      "8 * 5 = 40\n",
      "8 * 6 = 48\n",
      "8 * 7 = 56\n",
      "8 * 8 = 64\n",
      "8 * 9 = 72\n",
      "END\n",
      "\n",
      "9단 START\n",
      "9 * 1 = 9\n",
      "9 * 2 = 18\n",
      "9 * 3 = 27\n",
      "9 * 4 = 36\n",
      "9 * 5 = 45\n",
      "9 * 6 = 54\n",
      "9 * 7 = 63\n",
      "9 * 8 = 72\n",
      "9 * 9 = 81\n",
      "END\n",
      "\n"
     ]
    }
   ],
   "source": [
    "for i in range(2, 10):\n",
    "    print(f\"{i}단 START\")\n",
    "    for j in range(1, 10):\n",
    "        print(f\"{i} * {j} = {i*j}\")\n",
    "        \n",
    "    print(\"END\")\n",
    "    print()"
   ]
  },
  {
   "cell_type": "markdown",
   "id": "dd9ff3e4",
   "metadata": {},
   "source": [
    "1 ~ 100까지 정수 중 2의 배수 또는 11의 배수를 모두 출력."
   ]
  },
  {
   "cell_type": "code",
   "execution_count": 21,
   "id": "e2e2c3d5",
   "metadata": {},
   "outputs": [
    {
     "name": "stdout",
     "output_type": "stream",
     "text": [
      "2\n",
      "4\n",
      "6\n",
      "8\n",
      "10\n",
      "11\n",
      "12\n",
      "14\n",
      "16\n",
      "18\n",
      "20\n",
      "22\n",
      "24\n",
      "26\n",
      "28\n",
      "30\n",
      "32\n",
      "33\n",
      "34\n",
      "36\n",
      "38\n",
      "40\n",
      "42\n",
      "44\n",
      "46\n",
      "48\n",
      "50\n",
      "52\n",
      "54\n",
      "55\n",
      "56\n",
      "58\n",
      "60\n",
      "62\n",
      "64\n",
      "66\n",
      "68\n",
      "70\n",
      "72\n",
      "74\n",
      "76\n",
      "77\n",
      "78\n",
      "80\n",
      "82\n",
      "84\n",
      "86\n",
      "88\n",
      "90\n",
      "92\n",
      "94\n",
      "96\n",
      "98\n",
      "99\n",
      "100\n"
     ]
    }
   ],
   "source": [
    "for i in range(1, 101):\n",
    "    if (i % 2) == 0 or (i % 11) == 0:\n",
    "        print(i)"
   ]
  },
  {
   "cell_type": "code",
   "execution_count": 27,
   "id": "19d6cdbc",
   "metadata": {},
   "outputs": [],
   "source": [
    "a = [22, 1, 3, 4, 7, 98, 21, 55, 87, 99, 19, 20, 45]"
   ]
  },
  {
   "cell_type": "code",
   "execution_count": 28,
   "id": "a0c598e8",
   "metadata": {},
   "outputs": [
    {
     "name": "stdout",
     "output_type": "stream",
     "text": [
      "99\n",
      "1\n",
      "37.0\n"
     ]
    }
   ],
   "source": [
    "maximum = 0\n",
    "for n in a:\n",
    "    if n > maximum:\n",
    "        maximum = n\n",
    "        \n",
    "minimum = maximum\n",
    "for n in a:\n",
    "    if n < minimum:\n",
    "        minimum = n\n",
    "        \n",
    "print(maximum)\n",
    "print(minimum)\n",
    "\n",
    "total = 0\n",
    "for n in a:\n",
    "    total += n\n",
    "    \n",
    "avg = total / len(a) \n",
    "print(avg)"
   ]
  },
  {
   "cell_type": "code",
   "execution_count": 29,
   "id": "4f435c58",
   "metadata": {},
   "outputs": [
    {
     "name": "stdout",
     "output_type": "stream",
     "text": [
      "1 99\n"
     ]
    }
   ],
   "source": [
    "maximum = a[0]\n",
    "minimum = a[0]\n",
    "\n",
    "for n in a[1:]:\n",
    "    if n > maximum:\n",
    "        maximum = n\n",
    "        \n",
    "    if n < minimum:\n",
    "        minimum = n\n",
    "        \n",
    "print(minimum, maximum)"
   ]
  },
  {
   "cell_type": "code",
   "execution_count": null,
   "id": "db654682",
   "metadata": {},
   "outputs": [],
   "source": []
  }
 ],
 "metadata": {
  "kernelspec": {
   "display_name": "Python 3 (ipykernel)",
   "language": "python",
   "name": "python3"
  },
  "language_info": {
   "codemirror_mode": {
    "name": "ipython",
    "version": 3
   },
   "file_extension": ".py",
   "mimetype": "text/x-python",
   "name": "python",
   "nbconvert_exporter": "python",
   "pygments_lexer": "ipython3",
   "version": "3.8.10"
  }
 },
 "nbformat": 4,
 "nbformat_minor": 5
}
