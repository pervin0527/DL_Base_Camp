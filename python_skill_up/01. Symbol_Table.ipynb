{
 "cells": [
  {
   "cell_type": "markdown",
   "id": "df3e383c",
   "metadata": {},
   "source": [
    "## 변수\n",
    "\n",
    "변수는 데이터를 저장하는 공간으로, 10이라는 값을 메모리의 한 공간에 넣고, 그 공간의 이름을 a로 지정한다.  \n",
    "단, 파이썬은 변수만 선언할 수는 없으며(예를 들어, ***int a;***) 선언할 때는 반드시 값을 대입해야한다.  \n",
    "```\n",
    "a = 10\n",
    "```\n",
    "\n",
    "대입할 값을 정하지 못한 경우에는 None 값을 대입한다.\n",
    "```\n",
    "b = None\n",
    "```"
   ]
  },
  {
   "cell_type": "markdown",
   "id": "71816146",
   "metadata": {},
   "source": [
    "## Symbol Table\n",
    "변수는 단지 이름일 뿐이고, 변수에 값을 할당한다는 의미는 값을 복사하는 것이 아니다. 데이터가 담긴 객체에 그냥 이름을 붙이는 것이다.  \n",
    "이 이름들은 심볼 테이블(Symbol Table)에서 찾을 수 있다.  \n",
    "조금 더 자세히 표현하자면 전역이나 지역 수준에 위치한 심벌 테이블을 구성하는 엔트리가 변수의 이름들로 구성되는 것이다."
   ]
  },
  {
   "cell_type": "markdown",
   "id": "2804d396",
   "metadata": {},
   "source": [
    "- [참조 1](https://victorydntmd.tistory.com/241)\n",
    "- [참조 2](https://velog.io/@sawol/%EB%84%A4%EC%9E%84%EC%8A%A4%ED%8E%98%EC%9D%B4%EC%8A%A4%EC%99%80-%EC%8A%A4%EC%BD%94%ED%94%84-%EA%B7%B8%EB%A6%AC%EA%B3%A0-%EC%8B%AC%EB%B3%BC-%ED%85%8C%EC%9D%B4%EB%B8%94)\n",
    "\n",
    "참조한 내용들로부터 종합하자면,\n",
    "1) 변수의 이름과 데이터의 주소를 저장하는 테이블이 바로 심볼 테이블.  \n",
    "2) 심볼 테이블의 내용을 살펴 보기 위해서는 globals(), locals() 내장 함수를 사용  \n",
    "3) 테이블의 내용은 Dictionary 타입의 객체로 반환한다.\n",
    "\n",
    "코드가 실행되면서 정의된 변수들의 이름을 심볼 테이블에서 찾아보고 그에 해당하는 값을 가져오는듯하다.  "
   ]
  },
  {
   "cell_type": "code",
   "execution_count": 1,
   "id": "fe4d89f3",
   "metadata": {},
   "outputs": [],
   "source": [
    "a = 10\n",
    "b = \"전역 변수\""
   ]
  },
  {
   "cell_type": "code",
   "execution_count": 2,
   "id": "00db0e9e",
   "metadata": {
    "scrolled": false
   },
   "outputs": [
    {
     "data": {
      "text/plain": [
       "{'__name__': '__main__',\n",
       " '__doc__': 'Automatically created module for IPython interactive environment',\n",
       " '__package__': None,\n",
       " '__loader__': None,\n",
       " '__spec__': None,\n",
       " '__builtin__': <module 'builtins' (built-in)>,\n",
       " '__builtins__': <module 'builtins' (built-in)>,\n",
       " '_ih': ['', 'a = 10\\nb = \"전역 변수\"', 'globals() # Global Symbol table'],\n",
       " '_oh': {},\n",
       " '_dh': ['/Users/berich/DL_Base_Camp/python_skill_up'],\n",
       " 'In': ['', 'a = 10\\nb = \"전역 변수\"', 'globals() # Global Symbol table'],\n",
       " 'Out': {},\n",
       " 'get_ipython': <bound method InteractiveShell.get_ipython of <ipykernel.zmqshell.ZMQInteractiveShell object at 0x7f7f36180fd0>>,\n",
       " 'exit': <IPython.core.autocall.ZMQExitAutocall at 0x7f7f361e8760>,\n",
       " 'quit': <IPython.core.autocall.ZMQExitAutocall at 0x7f7f361e8760>,\n",
       " '_': '',\n",
       " '__': '',\n",
       " '___': '',\n",
       " '_i': 'a = 10\\nb = \"전역 변수\"',\n",
       " '_ii': '',\n",
       " '_iii': '',\n",
       " '_i1': 'a = 10\\nb = \"전역 변수\"',\n",
       " 'a': 10,\n",
       " 'b': '전역 변수',\n",
       " '_i2': 'globals() # Global Symbol table'}"
      ]
     },
     "execution_count": 2,
     "metadata": {},
     "output_type": "execute_result"
    }
   ],
   "source": [
    "globals() # Global Symbol table"
   ]
  },
  {
   "cell_type": "code",
   "execution_count": 3,
   "id": "20629630",
   "metadata": {},
   "outputs": [],
   "source": [
    "def test():\n",
    "    a = 200\n",
    "    b = \"지역 변수\"\n",
    "    print(locals()) # Local Symbol Table"
   ]
  },
  {
   "cell_type": "code",
   "execution_count": 4,
   "id": "be7a3705",
   "metadata": {},
   "outputs": [
    {
     "name": "stdout",
     "output_type": "stream",
     "text": [
      "{'a': 200, 'b': '지역 변수'}\n"
     ]
    }
   ],
   "source": [
    "test()"
   ]
  },
  {
   "cell_type": "code",
   "execution_count": 5,
   "id": "21b4433e",
   "metadata": {},
   "outputs": [
    {
     "data": {
      "text/plain": [
       "{'__name__': '__main__',\n",
       " '__doc__': 'Automatically created module for IPython interactive environment',\n",
       " '__package__': None,\n",
       " '__loader__': None,\n",
       " '__spec__': None,\n",
       " '__builtin__': <module 'builtins' (built-in)>,\n",
       " '__builtins__': <module 'builtins' (built-in)>,\n",
       " '_ih': ['',\n",
       "  'a = 10\\nb = \"전역 변수\"',\n",
       "  'globals() # Global Symbol table',\n",
       "  'def test():\\n    a = 200\\n    b = \"지역 변수\"\\n    print(locals()) # Local Symbol Table',\n",
       "  'test()',\n",
       "  'globals()'],\n",
       " '_oh': {2: {...}},\n",
       " '_dh': ['/Users/berich/DL_Base_Camp/python_skill_up'],\n",
       " 'In': ['',\n",
       "  'a = 10\\nb = \"전역 변수\"',\n",
       "  'globals() # Global Symbol table',\n",
       "  'def test():\\n    a = 200\\n    b = \"지역 변수\"\\n    print(locals()) # Local Symbol Table',\n",
       "  'test()',\n",
       "  'globals()'],\n",
       " 'Out': {2: {...}},\n",
       " 'get_ipython': <bound method InteractiveShell.get_ipython of <ipykernel.zmqshell.ZMQInteractiveShell object at 0x7f7f36180fd0>>,\n",
       " 'exit': <IPython.core.autocall.ZMQExitAutocall at 0x7f7f361e8760>,\n",
       " 'quit': <IPython.core.autocall.ZMQExitAutocall at 0x7f7f361e8760>,\n",
       " '_': {...},\n",
       " '__': '',\n",
       " '___': '',\n",
       " '_i': 'test()',\n",
       " '_ii': 'def test():\\n    a = 200\\n    b = \"지역 변수\"\\n    print(locals()) # Local Symbol Table',\n",
       " '_iii': 'globals() # Global Symbol table',\n",
       " '_i1': 'a = 10\\nb = \"전역 변수\"',\n",
       " 'a': 10,\n",
       " 'b': '전역 변수',\n",
       " '_i2': 'globals() # Global Symbol table',\n",
       " '_2': {...},\n",
       " '_i3': 'def test():\\n    a = 200\\n    b = \"지역 변수\"\\n    print(locals()) # Local Symbol Table',\n",
       " 'test': <function __main__.test()>,\n",
       " '_i4': 'test()',\n",
       " '_i5': 'globals()'}"
      ]
     },
     "execution_count": 5,
     "metadata": {},
     "output_type": "execute_result"
    }
   ],
   "source": [
    "globals()"
   ]
  }
 ],
 "metadata": {
  "kernelspec": {
   "display_name": "Python 3 (ipykernel)",
   "language": "python",
   "name": "python3"
  },
  "language_info": {
   "codemirror_mode": {
    "name": "ipython",
    "version": 3
   },
   "file_extension": ".py",
   "mimetype": "text/x-python",
   "name": "python",
   "nbconvert_exporter": "python",
   "pygments_lexer": "ipython3",
   "version": "3.9.7"
  }
 },
 "nbformat": 4,
 "nbformat_minor": 5
}
