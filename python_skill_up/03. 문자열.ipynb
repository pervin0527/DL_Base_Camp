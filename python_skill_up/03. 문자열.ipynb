{
 "cells": [
  {
   "cell_type": "markdown",
   "metadata": {
    "id": "LNCj5P_mAxQP"
   },
   "source": [
    "## 문자열\n",
    "\n",
    "텍스트의 문자들을 출력할 수 있게 해 주는 텍스트 문자열 클래스 str\n",
    "\n",
    "'text', \"text\" - 한줄 문자열 표현  \n",
    "'''text''', \"\"\"text\"\"\" - 여러 줄에 걸쳐 문자열 표현"
   ]
  },
  {
   "cell_type": "code",
   "execution_count": null,
   "metadata": {
    "colab": {
     "base_uri": "https://localhost:8080/"
    },
    "id": "JE8pS5y1BBWQ",
    "outputId": "b5d31bc0-8bce-4a52-fdac-3f119da969ad"
   },
   "outputs": [
    {
     "name": "stdout",
     "output_type": "stream",
     "text": [
      "hello world\n",
      "hello world\n"
     ]
    }
   ],
   "source": [
    "a = 'hello world'\n",
    "b = \"hello world\"\n",
    "\n",
    "print(a)\n",
    "print(b)"
   ]
  },
  {
   "cell_type": "code",
   "execution_count": null,
   "metadata": {
    "colab": {
     "base_uri": "https://localhost:8080/"
    },
    "id": "Sl1q0tBkBhXE",
    "outputId": "65b580a5-2580-4e29-ae97-cff43b861b2f"
   },
   "outputs": [
    {
     "name": "stdout",
     "output_type": "stream",
     "text": [
      "hello world\n",
      "hello world\n"
     ]
    }
   ],
   "source": [
    "c = '''hello world'''\n",
    "d = \"\"\"hello world\"\"\"\n",
    "\n",
    "print(c)\n",
    "print(d)"
   ]
  },
  {
   "cell_type": "code",
   "execution_count": null,
   "metadata": {
    "colab": {
     "base_uri": "https://localhost:8080/"
    },
    "id": "tZnfemsMBn7o",
    "outputId": "a2aee610-de71-4a9f-a50c-d633fcaf75f4"
   },
   "outputs": [
    {
     "name": "stdout",
     "output_type": "stream",
     "text": [
      "\"hello\" world\n",
      "hello 'world'\n"
     ]
    }
   ],
   "source": [
    "e = '\"hello\" world'\n",
    "e2 = \"hello 'world'\"\n",
    "\n",
    "print(e)\n",
    "print(e2)"
   ]
  },
  {
   "cell_type": "code",
   "execution_count": null,
   "metadata": {
    "colab": {
     "base_uri": "https://localhost:8080/"
    },
    "id": "GpHoTIvDBwqV",
    "outputId": "c39a44a7-6b06-401f-c042-e9a4a1e12ba4"
   },
   "outputs": [
    {
     "name": "stdout",
     "output_type": "stream",
     "text": [
      "hellow 'python' world\n",
      "hellow \"python\" world\n"
     ]
    }
   ],
   "source": [
    "f = \"\"\"hellow 'python' world\"\"\"\n",
    "f2 = '''hellow \"python\" world'''\n",
    "\n",
    "print(f)\n",
    "print(f2)"
   ]
  },
  {
   "cell_type": "code",
   "execution_count": null,
   "metadata": {
    "colab": {
     "base_uri": "https://localhost:8080/"
    },
    "id": "XN-QZQWmCEcs",
    "outputId": "67fb8df7-5361-42fe-bba5-b099aabac82b"
   },
   "outputs": [
    {
     "name": "stdout",
     "output_type": "stream",
     "text": [
      "hellow \n",
      "python\n",
      "world\n"
     ]
    }
   ],
   "source": [
    "g = \"\"\"hellow \n",
    "python\n",
    "world\"\"\"\n",
    "\n",
    "print(g)"
   ]
  },
  {
   "cell_type": "markdown",
   "metadata": {
    "id": "AwZ9ZAO40Q1m"
   },
   "source": [
    "파이썬에서는 문자열의 각 문자를 0부터 N-1(N은 문자열 길이)로 구성된 인데스를 사용하여 문자열을 문자로 구성된 리스트처럼 다룰 수 있다.\n",
    "\n",
    "기억해야할 점은 이렇게 인덱스로 단일 문자를 반환받았을 때, 이는 별도의 타입이 아니라, 길이가 1인 문자열이다."
   ]
  },
  {
   "cell_type": "code",
   "execution_count": null,
   "metadata": {
    "colab": {
     "base_uri": "https://localhost:8080/",
     "height": 36
    },
    "id": "0swGLVIp0bPQ",
    "outputId": "44762e70-05ad-48bc-d5a3-080a30c4521d"
   },
   "outputs": [
    {
     "data": {
      "application/vnd.google.colaboratory.intrinsic+json": {
       "type": "string"
      },
      "text/plain": [
       "'H'"
      ]
     },
     "execution_count": 6,
     "metadata": {},
     "output_type": "execute_result"
    }
   ],
   "source": [
    "s = \"Hello\"\n",
    "s[0]"
   ]
  },
  {
   "cell_type": "markdown",
   "metadata": {
    "id": "QrnqR8eu0iED"
   },
   "source": [
    "파이썬 문자열은 불변이기 때문에 기존 문자열에 새로운 값을 대입할 수 없다. 즉, 값이 바뀌지 않는다.  \n",
    "그렇다면 어떻게 신규 문자열을 연결할 수 있을까?? 문자열 연결과 대입을 사용하면 된다."
   ]
  },
  {
   "cell_type": "code",
   "execution_count": null,
   "metadata": {
    "colab": {
     "base_uri": "https://localhost:8080/",
     "height": 36
    },
    "id": "Dq5e76YM0wrO",
    "outputId": "8364e09d-83ed-4e7f-af99-6355d99d94bc"
   },
   "outputs": [
    {
     "data": {
      "application/vnd.google.colaboratory.intrinsic+json": {
       "type": "string"
      },
      "text/plain": [
       "'Lionel Messi'"
      ]
     },
     "execution_count": 7,
     "metadata": {},
     "output_type": "execute_result"
    }
   ],
   "source": [
    "s1 = \"Lionel\"\n",
    "s2 = \"Messi\"\n",
    "s1 = s1 + ' ' + s2\n",
    "s1"
   ]
  },
  {
   "cell_type": "markdown",
   "metadata": {
    "id": "Ss0dN8vZ07ir"
   },
   "source": [
    "이것이 가능한 이유는 변수가 그저 객체를 호출할 수 있게 해주는 이름이기 때문이다.\n",
    "\n",
    "문자열이 불변하다는 규칙을 위반하지 않고도 문자열을 연결하여 수정할 수 있다는 것이다.  \n",
    "변수와 데이터 사이에 새로운 객체를 생성하면서 각각 대입했기 때문이다.\n",
    "\n",
    "원래 s1의 값 \"Lionel\" 값에 변화가 생긴 것이 아니라, s1의 데이터 + ' ' + s2의 데이터 라는 신규 객체를 s1에 대입한 것"
   ]
  },
  {
   "cell_type": "code",
   "execution_count": null,
   "metadata": {
    "colab": {
     "base_uri": "https://localhost:8080/",
     "height": 205
    },
    "id": "4-dHu77B1zt_",
    "outputId": "0fac1a17-5c97-4e16-bcdc-2679ec05c19a"
   },
   "outputs": [
    {
     "ename": "TypeError",
     "evalue": "ignored",
     "output_type": "error",
     "traceback": [
      "\u001b[0;31m---------------------------------------------------------------------------\u001b[0m",
      "\u001b[0;31mTypeError\u001b[0m                                 Traceback (most recent call last)",
      "\u001b[0;32m<ipython-input-8-dc657fa69aba>\u001b[0m in \u001b[0;36m<module>\u001b[0;34m()\u001b[0m\n\u001b[1;32m      1\u001b[0m \u001b[0ms\u001b[0m \u001b[0;34m=\u001b[0m \u001b[0;34m\"TEST\"\u001b[0m\u001b[0;34m\u001b[0m\u001b[0;34m\u001b[0m\u001b[0m\n\u001b[0;32m----> 2\u001b[0;31m \u001b[0ms\u001b[0m\u001b[0;34m[\u001b[0m\u001b[0;36m0\u001b[0m\u001b[0;34m]\u001b[0m \u001b[0;34m=\u001b[0m \u001b[0;34m'B'\u001b[0m\u001b[0;34m\u001b[0m\u001b[0;34m\u001b[0m\u001b[0m\n\u001b[0m\u001b[1;32m      3\u001b[0m \u001b[0ms\u001b[0m\u001b[0;34m\u001b[0m\u001b[0;34m\u001b[0m\u001b[0m\n",
      "\u001b[0;31mTypeError\u001b[0m: 'str' object does not support item assignment"
     ]
    }
   ],
   "source": [
    "s = \"TEST\"\n",
    "s[0] = 'B'\n",
    "s"
   ]
  },
  {
   "cell_type": "markdown",
   "metadata": {
    "id": "ufwnzrA2ycDJ"
   },
   "source": [
    "자주 사용되는 문자열 함수들"
   ]
  },
  {
   "cell_type": "code",
   "execution_count": null,
   "metadata": {
    "colab": {
     "base_uri": "https://localhost:8080/",
     "height": 36
    },
    "id": "gdvPeVArCMvO",
    "outputId": "50128b54-5308-42da-d611-512738e7e5ae"
   },
   "outputs": [
    {
     "data": {
      "application/vnd.google.colaboratory.intrinsic+json": {
       "type": "string"
      },
      "text/plain": [
       "'HELLO WORLD'"
      ]
     },
     "execution_count": 1,
     "metadata": {},
     "output_type": "execute_result"
    }
   ],
   "source": [
    "a = \"hello world\"\n",
    "a.upper()"
   ]
  },
  {
   "cell_type": "code",
   "execution_count": null,
   "metadata": {
    "colab": {
     "base_uri": "https://localhost:8080/",
     "height": 36
    },
    "id": "8ksNOJPryjNq",
    "outputId": "55a20ee9-2d0d-4a90-b904-e0e3253fe643"
   },
   "outputs": [
    {
     "data": {
      "application/vnd.google.colaboratory.intrinsic+json": {
       "type": "string"
      },
      "text/plain": [
       "'hellO wOrld'"
      ]
     },
     "execution_count": 2,
     "metadata": {},
     "output_type": "execute_result"
    }
   ],
   "source": [
    "a.replace('o', 'O')"
   ]
  },
  {
   "cell_type": "code",
   "execution_count": null,
   "metadata": {
    "colab": {
     "base_uri": "https://localhost:8080/",
     "height": 36
    },
    "id": "4bKoLemDyx5L",
    "outputId": "d36000f0-1cac-4d61-9349-b2ca154bdbaf"
   },
   "outputs": [
    {
     "data": {
      "application/vnd.google.colaboratory.intrinsic+json": {
       "type": "string"
      },
      "text/plain": [
       "'내 키는 180cm이고, 몸무게는 68kg이다.'"
      ]
     },
     "execution_count": 3,
     "metadata": {},
     "output_type": "execute_result"
    }
   ],
   "source": [
    "tall = 180\n",
    "weight = 68\n",
    "\n",
    "sentence = \"내 키는 {}cm이고, 몸무게는 {}kg이다.\".format(tall, weight)\n",
    "sentence"
   ]
  },
  {
   "cell_type": "code",
   "execution_count": null,
   "metadata": {
    "colab": {
     "base_uri": "https://localhost:8080/"
    },
    "id": "PG3eEuGDzccy",
    "outputId": "4ec54df5-8d2b-4fcc-a307-c0257e008f29"
   },
   "outputs": [
    {
     "data": {
      "text/plain": [
       "['South', 'Korea', 'is', 'my', 'country']"
      ]
     },
     "execution_count": 5,
     "metadata": {},
     "output_type": "execute_result"
    }
   ],
   "source": [
    "test = \"South!Korea!is!my!country\"\n",
    "test.split('!')"
   ]
  }
 ],
 "metadata": {
  "colab": {
   "collapsed_sections": [],
   "name": "Chapter 1 (1.13 ~ 1.16)",
   "provenance": []
  },
  "kernelspec": {
   "display_name": "Python 3 (ipykernel)",
   "language": "python",
   "name": "python3"
  },
  "language_info": {
   "codemirror_mode": {
    "name": "ipython",
    "version": 3
   },
   "file_extension": ".py",
   "mimetype": "text/x-python",
   "name": "python",
   "nbconvert_exporter": "python",
   "pygments_lexer": "ipython3",
   "version": "3.9.7"
  }
 },
 "nbformat": 4,
 "nbformat_minor": 1
}
