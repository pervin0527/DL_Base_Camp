{
 "cells": [
  {
   "cell_type": "markdown",
   "metadata": {
    "id": "snjw83r7cOG2"
   },
   "source": [
    "## 함수의 인수\n",
    "\n",
    "[위치 인수와 키워드 인수](https://www.delftstack.com/ko/howto/python/positional-arguments-vs-keyword-arguments-in-python/)\n",
    "- 명명 인수(named argument) 혹은 키워드 인수(Keyword argument)는 인수 이름과 함께 사용해야하는 인수\n",
    "- 위치 인수(positional argument)는 이름 없이 인수 위치로 사용한다."
   ]
  },
  {
   "cell_type": "markdown",
   "metadata": {
    "id": "x2sBUNDSdxN0"
   },
   "source": [
    "정의한 함수를 호출할 때,  \n",
    "위치 인자들은 함수를 정의할 때 나열한 매개변수들의 순서를 정확하게 알고 있어야만 올바르게 값을 전달할 수 있으므로, 키워드 인수를 같이 사용하는 것이 편리하다."
   ]
  },
  {
   "cell_type": "code",
   "execution_count": 7,
   "metadata": {
    "id": "FEqkYPU3dekk"
   },
   "outputs": [],
   "source": [
    "def info(name, tall, age):\n",
    "    print(\"NAME : \", name)\n",
    "    print(\"TALL : \", tall)\n",
    "    print(\"AGE : \", age)"
   ]
  },
  {
   "cell_type": "markdown",
   "metadata": {},
   "source": [
    "### Positional argument"
   ]
  },
  {
   "cell_type": "code",
   "execution_count": 8,
   "metadata": {
    "colab": {
     "base_uri": "https://localhost:8080/"
    },
    "id": "zFgr52eUfXlu",
    "outputId": "8414b443-9269-454f-c3dc-44488a8bcbbf"
   },
   "outputs": [
    {
     "name": "stdout",
     "output_type": "stream",
     "text": [
      "NAME :  minjun\n",
      "TALL :  180\n",
      "AGE :  29\n"
     ]
    }
   ],
   "source": [
    "info(\"minjun\", 180, 29) # 위치 인수로 사용. 모든 입력 인수는 함수 호출에서의 위치와 함수 선언에서의 매개변수 위치에 따라 매개변수에 할당"
   ]
  },
  {
   "cell_type": "markdown",
   "metadata": {},
   "source": [
    "### Keyword argument"
   ]
  },
  {
   "cell_type": "code",
   "execution_count": 9,
   "metadata": {
    "colab": {
     "base_uri": "https://localhost:8080/"
    },
    "id": "kZGPJgUEfmke",
    "outputId": "ac909bdd-a1b8-4b58-e513-289aae4a835a",
    "scrolled": true
   },
   "outputs": [
    {
     "name": "stdout",
     "output_type": "stream",
     "text": [
      "NAME :  minjun\n",
      "TALL :  180\n",
      "AGE :  29\n"
     ]
    }
   ],
   "source": [
    "info(name=\"minjun\", tall=180, age=29) # 키워드 인수로 사용. 각 매개변수는 키처럼 작동하고 각 인수는 값처럼 작용"
   ]
  },
  {
   "cell_type": "code",
   "execution_count": 10,
   "metadata": {},
   "outputs": [
    {
     "name": "stdout",
     "output_type": "stream",
     "text": [
      "NAME :  ten\n",
      "TALL :  100\n",
      "AGE :  10\n"
     ]
    }
   ],
   "source": [
    "info(tall=100, age=10, name=\"ten\") # 순서를 마음대로 조정해도 상관없음."
   ]
  },
  {
   "cell_type": "markdown",
   "metadata": {},
   "source": [
    "### 기본 인수\n",
    "[Reference](https://velog.io/@minho/SyntaxError-non-default-argument-follows-default-argument)  \n",
    "대표적으로 ```print()```함수의 경우 기본 인수로 sep, end를 가지고 있다.\n",
    "```python\n",
    "print(value, sep=' ', end='\\n')\n",
    "```"
   ]
  },
  {
   "cell_type": "markdown",
   "metadata": {},
   "source": [
    "함수를 정의할 때 기본 인수를 정의문에 넣으려면 반드시 모든 인수를 표기한 다음에 넣어야 한다.  \n",
    "> ***기본 인수가 일반 인수 보다 앞에 위치할 수 없다*** - Non-default argument follows default argument 발생.\n",
    "\n",
    "기본 인수를 설정해두면, 함수 호출시 해당 인수로 값이 전달되지 않아도 설정한 기본 값으로 함수가 동작한다."
   ]
  },
  {
   "cell_type": "code",
   "execution_count": 6,
   "metadata": {},
   "outputs": [
    {
     "name": "stdout",
     "output_type": "stream",
     "text": [
      "25\n"
     ]
    }
   ],
   "source": [
    "def add(num1, num2, num3=10): # 변수 num3는 기본 인수로 값 10을 default로 가지고 있다.\n",
    "    return num1 + num2 + num3\n",
    "\n",
    "result = add(5, 10) # 함수 호출시 num3에 대한 값을 포함하지 않았지만, 기본 인수이기 때문에 호출 및 실행이 가능하다.\n",
    "print(result)"
   ]
  },
  {
   "cell_type": "markdown",
   "metadata": {},
   "source": [
    "## 정리 - 키워드 인수, 위치 인수, 기본 인수\n",
    "위치 인수와 키워드 인수는 함수를 호출할 때 고려할 사항.  \n",
    "기본 인수는 함수를 정의할 때 고려해야 하는 것이다."
   ]
  },
  {
   "cell_type": "markdown",
   "metadata": {
    "id": "txGPbkWe7y81"
   },
   "source": [
    "## return\n",
    "\n",
    "return문은 기본적으로 함수의 종료를 명시한다.\n",
    "- ```return 값``` : 함수 호출자게에 값을 반환하고 함수가 종료.\n",
    "- ```return ``` : return문이 값 없이 기재되는 경우 None값을 반환하고, 함수 종료.\n",
    "- ```return도 생략된 경우``` : 묵시적으로 return문이 실행되고, return만 기재했을 때와 동일하게 None을 반환하고 함수가 종료된다."
   ]
  },
  {
   "cell_type": "code",
   "execution_count": 11,
   "metadata": {
    "id": "ZmwruILHjRl7"
   },
   "outputs": [],
   "source": [
    "def test_function(n1, n2):\n",
    "    result = n1 + n2\n",
    "\n",
    "    return # 함수가 종료되며, 이 경우 반환값이 적혀있지 않기 때문에 None 값이 반환. return 문을 생략해도 동일.\n",
    "    print(\"이 문장은 실행될 수 없습니다.\")"
   ]
  },
  {
   "cell_type": "code",
   "execution_count": 12,
   "metadata": {
    "colab": {
     "base_uri": "https://localhost:8080/"
    },
    "id": "Kp0v25yZ80PO",
    "outputId": "51ecbf17-cd8e-41bc-82fe-37b0ce8e9f5b"
   },
   "outputs": [
    {
     "name": "stdout",
     "output_type": "stream",
     "text": [
      "None\n"
     ]
    }
   ],
   "source": [
    "value = test_function(2, 4)\n",
    "print(value)"
   ]
  },
  {
   "cell_type": "markdown",
   "metadata": {},
   "source": [
    "## multiple return\n",
    "\n",
    "Python에서는 함수의 return 문에 여러 개의 값을 한 번에 반환할 수 있다.  \n",
    "실제로 여러 개의 값이 반환되는 것은 아니고 튜플로 묶여서 한 덩어리로 반환되는 형태다."
   ]
  },
  {
   "cell_type": "code",
   "execution_count": 13,
   "metadata": {},
   "outputs": [],
   "source": [
    "def multi_return():\n",
    "    return \"Hello\", 123, 456"
   ]
  },
  {
   "cell_type": "code",
   "execution_count": 14,
   "metadata": {},
   "outputs": [
    {
     "name": "stdout",
     "output_type": "stream",
     "text": [
      "('Hello', 123, 456) <class 'tuple'>\n"
     ]
    }
   ],
   "source": [
    "called = multi_return()\n",
    "print(called, type(called))"
   ]
  },
  {
   "cell_type": "markdown",
   "metadata": {
    "id": "2QIGwTkt9H1F"
   },
   "source": [
    "## Python은 Call-by-Assignment\n",
    "[Reference 1](https://aalphaca.tistory.com/4)\n",
    "[Reference 2](https://jins-dev.tistory.com/entry/Python-%EC%9D%98-Call-by-assignment-%EC%9D%98-%EA%B0%9C%EB%85%90)\n",
    "\n",
    "기술적으로 파이썬의 인수 전달 방식은 값 전달(pass by value)이 아니라 참조 전달(pass by reference)이지만, 정확하게 말하면 둘 다 아니다.  \n",
    "값이 함수로 전달되면 해당 함수는 데이터 이름의 참조 주소를 받는다.하지만 함수가 인수로 주어진 변수에 새로운 값을 대입하면 전달받았던 기존 값과 연결이 끊어지고만다."
   ]
  },
  {
   "cell_type": "code",
   "execution_count": null,
   "metadata": {
    "id": "D1WWfEIJ85D6"
   },
   "outputs": [],
   "source": [
    "def test_by(a):\n",
    "    a = [5, 6, 7, 8]"
   ]
  },
  {
   "cell_type": "code",
   "execution_count": null,
   "metadata": {
    "colab": {
     "base_uri": "https://localhost:8080/"
    },
    "id": "XuyX5AJ4KD0_",
    "outputId": "ed02132a-7b83-4a0e-a412-347819cf028c"
   },
   "outputs": [
    {
     "data": {
      "text/plain": [
       "[1, 2, 3, 4]"
      ]
     },
     "execution_count": 21,
     "metadata": {},
     "output_type": "execute_result"
    }
   ],
   "source": [
    "a = [1, 2, 3, 4]\n",
    "a"
   ]
  },
  {
   "cell_type": "code",
   "execution_count": null,
   "metadata": {
    "colab": {
     "base_uri": "https://localhost:8080/"
    },
    "id": "TYRay5fpKH2j",
    "outputId": "9aadec00-1011-4827-f5d2-80fa1f4a17c6"
   },
   "outputs": [
    {
     "data": {
      "text/plain": [
       "[1, 2, 3, 4]"
      ]
     },
     "execution_count": 22,
     "metadata": {},
     "output_type": "execute_result"
    }
   ],
   "source": [
    "test_by(a)\n",
    "a"
   ]
  },
  {
   "cell_type": "code",
   "execution_count": null,
   "metadata": {
    "id": "izxvUqYLKf1S"
   },
   "outputs": [],
   "source": [
    "def double_it(x):\n",
    "    print(\"input value : \", x)\n",
    "    x = x * 2\n",
    "    print(\"after value : \", x)"
   ]
  },
  {
   "cell_type": "code",
   "execution_count": null,
   "metadata": {
    "colab": {
     "base_uri": "https://localhost:8080/"
    },
    "id": "xmXdF43kLbP9",
    "outputId": "46368a00-9234-4e1b-c2b9-9d2cd239d00b"
   },
   "outputs": [
    {
     "name": "stdout",
     "output_type": "stream",
     "text": [
      "input value :  10\n",
      "after value :  20\n",
      "result :  10\n"
     ]
    }
   ],
   "source": [
    "x = 10 # int는 immutalbe 객체이기 때문에 변경할 수 없음.\n",
    "double_it(x)\n",
    "print(\"result : \", x)"
   ]
  },
  {
   "cell_type": "code",
   "execution_count": null,
   "metadata": {
    "id": "HezhDJTtLdaT"
   },
   "outputs": [],
   "source": [
    "def change_list(t):\n",
    "    print(\"Before : \", t)\n",
    "    t[0] = \"CHANGE\""
   ]
  },
  {
   "cell_type": "code",
   "execution_count": null,
   "metadata": {
    "colab": {
     "base_uri": "https://localhost:8080/"
    },
    "id": "ZZbcmHHSPUEN",
    "outputId": "e291827d-def9-43a8-9460-eff4f51ee666"
   },
   "outputs": [
    {
     "name": "stdout",
     "output_type": "stream",
     "text": [
      "Before :  [1, 2, 3, 4]\n",
      "After :  ['CHANGE', 2, 3, 4]\n"
     ]
    }
   ],
   "source": [
    "t = [1, 2, 3, 4]\n",
    "change_list(t)\n",
    "print(\"After : \", t)"
   ]
  }
 ],
 "metadata": {
  "colab": {
   "collapsed_sections": [],
   "name": "Chapter 1 (1.7 ~ 1.12)",
   "provenance": []
  },
  "kernelspec": {
   "display_name": "Python 3 (ipykernel)",
   "language": "python",
   "name": "python3"
  },
  "language_info": {
   "codemirror_mode": {
    "name": "ipython",
    "version": 3
   },
   "file_extension": ".py",
   "mimetype": "text/x-python",
   "name": "python",
   "nbconvert_exporter": "python",
   "pygments_lexer": "ipython3",
   "version": "3.9.7"
  }
 },
 "nbformat": 4,
 "nbformat_minor": 1
}
