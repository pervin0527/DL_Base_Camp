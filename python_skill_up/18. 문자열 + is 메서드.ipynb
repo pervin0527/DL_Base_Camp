{
 "cells": [
  {
   "cell_type": "markdown",
   "id": "bdafd80a",
   "metadata": {},
   "source": [
    "## 문자열 boolean 메서드"
   ]
  },
  {
   "cell_type": "markdown",
   "id": "31004cda",
   "metadata": {},
   "source": [
    "### isalnum(), isalpha()\n",
    "```str.isalnum``` : 문자열이 문자(영어나 한글)와 숫자로만 구성되어 있으면 True  \n",
    "```str.isalpha``` :  문자열이 모두 문자(영어나 한글)로 구성되어 있으면 True\n"
   ]
  },
  {
   "cell_type": "code",
   "execution_count": 31,
   "id": "9b842ccb",
   "metadata": {},
   "outputs": [
    {
     "name": "stdout",
     "output_type": "stream",
     "text": [
      "True\n",
      "True\n",
      "True\n",
      "False\n"
     ]
    }
   ],
   "source": [
    "a1 = \"안녕하세요\"\n",
    "a2 = \"안녕하세요111\"\n",
    "\n",
    "print(a1.isalnum())\n",
    "print(a2.isalnum())\n",
    "\n",
    "print(a1.isalpha())\n",
    "print(a2.isalpha())"
   ]
  },
  {
   "cell_type": "markdown",
   "id": "a6c815c1",
   "metadata": {},
   "source": [
    "### isdecimal(), isdigit()\n",
    "```str.isdecimal()``` : 문자열이 0~9까지의 수로 구성되어 int로 바로 변환할 수 있으면 True.  \n",
    "```str.isdigit()``` : 단일 글자가 '숫자' 모양으로 생겼으면 True. 즉, 숫자처럼 생긴 '모든 글자'를 숫자로 친다."
   ]
  },
  {
   "cell_type": "code",
   "execution_count": 8,
   "id": "6478116e",
   "metadata": {},
   "outputs": [
    {
     "name": "stdout",
     "output_type": "stream",
     "text": [
      "False\n",
      "True\n"
     ]
    }
   ],
   "source": [
    "test = '3²'\n",
    "\n",
    "print(test.isdecimal())\n",
    "print(test.isdigit())"
   ]
  },
  {
   "cell_type": "markdown",
   "id": "441f8f67",
   "metadata": {},
   "source": [
    "### isidentifier()\n",
    "```str.isidentifier()``` : 문자열이 식별자(변수명, 클래스명)로 사용 가능하면 True"
   ]
  },
  {
   "cell_type": "code",
   "execution_count": 23,
   "id": "66ab0b85",
   "metadata": {},
   "outputs": [
    {
     "name": "stdout",
     "output_type": "stream",
     "text": [
      "True\n",
      "True\n",
      "True\n",
      "False\n"
     ]
    }
   ],
   "source": [
    "print(\"안녕하세요\".isidentifier())\n",
    "print(\"hello\".isidentifier())\n",
    "print(\"_test00\".isidentifier())\n",
    "print(\"112RR\".isidentifier())"
   ]
  },
  {
   "cell_type": "markdown",
   "id": "cca75eb0",
   "metadata": {},
   "source": [
    "### islower(), isupper()\n",
    "```str.islower()``` : 모든 문자들이 소문자. 알파벳이 아닌 문자가 포함될 수 있다.  \n",
    "```str.isupper()``` : 모든 문자가 대문자로 이루어져 있으며 알파벳이 아닌 문자가 포함될 수 있다."
   ]
  },
  {
   "cell_type": "code",
   "execution_count": 32,
   "id": "4699f4b8",
   "metadata": {},
   "outputs": [
    {
     "name": "stdout",
     "output_type": "stream",
     "text": [
      "True\n",
      "False\n",
      "False\n"
     ]
    }
   ],
   "source": [
    "print('test12345'.islower())\n",
    "print(\"뭐!@#$\".islower())\n",
    "print(\"00000\".islower())"
   ]
  },
  {
   "cell_type": "code",
   "execution_count": 25,
   "id": "e6be8471",
   "metadata": {},
   "outputs": [
    {
     "name": "stdout",
     "output_type": "stream",
     "text": [
      "True\n",
      "False\n"
     ]
    }
   ],
   "source": [
    "print(\"KOREA00\".isupper())\n",
    "print(\"Hello)&)&)\".isupper())"
   ]
  },
  {
   "cell_type": "markdown",
   "id": "6f806b6e",
   "metadata": {},
   "source": [
    "### isprintable(), isspace(), istitle()\n",
    "```str.isprintable()``` : 모든 문자가 출력 가능한 문자인 경우 ```\\n``` 과 ```\\t```는 제외다.  \n",
    "```str.isspace()``` : 모든 문자가 공백 문자일 때 True  \n",
    "```str.istitle()``` : 첫 문자가 대문자고 나머지는 모두 소문자일 때 True. 문자 사이에 공백 문자나 구분 문자가 있을 수 있음."
   ]
  },
  {
   "cell_type": "code",
   "execution_count": 30,
   "id": "b22d8907",
   "metadata": {},
   "outputs": [
    {
     "name": "stdout",
     "output_type": "stream",
     "text": [
      "True\n",
      "False\n",
      "True\n",
      "False\n",
      "True\n",
      "False\n"
     ]
    }
   ],
   "source": [
    "print(\"Hello World!\".isprintable())\n",
    "print('Hello World! \\n'.isprintable())\n",
    "print(\"     \".isspace())\n",
    "print(\"1     \".isspace())\n",
    "print(\"Hi\".istitle())\n",
    "print(\"KOrea\".istitle())"
   ]
  },
  {
   "cell_type": "markdown",
   "id": "f78e2660",
   "metadata": {},
   "source": [
    "## 대소문자 변환 메서드\n",
    "\n",
    "- str.lower() -> 모두 소문자인 문자열을 생성\n",
    "- str.upper() -> 모두 대문자인 문자열 생성\n",
    "- str.title() -> test.title() ---> Test\n",
    "- str.swapcase() -> 대소문자를 서로 변경"
   ]
  },
  {
   "cell_type": "code",
   "execution_count": 36,
   "id": "e1b492e2",
   "metadata": {},
   "outputs": [
    {
     "name": "stdout",
     "output_type": "stream",
     "text": [
      "korea\n",
      "KOREA\n",
      "kOREA\n",
      "KOREA Korea\n"
     ]
    }
   ],
   "source": [
    "my_country = \"Korea\"\n",
    "\n",
    "print(my_country.lower())\n",
    "print(my_country.upper())\n",
    "print(my_country.swapcase())\n",
    "\n",
    "make_title = my_country.upper()\n",
    "print(make_title, make_title.title())"
   ]
  },
  {
   "cell_type": "markdown",
   "id": "a1874799",
   "metadata": {},
   "source": [
    "## 검색-교체 메서드"
   ]
  },
  {
   "cell_type": "markdown",
   "id": "1af320c9",
   "metadata": {},
   "source": [
    "```str.startswith(\"문자열\")``` : 문자열이 인수로 전달한 문자열로 시작하는가  \n",
    "```str.endswith(\"문자열\")``` : 문자열이 인수로 전달한 문자열로 종료되는가"
   ]
  },
  {
   "cell_type": "code",
   "execution_count": 39,
   "id": "9ca8970f",
   "metadata": {},
   "outputs": [
    {
     "name": "stdout",
     "output_type": "stream",
     "text": [
      "False\n",
      "True\n"
     ]
    }
   ],
   "source": [
    "print(\"test.txt\".startswith(\".txt\"))\n",
    "print(\"test.txt\".endswith(\".txt\"))"
   ]
  },
  {
   "cell_type": "code",
   "execution_count": 40,
   "id": "22c7fe32",
   "metadata": {},
   "outputs": [],
   "source": [
    "test = \"동해물과 백두산이 마르고 닳도록 하느님이 보우하사 우리나라 만세\""
   ]
  },
  {
   "cell_type": "code",
   "execution_count": 45,
   "id": "8b24f4fd",
   "metadata": {},
   "outputs": [
    {
     "name": "stdout",
     "output_type": "stream",
     "text": [
      "True\n",
      "False\n"
     ]
    }
   ],
   "source": [
    "print(test.startswith(\"동\"))\n",
    "print(test.endswith(\"jpg\"))"
   ]
  },
  {
   "cell_type": "code",
   "execution_count": 51,
   "id": "7620ae73",
   "metadata": {},
   "outputs": [],
   "source": [
    "test2 = ['0.jpg', '1.jpg', '3.jpg', '2.jpg', 'naver_done', 'google_done']"
   ]
  },
  {
   "cell_type": "code",
   "execution_count": 52,
   "id": "51ee8ede",
   "metadata": {},
   "outputs": [
    {
     "name": "stdout",
     "output_type": "stream",
     "text": [
      "['0.jpg', '1.jpg', '3.jpg', '2.jpg']\n"
     ]
    }
   ],
   "source": [
    "test2_after = [x for x in test2 if x.endswith('.jpg')]\n",
    "print(test2_after)"
   ]
  },
  {
   "cell_type": "markdown",
   "id": "ff111e5d",
   "metadata": {},
   "source": [
    "## 문자열 앞, 뒤 문자 제거"
   ]
  },
  {
   "cell_type": "markdown",
   "id": "25f7fc9c",
   "metadata": {},
   "source": [
    "```str.strip(제거 문자열)``` : 문자열 앞뒤에 제거 문자열에 입력된 인수가 존재하는 경우 제거  \n",
    "```str.lstrip(제거 문자열)``` : 문자열 앞에 제거 문자열에 입력된 인수가 존재하는 경우 제거  \n",
    "```str.rstrip(제거 문자열)``` : 문자열 뒤에 제거 문자열에 입력된 인수가 존재하는 경우 제거\n",
    "\n",
    "문자열 중간에 있는건 지우지 못함!!!"
   ]
  },
  {
   "cell_type": "code",
   "execution_count": 72,
   "id": "8df7d719",
   "metadata": {},
   "outputs": [
    {
     "name": "stdout",
     "output_type": "stream",
     "text": [
      "동해물과 백두산이 마르고 닳도록 하느님이 보우하사 우리나라 만세 \n",
      "동해물과 백두산이 마르고 닳도록 하느님이 보우하사 우리나라 만세 \n",
      "1111동해물과 백두산이 마르고 닳도록 하느님이 보우하사 우리나라 만세\n"
     ]
    }
   ],
   "source": [
    "test = \"1111동해물과 백두산이 마르고 닳도록 하느님이 보우하사 우리나라 만세 \"\n",
    "\n",
    "print(test.lstrip('1111'))\n",
    "print(test.lstrip('1'))\n",
    "print(test.rstrip(' '))"
   ]
  },
  {
   "cell_type": "code",
   "execution_count": 73,
   "id": "a11d1559",
   "metadata": {},
   "outputs": [
    {
     "name": "stdout",
     "output_type": "stream",
     "text": [
      "안녕하세요\n",
      "반갑습니다\n",
      "근데 누구시죠\n"
     ]
    }
   ],
   "source": [
    "test2 = \"\"\"안녕하세요\n",
    "반갑습니다\n",
    "근데 누구시죠\n",
    "\n",
    "\n",
    "\n",
    "\n",
    "\n",
    "\"\"\"\n",
    "\n",
    "print(test2.rstrip('\\n'))"
   ]
  },
  {
   "cell_type": "code",
   "execution_count": null,
   "id": "22c78217",
   "metadata": {},
   "outputs": [],
   "source": []
  }
 ],
 "metadata": {
  "kernelspec": {
   "display_name": "Python 3 (ipykernel)",
   "language": "python",
   "name": "python3"
  },
  "language_info": {
   "codemirror_mode": {
    "name": "ipython",
    "version": 3
   },
   "file_extension": ".py",
   "mimetype": "text/x-python",
   "name": "python",
   "nbconvert_exporter": "python",
   "pygments_lexer": "ipython3",
   "version": "3.8.10"
  }
 },
 "nbformat": 4,
 "nbformat_minor": 5
}
