{
 "cells": [
  {
   "cell_type": "markdown",
   "id": "fe2d5404",
   "metadata": {},
   "source": [
    "## Iterable & Iterator\n",
    "[Reference 1](https://tibetsandfox.tistory.com/27)\n",
    "\n",
    "[Reference 2](http://pythonstudy.xyz/python/article/23-Iterator%EC%99%80-Generator)\n",
    "\n",
    "Iterable은 순회할 수 있는 모든 객체를 가리킨다.  \n",
    "다른 말로 하면 파이썬에서 for 문의 in 키워드 뒤에 올 수 있는 모든 값은 Iterable이다. 그러면 list, tuple, set, dict는 말할 것도 없고 문자열, 파일 등도 Iterable이라고 할 수 있다.\n",
    "\n",
    "iterable 객체에서 실제 iteration을 실행하는 것은 iterator로서,  \n",
    "iterator는 next 메서드를 사용하여 다음 요소(element)를 가져온다.   \n",
    "만약 더이상 next 요소가 없으면 StopIteration Exception을 발생시킨다.\n",
    "\n",
    "위 for문 예제 코드에서 iterable은 리스트와 같은 컬렉션에 가깝지만,  \n",
    "range 함수를 호출하면 반환하는 generator와 같다.  \n",
    "generator는 나열된 값으로 구성된 iteration을 생산한다.\n",
    "\n",
    "```\n",
    "for 변수 in iterable:\n",
    "    ...\n",
    "```\n",
    "\n"
   ]
  },
  {
   "cell_type": "code",
   "execution_count": 1,
   "id": "7a394c25",
   "metadata": {},
   "outputs": [],
   "source": [
    "my_list = [0, 1, 2, 3]\n",
    "\n",
    "for i in range(len(my_list)):\n",
    "    my_list[i] *= 2"
   ]
  },
  {
   "cell_type": "code",
   "execution_count": 2,
   "id": "d0b278bc",
   "metadata": {},
   "outputs": [
    {
     "data": {
      "text/plain": [
       "[0, 2, 4, 6]"
      ]
     },
     "execution_count": 2,
     "metadata": {},
     "output_type": "execute_result"
    }
   ],
   "source": [
    "my_list"
   ]
  },
  {
   "cell_type": "raw",
   "id": "3f90c28c",
   "metadata": {},
   "source": [
    "range를 역순으로"
   ]
  },
  {
   "cell_type": "code",
   "execution_count": 3,
   "id": "2762f34a",
   "metadata": {},
   "outputs": [
    {
     "name": "stdout",
     "output_type": "stream",
     "text": [
      "10\n",
      "9\n",
      "8\n",
      "7\n",
      "6\n",
      "5\n",
      "4\n",
      "3\n",
      "2\n",
      "1\n"
     ]
    }
   ],
   "source": [
    "for i in range(10, 0, -1):\n",
    "    print(i)"
   ]
  },
  {
   "cell_type": "code",
   "execution_count": 4,
   "id": "a2d155de",
   "metadata": {},
   "outputs": [
    {
     "name": "stdout",
     "output_type": "stream",
     "text": [
      "10\n",
      "8\n",
      "6\n",
      "4\n",
      "2\n"
     ]
    }
   ],
   "source": [
    "for i in range(10, 0, -2):\n",
    "    print(i)"
   ]
  },
  {
   "cell_type": "code",
   "execution_count": null,
   "id": "1a3c2b43",
   "metadata": {},
   "outputs": [],
   "source": []
  }
 ],
 "metadata": {
  "kernelspec": {
   "display_name": "Python 3 (ipykernel)",
   "language": "python",
   "name": "python3"
  },
  "language_info": {
   "codemirror_mode": {
    "name": "ipython",
    "version": 3
   },
   "file_extension": ".py",
   "mimetype": "text/x-python",
   "name": "python",
   "nbconvert_exporter": "python",
   "pygments_lexer": "ipython3",
   "version": "3.9.7"
  }
 },
 "nbformat": 4,
 "nbformat_minor": 5
}
