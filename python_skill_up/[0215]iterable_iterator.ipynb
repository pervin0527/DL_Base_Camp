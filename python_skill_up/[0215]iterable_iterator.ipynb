{
 "cells": [
  {
   "cell_type": "markdown",
   "id": "fe2d5404",
   "metadata": {},
   "source": [
    "## Iterable & Iterator\n",
    "[Reference 1](https://tibetsandfox.tistory.com/27)\n",
    "\n",
    "[Reference 2](http://pythonstudy.xyz/python/article/23-Iterator%EC%99%80-Generator)"
   ]
  },
  {
   "cell_type": "markdown",
   "id": "e2c02fd9",
   "metadata": {},
   "source": [
    "### Iterable\n",
    "순회할 수 있는 모든 객체를 가리킨다.  \n",
    "다른 말로 하면 파이썬에서 for 문의 in 키워드 뒤에 올 수 있는 모든 값은 Iterable이다. 즉, list, tuple, set, dict, 문자열, 파일 등 Iterable이라고 할 수 있다."
   ]
  },
  {
   "cell_type": "markdown",
   "id": "d666b7ad",
   "metadata": {},
   "source": [
    "### iterator\n",
    "iterable객체에서 실제 iteration을 실행하는 것은 iterator로, iterator는 next 메서드를 사용하여 다음 요소(element)를 가져온다.   \n",
    "만약 더이상 next 요소가 없으면 StopIteration Exception을 발생시킨다.\n",
    "\n",
    "```\n",
    "for 변수 in iterable:\n",
    "    ...\n",
    "```"
   ]
  },
  {
   "cell_type": "code",
   "execution_count": 1,
   "id": "7a394c25",
   "metadata": {},
   "outputs": [],
   "source": [
    "my_list = [0, 1, 2, 3]\n",
    "\n",
    "for i in range(len(my_list)):\n",
    "    my_list[i] *= 2"
   ]
  },
  {
   "cell_type": "code",
   "execution_count": 2,
   "id": "d0b278bc",
   "metadata": {},
   "outputs": [
    {
     "data": {
      "text/plain": [
       "[0, 2, 4, 6]"
      ]
     },
     "execution_count": 2,
     "metadata": {},
     "output_type": "execute_result"
    }
   ],
   "source": [
    "my_list"
   ]
  },
  {
   "cell_type": "markdown",
   "id": "0273ea5d",
   "metadata": {},
   "source": [
    "### range를 역순으로 사용해보기"
   ]
  },
  {
   "cell_type": "code",
   "execution_count": 6,
   "id": "2762f34a",
   "metadata": {},
   "outputs": [
    {
     "name": "stdout",
     "output_type": "stream",
     "text": [
      "10 9 8 7 6 5 4 3 2 1 "
     ]
    }
   ],
   "source": [
    "for i in range(10, 0, -1):\n",
    "    print(i, end=' ')"
   ]
  },
  {
   "cell_type": "code",
   "execution_count": 7,
   "id": "a2d155de",
   "metadata": {},
   "outputs": [
    {
     "name": "stdout",
     "output_type": "stream",
     "text": [
      "10 8 6 4 2 "
     ]
    }
   ],
   "source": [
    "for i in range(10, 0, -2):\n",
    "    print(i, end=' ')"
   ]
  }
 ],
 "metadata": {
  "kernelspec": {
   "display_name": "Python 3 (ipykernel)",
   "language": "python",
   "name": "python3"
  },
  "language_info": {
   "codemirror_mode": {
    "name": "ipython",
    "version": 3
   },
   "file_extension": ".py",
   "mimetype": "text/x-python",
   "name": "python",
   "nbconvert_exporter": "python",
   "pygments_lexer": "ipython3",
   "version": "3.9.7"
  }
 },
 "nbformat": 4,
 "nbformat_minor": 5
}
