{
 "cells": [
  {
   "cell_type": "markdown",
   "metadata": {
    "id": "UgG00sVjdlc9"
   },
   "source": [
    "### 인용\n",
    "인용문은 > 로 문장을 시작.\n",
    "> TEST SENTENCE\n",
    "\n",
    "[링크](https://naver.com)"
   ]
  },
  {
   "cell_type": "markdown",
   "metadata": {},
   "source": [
    "### 수식\n",
    "수식은 $로 시작해서 $로 끝냄.\n",
    "\n",
    "$ y = ax + b$"
   ]
  },
  {
   "cell_type": "markdown",
   "metadata": {},
   "source": [
    "### 코드\n",
    "코드는 '''"
   ]
  }
 ],
 "metadata": {
  "colab": {
   "authorship_tag": "ABX9TyMrxAi9gH1T+Td+IoeZr7j8",
   "collapsed_sections": [],
   "name": "번외) mardown 표기법.ipynb",
   "provenance": []
  },
  "kernelspec": {
   "display_name": "Python 3 (ipykernel)",
   "language": "python",
   "name": "python3"
  },
  "language_info": {
   "codemirror_mode": {
    "name": "ipython",
    "version": 3
   },
   "file_extension": ".py",
   "mimetype": "text/x-python",
   "name": "python",
   "nbconvert_exporter": "python",
   "pygments_lexer": "ipython3",
   "version": "3.9.7"
  }
 },
 "nbformat": 4,
 "nbformat_minor": 1
}
