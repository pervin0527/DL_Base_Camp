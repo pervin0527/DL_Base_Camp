{
 "cells": [
  {
   "cell_type": "markdown",
   "metadata": {
    "id": "UgG00sVjdlc9"
   },
   "source": [
    "### 인용\n",
    "인용문은 > 로 문장을 시작.\n",
    "```\n",
    "> TEST SENTENCE\n",
    "```\n",
    "\n",
    "> TEST SENTENCE"
   ]
  },
  {
   "cell_type": "markdown",
   "metadata": {},
   "source": [
    "### 수식\n",
    "```\n",
    "$y = ax + b$\n",
    "```\n",
    "\n",
    "$ y = ax + b$"
   ]
  },
  {
   "cell_type": "markdown",
   "metadata": {},
   "source": [
    "### 코드\n",
    "```\n",
    "    ```Language\n",
    "    print(Hello World!)\n",
    "    ```\n",
    "```\n",
    "\n",
    "```python\n",
    "print(Hello World!)\n",
    "```"
   ]
  },
  {
   "cell_type": "markdown",
   "metadata": {},
   "source": [
    "### 링크\n",
    "\n",
    "```\n",
    "[보여질 제목](링크 주소)\n",
    "```\n",
    "\n",
    "[링크](https://naver.com)\n",
    "\n",
    "### 이미지 첨부\n",
    "```\n",
    "<img src=\"URL\" alt=\"커서를 올렸을 때 보여질 제목\" width=이미지 넓이 height=이미지 높이>\n",
    "```\n",
    "\n",
    "<img src=\"./deep_learning_base/img/deep_learning_images/e_3.10.png\" alt=\"image\" width=360 height=360>"
   ]
  },
  {
   "cell_type": "markdown",
   "metadata": {},
   "source": [
    "### 행렬\n",
    "\n",
    "$\\begin{matrix}1&2\\\\3&4\\\\ \\end{matrix}$  \n",
    "\n",
    "$\\begin{pmatrix}1&2\\\\3&4\\\\ \\end{pmatrix}$  \n",
    "\n",
    "$\\begin{bmatrix}1&2\\\\3&4\\\\ \\end{bmatrix}$  \n",
    "\n",
    "$\\begin{Bmatrix}1&2\\\\3&4\\\\ \\end{Bmatrix}$  \n",
    "\n",
    "$\\begin{vmatrix}1&2\\\\3&4\\\\ \\end{vmatrix}$  \n",
    "\n",
    "$\\begin{Vmatrix}1&2\\\\3&4\\\\ \\end{Vmatrix}$  "
   ]
  },
  {
   "cell_type": "code",
   "execution_count": null,
   "metadata": {},
   "outputs": [],
   "source": []
  }
 ],
 "metadata": {
  "colab": {
   "authorship_tag": "ABX9TyMrxAi9gH1T+Td+IoeZr7j8",
   "collapsed_sections": [],
   "name": "번외) mardown 표기법.ipynb",
   "provenance": []
  },
  "kernelspec": {
   "display_name": "Python 3 (ipykernel)",
   "language": "python",
   "name": "python3"
  },
  "language_info": {
   "codemirror_mode": {
    "name": "ipython",
    "version": 3
   },
   "file_extension": ".py",
   "mimetype": "text/x-python",
   "name": "python",
   "nbconvert_exporter": "python",
   "pygments_lexer": "ipython3",
   "version": "3.9.7"
  }
 },
 "nbformat": 4,
 "nbformat_minor": 1
}
